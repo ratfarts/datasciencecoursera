{
  "nbformat": 4,
  "nbformat_minor": 0,
  "metadata": {
    "colab": {
      "name": "Copy of Getting Started in SQL_live_Student.ipynb",
      "provenance": [],
      "collapsed_sections": [
        "9MWc_H2XWJnK"
      ],
      "include_colab_link": true
    },
    "kernelspec": {
      "name": "python3",
      "display_name": "Python 3"
    }
  },
  "cells": [
    {
      "cell_type": "markdown",
      "metadata": {
        "id": "view-in-github",
        "colab_type": "text"
      },
      "source": [
        "<a href=\"https://colab.research.google.com/github/ratfarts/datasciencecoursera/blob/master/Copy_of_Getting_Started_in_SQL_live_Student.ipynb\" target=\"_parent\"><img src=\"https://colab.research.google.com/assets/colab-badge.svg\" alt=\"Open In Colab\"/></a>"
      ]
    },
    {
      "cell_type": "markdown",
      "metadata": {
        "id": "i7vx_pbQIAwc",
        "colab_type": "text"
      },
      "source": [
        "<p align=\"center\">\n",
        "<img src=\"https://github.com/KelseyMcNeillie/datacampgettingstartedinsql/blob/master/images/regular.png?raw=true\" width=\"50%\">\n",
        "</p>\n",
        "<br><br> \n",
        "\n",
        "# **Getting Started in SQL Live Training**\n",
        "\n",
        "Welcome to the DataCamp \"Getting Started in SQL Live Training\", where we will be covering the basics of SQL queries through a hands on coding session. You will learn how to query, filter, and aggregate data to answer our real world business questions. \n",
        "\n",
        "In today's notebook, you will learn:\n",
        "\n",
        "* How to translate business questions into powerful SQL queries\n",
        "* Use SELECT to return the exact data you need  \n",
        "* Use WHERE to filter your returned data\n",
        "* Create powerful aggregations to sort and analyze your data\n",
        "* Organize your data using ORDER BY and LIMIT\n",
        "\n",
        "\n",
        "In today's session, you will be taking on the role of a data analyst for a prestigious country club called **Pinebrook**. \n",
        "\n",
        "The club has seen a significant increase in membership cancellations over the past few years. Management has asked us to create a report summarizing the membership profile to try and understand what's driving these cancellations.\n",
        "\n",
        "\n",
        "# **The Dataset**\n",
        "\n",
        "This data is taken from a .csv file called \"membership_clean\". As today's session will focus on creating queries, the data has already been cleaned for you. It contains the following columns. \n",
        "\n",
        "`id:` unique identifier for a member \n",
        "\n",
        "`last_name:` the member’s last name\n",
        "\n",
        "`marital_status`: member’s marital status\n",
        "\n",
        "`gender`: member’s reported gender\n",
        "\n",
        "`annual_income`: how much the member makes a year\n",
        "\n",
        "`industry`: the industry sector a member works in \n",
        "\n",
        "`zip _code`: where the member lives\n",
        "\n",
        "`age_at_issue`: how old the member was when they joined\n",
        "\n",
        "`member_type`: which membership tier the member belongs to\n",
        "\n",
        "`add_member`: number of additional members on the account\n",
        "\n",
        "`annual_fee`: the cost of membership\n",
        "\n",
        "`payment`: membership payment plan \n",
        "\n",
        "`status`: active membership vs. cancellation\n",
        "\n",
        "`start_month/start_day/start_year`: date joined\n",
        "\n",
        "`end_month/end_day/end_year`: date ended (if applicable)\n",
        "\n",
        "\n"
      ]
    },
    {
      "cell_type": "markdown",
      "metadata": {
        "id": "9MWc_H2XWJnK",
        "colab_type": "text"
      },
      "source": [
        "# **Setting Up PostgreSQL**"
      ]
    },
    {
      "cell_type": "code",
      "metadata": {
        "id": "WZ-Rqu2yoCzR",
        "colab_type": "code",
        "colab": {}
      },
      "source": [
        "# This block of code will install PostgreSQL\n",
        "%%capture\n",
        "!wget -qO- https://www.postgresql.org/media/keys/ACCC4CF8.asc | apt-key add -\n",
        "!echo \"deb http://apt.postgresql.org/pub/repos/apt/ bionic-pgdg main\" >/etc/apt/sources.list.d/pgdg.list\n",
        "!apt -qq update\n",
        "!apt -yq install postgresql-12 postgresql-client-12\n",
        "!service postgresql start\n",
        "# make calling psql shorter\n",
        "!sudo -u postgres psql -c \"CREATE USER root WITH SUPERUSER\"  \n",
        "!psql postgres -c \"CREATE DATABASE root\"  # now just !psql -c \"...\"\n",
        "# load SQL extensions\n",
        "%load_ext sql\n",
        "%config SqlMagic.feedback=False \n",
        "%config SqlMagic.autopandas=True\n",
        "%sql postgresql+psycopg2://@/postgres"
      ],
      "execution_count": 0,
      "outputs": []
    },
    {
      "cell_type": "code",
      "metadata": {
        "id": "5spm-fLTn7oP",
        "colab_type": "code",
        "cellView": "both",
        "colab": {}
      },
      "source": [
        "# This will download your data to local environment\n",
        "!wget -q https://raw.githubusercontent.com/datacamp/getting-started-in-sql-live-session/master/data/membership.csv"
      ],
      "execution_count": 0,
      "outputs": []
    },
    {
      "cell_type": "code",
      "metadata": {
        "id": "trr1ETIUyIXR",
        "colab_type": "code",
        "cellView": "both",
        "outputId": "9c865f8d-634e-4614-c69a-3c05a0f00667",
        "colab": {
          "base_uri": "https://localhost:8080/",
          "height": 49
        }
      },
      "source": [
        "# This will create your table\n",
        "%%sql\n",
        "DROP TABLE IF EXISTS membership;\n",
        "CREATE TABLE membership (\n",
        " id varchar(50) primary key,\n",
        " last_name varchar(50),\n",
        " marital_status varchar(50),\n",
        " gender varchar(50),\n",
        " annual_income INT,\n",
        " industry varchar(50),\n",
        " zip_code INT,\n",
        " age_at_issue INT,\n",
        " member_type varchar(50),\n",
        " add_members INT,\n",
        " annual_fee INT,\n",
        " payment VARCHAR(50),\n",
        " status VARCHAR(50),\n",
        " start_month INT,\n",
        " start_day INT,\n",
        " start_year INT,\n",
        " end_month INT,\n",
        " end_day INT,\n",
        " end_year INT\n",
        ");\n",
        "COPY membership\n",
        "FROM '/content/membership.csv' DELIMITER ',' CSV HEADER;"
      ],
      "execution_count": 0,
      "outputs": [
        {
          "output_type": "stream",
          "text": [
            " * postgresql+psycopg2://@/postgres\n"
          ],
          "name": "stdout"
        },
        {
          "output_type": "execute_result",
          "data": {
            "text/html": [
              "<div>\n",
              "<style scoped>\n",
              "    .dataframe tbody tr th:only-of-type {\n",
              "        vertical-align: middle;\n",
              "    }\n",
              "\n",
              "    .dataframe tbody tr th {\n",
              "        vertical-align: top;\n",
              "    }\n",
              "\n",
              "    .dataframe thead th {\n",
              "        text-align: right;\n",
              "    }\n",
              "</style>\n",
              "<table border=\"1\" class=\"dataframe\">\n",
              "  <thead>\n",
              "    <tr style=\"text-align: right;\">\n",
              "      <th></th>\n",
              "    </tr>\n",
              "  </thead>\n",
              "  <tbody>\n",
              "  </tbody>\n",
              "</table>\n",
              "</div>"
            ],
            "text/plain": [
              "Empty DataFrame\n",
              "Columns: []\n",
              "Index: []"
            ]
          },
          "metadata": {
            "tags": []
          },
          "execution_count": 4
        }
      ]
    },
    {
      "cell_type": "markdown",
      "metadata": {
        "id": "ANSpMBh-LiL2",
        "colab_type": "text"
      },
      "source": [
        "# **Understanding the Membership - Part I**\n",
        "\n",
        "The first step in exploring a new dataset is to view it in it's entirety. This lets you explore the columns and data types within. \n",
        "\n",
        "Here are some important statements to remember when querying your dataset. \n",
        "\n",
        "\n",
        "*   `SELECT`: returns either all columns using * or specific columns as specified, seperated by a comma. Example: `SELECT this_column, that_column`\n",
        "*   `FROM` : specifies the table that the data should be returned from. Example: `FROM table` \n",
        "* `ORDER BY`: returns the data sorted by column specified. Can be sorted in `ASC` (ascending) or `DESC` (descending). Example: `ORDER BY this_column ASC` \n",
        "*`LIMIT`: limits the number of rows returned. Example: `LIMIT 10` will only return ten rows \n",
        "\n",
        "### **Code Commenting**\n",
        "There are two types of code commenting in Postgres\n",
        "\n",
        "-- `Inline commenting` : Used for quick, short notes \n",
        "\n",
        "\"/*\" `Multi line commenting` \"*/\" (use without quotation marks): Used for longer comments, such as metadata, or code headers including the author, date, purpose, etc.  \n"
      ]
    },
    {
      "cell_type": "markdown",
      "metadata": {
        "id": "cr7faFg5HfaT",
        "colab_type": "text"
      },
      "source": [
        "# **Exploring the Dataset**"
      ]
    },
    {
      "cell_type": "code",
      "metadata": {
        "id": "U-7SSn2DvKkZ",
        "colab_type": "code",
        "colab": {}
      },
      "source": [
        "%%sql\n",
        "\n",
        "-- View the entire dataset\n"
      ],
      "execution_count": 0,
      "outputs": []
    },
    {
      "cell_type": "markdown",
      "metadata": {
        "id": "TCL0h4vzvW72",
        "colab_type": "text"
      },
      "source": [
        "After you have viewed the entire dataset, you may want to only view certain columns. \n",
        "\n",
        "Use the `SELECT` function to isolate only the columns needed"
      ]
    },
    {
      "cell_type": "code",
      "metadata": {
        "id": "O6b-yRAWvgru",
        "colab_type": "code",
        "colab": {}
      },
      "source": [
        "%%sql\n",
        "\n",
        "-- Show the membership demographic information \n"
      ],
      "execution_count": 0,
      "outputs": []
    },
    {
      "cell_type": "markdown",
      "metadata": {
        "id": "wmneqkyov1NB",
        "colab_type": "text"
      },
      "source": [
        "In addition to reviewing specific columns, you may want to order and arrange the data in a simple way. \n",
        "\n",
        "Use `ORDER BY` and `LIMIT` to organize and arrange data. "
      ]
    },
    {
      "cell_type": "code",
      "metadata": {
        "id": "pNGqt4Q2wLa_",
        "colab_type": "code",
        "colab": {}
      },
      "source": [
        "%%sql\n",
        "\n",
        "-- Show the top and lowest earners in the dataset  \n",
        "\n"
      ],
      "execution_count": 0,
      "outputs": []
    },
    {
      "cell_type": "code",
      "metadata": {
        "id": "M9T70HI6wzn_",
        "colab_type": "code",
        "colab": {}
      },
      "source": [
        "%%sql\n",
        "\n",
        "-- Show only the top oldest members by the age they joined at  \n",
        "\n"
      ],
      "execution_count": 0,
      "outputs": []
    },
    {
      "cell_type": "markdown",
      "metadata": {
        "id": "GrfWVeD_Mbe0",
        "colab_type": "text"
      },
      "source": [
        "# What Have We Learned About the Membership? \n",
        "\n",
        "So far, we have discovered:\n",
        "\n",
        "\n",
        "*   There are 7,275 members in the dataset\n",
        "*   The top earners have an annual income of 119,996 dollars\n",
        "*   The lowest earners have an annual income of 35,002 dollars\n",
        "*   The oldest members are either 78 or 77 years old\n",
        "\n",
        "\n",
        "\n"
      ]
    },
    {
      "cell_type": "markdown",
      "metadata": {
        "id": "f6fL0wIDw9r1",
        "colab_type": "text"
      },
      "source": [
        "# **Q&A**"
      ]
    },
    {
      "cell_type": "markdown",
      "metadata": {
        "id": "WGiIOBxKxEEZ",
        "colab_type": "text"
      },
      "source": [
        "# **Understanding the Membership - Part II**\n",
        "\n",
        "\n",
        "## **Filtering on Rows**\n",
        "After selecting the specific `COLUMNS` needed, it can also be necessary to filter on the `ROWS` of your database. \n",
        "\n",
        "Here are some of the functions you can use to filter your data.\n",
        "\n",
        "* `=` : Indicates when a column's row matches the criteria exactly  \n",
        "* `>` and `<`: Indicates when a row value is higher or lower than the specified criteria \n",
        "* `BETWEEN`: Indicate a range of values to filter on. Includes both of the values used. \n",
        "* `AND`: Indicates that there are two filtering requirements that must be met \n",
        "* `OR`: Indicates that the row must meet at least one of the specified criteria\n",
        "* `IN`: Specifies multiple string values to filter on\n",
        "* `LIKE`: Used as a boolean search when the exact term is unknown \n",
        "*`ILIKE`: Similar to`LIKE`, but is case indifferent  \n",
        "\n",
        "### Using ! and `NOT`\n",
        "You can also filter rows based on what they do NOT include using the following:\n",
        "\n",
        "*   `=!` : Indicates that the returned rows should NOT equal 'X' \n",
        "*  `NOT`: Used with `LIKE` and `ILIKE` to indicate the returned rows should include everything BUT those values\n",
        "\n",
        "\n",
        "\n"
      ]
    },
    {
      "cell_type": "markdown",
      "metadata": {
        "id": "hIi5jhB9njwt",
        "colab_type": "text"
      },
      "source": [
        "## **Filtering Using** `=`, `>`, `<`, `AND`, `OR`, **and** `BETWEEN` \n",
        "\n",
        "\n",
        "\n"
      ]
    },
    {
      "cell_type": "markdown",
      "metadata": {
        "id": "Mh-ebCEoINPr",
        "colab_type": "text"
      },
      "source": [
        "Filter using `=` "
      ]
    },
    {
      "cell_type": "code",
      "metadata": {
        "id": "EUR4YWFQxSp_",
        "colab_type": "code",
        "colab": {}
      },
      "source": [
        "%%sql\n",
        "\n",
        "-- Find only members who have cancelled their membership\n",
        "\n"
      ],
      "execution_count": 0,
      "outputs": []
    },
    {
      "cell_type": "markdown",
      "metadata": {
        "id": "vOGt2rpKIQnU",
        "colab_type": "text"
      },
      "source": [
        "Filter using `>` "
      ]
    },
    {
      "cell_type": "code",
      "metadata": {
        "id": "G59Gcmqwxd9N",
        "colab_type": "code",
        "colab": {}
      },
      "source": [
        "%%sql\n",
        "\n",
        "-- Find members who earn more than $50,000 a year\n",
        "\n"
      ],
      "execution_count": 0,
      "outputs": []
    },
    {
      "cell_type": "markdown",
      "metadata": {
        "id": "ypA7VhBmIULk",
        "colab_type": "text"
      },
      "source": [
        "Filter using `<=`"
      ]
    },
    {
      "cell_type": "code",
      "metadata": {
        "id": "UtZ21qAlxshI",
        "colab_type": "code",
        "colab": {}
      },
      "source": [
        "%%sql\n",
        "\n",
        "-- Find members age 40 or younger \n"
      ],
      "execution_count": 0,
      "outputs": []
    },
    {
      "cell_type": "markdown",
      "metadata": {
        "id": "5Ym2quesIcSg",
        "colab_type": "text"
      },
      "source": [
        "Filter using `BETWEEN`"
      ]
    },
    {
      "cell_type": "code",
      "metadata": {
        "id": "CGxJ8UZ-yKt0",
        "colab_type": "code",
        "colab": {}
      },
      "source": [
        "%%sql\n",
        "\n",
        "-- Find members who joined between 2009 and 2011\n"
      ],
      "execution_count": 0,
      "outputs": []
    },
    {
      "cell_type": "markdown",
      "metadata": {
        "id": "ovBmdcGKIgJR",
        "colab_type": "text"
      },
      "source": [
        "Filter using `>`, `AND`"
      ]
    },
    {
      "cell_type": "code",
      "metadata": {
        "id": "KcJDBfioyvOv",
        "colab_type": "code",
        "colab": {}
      },
      "source": [
        "%%sql\n",
        "\n",
        "-- Find members who both earn above $75,000 a year, and have a Gold Membership \n",
        "\n"
      ],
      "execution_count": 0,
      "outputs": []
    },
    {
      "cell_type": "markdown",
      "metadata": {
        "id": "Vn23chLUImhV",
        "colab_type": "text"
      },
      "source": [
        "Filter Using `>`, `OR`"
      ]
    },
    {
      "cell_type": "code",
      "metadata": {
        "id": "ESDtqcTJy-of",
        "colab_type": "code",
        "colab": {}
      },
      "source": [
        "%%sql\n",
        "\n",
        "-- Find members who either earn over $80,000 a year, or who have a Silver Membership "
      ],
      "execution_count": 0,
      "outputs": []
    },
    {
      "cell_type": "markdown",
      "metadata": {
        "id": "Ye6-GtxqI_ak",
        "colab_type": "text"
      },
      "source": [
        "Filter using `IN()`"
      ]
    },
    {
      "cell_type": "code",
      "metadata": {
        "id": "hIzqYYDhzkoh",
        "colab_type": "code",
        "colab": {}
      },
      "source": [
        "%%sql\n",
        "\n",
        "-- Find members who live in the zip codes 80202, 80210, and 80206\n"
      ],
      "execution_count": 0,
      "outputs": []
    },
    {
      "cell_type": "markdown",
      "metadata": {
        "id": "_aSgetNuJDFS",
        "colab_type": "text"
      },
      "source": [
        "Filter using `IN`, `AND`, `OR` using logical order"
      ]
    },
    {
      "cell_type": "code",
      "metadata": {
        "id": "PF9ooCguJGzC",
        "colab_type": "code",
        "colab": {}
      },
      "source": [
        "%%sql\n",
        "\n",
        "-- Identify the Gold members who are either single or divorced, or who work in Health Care\n"
      ],
      "execution_count": 0,
      "outputs": []
    },
    {
      "cell_type": "markdown",
      "metadata": {
        "id": "X99Q0zfZyTnB",
        "colab_type": "text"
      },
      "source": [
        "## **Filtering with** `LIKE` **and** `ILIKE` \n",
        "\n",
        "There are several situations where you may need to use `LIKE` or `ILIKE`. \n",
        "\n",
        "\n",
        "\n",
        "*   When the criteria to be filtered on is only partially known\n",
        "*   When the criteria to be filtered on needs to capture a range of values, but too many to use an `IN` function \n",
        "\n",
        "*Remember:* `LIKE` *is case sensitive,* `ILIKE` *is not. For this reason, it is common in Postgres to simply use*`ILIKE`when filtering. \n",
        "\n"
      ]
    },
    {
      "cell_type": "markdown",
      "metadata": {
        "id": "-8dgIMa7K3GH",
        "colab_type": "text"
      },
      "source": [
        " Filter using `LIKE` and `NOT LIKE`"
      ]
    },
    {
      "cell_type": "code",
      "metadata": {
        "id": "6pPLYyqByZbK",
        "colab_type": "code",
        "colab": {}
      },
      "source": [
        "%%sql\n",
        "\n",
        "-- Find members who have last names starting with the letter 'A'\n"
      ],
      "execution_count": 0,
      "outputs": []
    },
    {
      "cell_type": "code",
      "metadata": {
        "id": "CRqYa8KX10uy",
        "colab_type": "code",
        "colab": {}
      },
      "source": [
        "%%sql\n",
        "\n",
        "-- Find members who have last names that do NOT start with the letter 'B'\n",
        "\n"
      ],
      "execution_count": 0,
      "outputs": []
    },
    {
      "cell_type": "markdown",
      "metadata": {
        "id": "8D-31exkK86v",
        "colab_type": "text"
      },
      "source": [
        "Filter using `ILIKE` and ` NOT ILIKE`"
      ]
    },
    {
      "cell_type": "code",
      "metadata": {
        "id": "AvVT3erY19rp",
        "colab_type": "code",
        "colab": {}
      },
      "source": [
        "%%sql\n",
        "\n",
        "-- Find members who make annual or semi-annual membership payments\n",
        "\n"
      ],
      "execution_count": 0,
      "outputs": []
    },
    {
      "cell_type": "code",
      "metadata": {
        "id": "pUIOQ8bZ2WG7",
        "colab_type": "code",
        "colab": {}
      },
      "source": [
        "%%sql\n",
        "\n",
        "-- Find members who do NOT work in real estate\n",
        "\n"
      ],
      "execution_count": 0,
      "outputs": []
    },
    {
      "cell_type": "markdown",
      "metadata": {
        "id": "SBh8jjX8QF80",
        "colab_type": "text"
      },
      "source": [
        "# **What Have We Learned About the Membership?** \n",
        "\n",
        "\n",
        "*   2,810 people have cancelled their memberships (39%)\n",
        "*   5,961 earn over 50,000 a year (82%)\n",
        "*   3,108 are age 40 or below (43%)\n",
        "*   3,890 joined between 2009 and 2011 (53%)\n",
        "\n",
        "\n",
        "\n",
        "\n",
        "\n",
        "\n"
      ]
    },
    {
      "cell_type": "markdown",
      "metadata": {
        "id": "oojsDXRf2lTF",
        "colab_type": "text"
      },
      "source": [
        "# **Q&A** "
      ]
    },
    {
      "cell_type": "markdown",
      "metadata": {
        "id": "I9_ETbxe2rjs",
        "colab_type": "text"
      },
      "source": [
        "# **Understanding the Membership - Part III**\n",
        "\n",
        "In addition to returning columns and filtering on rows, SQL can be used to create aggregations of data, similar to a certain functions in Excel. \n",
        "\n",
        "## **Aggregating Data**\n",
        "\n",
        "Here are some of the functions used to aggregate data in SQL across only one column.  \n",
        "\n",
        "* `SUM`: Is used to add up all the numerical values in a column\n",
        "* `COUNT`: Is used to count all values in a column, string or numerical\n",
        "* `AVG`: Is used to add up all the numerical values in a column and then divides by the total number of values\n",
        "* `MIN`: Finds the smallest numerical value in a column\n",
        "* `MAX`: Find the largest numerical value in a column \n",
        "\n",
        "\n",
        "\n",
        "### **Aliases**\n",
        "\n",
        "Sometimes it is useful in SQL to rename a column - this is called giving it an 'alias'. The syntax is simple, but remember - column names cannot have spaces, so you must use an underscore to seperate words. \n",
        "\n",
        "\n",
        "Example:\n",
        "```\n",
        "SELECT avg(annual_income) AS Avg_income\n",
        "\n",
        "FROM membership \n",
        "```\n",
        "Aliases are used to create cleaner outputs, and are useful in more complex SQL queries, such as when joining tables. \n"
      ]
    },
    {
      "cell_type": "markdown",
      "metadata": {
        "id": "PXi4l7IMV6s1",
        "colab_type": "text"
      },
      "source": [
        "Aggregate using `SUM()`"
      ]
    },
    {
      "cell_type": "code",
      "metadata": {
        "id": "DVQiqlTY23xF",
        "colab_type": "code",
        "colab": {}
      },
      "source": [
        "%%sql\n",
        "\n",
        "-- Find the sum of all annual fees for members who have cancelled\n",
        "\n"
      ],
      "execution_count": 0,
      "outputs": []
    },
    {
      "cell_type": "markdown",
      "metadata": {
        "id": "dWsdpFKgV_ai",
        "colab_type": "text"
      },
      "source": [
        "Aggregate using `COUNT()`"
      ]
    },
    {
      "cell_type": "code",
      "metadata": {
        "id": "v5ZD7fkh4r6l",
        "colab_type": "code",
        "colab": {}
      },
      "source": [
        "%%sql\n",
        "\n",
        "-- Find how many male members have cancelled their memberships "
      ],
      "execution_count": 0,
      "outputs": []
    },
    {
      "cell_type": "markdown",
      "metadata": {
        "id": "kAoYur0mWElI",
        "colab_type": "text"
      },
      "source": [
        "Aggregate using `AVG()`"
      ]
    },
    {
      "cell_type": "code",
      "metadata": {
        "id": "hZiwz-BJ3FOH",
        "colab_type": "code",
        "colab": {}
      },
      "source": [
        "%%sql\n",
        "\n",
        "-- Find the average annual income of cancelled members \n"
      ],
      "execution_count": 0,
      "outputs": []
    },
    {
      "cell_type": "markdown",
      "metadata": {
        "id": "3wD1fqq_WHUU",
        "colab_type": "text"
      },
      "source": [
        "Aggregate using `MIN()`"
      ]
    },
    {
      "cell_type": "code",
      "metadata": {
        "id": "-zBc1Qvp3eYt",
        "colab_type": "code",
        "colab": {}
      },
      "source": [
        "%%sql\n",
        "\n",
        "-- Find the youngest member \n"
      ],
      "execution_count": 0,
      "outputs": []
    },
    {
      "cell_type": "markdown",
      "metadata": {
        "id": "5WnH5o79WJsO",
        "colab_type": "text"
      },
      "source": [
        "Aggregate using `MAX()`"
      ]
    },
    {
      "cell_type": "code",
      "metadata": {
        "id": "b6dtnpPY3xro",
        "colab_type": "code",
        "colab": {}
      },
      "source": [
        "%%sql\n",
        "\n",
        "-- Find the most additional members a member can have  \n"
      ],
      "execution_count": 0,
      "outputs": []
    },
    {
      "cell_type": "markdown",
      "metadata": {
        "id": "7l2IkOLa4Ioq",
        "colab_type": "text"
      },
      "source": [
        "## **Aggregation in SQL with** `GROUP BY`\n",
        "\n",
        "Similar to creating a pivot table in Excel, you can aggregate numerical values by a categorical variable. You can do this in SQL by using the `GROUP BY` statement. \n",
        "\n",
        "The `GROUP BY` statement must include the categorical column that the data will be aggregated by. It must be written after a `WHERE` statement. \n",
        "\n",
        "\n",
        "Example:\n",
        "```\n",
        "SELECT this_column, sum(that_column)\n",
        "FROM table\n",
        "WHERE other_column = 'value'\n",
        "GROUP BY this_column\n",
        "```\n",
        "\n",
        "Remember: The column being used to aggregate in the `GROUP BY` statement must also appear in the `SELECT` statement"
      ]
    },
    {
      "cell_type": "markdown",
      "metadata": {
        "id": "GGcT6ZfRom2O",
        "colab_type": "text"
      },
      "source": [
        "### **Aggregate Data with** `GROUP BY`"
      ]
    },
    {
      "cell_type": "code",
      "metadata": {
        "id": "2y4CtBJy4cqc",
        "colab_type": "code",
        "colab": {}
      },
      "source": [
        "%%sql\n",
        "\n",
        "-- Find the marital status with the most total members\n",
        "\n"
      ],
      "execution_count": 0,
      "outputs": []
    },
    {
      "cell_type": "code",
      "metadata": {
        "id": "Jzij92-h5TOx",
        "colab_type": "code",
        "colab": {}
      },
      "source": [
        "%%sql\n",
        "\n",
        "-- Find the membership type with the fewest cancellations, and what their average annual income is\n",
        "\n"
      ],
      "execution_count": 0,
      "outputs": []
    },
    {
      "cell_type": "code",
      "metadata": {
        "id": "Le7Ic6Te8qPp",
        "colab_type": "code",
        "colab": {}
      },
      "source": [
        "%%sql\n",
        "\n",
        "-- Find the average income, the sum of annual fees, and the count of members across industries for cancelled members\n",
        "\n"
      ],
      "execution_count": 0,
      "outputs": []
    },
    {
      "cell_type": "markdown",
      "metadata": {
        "id": "HDRlxp7s502t",
        "colab_type": "text"
      },
      "source": [
        "## **Filtering on aggregated data with** `HAVING`\n",
        "\n",
        "In order to filter on aggregated data, you will need to use the `HAVING` statement. This goes after the GROUP BY statement. \n",
        "\n",
        "Example: \n",
        "\n",
        "```\n",
        "SELECT this_column, sum(that_column)\n",
        "FROM table\n",
        "GROUP BY this_column\n",
        "HAVING sum(that_column) > 'value' \n",
        "```\n"
      ]
    },
    {
      "cell_type": "markdown",
      "metadata": {
        "id": "n37hEYh2o9Hk",
        "colab_type": "text"
      },
      "source": [
        "Aggregate on Previously Aggregated Data with `HAVING`"
      ]
    },
    {
      "cell_type": "code",
      "metadata": {
        "id": "TwPq1Wnnn_j4",
        "colab_type": "code",
        "colab": {}
      },
      "source": [
        "%%sql\n",
        "\n",
        "-- How many Bronze members started by year, in years where more than 150 members joined? \n"
      ],
      "execution_count": 0,
      "outputs": []
    },
    {
      "cell_type": "code",
      "metadata": {
        "id": "iwwTqOpr6EWj",
        "colab_type": "code",
        "colab": {}
      },
      "source": [
        "%%sql\n",
        "\n",
        "/*What is the total of annual fees for people who have held membership for longer than a year, by start month,\n",
        "for months where more than $100,000 in fees was collected? Which month is the most profitable?*/\n"
      ],
      "execution_count": 0,
      "outputs": []
    },
    {
      "cell_type": "code",
      "metadata": {
        "id": "39-MIRUL6dOM",
        "colab_type": "code",
        "colab": {}
      },
      "source": [
        "%%sql\n",
        "\n",
        "-- What is the average annual income of members who earn more than $50,000 who left after 2012 by marital status?\n"
      ],
      "execution_count": 0,
      "outputs": []
    },
    {
      "cell_type": "markdown",
      "metadata": {
        "id": "M_PQfqNKGL9P",
        "colab_type": "text"
      },
      "source": [
        "# What Have We Learned So Far? \n",
        "\n",
        "\n",
        "*   Cancelled membership fees amount to a total loss of 25,162,000 dollars \n",
        "*   2,195 men have cancelled their memberships (78% of all cancelled memberships - but men also make up 76% of the total membership) \n",
        "\n",
        "*   82% of members are married, 15% are single, 2% are widowed, and 0.6% are divorced\n",
        "*   Platinum members cancel at the least, with Gold Members cancellng the most. However, the difference between the cancellation numbers is not high, and all membership types have approximately the same level of average income. \n",
        "\n",
        "*   The average income, fees, and member counts are fairly evenly distributed across all industries\n",
        "\n",
        "\n",
        "\n",
        "\n",
        "\n",
        "\n",
        "\n",
        "\n",
        "\n",
        "\n"
      ]
    },
    {
      "cell_type": "markdown",
      "metadata": {
        "id": "GZ4MQSaM9Khj",
        "colab_type": "text"
      },
      "source": [
        "\n",
        "# **Q&A**"
      ]
    },
    {
      "cell_type": "markdown",
      "metadata": {
        "id": "f32efhqW9xwD",
        "colab_type": "text"
      },
      "source": [
        "# **What Is Driving Cancellations?**\n",
        "\n",
        "It's time to use aggregations to explore the data and find out why cancellation rates are increasing. \n",
        "\n",
        "We will introduce two more functions: `ROUND` and `DISTINCT` \n",
        "\n",
        "\n",
        "*   `ROUND`: Used to round a value to the specified number of decimals. `ROUND` is used in the `SELECT` statement and is wrapped around calculations. \n",
        "\n",
        "  Example: \n",
        "```\n",
        "  SELECT ROUND(AVG(annual_income), 2)\n",
        "  FROM membership\n",
        "```\n",
        "  Will return the value: 77366.51\n",
        "\n",
        "\n",
        "*   `DISTINCT`: Used to indicate that only unique values should be returned, and duplicates eliminated. Used in the `SELECT` statement.\n",
        "\n",
        "Example:\n",
        "```\n",
        "SELECT DISTINCT member_type\n",
        "FROM membership \n",
        "```\n",
        "Will return: Bronze, Silver, Gold, Platinum \n",
        "\n"
      ]
    },
    {
      "cell_type": "markdown",
      "metadata": {
        "id": "1EkPmRaxgEvj",
        "colab_type": "text"
      },
      "source": [
        "ROUND and DISTINCT Practice"
      ]
    },
    {
      "cell_type": "code",
      "metadata": {
        "id": "C-6ijcPL_Sio",
        "colab_type": "code",
        "colab": {}
      },
      "source": [
        "%%sql\n",
        "\n",
        "-- Practice using the ROUND function to find the average annual income to two decimal places \n"
      ],
      "execution_count": 0,
      "outputs": []
    },
    {
      "cell_type": "code",
      "metadata": {
        "id": "iiJ2XzfL_6BC",
        "colab_type": "code",
        "colab": {}
      },
      "source": [
        "%%sql\n",
        "\n",
        "-- Practice using the DISTINCT function to find the count of id by zip_code\n"
      ],
      "execution_count": 0,
      "outputs": []
    },
    {
      "cell_type": "markdown",
      "metadata": {
        "id": "Vwc8MMEd6sDe",
        "colab_type": "text"
      },
      "source": [
        "## **Finding Answers**\n",
        "\n",
        "So far, we have determined that cancellation rates do not seem to be affected by annual income, gender, industry, or membership types.\n",
        "\n",
        "What are some of the other various factors that could affect the rise of cancellations? \n",
        "\n",
        "*   Marital Status and children\n",
        "*   Age at issue\n",
        "*   Geographic location\n",
        "\n",
        "Let's look at each of these through the lens of a potential business question. \n",
        "\n"
      ]
    },
    {
      "cell_type": "markdown",
      "metadata": {
        "id": "by_LWbIYqIbX",
        "colab_type": "text"
      },
      "source": [
        "Does being unmarried with children affect cancellation rates? "
      ]
    },
    {
      "cell_type": "code",
      "metadata": {
        "id": "MZh1q6FW54Bi",
        "colab_type": "code",
        "colab": {}
      },
      "source": [
        "%%sql\n",
        "\n"
      ],
      "execution_count": 0,
      "outputs": []
    },
    {
      "cell_type": "markdown",
      "metadata": {
        "id": "04N-TTNuqVp7",
        "colab_type": "text"
      },
      "source": [
        "Does age at joining affect cancellations? "
      ]
    },
    {
      "cell_type": "code",
      "metadata": {
        "id": "DiWwzDnxAwuk",
        "colab_type": "code",
        "colab": {}
      },
      "source": [
        "%%sql\n",
        "\n"
      ],
      "execution_count": 0,
      "outputs": []
    },
    {
      "cell_type": "markdown",
      "metadata": {
        "id": "hOwlbWLwqbVI",
        "colab_type": "text"
      },
      "source": [
        "Does industry affect cancellations, controlling for people who earn over $50,000?"
      ]
    },
    {
      "cell_type": "code",
      "metadata": {
        "id": "qzGJIl2P-YRV",
        "colab_type": "code",
        "colab": {}
      },
      "source": [
        "%%sql\n"
      ],
      "execution_count": 0,
      "outputs": []
    },
    {
      "cell_type": "markdown",
      "metadata": {
        "id": "_t5pEEaMqlF0",
        "colab_type": "text"
      },
      "source": [
        "Is there any correlation between zip code and cancellations? "
      ]
    },
    {
      "cell_type": "code",
      "metadata": {
        "id": "ro2GM8I_AJ5Z",
        "colab_type": "code",
        "colab": {}
      },
      "source": [
        "%%sql\n",
        "\n"
      ],
      "execution_count": 0,
      "outputs": []
    },
    {
      "cell_type": "markdown",
      "metadata": {
        "id": "iXlNPNv4quCU",
        "colab_type": "text"
      },
      "source": [
        "Create a report"
      ]
    },
    {
      "cell_type": "code",
      "metadata": {
        "id": "4eHbyLWhmRBz",
        "colab_type": "code",
        "colab": {}
      },
      "source": [
        "%%sql\n",
        "\n",
        "-- Compare the cancellation counts by zip code against other possible factors\n",
        "\n"
      ],
      "execution_count": 0,
      "outputs": []
    },
    {
      "cell_type": "markdown",
      "metadata": {
        "id": "xl66JNG2n_fn",
        "colab_type": "text"
      },
      "source": [
        "# **Additional Research**\n",
        "\n",
        "Sometimes, data analysis requires additional research!\n",
        "\n",
        "Here we can see that the zip codes with the highest cancellation numbers are clustered close together. \n",
        "\n",
        "\n",
        "<p align=\"left\">\n",
        "<img src=\"https://github.com/KelseyMcNeillie/datacampgettingstartedinsql/blob/master/images/zipmap.png?raw=true\" width=\"50%\">\n",
        "</p>\n",
        "<br><br> \n",
        "\n",
        "\n",
        "\n",
        "\n",
        "\n"
      ]
    },
    {
      "cell_type": "markdown",
      "metadata": {
        "id": "ld2XEgMgBK2k",
        "colab_type": "text"
      },
      "source": [
        "# **Q&A**"
      ]
    },
    {
      "cell_type": "markdown",
      "metadata": {
        "id": "rTG-yOemrJos",
        "colab_type": "text"
      },
      "source": [
        "# **Recap and Closing**"
      ]
    }
  ]
}