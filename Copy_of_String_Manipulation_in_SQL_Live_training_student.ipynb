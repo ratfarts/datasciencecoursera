{
  "nbformat": 4,
  "nbformat_minor": 0,
  "metadata": {
    "colab": {
      "name": "Copy of String Manipulation in SQL Live training_student.ipynb",
      "provenance": [],
      "collapsed_sections": [
        "agoSpqYunxZ1"
      ],
      "include_colab_link": true
    },
    "kernelspec": {
      "name": "python3",
      "display_name": "Python 3"
    }
  },
  "cells": [
    {
      "cell_type": "markdown",
      "metadata": {
        "id": "view-in-github",
        "colab_type": "text"
      },
      "source": [
        "<a href=\"https://colab.research.google.com/github/ratfarts/datasciencecoursera/blob/master/Copy_of_String_Manipulation_in_SQL_Live_training_student.ipynb\" target=\"_parent\"><img src=\"https://colab.research.google.com/assets/colab-badge.svg\" alt=\"Open In Colab\"/></a>"
      ]
    },
    {
      "cell_type": "markdown",
      "metadata": {
        "id": "tnjoHnXBnlof",
        "colab_type": "text"
      },
      "source": [
        "<p align=\"center\">\n",
        "<img src=\"https://raw.githubusercontent.com/datacamp/string-manipulation-in-sql-live-training/master/assets/datacamp.svg\" alt = \"DataCamp icon\" width=\"50%\">\n",
        "</p>\n",
        "<br><br>\n",
        "\n",
        "## **String Manipulation in SQL**\n",
        "\n",
        "Welcome to the DataCamp \"String Manipulation in SQL\", where we will be covering a deep dive into a variety of techiques you can use to manipulate sting data in your SQL queries. Through a hands on coding session you will learn how to use PostgreSQL to answer our real world questions about a Short Term Rentals dataset from Cambridge, MA.\n",
        "\n",
        "In today's notebook, you will learn:\n",
        "\n",
        "- Explore a dataset in a SQL database by examining table structure and data types\n",
        "- Converting or casting common data types\n",
        "- How to manipulate string data using built-in string and character functions\n",
        "- Create temporary tables and use them to simplify complex queries\n",
        "- Learn how to use temporary tables to create new fields from unstructured string data\n",
        "- Create user defined functions that can be used to simplify data manipulation tasks\n",
        "\n",
        "## **The Dataset**\n",
        "\n",
        "This data is taken from a .csv file called \"short_term_rentals\". As today's session will focus on creating queries. It contains the following columns.\n",
        "\n",
        "- `id`: Unique identifier for rental ID\n",
        "- `issue_date`: Date of Issue for the Short Term Rental certificate\n",
        "- `status`: Application status.\n",
        "- `location`: Rental Location\n",
        "- `property_type`: Description of the building property type.\n",
        "- `property_type_additional_description`: Additional building property type information.\n",
        "- `condo_association`: Is the Short-Term Rental Unit part of a condominium association?\n",
        "- `total_bedrooms`: Total number of legal bedrooms in the short-term rental unit\n",
        "- `rented_bedrooms`: Number of legal bedrooms to be rented as part of this application.\n",
        "- `maximum_renter_capacity`: Maximum number of people to which the short term rental will be rented.\n",
        "- `kitchen`: Will the kitchen be available to the renter?\n",
        "- `bathrooms`: Number of bathrooms available to the renter.\n",
        "- `all_rental_services`: A single column list of all rental services used by this property.\n",
        "\n",
        "\n"
      ]
    },
    {
      "cell_type": "code",
      "metadata": {
        "id": "eUfLmiq2t7y2",
        "colab_type": "code",
        "colab": {}
      },
      "source": [
        ""
      ],
      "execution_count": 0,
      "outputs": []
    },
    {
      "cell_type": "markdown",
      "metadata": {
        "id": "agoSpqYunxZ1",
        "colab_type": "text"
      },
      "source": [
        "## **Setting up PostgreSQL**"
      ]
    },
    {
      "cell_type": "code",
      "metadata": {
        "id": "WZ-Rqu2yoCzR",
        "colab_type": "code",
        "colab": {}
      },
      "source": [
        "#@title **This block of code will install PosgreSQL**\n",
        "%%capture\n",
        "!wget -qO- https://www.postgresql.org/media/keys/ACCC4CF8.asc | apt-key add -\n",
        "!echo \"deb http://apt.postgresql.org/pub/repos/apt/ bionic-pgdg main\" >/etc/apt/sources.list.d/pgdg.list\n",
        "!apt -qq update\n",
        "!apt -yq install postgresql-12 postgresql-client-12\n",
        "!service postgresql start\n",
        "# make calling psql shorter\n",
        "!sudo -u postgres psql -c \"CREATE USER root WITH SUPERUSER\"  \n",
        "!psql postgres -c \"CREATE DATABASE root\"  # now just !psql -c \"...\"\n",
        "# load SQL extensions\n",
        "%load_ext sql\n",
        "%config SqlMagic.feedback=False \n",
        "%config SqlMagic.autopandas=True\n",
        "%sql postgresql+psycopg2://@/postgres"
      ],
      "execution_count": 0,
      "outputs": []
    },
    {
      "cell_type": "code",
      "metadata": {
        "id": "5spm-fLTn7oP",
        "colab_type": "code",
        "colab": {}
      },
      "source": [
        "#@title **This will download your data to local environment**\n",
        "!wget -q https://raw.githubusercontent.com/datacamp/string-manipulation-in-sql-live-session/master/data/short_term_rentals.csv"
      ],
      "execution_count": 0,
      "outputs": []
    },
    {
      "cell_type": "code",
      "metadata": {
        "id": "4fiq0KKsokAX",
        "colab_type": "code",
        "outputId": "a66148c4-a55a-4a9c-e1b1-b3606b290756",
        "colab": {
          "base_uri": "https://localhost:8080/",
          "height": 49
        }
      },
      "source": [
        "#@title **This will create your table**\n",
        "%%sql\n",
        "-- Make sure to amend you table name, column names and types\n",
        "DROP TABLE IF EXISTS rentals;\n",
        "CREATE TABLE rentals(\n",
        " id int primary key,\n",
        " issue_date text,\n",
        " status text,\n",
        " location text,\n",
        " short_term_rental_type text,\n",
        " property_type text,\n",
        " property_type_additional_description text,\n",
        " condo_association text,\n",
        " total_bedrooms numeric,\n",
        " rented_bedrooms numeric,\n",
        " maximum_renter_capacity numeric,\n",
        " kitchen text,\n",
        " bathrooms numeric,\n",
        " all_rental_services text\n",
        ");\n",
        "COPY rentals\n",
        "-- Make sure to point to correct file and delimiter \n",
        "FROM '/content/short_term_rentals.csv' DELIMITER ',' CSV HEADER;"
      ],
      "execution_count": 0,
      "outputs": [
        {
          "output_type": "stream",
          "text": [
            " * postgresql+psycopg2://@/postgres\n"
          ],
          "name": "stdout"
        },
        {
          "output_type": "execute_result",
          "data": {
            "text/html": [
              "<div>\n",
              "<style scoped>\n",
              "    .dataframe tbody tr th:only-of-type {\n",
              "        vertical-align: middle;\n",
              "    }\n",
              "\n",
              "    .dataframe tbody tr th {\n",
              "        vertical-align: top;\n",
              "    }\n",
              "\n",
              "    .dataframe thead th {\n",
              "        text-align: right;\n",
              "    }\n",
              "</style>\n",
              "<table border=\"1\" class=\"dataframe\">\n",
              "  <thead>\n",
              "    <tr style=\"text-align: right;\">\n",
              "      <th></th>\n",
              "    </tr>\n",
              "  </thead>\n",
              "  <tbody>\n",
              "  </tbody>\n",
              "</table>\n",
              "</div>"
            ],
            "text/plain": [
              "Empty DataFrame\n",
              "Columns: []\n",
              "Index: []"
            ]
          },
          "metadata": {
            "tags": []
          },
          "execution_count": 3
        }
      ]
    },
    {
      "cell_type": "markdown",
      "metadata": {
        "id": "cr7faFg5HfaT",
        "colab_type": "text"
      },
      "source": [
        "# **Exploring the Dataset**"
      ]
    },
    {
      "cell_type": "code",
      "metadata": {
        "id": "U-7SSn2DvKkZ",
        "colab_type": "code",
        "colab": {}
      },
      "source": [
        "%%sql\n",
        "\n",
        "-- View the entire dataset\n"
      ],
      "execution_count": 0,
      "outputs": []
    },
    {
      "cell_type": "code",
      "metadata": {
        "id": "O6b-yRAWvgru",
        "colab_type": "code",
        "colab": {}
      },
      "source": [
        "%%sql\n",
        "\n",
        "-- Sort the dataset by issue_date\n"
      ],
      "execution_count": 0,
      "outputs": []
    },
    {
      "cell_type": "code",
      "metadata": {
        "id": "pNGqt4Q2wLa_",
        "colab_type": "code",
        "colab": {}
      },
      "source": [
        "%%sql\n",
        "\n",
        "-- Sort the dataset by issue_date\n"
      ],
      "execution_count": 0,
      "outputs": []
    },
    {
      "cell_type": "code",
      "metadata": {
        "colab_type": "code",
        "id": "hMC0CeNWYomI",
        "colab": {}
      },
      "source": [
        "%%sql\n",
        "\n",
        "-- Show the ID,  location and all_rental_services columns\n"
      ],
      "execution_count": 0,
      "outputs": []
    },
    {
      "cell_type": "markdown",
      "metadata": {
        "id": "f6fL0wIDw9r1",
        "colab_type": "text"
      },
      "source": [
        "## **Q&A**"
      ]
    },
    {
      "cell_type": "markdown",
      "metadata": {
        "id": "eYI0CGCbIXuK",
        "colab_type": "text"
      },
      "source": [
        "# **Getting our data analysis-ready**\n",
        "\n",
        "Looking more closely at the Short Term Rentals dataset, there are several adjustments that need to be made to the data before we can get some meaningful insights.\n",
        "\n",
        "_Data type problems:_\n",
        "\n",
        "- **Problem 1**: First, the `issue_date` column needs to be converted to a date/time value before we can look at timeseries data.\n",
        "\n",
        "- **Problem 2**: We'll need split the `all_rental_serivces` column so we can know who our competitors are in the city before we launch the pilot.\n",
        "\n",
        "- **Problem 3**: Removing leading and trailing whitespace from data is a common data cleaning task that you will run into often and this data set is no exception.\n",
        "\n",
        "<br>\n",
        "\n",
        "_Text/categorical data problems:_\n",
        "\n",
        "- **Problem 4**: To get any aggregated insights about where in the city rental applications are most prevalent, we'll have to break apart the `location` column into it component address fields.\n",
        "\n",
        "- **Problem 5**: Looking at the rental services in our dataset there are several that only have a single listing and we'll want to combine all these services into a single `'other'` category.\n",
        "\n",
        "\n",
        "## **Our to do list:**\n",
        "\n",
        "_Data type problems:_\n",
        "\n",
        "- **Task 1**: Convert `issue_date` from `text` data type to `date`\n",
        "- **Task 2**: Split the `all_rental_services` values into individual services\n",
        "- **Task 3**: Remove leading and trailing whitespace form the individual services from Task 2\n",
        "\n",
        "<br>\n",
        "\n",
        "_Text/categorical data problems:_\n",
        "\n",
        "- **Task 4**: Create an `'other'` category as a \"catch-all\" for outlier rental services\n",
        "- **Task 5**: Parse the `location` column into component address fields (i.e., zip code)\n"
      ]
    },
    {
      "cell_type": "markdown",
      "metadata": {
        "colab_type": "text",
        "id": "UjwoWqioocv5"
      },
      "source": [
        "## **Task 1: Converting data from one type to another using `CAST()`**"
      ]
    },
    {
      "cell_type": "markdown",
      "metadata": {
        "colab_type": "text",
        "id": "4eJhYVI9FSkp"
      },
      "source": [
        "Let's get started by converting the `issue_date` to a date value.  Looking at the data as it's currently stored in the database, it appears that the column stores the month, day and year that the rental certification was issue but it's stored as a `TEXT` data type. \n",
        "\n",
        "To convert columns from one data type to another in PostgreSQL, we can use the `CAST()` function as below here:\n",
        "\n",
        ">```sql\n",
        "SELECT cast(column_name as new_type) \n",
        "FROM table;\n",
        "```\n",
        "\n",
        "Since `issue_date` does not contain time, we can convert it to DATE instead of TIMESTAMP."
      ]
    },
    {
      "cell_type": "code",
      "metadata": {
        "id": "EUR4YWFQxSp_",
        "colab_type": "code",
        "colab": {}
      },
      "source": [
        "%%sql\n",
        "\n",
        "-- Convert issue_date to a date\n",
        "\n"
      ],
      "execution_count": 0,
      "outputs": []
    },
    {
      "cell_type": "markdown",
      "metadata": {
        "id": "Mh-ebCEoINPr",
        "colab_type": "text"
      },
      "source": [
        "Now if we try to sort the dataset by the converted `issue_date` field, let's see if we get expected results."
      ]
    },
    {
      "cell_type": "code",
      "metadata": {
        "colab_type": "code",
        "id": "7-eAeLfwgwGg",
        "colab": {}
      },
      "source": [
        "%%sql\n",
        "\n",
        "-- Convert issue_date to a date and sort ascending\n",
        "\n"
      ],
      "execution_count": 0,
      "outputs": []
    },
    {
      "cell_type": "markdown",
      "metadata": {
        "id": "kqv9IrhpwVUf",
        "colab_type": "text"
      },
      "source": [
        "## **Task 2: Using `ARRAYS` to manipulate strings stored as comma-separated-values**"
      ]
    },
    {
      "cell_type": "code",
      "metadata": {
        "colab_type": "code",
        "id": "tB4-bao_xBL9",
        "colab": {}
      },
      "source": [
        "%%sql\n",
        "\n",
        "-- Use string_to_array() to convert the all_rental_services from a comma-separated-list to an array\n",
        "\n"
      ],
      "execution_count": 0,
      "outputs": []
    },
    {
      "cell_type": "markdown",
      "metadata": {
        "id": "B0c9u-XB7V_6",
        "colab_type": "text"
      },
      "source": [
        "PostgreSQL has a function called `unnest()` that will take an array and create unique rows for each index. Let's see what happens when we use the `unnest()` function on the result of `string_to_array()` for the first rental id 13727."
      ]
    },
    {
      "cell_type": "code",
      "metadata": {
        "colab_type": "code",
        "id": "kjh7KZzt7NxI",
        "colab": {}
      },
      "source": [
        "%%sql\n",
        "\n",
        "-- Nest the string_to_array() function in unnest() to transpose the array into multiple unique rows.\n",
        "\n"
      ],
      "execution_count": 0,
      "outputs": []
    },
    {
      "cell_type": "markdown",
      "metadata": {
        "id": "X-afaT9O8sDR",
        "colab_type": "text"
      },
      "source": [
        "A subquery is useful in this example becaues it will allow us to perform additional operations on the rental services data after we have parsed it using the `string_to_array()` and `unest()` functions.\n",
        "\n",
        "Here's an example of a simple subquery for  your reference.\n",
        ">```sql\n",
        "SELECT AVG(column_name) \n",
        "FROM\n",
        "(\n",
        "    SELECT * FROM table\n",
        ")\n",
        "GROUP BY column_name;\n",
        "```"
      ]
    },
    {
      "cell_type": "code",
      "metadata": {
        "colab_type": "code",
        "id": "7K1VEYrqxozk",
        "colab": {}
      },
      "source": [
        "%%sql\n",
        "\n",
        "-- Use the results from the unnest() function in the query\n"
      ],
      "execution_count": 0,
      "outputs": []
    },
    {
      "cell_type": "markdown",
      "metadata": {
        "colab_type": "text",
        "id": "WDOq1qwBP8u-"
      },
      "source": [
        "## **Task 3: Removing leading and trailing whitespace**"
      ]
    },
    {
      "cell_type": "markdown",
      "metadata": {
        "colab_type": "text",
        "id": "NMZPtGcVPDEa"
      },
      "source": [
        "Take a close look at the results from the previous task.  It appears that there are two instances of `HomeAway` and `VBRO`.  This is the result of having whitespace in between each value of the comma-separated-list.  We can clean this up by removing the leading and trailing whitespace from the data by using the `trim()` function."
      ]
    },
    {
      "cell_type": "code",
      "metadata": {
        "colab_type": "code",
        "id": "nFS-qbymPEzW",
        "colab": {}
      },
      "source": [
        "%%sql\n",
        "\n",
        "-- Remove whitespace from the results of the unnest() function in the query\n",
        "      \n"
      ],
      "execution_count": 0,
      "outputs": []
    },
    {
      "cell_type": "markdown",
      "metadata": {
        "colab_type": "text",
        "id": "d-rzBQ603gev"
      },
      "source": [
        "## **Q&A**"
      ]
    },
    {
      "cell_type": "markdown",
      "metadata": {
        "colab_type": "text",
        "id": "yOU-gK2gQsHB"
      },
      "source": [
        "## **Task 4: Using `CASE` statements to create new categorical fields**"
      ]
    },
    {
      "cell_type": "markdown",
      "metadata": {
        "colab_type": "text",
        "id": "WlYuJP7gR3eo"
      },
      "source": [
        "Notice that the results from the previous query, include many rental services with only one location that is using them.  For our analysis, we don't want to exclude these locations but it would be easier if they were all grouped together in an `'other'` category.  We can do this in our query using a `CASE` statement.\n",
        "\n",
        ">```sql\n",
        "CASE\n",
        "     WHEN condition_1  THEN result_1\n",
        "     WHEN condition_2  THEN result_2\n",
        "     ...\n",
        "     ELSE  result_n\n",
        "END\n",
        "```"
      ]
    },
    {
      "cell_type": "code",
      "metadata": {
        "colab_type": "code",
        "id": "Welp5nt9QpAc",
        "colab": {}
      },
      "source": [
        "%%sql\n",
        "\n",
        "-- Create a new field called rentalService from the services data\n",
        "\n"
      ],
      "execution_count": 0,
      "outputs": []
    },
    {
      "cell_type": "markdown",
      "metadata": {
        "id": "PtuDBcREmzDu",
        "colab_type": "text"
      },
      "source": [
        "## **Task 5: Extracting string data using `SUBSTRING()` and `POSITION()`**"
      ]
    },
    {
      "cell_type": "markdown",
      "metadata": {
        "id": "qL6fOCK520zz",
        "colab_type": "text"
      },
      "source": [
        "Great work!  Now let's see what we can do with the `location` field.  Ideally, we would have columns for each address part including street address, postal code, etc. In order to do this we'll need to parse the `location` field into these parts. \n",
        "\n",
        "To divide strings (or extract substrings) in PostgreSQL, we can use `SUBSTRING`(column_name, substring_start_position, substring_end_position)` where:\n",
        "\n",
        "> `column_name` is the name of the column being processed\n",
        "<br> `substring_start_position` is the numbered position of the first string of the substring being extracted.\n",
        "<br> `substring_end_position` is the numbered position of the substring of the last string of the substring being extracted.\n",
        "\n",
        "A common value from the location column has the format:\n",
        "\n",
        "> `street_address \\n city_state_zip \\n lat_long`\n",
        "<br> <br>For example: `65 Pearl St\\nCambridge, MA 02139\\n(42.363228, 42.36322)`\n",
        "\n",
        "To divide `location` into substrings, will divide it based on the position of the break-line character `\\n` by using the `POSITION(character IN column_name)` function which finds the numbered position of a character in a string column, as well as the `chr(10)` function which returns `\\n`."
      ]
    },
    {
      "cell_type": "code",
      "metadata": {
        "colab_type": "code",
        "id": "DA48iA2ekln0",
        "colab": {}
      },
      "source": [
        "%%sql\n",
        "\n",
        "-- Use substring() and position() functions to parse the location into various address values\n",
        "\n"
      ],
      "execution_count": 0,
      "outputs": []
    },
    {
      "cell_type": "markdown",
      "metadata": {
        "colab_type": "text",
        "id": "U_SEQo1unakM"
      },
      "source": [
        "### **Extracting string data using `split_part()`**"
      ]
    },
    {
      "cell_type": "markdown",
      "metadata": {
        "id": "Etr-f03ZGbyg",
        "colab_type": "text"
      },
      "source": [
        "The `split_part()` function parses string data based on a specified delimiter into an `ARRAY` and allows access to each array index by specifying the index value as a parameter in the function.  The query above can be rewritten using the `split_part()` function which as you'll see actually simplifies the query.\n",
        "\n",
        "<p align=\"center\">\n",
        "<img src=\"https://user-images.githubusercontent.com/48436758/83009911-c3ecf600-a017-11ea-81c6-2ae5b179fcc1.png\" alt = \"split_part graphic\" width=\"100%\">\n",
        "</p>\n",
        "<br><br>\n"
      ]
    },
    {
      "cell_type": "code",
      "metadata": {
        "colab_type": "code",
        "id": "4Y9BTRakiD00",
        "colab": {}
      },
      "source": [
        "%%sql\n",
        "\n",
        "-- Use split_part() to parse the location into various address values\n",
        "\n"
      ],
      "execution_count": 0,
      "outputs": []
    },
    {
      "cell_type": "markdown",
      "metadata": {
        "colab_type": "text",
        "id": "bIJmQUDhhMF6"
      },
      "source": [
        "## **What Have We Learned About the Short Term Rentals Data?**\n",
        "\n",
        "So far, we have discovered:\n",
        "\n",
        "*   The rentals dataset contains data from March, 2018 through April, 2020.\n",
        "*   The short term rentals market has about 22 different services.\n",
        "*   But there are only 7 rental services with more than one locationt using them.\n",
        "\n",
        "\n",
        "\n"
      ]
    },
    {
      "cell_type": "markdown",
      "metadata": {
        "colab_type": "text",
        "id": "kdTzqzSqhMF9"
      },
      "source": [
        "## **Q&A**"
      ]
    },
    {
      "cell_type": "markdown",
      "metadata": {
        "id": "zaIJ3agAQKFW",
        "colab_type": "text"
      },
      "source": [
        "# **Techniques for query simplification and code reuse**"
      ]
    },
    {
      "cell_type": "markdown",
      "metadata": {
        "id": "A3v03h7mHz1k",
        "colab_type": "text"
      },
      "source": [
        "Sometimes when you encounter data that needs to be transformed or manipulated before being usable in queries, you may decide that creating a temporary table or user-defined function with the result of your data manipulation will simplify your data analysis queries or allow for code reuse in multiple queries. \n",
        "\n",
        "Let's explore some techniques by first looking at how to use temporary tables"
      ]
    },
    {
      "cell_type": "markdown",
      "metadata": {
        "id": "eoUdwC6JD8w5",
        "colab_type": "text"
      },
      "source": [
        "## **Creating a temporary table with our rental services data**"
      ]
    },
    {
      "cell_type": "markdown",
      "metadata": {
        "colab_type": "text",
        "id": "jA1lhhgtUOXr"
      },
      "source": [
        "A temporary table in PostgeSQL is equivalent to a permanent disk-based table created in a database but only exists during the duration of the database session. PostgreSQL will automatically drop the table at the end of the session or \n",
        "\n",
        ">```sql\n",
        "DROP TABLE IF EXISTS temp_table;\n",
        "CREATE TEMP[ORARY] TABLE temp_table(\n",
        "   ...\n",
        ");\n",
        "```"
      ]
    },
    {
      "cell_type": "code",
      "metadata": {
        "colab_type": "code",
        "id": "M3sXy94QAC3J",
        "colab": {}
      },
      "source": [
        "%%sql\n",
        "\n",
        "-- Create a temporary table called rental_services\n"
      ],
      "execution_count": 0,
      "outputs": []
    },
    {
      "cell_type": "code",
      "metadata": {
        "colab_type": "code",
        "id": "-TB7mbbFBkMk",
        "colab": {}
      },
      "source": [
        "%%sql\n",
        "\n",
        "-- Create a temporary table called address\n"
      ],
      "execution_count": 0,
      "outputs": []
    },
    {
      "cell_type": "markdown",
      "metadata": {
        "id": "z0kAStjhD2aK",
        "colab_type": "text"
      },
      "source": [
        "## **Using temporary tables to simplify complex queries**"
      ]
    },
    {
      "cell_type": "markdown",
      "metadata": {
        "id": "zWo0dHiyIY04",
        "colab_type": "text"
      },
      "source": [
        "Once the temporary tables are created, your queries become much simpler and easier to manage, and you have the ability to run multiple queries against the temporary table which streamlines reuse.\n",
        "\n",
        "We will use an `INNER JOIN` to combine the results from the newly created temporary tables `address` and `rental_services`.  As a review, an `INNER JOIN` will return rows that are in both table A and table B as highlighted in the image below. \n",
        "\n",
        "![sql joins](https://user-images.githubusercontent.com/48436758/83012005-1b409580-a01b-11ea-99b8-7bb73a822fb7.png)\n",
        "\n",
        "For example:\n",
        "\n",
        ">```sql\n",
        "SELECT table_1_alias.* , table_2_alias.*<br> \n",
        "FROM table_1 AS table_1_alias INNER JOIN table_2 AS table_2_alias \n",
        "ON table_1_alias.common_column = table_2_alias.common_column;\n",
        "```"
      ]
    },
    {
      "cell_type": "code",
      "metadata": {
        "colab_type": "code",
        "id": "NYRyIe8EDjgH",
        "colab": {}
      },
      "source": [
        "%%sql\n",
        "\n",
        "-- Select all rows from both the address and rental_services temporary tables\n",
        "\n"
      ],
      "execution_count": 0,
      "outputs": []
    },
    {
      "cell_type": "code",
      "metadata": {
        "colab_type": "code",
        "id": "TWXpN4OeEExe",
        "colab": {}
      },
      "source": [
        "%%sql\n",
        "\n",
        "-- Calculate the total rentals by service and zip code\n"
      ],
      "execution_count": 0,
      "outputs": []
    },
    {
      "cell_type": "markdown",
      "metadata": {
        "id": "ktwpAQzwENwh",
        "colab_type": "text"
      },
      "source": [
        "## **User-defined functions to create reusable code**"
      ]
    },
    {
      "cell_type": "markdown",
      "metadata": {
        "id": "vqjuJJieRoYC",
        "colab_type": "text"
      },
      "source": [
        "A user-defined function is the PostgeSQL equivalent of a stored procedure where you can bundle several SQL queries and statements together into a single package using the `CREATE FUNCTION` command. \n",
        "\n",
        ">```sql\n",
        "CREATE [OR REPLACE] FUNCTION function_name(p1 type, p2 type)\n",
        " RETURNS type AS $$\n",
        " BEGIN\n",
        " -- logic\n",
        " END;\n",
        "$$ LANGUAGE language_name;\n",
        "```\n",
        "\n"
      ]
    },
    {
      "cell_type": "code",
      "metadata": {
        "colab_type": "code",
        "id": "fwp8mi3M7K1X",
        "colab": {}
      },
      "source": [
        "%%sql\n",
        "\n",
        "-- Create a user-defined function to get zip code from the location column\n",
        "\n"
      ],
      "execution_count": 0,
      "outputs": []
    },
    {
      "cell_type": "markdown",
      "metadata": {
        "id": "W9FtJ3YREt0R",
        "colab_type": "text"
      },
      "source": [
        "# **Case study: Analyzing competitors and the best locations for short term rentals**"
      ]
    },
    {
      "cell_type": "markdown",
      "metadata": {
        "id": "iGP--CR7IrNc",
        "colab_type": "text"
      },
      "source": [
        "Let's now use our new data manipulation skills to dig deeper into the short term rentals data to determine if Cambridge, MA is a good spot to pilot our new short term rentals app.\n",
        "\n",
        "First, we'll see what the growth rate has been over the past couple of years with registrations.\n",
        "\n",
        "Next we'll see what the most popular rental services are in the town.\n",
        "\n",
        "And finally we'll take a look at which zip codes in the city have the largest number of rental units.  \n",
        "\n",
        "Let's get started."
      ]
    },
    {
      "cell_type": "code",
      "metadata": {
        "id": "F0F_l84hIrmY",
        "colab_type": "code",
        "colab": {}
      },
      "source": [
        "%%sql\n",
        "\n",
        "-- Calculate the number of rentals registered by year\n"
      ],
      "execution_count": 0,
      "outputs": []
    },
    {
      "cell_type": "code",
      "metadata": {
        "colab_type": "code",
        "id": "xEO7QSYp-P_X",
        "colab": {}
      },
      "source": [
        "%%sql\n",
        "\n",
        "-- Calculate the number of rentals by service for the top 7 rental services\n"
      ],
      "execution_count": 0,
      "outputs": []
    },
    {
      "cell_type": "code",
      "metadata": {
        "colab_type": "code",
        "id": "i8zs4-TD-217",
        "colab": {}
      },
      "source": [
        "%%sql\n",
        "\n",
        "-- Calculate the total number of rentals by zip code"
      ],
      "execution_count": 0,
      "outputs": []
    },
    {
      "cell_type": "markdown",
      "metadata": {
        "id": "ZtpLcVbfE9wv",
        "colab_type": "text"
      },
      "source": [
        "# **Q&A**"
      ]
    }
  ]
}