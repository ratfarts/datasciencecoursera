{
  "nbformat": 4,
  "nbformat_minor": 0,
  "metadata": {
    "colab": {
      "name": "Copy of String Manipulation in SQL Live training_student.ipynb",
      "provenance": [],
      "collapsed_sections": [
        "agoSpqYunxZ1"
      ],
      "include_colab_link": true
    },
    "kernelspec": {
      "name": "python3",
      "display_name": "Python 3"
    }
  },
  "cells": [
    {
      "cell_type": "markdown",
      "metadata": {
        "id": "view-in-github",
        "colab_type": "text"
      },
      "source": [
        "<a href=\"https://colab.research.google.com/github/ratfarts/datasciencecoursera/blob/master/Copy_of_String_Manipulation_in_SQL_Live_training_student.ipynb\" target=\"_parent\"><img src=\"https://colab.research.google.com/assets/colab-badge.svg\" alt=\"Open In Colab\"/></a>"
      ]
    },
    {
      "cell_type": "markdown",
      "metadata": {
        "id": "tnjoHnXBnlof",
        "colab_type": "text"
      },
      "source": [
        "<p align=\"center\">\n",
        "<img src=\"https://raw.githubusercontent.com/datacamp/string-manipulation-in-sql-live-training/master/assets/datacamp.svg\" alt = \"DataCamp icon\" width=\"50%\">\n",
        "</p>\n",
        "<br><br>\n",
        "\n",
        "## **String Manipulation in SQL**\n",
        "\n",
        "Welcome to the DataCamp \"String Manipulation in SQL\", where we will be covering a deep dive into a variety of techiques you can use to manipulate sting data in your SQL queries. Through a hands on coding session you will learn how to use PostgreSQL to answer our real world questions about a Short Term Rentals dataset from Cambridge, MA.\n",
        "\n",
        "In today's notebook, you will learn:\n",
        "\n",
        "- Explore a dataset in a SQL database by examining table structure and data types\n",
        "- Converting or casting common data types\n",
        "- How to manipulate string data using built-in string and character functions\n",
        "- Create temporary tables and use them to simplify complex queries\n",
        "- Learn how to use temporary tables to create new fields from unstructured string data\n",
        "- Create user defined functions that can be used to simplify data manipulation tasks\n",
        "\n",
        "## **The Dataset**\n",
        "\n",
        "This data is taken from a .csv file called \"short_term_rentals\". As today's session will focus on creating queries. It contains the following columns.\n",
        "\n",
        "- `id`: Unique identifier for rental ID\n",
        "- `issue_date`: Date of Issue for the Short Term Rental certificate\n",
        "- `status`: Application status.\n",
        "- `location`: Rental Location\n",
        "- `property_type`: Description of the building property type.\n",
        "- `property_type_additional_description`: Additional building property type information.\n",
        "- `condo_association`: Is the Short-Term Rental Unit part of a condominium association?\n",
        "- `total_bedrooms`: Total number of legal bedrooms in the short-term rental unit\n",
        "- `rented_bedrooms`: Number of legal bedrooms to be rented as part of this application.\n",
        "- `maximum_renter_capacity`: Maximum number of people to which the short term rental will be rented.\n",
        "- `kitchen`: Will the kitchen be available to the renter?\n",
        "- `bathrooms`: Number of bathrooms available to the renter.\n",
        "- `all_rental_services`: A single column list of all rental services used by this property.\n",
        "\n",
        "\n"
      ]
    },
    {
      "cell_type": "markdown",
      "metadata": {
        "id": "agoSpqYunxZ1",
        "colab_type": "text"
      },
      "source": [
        "## **Setting up PostgreSQL**"
      ]
    },
    {
      "cell_type": "code",
      "metadata": {
        "id": "WZ-Rqu2yoCzR",
        "colab_type": "code",
        "colab": {}
      },
      "source": [
        "#@title **This block of code will install PosgreSQL**\n",
        "%%capture\n",
        "!wget -qO- https://www.postgresql.org/media/keys/ACCC4CF8.asc | apt-key add -\n",
        "!echo \"deb http://apt.postgresql.org/pub/repos/apt/ bionic-pgdg main\" >/etc/apt/sources.list.d/pgdg.list\n",
        "!apt -qq update\n",
        "!apt -yq install postgresql-12 postgresql-client-12\n",
        "!service postgresql start\n",
        "# make calling psql shorter\n",
        "!sudo -u postgres psql -c \"CREATE USER root WITH SUPERUSER\"  \n",
        "!psql postgres -c \"CREATE DATABASE root\"  # now just !psql -c \"...\"\n",
        "# load SQL extensions\n",
        "%load_ext sql\n",
        "%config SqlMagic.feedback=False \n",
        "%config SqlMagic.autopandas=True\n",
        "%sql postgresql+psycopg2://@/postgres"
      ],
      "execution_count": 0,
      "outputs": []
    },
    {
      "cell_type": "code",
      "metadata": {
        "id": "5spm-fLTn7oP",
        "colab_type": "code",
        "colab": {}
      },
      "source": [
        "#@title **This will download your data to local environment**\n",
        "!wget -q https://raw.githubusercontent.com/datacamp/string-manipulation-in-sql-live-session/master/data/short_term_rentals.csv"
      ],
      "execution_count": 0,
      "outputs": []
    },
    {
      "cell_type": "code",
      "metadata": {
        "id": "4fiq0KKsokAX",
        "colab_type": "code",
        "outputId": "ccabb4e9-66d5-4d9f-cc07-c10fa0443310",
        "colab": {
          "base_uri": "https://localhost:8080/",
          "height": 49
        }
      },
      "source": [
        "#@title **This will create your table**\n",
        "%%sql\n",
        "-- Make sure to amend you table name, column names and types\n",
        "DROP TABLE IF EXISTS rentals;\n",
        "CREATE TABLE rentals(\n",
        " id int primary key,\n",
        " issue_date text,\n",
        " status text,\n",
        " location text,\n",
        " short_term_rental_type text,\n",
        " property_type text,\n",
        " property_type_additional_description text,\n",
        " condo_association text,\n",
        " total_bedrooms numeric,\n",
        " rented_bedrooms numeric,\n",
        " maximum_renter_capacity numeric,\n",
        " kitchen text,\n",
        " bathrooms numeric,\n",
        " all_rental_services text\n",
        ");\n",
        "COPY rentals\n",
        "-- Make sure to point to correct file and delimiter \n",
        "FROM '/content/short_term_rentals.csv' DELIMITER ',' CSV HEADER;"
      ],
      "execution_count": 4,
      "outputs": [
        {
          "output_type": "stream",
          "text": [
            " * postgresql+psycopg2://@/postgres\n"
          ],
          "name": "stdout"
        },
        {
          "output_type": "execute_result",
          "data": {
            "text/html": [
              "<div>\n",
              "<style scoped>\n",
              "    .dataframe tbody tr th:only-of-type {\n",
              "        vertical-align: middle;\n",
              "    }\n",
              "\n",
              "    .dataframe tbody tr th {\n",
              "        vertical-align: top;\n",
              "    }\n",
              "\n",
              "    .dataframe thead th {\n",
              "        text-align: right;\n",
              "    }\n",
              "</style>\n",
              "<table border=\"1\" class=\"dataframe\">\n",
              "  <thead>\n",
              "    <tr style=\"text-align: right;\">\n",
              "      <th></th>\n",
              "    </tr>\n",
              "  </thead>\n",
              "  <tbody>\n",
              "  </tbody>\n",
              "</table>\n",
              "</div>"
            ],
            "text/plain": [
              "Empty DataFrame\n",
              "Columns: []\n",
              "Index: []"
            ]
          },
          "metadata": {
            "tags": []
          },
          "execution_count": 4
        }
      ]
    },
    {
      "cell_type": "markdown",
      "metadata": {
        "id": "cr7faFg5HfaT",
        "colab_type": "text"
      },
      "source": [
        "# **Exploring the Dataset**"
      ]
    },
    {
      "cell_type": "code",
      "metadata": {
        "id": "U-7SSn2DvKkZ",
        "colab_type": "code",
        "colab": {
          "base_uri": "https://localhost:8080/",
          "height": 830
        },
        "outputId": "ebccd125-ead1-463c-b563-7da792f05695"
      },
      "source": [
        "%%sql\n",
        "\n",
        "-- View the entire dataset\n",
        "select *\n",
        "FROM rentals;"
      ],
      "execution_count": 5,
      "outputs": [
        {
          "output_type": "stream",
          "text": [
            " * postgresql+psycopg2://@/postgres\n"
          ],
          "name": "stdout"
        },
        {
          "output_type": "execute_result",
          "data": {
            "text/html": [
              "<div>\n",
              "<style scoped>\n",
              "    .dataframe tbody tr th:only-of-type {\n",
              "        vertical-align: middle;\n",
              "    }\n",
              "\n",
              "    .dataframe tbody tr th {\n",
              "        vertical-align: top;\n",
              "    }\n",
              "\n",
              "    .dataframe thead th {\n",
              "        text-align: right;\n",
              "    }\n",
              "</style>\n",
              "<table border=\"1\" class=\"dataframe\">\n",
              "  <thead>\n",
              "    <tr style=\"text-align: right;\">\n",
              "      <th></th>\n",
              "      <th>id</th>\n",
              "      <th>issue_date</th>\n",
              "      <th>status</th>\n",
              "      <th>location</th>\n",
              "      <th>short_term_rental_type</th>\n",
              "      <th>property_type</th>\n",
              "      <th>property_type_additional_description</th>\n",
              "      <th>condo_association</th>\n",
              "      <th>total_bedrooms</th>\n",
              "      <th>rented_bedrooms</th>\n",
              "      <th>maximum_renter_capacity</th>\n",
              "      <th>kitchen</th>\n",
              "      <th>bathrooms</th>\n",
              "      <th>all_rental_services</th>\n",
              "    </tr>\n",
              "  </thead>\n",
              "  <tbody>\n",
              "    <tr>\n",
              "      <th>0</th>\n",
              "      <td>13727</td>\n",
              "      <td>March 27 2018</td>\n",
              "      <td>Complete</td>\n",
              "      <td>65 Pearl St\\nCambridge, MA 02139\\n(42.363228, ...</td>\n",
              "      <td>This application is for an OPERATOR-OCCUPIED s...</td>\n",
              "      <td>Single-family detached dwelling</td>\n",
              "      <td>None</td>\n",
              "      <td>No</td>\n",
              "      <td>3</td>\n",
              "      <td>2</td>\n",
              "      <td>4</td>\n",
              "      <td>Yes</td>\n",
              "      <td>1</td>\n",
              "      <td>Airbnb, HomeAway</td>\n",
              "    </tr>\n",
              "    <tr>\n",
              "      <th>1</th>\n",
              "      <td>14766</td>\n",
              "      <td>April 26 2018</td>\n",
              "      <td>Complete</td>\n",
              "      <td>34 Essex St\\nCambridge, MA 02139\\n(42.366748, ...</td>\n",
              "      <td>This application is for an OWNER-ADJACENT shor...</td>\n",
              "      <td>Three-family structure</td>\n",
              "      <td>None</td>\n",
              "      <td>No</td>\n",
              "      <td>1</td>\n",
              "      <td>1</td>\n",
              "      <td>2</td>\n",
              "      <td>Yes</td>\n",
              "      <td>1</td>\n",
              "      <td>Airbnb</td>\n",
              "    </tr>\n",
              "    <tr>\n",
              "      <th>2</th>\n",
              "      <td>13941</td>\n",
              "      <td>January 13 2020</td>\n",
              "      <td>Complete</td>\n",
              "      <td>24 Corporal Mcternan St\\nCambridge, MA 02139\\n...</td>\n",
              "      <td>This application is for an OPERATOR-OCCUPIED s...</td>\n",
              "      <td>Other</td>\n",
              "      <td>Park View Cooperative is a 12 unit cooperative...</td>\n",
              "      <td>No</td>\n",
              "      <td>1</td>\n",
              "      <td>1</td>\n",
              "      <td>2</td>\n",
              "      <td>Yes</td>\n",
              "      <td>1</td>\n",
              "      <td>Airbnb</td>\n",
              "    </tr>\n",
              "    <tr>\n",
              "      <th>3</th>\n",
              "      <td>54029</td>\n",
              "      <td>November 27 2019</td>\n",
              "      <td>Complete</td>\n",
              "      <td>152 Berkshire St\\nCambridge, MA 02141\\n(42.372...</td>\n",
              "      <td>This application is for an OPERATOR-OCCUPIED s...</td>\n",
              "      <td>Other</td>\n",
              "      <td>The unit is one of approximately 30 units in t...</td>\n",
              "      <td>Yes</td>\n",
              "      <td>1</td>\n",
              "      <td>1</td>\n",
              "      <td>4</td>\n",
              "      <td>Yes</td>\n",
              "      <td>1</td>\n",
              "      <td>Airbnb, HomeAway, VRBO</td>\n",
              "    </tr>\n",
              "    <tr>\n",
              "      <th>4</th>\n",
              "      <td>46488</td>\n",
              "      <td>July 09 2019</td>\n",
              "      <td>Complete</td>\n",
              "      <td>26 Sacramento St\\nCambridge, MA 02138\\n(42.382...</td>\n",
              "      <td>This application is for an OPERATOR-OCCUPIED s...</td>\n",
              "      <td>Two-family dwelling</td>\n",
              "      <td>None</td>\n",
              "      <td>No</td>\n",
              "      <td>4</td>\n",
              "      <td>4</td>\n",
              "      <td>6</td>\n",
              "      <td>Yes</td>\n",
              "      <td>2</td>\n",
              "      <td>Airbnb</td>\n",
              "    </tr>\n",
              "    <tr>\n",
              "      <th>...</th>\n",
              "      <td>...</td>\n",
              "      <td>...</td>\n",
              "      <td>...</td>\n",
              "      <td>...</td>\n",
              "      <td>...</td>\n",
              "      <td>...</td>\n",
              "      <td>...</td>\n",
              "      <td>...</td>\n",
              "      <td>...</td>\n",
              "      <td>...</td>\n",
              "      <td>...</td>\n",
              "      <td>...</td>\n",
              "      <td>...</td>\n",
              "      <td>...</td>\n",
              "    </tr>\n",
              "    <tr>\n",
              "      <th>276</th>\n",
              "      <td>13856</td>\n",
              "      <td>April 05 2019</td>\n",
              "      <td>Complete</td>\n",
              "      <td>53 Ellery St\\nCambridge, MA 02138\\n(42.372064,...</td>\n",
              "      <td>This application is for an OPERATOR-OCCUPIED s...</td>\n",
              "      <td>Three-family structure</td>\n",
              "      <td>None</td>\n",
              "      <td>Yes</td>\n",
              "      <td>3</td>\n",
              "      <td>3</td>\n",
              "      <td>5</td>\n",
              "      <td>Yes</td>\n",
              "      <td>3</td>\n",
              "      <td>Airbnb</td>\n",
              "    </tr>\n",
              "    <tr>\n",
              "      <th>277</th>\n",
              "      <td>48801</td>\n",
              "      <td>January 16 2020</td>\n",
              "      <td>Complete</td>\n",
              "      <td>42 Bowdoin St\\nCambridge, MA 02138\\n(42.383883...</td>\n",
              "      <td>This application is for an OPERATOR-OCCUPIED s...</td>\n",
              "      <td>Two-family dwelling</td>\n",
              "      <td>None</td>\n",
              "      <td>Yes</td>\n",
              "      <td>5</td>\n",
              "      <td>2</td>\n",
              "      <td>4</td>\n",
              "      <td>Yes</td>\n",
              "      <td>1</td>\n",
              "      <td>Airbnb</td>\n",
              "    </tr>\n",
              "    <tr>\n",
              "      <th>278</th>\n",
              "      <td>31371</td>\n",
              "      <td>April 08 2019</td>\n",
              "      <td>Complete</td>\n",
              "      <td>184 Green St\\nCambridge, MA 02139\\n(42.363624,...</td>\n",
              "      <td>This application is for an OPERATOR-OCCUPIED s...</td>\n",
              "      <td>Three-family structure</td>\n",
              "      <td>None</td>\n",
              "      <td>Yes</td>\n",
              "      <td>3</td>\n",
              "      <td>3</td>\n",
              "      <td>6</td>\n",
              "      <td>Yes</td>\n",
              "      <td>1</td>\n",
              "      <td>Airbnb</td>\n",
              "    </tr>\n",
              "    <tr>\n",
              "      <th>279</th>\n",
              "      <td>44924</td>\n",
              "      <td>May 09 2019</td>\n",
              "      <td>Complete</td>\n",
              "      <td>100 Auburn St\\nCambridge, MA 02139\\n(42.362472...</td>\n",
              "      <td>This application is for an OPERATOR-OCCUPIED s...</td>\n",
              "      <td>Three-family structure</td>\n",
              "      <td>None</td>\n",
              "      <td>No</td>\n",
              "      <td>3</td>\n",
              "      <td>2</td>\n",
              "      <td>4</td>\n",
              "      <td>Yes</td>\n",
              "      <td>1</td>\n",
              "      <td>Airbnb</td>\n",
              "    </tr>\n",
              "    <tr>\n",
              "      <th>280</th>\n",
              "      <td>13922</td>\n",
              "      <td>May 16 2019</td>\n",
              "      <td>Complete</td>\n",
              "      <td>51 Avon Hill St\\nCambridge, MA 02138\\n(42.3848...</td>\n",
              "      <td>This application is for an OPERATOR-OCCUPIED s...</td>\n",
              "      <td>Single-family detached dwelling</td>\n",
              "      <td>None</td>\n",
              "      <td>No</td>\n",
              "      <td>7</td>\n",
              "      <td>1</td>\n",
              "      <td>2</td>\n",
              "      <td>No</td>\n",
              "      <td>1</td>\n",
              "      <td>Airbnb, HomeAway</td>\n",
              "    </tr>\n",
              "  </tbody>\n",
              "</table>\n",
              "<p>281 rows × 14 columns</p>\n",
              "</div>"
            ],
            "text/plain": [
              "        id        issue_date  ... bathrooms     all_rental_services\n",
              "0    13727     March 27 2018  ...         1        Airbnb, HomeAway\n",
              "1    14766     April 26 2018  ...         1                  Airbnb\n",
              "2    13941   January 13 2020  ...         1                  Airbnb\n",
              "3    54029  November 27 2019  ...         1  Airbnb, HomeAway, VRBO\n",
              "4    46488      July 09 2019  ...         2                  Airbnb\n",
              "..     ...               ...  ...       ...                     ...\n",
              "276  13856     April 05 2019  ...         3                  Airbnb\n",
              "277  48801   January 16 2020  ...         1                  Airbnb\n",
              "278  31371     April 08 2019  ...         1                  Airbnb\n",
              "279  44924       May 09 2019  ...         1                  Airbnb\n",
              "280  13922       May 16 2019  ...         1        Airbnb, HomeAway\n",
              "\n",
              "[281 rows x 14 columns]"
            ]
          },
          "metadata": {
            "tags": []
          },
          "execution_count": 5
        }
      ]
    },
    {
      "cell_type": "code",
      "metadata": {
        "id": "O6b-yRAWvgru",
        "colab_type": "code",
        "colab": {
          "base_uri": "https://localhost:8080/",
          "height": 428
        },
        "outputId": "fa37c6a2-5462-4a02-d349-a56e9183d7cd"
      },
      "source": [
        "%%sql\n",
        "\n",
        "-- Sort the dataset by issue_date\n",
        "select *\n",
        "from rentals\n",
        "order by issue_date\n",
        "limit 5;"
      ],
      "execution_count": 6,
      "outputs": [
        {
          "output_type": "stream",
          "text": [
            " * postgresql+psycopg2://@/postgres\n"
          ],
          "name": "stdout"
        },
        {
          "output_type": "execute_result",
          "data": {
            "text/html": [
              "<div>\n",
              "<style scoped>\n",
              "    .dataframe tbody tr th:only-of-type {\n",
              "        vertical-align: middle;\n",
              "    }\n",
              "\n",
              "    .dataframe tbody tr th {\n",
              "        vertical-align: top;\n",
              "    }\n",
              "\n",
              "    .dataframe thead th {\n",
              "        text-align: right;\n",
              "    }\n",
              "</style>\n",
              "<table border=\"1\" class=\"dataframe\">\n",
              "  <thead>\n",
              "    <tr style=\"text-align: right;\">\n",
              "      <th></th>\n",
              "      <th>id</th>\n",
              "      <th>issue_date</th>\n",
              "      <th>status</th>\n",
              "      <th>location</th>\n",
              "      <th>short_term_rental_type</th>\n",
              "      <th>property_type</th>\n",
              "      <th>property_type_additional_description</th>\n",
              "      <th>condo_association</th>\n",
              "      <th>total_bedrooms</th>\n",
              "      <th>rented_bedrooms</th>\n",
              "      <th>maximum_renter_capacity</th>\n",
              "      <th>kitchen</th>\n",
              "      <th>bathrooms</th>\n",
              "      <th>all_rental_services</th>\n",
              "    </tr>\n",
              "  </thead>\n",
              "  <tbody>\n",
              "    <tr>\n",
              "      <th>0</th>\n",
              "      <td>13734</td>\n",
              "      <td>April 01 2019</td>\n",
              "      <td>Complete</td>\n",
              "      <td>6 Peters St\\nCambridge, MA 02139\\n(42.357565, ...</td>\n",
              "      <td>This application is for an OPERATOR-OCCUPIED s...</td>\n",
              "      <td>Single-family detached dwelling</td>\n",
              "      <td>None</td>\n",
              "      <td>No</td>\n",
              "      <td>5</td>\n",
              "      <td>1</td>\n",
              "      <td>2</td>\n",
              "      <td>No</td>\n",
              "      <td>1</td>\n",
              "      <td>Airbnb</td>\n",
              "    </tr>\n",
              "    <tr>\n",
              "      <th>1</th>\n",
              "      <td>13676</td>\n",
              "      <td>April 02 2018</td>\n",
              "      <td>Complete</td>\n",
              "      <td>82 Avon Hill St\\nCambridge, MA 02140\\n(42.3855...</td>\n",
              "      <td>This application is for an OPERATOR-OCCUPIED s...</td>\n",
              "      <td>Single-family detached dwelling</td>\n",
              "      <td>None</td>\n",
              "      <td>No</td>\n",
              "      <td>5</td>\n",
              "      <td>2</td>\n",
              "      <td>2</td>\n",
              "      <td>No</td>\n",
              "      <td>1.5</td>\n",
              "      <td>Airbnb, bedandbreakfast.com; avonhillhouse dot...</td>\n",
              "    </tr>\n",
              "    <tr>\n",
              "      <th>2</th>\n",
              "      <td>13990</td>\n",
              "      <td>April 02 2020</td>\n",
              "      <td>Complete</td>\n",
              "      <td>333 Mt Auburn St\\nCambridge, MA 02138\\n(42.375...</td>\n",
              "      <td>This application is for an OPERATOR-OCCUPIED s...</td>\n",
              "      <td>Two-family dwelling</td>\n",
              "      <td>None</td>\n",
              "      <td>No</td>\n",
              "      <td>2</td>\n",
              "      <td>1</td>\n",
              "      <td>2</td>\n",
              "      <td>No</td>\n",
              "      <td>1</td>\n",
              "      <td>Airbnb</td>\n",
              "    </tr>\n",
              "    <tr>\n",
              "      <th>3</th>\n",
              "      <td>13682</td>\n",
              "      <td>April 03 2018</td>\n",
              "      <td>Complete</td>\n",
              "      <td>80 Normandy Ave\\nCambridge, MA 02138\\n(42.3941...</td>\n",
              "      <td>This application is for an OWNER-ADJACENT shor...</td>\n",
              "      <td>Two-family dwelling</td>\n",
              "      <td>None</td>\n",
              "      <td>No</td>\n",
              "      <td>2</td>\n",
              "      <td>2</td>\n",
              "      <td>4</td>\n",
              "      <td>Yes</td>\n",
              "      <td>1</td>\n",
              "      <td>Airbnb, VRBO</td>\n",
              "    </tr>\n",
              "    <tr>\n",
              "      <th>4</th>\n",
              "      <td>13972</td>\n",
              "      <td>April 03 2018</td>\n",
              "      <td>Complete</td>\n",
              "      <td>71 Spring St\\nCambridge, MA 02141\\n(42.369073,...</td>\n",
              "      <td>This application is for an OPERATOR-OCCUPIED s...</td>\n",
              "      <td>Two-family dwelling</td>\n",
              "      <td>None</td>\n",
              "      <td>No</td>\n",
              "      <td>2</td>\n",
              "      <td>2</td>\n",
              "      <td>4</td>\n",
              "      <td>No</td>\n",
              "      <td>1</td>\n",
              "      <td>Airbnb</td>\n",
              "    </tr>\n",
              "  </tbody>\n",
              "</table>\n",
              "</div>"
            ],
            "text/plain": [
              "      id  ...                                all_rental_services\n",
              "0  13734  ...                                             Airbnb\n",
              "1  13676  ...  Airbnb, bedandbreakfast.com; avonhillhouse dot...\n",
              "2  13990  ...                                             Airbnb\n",
              "3  13682  ...                                       Airbnb, VRBO\n",
              "4  13972  ...                                             Airbnb\n",
              "\n",
              "[5 rows x 14 columns]"
            ]
          },
          "metadata": {
            "tags": []
          },
          "execution_count": 6
        }
      ]
    },
    {
      "cell_type": "code",
      "metadata": {
        "id": "pNGqt4Q2wLa_",
        "colab_type": "code",
        "colab": {
          "base_uri": "https://localhost:8080/",
          "height": 411
        },
        "outputId": "ef9d321c-32e5-48f6-d0e1-c89f039041a5"
      },
      "source": [
        "%%sql\n",
        "\n",
        "-- Sort the dataset by issue_date\n",
        "select *\n",
        "from rentals\n",
        "order by issue_date DESC\n",
        "limit 5;"
      ],
      "execution_count": 7,
      "outputs": [
        {
          "output_type": "stream",
          "text": [
            " * postgresql+psycopg2://@/postgres\n"
          ],
          "name": "stdout"
        },
        {
          "output_type": "execute_result",
          "data": {
            "text/html": [
              "<div>\n",
              "<style scoped>\n",
              "    .dataframe tbody tr th:only-of-type {\n",
              "        vertical-align: middle;\n",
              "    }\n",
              "\n",
              "    .dataframe tbody tr th {\n",
              "        vertical-align: top;\n",
              "    }\n",
              "\n",
              "    .dataframe thead th {\n",
              "        text-align: right;\n",
              "    }\n",
              "</style>\n",
              "<table border=\"1\" class=\"dataframe\">\n",
              "  <thead>\n",
              "    <tr style=\"text-align: right;\">\n",
              "      <th></th>\n",
              "      <th>id</th>\n",
              "      <th>issue_date</th>\n",
              "      <th>status</th>\n",
              "      <th>location</th>\n",
              "      <th>short_term_rental_type</th>\n",
              "      <th>property_type</th>\n",
              "      <th>property_type_additional_description</th>\n",
              "      <th>condo_association</th>\n",
              "      <th>total_bedrooms</th>\n",
              "      <th>rented_bedrooms</th>\n",
              "      <th>maximum_renter_capacity</th>\n",
              "      <th>kitchen</th>\n",
              "      <th>bathrooms</th>\n",
              "      <th>all_rental_services</th>\n",
              "    </tr>\n",
              "  </thead>\n",
              "  <tbody>\n",
              "    <tr>\n",
              "      <th>0</th>\n",
              "      <td>18433</td>\n",
              "      <td>September 25 2019</td>\n",
              "      <td>Complete</td>\n",
              "      <td>198 Franklin St\\nCambridge, MA 02139\\n(42.3633...</td>\n",
              "      <td>This application is for an OPERATOR-OCCUPIED s...</td>\n",
              "      <td>Single-family detached dwelling</td>\n",
              "      <td>None</td>\n",
              "      <td>No</td>\n",
              "      <td>2</td>\n",
              "      <td>2</td>\n",
              "      <td>8</td>\n",
              "      <td>Yes</td>\n",
              "      <td>2</td>\n",
              "      <td>Airbnb</td>\n",
              "    </tr>\n",
              "    <tr>\n",
              "      <th>1</th>\n",
              "      <td>16481</td>\n",
              "      <td>September 20 2019</td>\n",
              "      <td>Complete</td>\n",
              "      <td>286 Windsor St\\nCambridge, MA 02139\\n(42.36832...</td>\n",
              "      <td>This application is for an OPERATOR-OCCUPIED s...</td>\n",
              "      <td>Three-family structure</td>\n",
              "      <td>None</td>\n",
              "      <td>Yes</td>\n",
              "      <td>2</td>\n",
              "      <td>2</td>\n",
              "      <td>4</td>\n",
              "      <td>Yes</td>\n",
              "      <td>2</td>\n",
              "      <td>Airbnb</td>\n",
              "    </tr>\n",
              "    <tr>\n",
              "      <th>2</th>\n",
              "      <td>20166</td>\n",
              "      <td>September 20 2018</td>\n",
              "      <td>Complete</td>\n",
              "      <td>21 Parker St\\nCambridge, MA 02138\\n(42.379941,...</td>\n",
              "      <td>This application is for an OWNER-ADJACENT shor...</td>\n",
              "      <td>Two-family dwelling</td>\n",
              "      <td>None</td>\n",
              "      <td>No</td>\n",
              "      <td>1</td>\n",
              "      <td>1</td>\n",
              "      <td>2</td>\n",
              "      <td>Yes</td>\n",
              "      <td>1</td>\n",
              "      <td>Airbnb, Harvard Off Campus Housing</td>\n",
              "    </tr>\n",
              "    <tr>\n",
              "      <th>3</th>\n",
              "      <td>49891</td>\n",
              "      <td>September 11 2019</td>\n",
              "      <td>Complete</td>\n",
              "      <td>47 Fairmont St\\nCambridge, MA 02139\\n(42.36208...</td>\n",
              "      <td>This application is for an OPERATOR-OCCUPIED s...</td>\n",
              "      <td>Single-family detached dwelling</td>\n",
              "      <td>None</td>\n",
              "      <td>No</td>\n",
              "      <td>1</td>\n",
              "      <td>1</td>\n",
              "      <td>2</td>\n",
              "      <td>Yes</td>\n",
              "      <td>1</td>\n",
              "      <td>Airbnb</td>\n",
              "    </tr>\n",
              "    <tr>\n",
              "      <th>4</th>\n",
              "      <td>54783</td>\n",
              "      <td>September 09 2019</td>\n",
              "      <td>Complete</td>\n",
              "      <td>201 Franklin St\\nCambridge, MA 02139\\n(42.3634...</td>\n",
              "      <td>This application is for an OPERATOR-OCCUPIED s...</td>\n",
              "      <td>Two-family dwelling</td>\n",
              "      <td>None</td>\n",
              "      <td>No</td>\n",
              "      <td>3</td>\n",
              "      <td>2</td>\n",
              "      <td>3</td>\n",
              "      <td>No</td>\n",
              "      <td>1</td>\n",
              "      <td>Airbnb</td>\n",
              "    </tr>\n",
              "  </tbody>\n",
              "</table>\n",
              "</div>"
            ],
            "text/plain": [
              "      id         issue_date  ... bathrooms                 all_rental_services\n",
              "0  18433  September 25 2019  ...         2                              Airbnb\n",
              "1  16481  September 20 2019  ...         2                              Airbnb\n",
              "2  20166  September 20 2018  ...         1  Airbnb, Harvard Off Campus Housing\n",
              "3  49891  September 11 2019  ...         1                              Airbnb\n",
              "4  54783  September 09 2019  ...         1                              Airbnb\n",
              "\n",
              "[5 rows x 14 columns]"
            ]
          },
          "metadata": {
            "tags": []
          },
          "execution_count": 7
        }
      ]
    },
    {
      "cell_type": "code",
      "metadata": {
        "colab_type": "code",
        "id": "hMC0CeNWYomI",
        "colab": {
          "base_uri": "https://localhost:8080/",
          "height": 221
        },
        "outputId": "f0553723-004e-4247-c522-cd2eb4023f42"
      },
      "source": [
        "%%sql\n",
        "\n",
        "-- Show the ID,  location and all_rental_services columns\n",
        "select id, location, all_rental_services\n",
        "from rentals\n",
        "limit 5;"
      ],
      "execution_count": 9,
      "outputs": [
        {
          "output_type": "stream",
          "text": [
            " * postgresql+psycopg2://@/postgres\n"
          ],
          "name": "stdout"
        },
        {
          "output_type": "execute_result",
          "data": {
            "text/html": [
              "<div>\n",
              "<style scoped>\n",
              "    .dataframe tbody tr th:only-of-type {\n",
              "        vertical-align: middle;\n",
              "    }\n",
              "\n",
              "    .dataframe tbody tr th {\n",
              "        vertical-align: top;\n",
              "    }\n",
              "\n",
              "    .dataframe thead th {\n",
              "        text-align: right;\n",
              "    }\n",
              "</style>\n",
              "<table border=\"1\" class=\"dataframe\">\n",
              "  <thead>\n",
              "    <tr style=\"text-align: right;\">\n",
              "      <th></th>\n",
              "      <th>id</th>\n",
              "      <th>location</th>\n",
              "      <th>all_rental_services</th>\n",
              "    </tr>\n",
              "  </thead>\n",
              "  <tbody>\n",
              "    <tr>\n",
              "      <th>0</th>\n",
              "      <td>13727</td>\n",
              "      <td>65 Pearl St\\nCambridge, MA 02139\\n(42.363228, ...</td>\n",
              "      <td>Airbnb, HomeAway</td>\n",
              "    </tr>\n",
              "    <tr>\n",
              "      <th>1</th>\n",
              "      <td>14766</td>\n",
              "      <td>34 Essex St\\nCambridge, MA 02139\\n(42.366748, ...</td>\n",
              "      <td>Airbnb</td>\n",
              "    </tr>\n",
              "    <tr>\n",
              "      <th>2</th>\n",
              "      <td>13941</td>\n",
              "      <td>24 Corporal Mcternan St\\nCambridge, MA 02139\\n...</td>\n",
              "      <td>Airbnb</td>\n",
              "    </tr>\n",
              "    <tr>\n",
              "      <th>3</th>\n",
              "      <td>54029</td>\n",
              "      <td>152 Berkshire St\\nCambridge, MA 02141\\n(42.372...</td>\n",
              "      <td>Airbnb, HomeAway, VRBO</td>\n",
              "    </tr>\n",
              "    <tr>\n",
              "      <th>4</th>\n",
              "      <td>46488</td>\n",
              "      <td>26 Sacramento St\\nCambridge, MA 02138\\n(42.382...</td>\n",
              "      <td>Airbnb</td>\n",
              "    </tr>\n",
              "  </tbody>\n",
              "</table>\n",
              "</div>"
            ],
            "text/plain": [
              "      id  ...     all_rental_services\n",
              "0  13727  ...        Airbnb, HomeAway\n",
              "1  14766  ...                  Airbnb\n",
              "2  13941  ...                  Airbnb\n",
              "3  54029  ...  Airbnb, HomeAway, VRBO\n",
              "4  46488  ...                  Airbnb\n",
              "\n",
              "[5 rows x 3 columns]"
            ]
          },
          "metadata": {
            "tags": []
          },
          "execution_count": 9
        }
      ]
    },
    {
      "cell_type": "markdown",
      "metadata": {
        "id": "f6fL0wIDw9r1",
        "colab_type": "text"
      },
      "source": [
        "## **Q&A**"
      ]
    },
    {
      "cell_type": "markdown",
      "metadata": {
        "id": "eYI0CGCbIXuK",
        "colab_type": "text"
      },
      "source": [
        "# **Getting our data analysis-ready**\n",
        "\n",
        "Looking more closely at the Short Term Rentals dataset, there are several adjustments that need to be made to the data before we can get some meaningful insights.\n",
        "\n",
        "_Data type problems:_\n",
        "\n",
        "- **Problem 1**: First, the `issue_date` column needs to be converted to a date/time value before we can look at timeseries data.\n",
        "\n",
        "- **Problem 2**: We'll need split the `all_rental_serivces` column so we can know who our competitors are in the city before we launch the pilot.\n",
        "\n",
        "- **Problem 3**: Removing leading and trailing whitespace from data is a common data cleaning task that you will run into often and this data set is no exception.\n",
        "\n",
        "<br>\n",
        "\n",
        "_Text/categorical data problems:_\n",
        "\n",
        "- **Problem 4**: To get any aggregated insights about where in the city rental applications are most prevalent, we'll have to break apart the `location` column into it component address fields.\n",
        "\n",
        "- **Problem 5**: Looking at the rental services in our dataset there are several that only have a single listing and we'll want to combine all these services into a single `'other'` category.\n",
        "\n",
        "\n",
        "## **Our to do list:**\n",
        "\n",
        "_Data type problems:_\n",
        "\n",
        "- **Task 1**: Convert `issue_date` from `text` data type to `date`\n",
        "- **Task 2**: Split the `all_rental_services` values into individual services\n",
        "- **Task 3**: Remove leading and trailing whitespace form the individual services from Task 2\n",
        "\n",
        "<br>\n",
        "\n",
        "_Text/categorical data problems:_\n",
        "\n",
        "- **Task 4**: Create an `'other'` category as a \"catch-all\" for outlier rental services\n",
        "- **Task 5**: Parse the `location` column into component address fields (i.e., zip code)\n"
      ]
    },
    {
      "cell_type": "markdown",
      "metadata": {
        "colab_type": "text",
        "id": "UjwoWqioocv5"
      },
      "source": [
        "## **Task 1: Converting data from one type to another using `CAST()`**"
      ]
    },
    {
      "cell_type": "markdown",
      "metadata": {
        "colab_type": "text",
        "id": "4eJhYVI9FSkp"
      },
      "source": [
        "Let's get started by converting the `issue_date` to a date value.  Looking at the data as it's currently stored in the database, it appears that the column stores the month, day and year that the rental certification was issue but it's stored as a `TEXT` data type. \n",
        "\n",
        "To convert columns from one data type to another in PostgreSQL, we can use the `CAST()` function as below here:\n",
        "\n",
        ">```sql\n",
        "SELECT cast(column_name as new_type) \n",
        "FROM table;\n",
        "```\n",
        "\n",
        "Since `issue_date` does not contain time, we can convert it to DATE instead of TIMESTAMP."
      ]
    },
    {
      "cell_type": "code",
      "metadata": {
        "id": "EUR4YWFQxSp_",
        "colab_type": "code",
        "colab": {
          "base_uri": "https://localhost:8080/",
          "height": 221
        },
        "outputId": "10f77e99-bb9d-4e9e-f4e0-0d4e64bbaabe"
      },
      "source": [
        "%%sql\n",
        "\n",
        "-- Convert issue_date to a date\n",
        "select id, cast(issue_date as date)\n",
        "from rentals\n",
        "limit 5;\n"
      ],
      "execution_count": 10,
      "outputs": [
        {
          "output_type": "stream",
          "text": [
            " * postgresql+psycopg2://@/postgres\n"
          ],
          "name": "stdout"
        },
        {
          "output_type": "execute_result",
          "data": {
            "text/html": [
              "<div>\n",
              "<style scoped>\n",
              "    .dataframe tbody tr th:only-of-type {\n",
              "        vertical-align: middle;\n",
              "    }\n",
              "\n",
              "    .dataframe tbody tr th {\n",
              "        vertical-align: top;\n",
              "    }\n",
              "\n",
              "    .dataframe thead th {\n",
              "        text-align: right;\n",
              "    }\n",
              "</style>\n",
              "<table border=\"1\" class=\"dataframe\">\n",
              "  <thead>\n",
              "    <tr style=\"text-align: right;\">\n",
              "      <th></th>\n",
              "      <th>id</th>\n",
              "      <th>issue_date</th>\n",
              "    </tr>\n",
              "  </thead>\n",
              "  <tbody>\n",
              "    <tr>\n",
              "      <th>0</th>\n",
              "      <td>13727</td>\n",
              "      <td>2018-03-27</td>\n",
              "    </tr>\n",
              "    <tr>\n",
              "      <th>1</th>\n",
              "      <td>14766</td>\n",
              "      <td>2018-04-26</td>\n",
              "    </tr>\n",
              "    <tr>\n",
              "      <th>2</th>\n",
              "      <td>13941</td>\n",
              "      <td>2020-01-13</td>\n",
              "    </tr>\n",
              "    <tr>\n",
              "      <th>3</th>\n",
              "      <td>54029</td>\n",
              "      <td>2019-11-27</td>\n",
              "    </tr>\n",
              "    <tr>\n",
              "      <th>4</th>\n",
              "      <td>46488</td>\n",
              "      <td>2019-07-09</td>\n",
              "    </tr>\n",
              "  </tbody>\n",
              "</table>\n",
              "</div>"
            ],
            "text/plain": [
              "      id  issue_date\n",
              "0  13727  2018-03-27\n",
              "1  14766  2018-04-26\n",
              "2  13941  2020-01-13\n",
              "3  54029  2019-11-27\n",
              "4  46488  2019-07-09"
            ]
          },
          "metadata": {
            "tags": []
          },
          "execution_count": 10
        }
      ]
    },
    {
      "cell_type": "markdown",
      "metadata": {
        "id": "Mh-ebCEoINPr",
        "colab_type": "text"
      },
      "source": [
        "Now if we try to sort the dataset by the converted `issue_date` field, let's see if we get expected results."
      ]
    },
    {
      "cell_type": "code",
      "metadata": {
        "colab_type": "code",
        "id": "7-eAeLfwgwGg",
        "colab": {
          "base_uri": "https://localhost:8080/",
          "height": 436
        },
        "outputId": "6bb5cd29-75a5-49bc-978c-48d1adcdb951"
      },
      "source": [
        "%%sql\n",
        "\n",
        "-- Convert issue_date to a date and sort ascending\n",
        "select id, cast(issue_date as date)\n",
        "from rentals\n",
        "order by cast(issue_date as date) desc;\n",
        "\n"
      ],
      "execution_count": 12,
      "outputs": [
        {
          "output_type": "stream",
          "text": [
            " * postgresql+psycopg2://@/postgres\n"
          ],
          "name": "stdout"
        },
        {
          "output_type": "execute_result",
          "data": {
            "text/html": [
              "<div>\n",
              "<style scoped>\n",
              "    .dataframe tbody tr th:only-of-type {\n",
              "        vertical-align: middle;\n",
              "    }\n",
              "\n",
              "    .dataframe tbody tr th {\n",
              "        vertical-align: top;\n",
              "    }\n",
              "\n",
              "    .dataframe thead th {\n",
              "        text-align: right;\n",
              "    }\n",
              "</style>\n",
              "<table border=\"1\" class=\"dataframe\">\n",
              "  <thead>\n",
              "    <tr style=\"text-align: right;\">\n",
              "      <th></th>\n",
              "      <th>id</th>\n",
              "      <th>issue_date</th>\n",
              "    </tr>\n",
              "  </thead>\n",
              "  <tbody>\n",
              "    <tr>\n",
              "      <th>0</th>\n",
              "      <td>11943</td>\n",
              "      <td>2020-04-15</td>\n",
              "    </tr>\n",
              "    <tr>\n",
              "      <th>1</th>\n",
              "      <td>11950</td>\n",
              "      <td>2020-04-15</td>\n",
              "    </tr>\n",
              "    <tr>\n",
              "      <th>2</th>\n",
              "      <td>13957</td>\n",
              "      <td>2020-04-13</td>\n",
              "    </tr>\n",
              "    <tr>\n",
              "      <th>3</th>\n",
              "      <td>13956</td>\n",
              "      <td>2020-04-13</td>\n",
              "    </tr>\n",
              "    <tr>\n",
              "      <th>4</th>\n",
              "      <td>13885</td>\n",
              "      <td>2020-04-13</td>\n",
              "    </tr>\n",
              "    <tr>\n",
              "      <th>...</th>\n",
              "      <td>...</td>\n",
              "      <td>...</td>\n",
              "    </tr>\n",
              "    <tr>\n",
              "      <th>276</th>\n",
              "      <td>12112</td>\n",
              "      <td>2018-03-26</td>\n",
              "    </tr>\n",
              "    <tr>\n",
              "      <th>277</th>\n",
              "      <td>13577</td>\n",
              "      <td>2018-03-26</td>\n",
              "    </tr>\n",
              "    <tr>\n",
              "      <th>278</th>\n",
              "      <td>13313</td>\n",
              "      <td>2018-03-26</td>\n",
              "    </tr>\n",
              "    <tr>\n",
              "      <th>279</th>\n",
              "      <td>13583</td>\n",
              "      <td>2018-03-26</td>\n",
              "    </tr>\n",
              "    <tr>\n",
              "      <th>280</th>\n",
              "      <td>12140</td>\n",
              "      <td>2018-03-26</td>\n",
              "    </tr>\n",
              "  </tbody>\n",
              "</table>\n",
              "<p>281 rows × 2 columns</p>\n",
              "</div>"
            ],
            "text/plain": [
              "        id  issue_date\n",
              "0    11943  2020-04-15\n",
              "1    11950  2020-04-15\n",
              "2    13957  2020-04-13\n",
              "3    13956  2020-04-13\n",
              "4    13885  2020-04-13\n",
              "..     ...         ...\n",
              "276  12112  2018-03-26\n",
              "277  13577  2018-03-26\n",
              "278  13313  2018-03-26\n",
              "279  13583  2018-03-26\n",
              "280  12140  2018-03-26\n",
              "\n",
              "[281 rows x 2 columns]"
            ]
          },
          "metadata": {
            "tags": []
          },
          "execution_count": 12
        }
      ]
    },
    {
      "cell_type": "markdown",
      "metadata": {
        "id": "kqv9IrhpwVUf",
        "colab_type": "text"
      },
      "source": [
        "## **Task 2: Using `ARRAYS` to manipulate strings stored as comma-separated-values**"
      ]
    },
    {
      "cell_type": "code",
      "metadata": {
        "colab_type": "code",
        "id": "tB4-bao_xBL9",
        "colab": {
          "base_uri": "https://localhost:8080/",
          "height": 221
        },
        "outputId": "a0712d42-3741-4dd5-ce9b-9984a218789d"
      },
      "source": [
        "%%sql\n",
        "\n",
        "-- Use string_to_array() to convert the all_rental_services from a comma-separated-list to an array\n",
        "\n",
        "select id, string_to_array(all_rental_services,',')\n",
        "from rentals\n",
        "limit 5;"
      ],
      "execution_count": 13,
      "outputs": [
        {
          "output_type": "stream",
          "text": [
            " * postgresql+psycopg2://@/postgres\n"
          ],
          "name": "stdout"
        },
        {
          "output_type": "execute_result",
          "data": {
            "text/html": [
              "<div>\n",
              "<style scoped>\n",
              "    .dataframe tbody tr th:only-of-type {\n",
              "        vertical-align: middle;\n",
              "    }\n",
              "\n",
              "    .dataframe tbody tr th {\n",
              "        vertical-align: top;\n",
              "    }\n",
              "\n",
              "    .dataframe thead th {\n",
              "        text-align: right;\n",
              "    }\n",
              "</style>\n",
              "<table border=\"1\" class=\"dataframe\">\n",
              "  <thead>\n",
              "    <tr style=\"text-align: right;\">\n",
              "      <th></th>\n",
              "      <th>id</th>\n",
              "      <th>string_to_array</th>\n",
              "    </tr>\n",
              "  </thead>\n",
              "  <tbody>\n",
              "    <tr>\n",
              "      <th>0</th>\n",
              "      <td>13727</td>\n",
              "      <td>[Airbnb,  HomeAway]</td>\n",
              "    </tr>\n",
              "    <tr>\n",
              "      <th>1</th>\n",
              "      <td>14766</td>\n",
              "      <td>[Airbnb]</td>\n",
              "    </tr>\n",
              "    <tr>\n",
              "      <th>2</th>\n",
              "      <td>13941</td>\n",
              "      <td>[Airbnb]</td>\n",
              "    </tr>\n",
              "    <tr>\n",
              "      <th>3</th>\n",
              "      <td>54029</td>\n",
              "      <td>[Airbnb,  HomeAway,  VRBO]</td>\n",
              "    </tr>\n",
              "    <tr>\n",
              "      <th>4</th>\n",
              "      <td>46488</td>\n",
              "      <td>[Airbnb]</td>\n",
              "    </tr>\n",
              "  </tbody>\n",
              "</table>\n",
              "</div>"
            ],
            "text/plain": [
              "      id             string_to_array\n",
              "0  13727         [Airbnb,  HomeAway]\n",
              "1  14766                    [Airbnb]\n",
              "2  13941                    [Airbnb]\n",
              "3  54029  [Airbnb,  HomeAway,  VRBO]\n",
              "4  46488                    [Airbnb]"
            ]
          },
          "metadata": {
            "tags": []
          },
          "execution_count": 13
        }
      ]
    },
    {
      "cell_type": "markdown",
      "metadata": {
        "id": "B0c9u-XB7V_6",
        "colab_type": "text"
      },
      "source": [
        "PostgreSQL has a function called `unnest()` that will take an array and create unique rows for each index. Let's see what happens when we use the `unnest()` function on the result of `string_to_array()` for the first rental id 13727."
      ]
    },
    {
      "cell_type": "code",
      "metadata": {
        "colab_type": "code",
        "id": "kjh7KZzt7NxI",
        "colab": {
          "base_uri": "https://localhost:8080/",
          "height": 128
        },
        "outputId": "62086267-bd43-4efa-b5a0-fca8d0ba1185"
      },
      "source": [
        "%%sql\n",
        "\n",
        "-- Nest the string_to_array() function in unnest() to transpose the array into multiple unique rows.\n",
        "select id, unnest(string_to_array(all_rental_services, ','))\n",
        "from rentals\n",
        "where id = 13727;\n"
      ],
      "execution_count": 15,
      "outputs": [
        {
          "output_type": "stream",
          "text": [
            " * postgresql+psycopg2://@/postgres\n"
          ],
          "name": "stdout"
        },
        {
          "output_type": "execute_result",
          "data": {
            "text/html": [
              "<div>\n",
              "<style scoped>\n",
              "    .dataframe tbody tr th:only-of-type {\n",
              "        vertical-align: middle;\n",
              "    }\n",
              "\n",
              "    .dataframe tbody tr th {\n",
              "        vertical-align: top;\n",
              "    }\n",
              "\n",
              "    .dataframe thead th {\n",
              "        text-align: right;\n",
              "    }\n",
              "</style>\n",
              "<table border=\"1\" class=\"dataframe\">\n",
              "  <thead>\n",
              "    <tr style=\"text-align: right;\">\n",
              "      <th></th>\n",
              "      <th>id</th>\n",
              "      <th>unnest</th>\n",
              "    </tr>\n",
              "  </thead>\n",
              "  <tbody>\n",
              "    <tr>\n",
              "      <th>0</th>\n",
              "      <td>13727</td>\n",
              "      <td>Airbnb</td>\n",
              "    </tr>\n",
              "    <tr>\n",
              "      <th>1</th>\n",
              "      <td>13727</td>\n",
              "      <td>HomeAway</td>\n",
              "    </tr>\n",
              "  </tbody>\n",
              "</table>\n",
              "</div>"
            ],
            "text/plain": [
              "      id     unnest\n",
              "0  13727     Airbnb\n",
              "1  13727   HomeAway"
            ]
          },
          "metadata": {
            "tags": []
          },
          "execution_count": 15
        }
      ]
    },
    {
      "cell_type": "markdown",
      "metadata": {
        "id": "X-afaT9O8sDR",
        "colab_type": "text"
      },
      "source": [
        "A subquery is useful in this example becaues it will allow us to perform additional operations on the rental services data after we have parsed it using the `string_to_array()` and `unest()` functions.\n",
        "\n",
        "Here's an example of a simple subquery for  your reference.\n",
        ">```sql\n",
        "SELECT AVG(column_name) \n",
        "FROM\n",
        "(\n",
        "    SELECT * FROM table\n",
        ")\n",
        "GROUP BY column_name;\n",
        "```"
      ]
    },
    {
      "cell_type": "code",
      "metadata": {
        "colab_type": "code",
        "id": "7K1VEYrqxozk",
        "colab": {
          "base_uri": "https://localhost:8080/",
          "height": 841
        },
        "outputId": "82412625-7533-4146-a408-cb1d13a79865"
      },
      "source": [
        "%%sql\n",
        "\n",
        "-- Use the results from the unnest() function in the query\n",
        "\n",
        "select services, count(id) as total\n",
        "from\n",
        "(\n",
        "select id,unnest(string_to_array(all_rental_services, ','))\n",
        "from rentals\n",
        ") as dt(id, services)\n",
        "group by services\n",
        "order by total desc;"
      ],
      "execution_count": 19,
      "outputs": [
        {
          "output_type": "stream",
          "text": [
            " * postgresql+psycopg2://@/postgres\n"
          ],
          "name": "stdout"
        },
        {
          "output_type": "execute_result",
          "data": {
            "text/html": [
              "<div>\n",
              "<style scoped>\n",
              "    .dataframe tbody tr th:only-of-type {\n",
              "        vertical-align: middle;\n",
              "    }\n",
              "\n",
              "    .dataframe tbody tr th {\n",
              "        vertical-align: top;\n",
              "    }\n",
              "\n",
              "    .dataframe thead th {\n",
              "        text-align: right;\n",
              "    }\n",
              "</style>\n",
              "<table border=\"1\" class=\"dataframe\">\n",
              "  <thead>\n",
              "    <tr style=\"text-align: right;\">\n",
              "      <th></th>\n",
              "      <th>services</th>\n",
              "      <th>total</th>\n",
              "    </tr>\n",
              "  </thead>\n",
              "  <tbody>\n",
              "    <tr>\n",
              "      <th>0</th>\n",
              "      <td>Airbnb</td>\n",
              "      <td>273</td>\n",
              "    </tr>\n",
              "    <tr>\n",
              "      <th>1</th>\n",
              "      <td>HomeAway</td>\n",
              "      <td>37</td>\n",
              "    </tr>\n",
              "    <tr>\n",
              "      <th>2</th>\n",
              "      <td>VRBO</td>\n",
              "      <td>23</td>\n",
              "    </tr>\n",
              "    <tr>\n",
              "      <th>3</th>\n",
              "      <td>Craigslist</td>\n",
              "      <td>17</td>\n",
              "    </tr>\n",
              "    <tr>\n",
              "      <th>4</th>\n",
              "      <td>Boston_Rentals</td>\n",
              "      <td>16</td>\n",
              "    </tr>\n",
              "    <tr>\n",
              "      <th>5</th>\n",
              "      <td>FlipKey</td>\n",
              "      <td>15</td>\n",
              "    </tr>\n",
              "    <tr>\n",
              "      <th>6</th>\n",
              "      <td>Couch_Surfing</td>\n",
              "      <td>10</td>\n",
              "    </tr>\n",
              "    <tr>\n",
              "      <th>7</th>\n",
              "      <td></td>\n",
              "      <td>2</td>\n",
              "    </tr>\n",
              "    <tr>\n",
              "      <th>8</th>\n",
              "      <td>Bed &amp;amp; Breakfast Associates</td>\n",
              "      <td>1</td>\n",
              "    </tr>\n",
              "    <tr>\n",
              "      <th>9</th>\n",
              "      <td>website</td>\n",
              "      <td>1</td>\n",
              "    </tr>\n",
              "    <tr>\n",
              "      <th>10</th>\n",
              "      <td>Colbyco Vacation Rentals</td>\n",
              "      <td>1</td>\n",
              "    </tr>\n",
              "    <tr>\n",
              "      <th>11</th>\n",
              "      <td>HomeAway</td>\n",
              "      <td>1</td>\n",
              "    </tr>\n",
              "    <tr>\n",
              "      <th>12</th>\n",
              "      <td>Bay Colony Associates</td>\n",
              "      <td>1</td>\n",
              "    </tr>\n",
              "    <tr>\n",
              "      <th>13</th>\n",
              "      <td>I have had an agent for these nine years.</td>\n",
              "      <td>1</td>\n",
              "    </tr>\n",
              "    <tr>\n",
              "      <th>14</th>\n",
              "      <td>Hotel.com</td>\n",
              "      <td>1</td>\n",
              "    </tr>\n",
              "    <tr>\n",
              "      <th>15</th>\n",
              "      <td>eviivo</td>\n",
              "      <td>1</td>\n",
              "    </tr>\n",
              "    <tr>\n",
              "      <th>16</th>\n",
              "      <td>Harvard Off Campus Housing</td>\n",
              "      <td>1</td>\n",
              "    </tr>\n",
              "    <tr>\n",
              "      <th>17</th>\n",
              "      <td>bnbboston.com</td>\n",
              "      <td>1</td>\n",
              "    </tr>\n",
              "    <tr>\n",
              "      <th>18</th>\n",
              "      <td>Parkside (GoDaddy Host) TripAdvisor</td>\n",
              "      <td>1</td>\n",
              "    </tr>\n",
              "    <tr>\n",
              "      <th>19</th>\n",
              "      <td>Bed and Breakfast Associate Bay Colony</td>\n",
              "      <td>1</td>\n",
              "    </tr>\n",
              "    <tr>\n",
              "      <th>20</th>\n",
              "      <td>bedandbreakfast.com; avonhillhouse dot com</td>\n",
              "      <td>1</td>\n",
              "    </tr>\n",
              "    <tr>\n",
              "      <th>21</th>\n",
              "      <td>VRBO</td>\n",
              "      <td>1</td>\n",
              "    </tr>\n",
              "    <tr>\n",
              "      <th>22</th>\n",
              "      <td>MisterBandB</td>\n",
              "      <td>1</td>\n",
              "    </tr>\n",
              "    <tr>\n",
              "      <th>23</th>\n",
              "      <td>Sabbatical Homes</td>\n",
              "      <td>1</td>\n",
              "    </tr>\n",
              "    <tr>\n",
              "      <th>24</th>\n",
              "      <td>Expedia</td>\n",
              "      <td>1</td>\n",
              "    </tr>\n",
              "  </tbody>\n",
              "</table>\n",
              "</div>"
            ],
            "text/plain": [
              "                                       services  total\n",
              "0                                        Airbnb    273\n",
              "1                                      HomeAway     37\n",
              "2                                          VRBO     23\n",
              "3                                    Craigslist     17\n",
              "4                                Boston_Rentals     16\n",
              "5                                       FlipKey     15\n",
              "6                                 Couch_Surfing     10\n",
              "7                                                    2\n",
              "8                Bed &amp; Breakfast Associates      1\n",
              "9                                       website      1\n",
              "10                     Colbyco Vacation Rentals      1\n",
              "11                                     HomeAway      1\n",
              "12                        Bay Colony Associates      1\n",
              "13    I have had an agent for these nine years.      1\n",
              "14                                    Hotel.com      1\n",
              "15                                       eviivo      1\n",
              "16                   Harvard Off Campus Housing      1\n",
              "17                                bnbboston.com      1\n",
              "18          Parkside (GoDaddy Host) TripAdvisor      1\n",
              "19       Bed and Breakfast Associate Bay Colony      1\n",
              "20   bedandbreakfast.com; avonhillhouse dot com      1\n",
              "21                                         VRBO      1\n",
              "22                                  MisterBandB      1\n",
              "23                             Sabbatical Homes      1\n",
              "24                                      Expedia      1"
            ]
          },
          "metadata": {
            "tags": []
          },
          "execution_count": 19
        }
      ]
    },
    {
      "cell_type": "markdown",
      "metadata": {
        "colab_type": "text",
        "id": "WDOq1qwBP8u-"
      },
      "source": [
        "## **Task 3: Removing leading and trailing whitespace**"
      ]
    },
    {
      "cell_type": "markdown",
      "metadata": {
        "colab_type": "text",
        "id": "NMZPtGcVPDEa"
      },
      "source": [
        "Take a close look at the results from the previous task.  It appears that there are two instances of `HomeAway` and `VBRO`.  This is the result of having whitespace in between each value of the comma-separated-list.  We can clean this up by removing the leading and trailing whitespace from the data by using the `trim()` function."
      ]
    },
    {
      "cell_type": "code",
      "metadata": {
        "colab_type": "code",
        "id": "nFS-qbymPEzW",
        "colab": {}
      },
      "source": [
        "%%sql\n",
        "\n",
        "-- Remove whitespace from the results of the unnest() function in the query\n",
        "      \n"
      ],
      "execution_count": 0,
      "outputs": []
    },
    {
      "cell_type": "code",
      "metadata": {
        "colab_type": "code",
        "outputId": "e0b7550f-26d3-41f0-d365-df17b5aeb337",
        "id": "7B7oDybE-gJw",
        "colab": {
          "base_uri": "https://localhost:8080/",
          "height": 779
        }
      },
      "source": [
        "%%sql\n",
        "\n",
        "-- Use the results from the unnest() function in the query\n",
        "\n",
        "select trim(services) service, count(id) as total\n",
        "from\n",
        "(\n",
        "select id,unnest(string_to_array(all_rental_services, ','))\n",
        "from rentals\n",
        ") as dt(id, services)\n",
        "group by service\n",
        "order by total desc;"
      ],
      "execution_count": 20,
      "outputs": [
        {
          "output_type": "stream",
          "text": [
            " * postgresql+psycopg2://@/postgres\n"
          ],
          "name": "stdout"
        },
        {
          "output_type": "execute_result",
          "data": {
            "text/html": [
              "<div>\n",
              "<style scoped>\n",
              "    .dataframe tbody tr th:only-of-type {\n",
              "        vertical-align: middle;\n",
              "    }\n",
              "\n",
              "    .dataframe tbody tr th {\n",
              "        vertical-align: top;\n",
              "    }\n",
              "\n",
              "    .dataframe thead th {\n",
              "        text-align: right;\n",
              "    }\n",
              "</style>\n",
              "<table border=\"1\" class=\"dataframe\">\n",
              "  <thead>\n",
              "    <tr style=\"text-align: right;\">\n",
              "      <th></th>\n",
              "      <th>service</th>\n",
              "      <th>total</th>\n",
              "    </tr>\n",
              "  </thead>\n",
              "  <tbody>\n",
              "    <tr>\n",
              "      <th>0</th>\n",
              "      <td>Airbnb</td>\n",
              "      <td>273</td>\n",
              "    </tr>\n",
              "    <tr>\n",
              "      <th>1</th>\n",
              "      <td>HomeAway</td>\n",
              "      <td>38</td>\n",
              "    </tr>\n",
              "    <tr>\n",
              "      <th>2</th>\n",
              "      <td>VRBO</td>\n",
              "      <td>24</td>\n",
              "    </tr>\n",
              "    <tr>\n",
              "      <th>3</th>\n",
              "      <td>Craigslist</td>\n",
              "      <td>17</td>\n",
              "    </tr>\n",
              "    <tr>\n",
              "      <th>4</th>\n",
              "      <td>Boston_Rentals</td>\n",
              "      <td>16</td>\n",
              "    </tr>\n",
              "    <tr>\n",
              "      <th>5</th>\n",
              "      <td>FlipKey</td>\n",
              "      <td>15</td>\n",
              "    </tr>\n",
              "    <tr>\n",
              "      <th>6</th>\n",
              "      <td>Couch_Surfing</td>\n",
              "      <td>10</td>\n",
              "    </tr>\n",
              "    <tr>\n",
              "      <th>7</th>\n",
              "      <td></td>\n",
              "      <td>2</td>\n",
              "    </tr>\n",
              "    <tr>\n",
              "      <th>8</th>\n",
              "      <td>website</td>\n",
              "      <td>1</td>\n",
              "    </tr>\n",
              "    <tr>\n",
              "      <th>9</th>\n",
              "      <td>Colbyco Vacation Rentals</td>\n",
              "      <td>1</td>\n",
              "    </tr>\n",
              "    <tr>\n",
              "      <th>10</th>\n",
              "      <td>Bed and Breakfast Associate Bay Colony</td>\n",
              "      <td>1</td>\n",
              "    </tr>\n",
              "    <tr>\n",
              "      <th>11</th>\n",
              "      <td>bedandbreakfast.com; avonhillhouse dot com</td>\n",
              "      <td>1</td>\n",
              "    </tr>\n",
              "    <tr>\n",
              "      <th>12</th>\n",
              "      <td>Expedia</td>\n",
              "      <td>1</td>\n",
              "    </tr>\n",
              "    <tr>\n",
              "      <th>13</th>\n",
              "      <td>I have had an agent for these nine years.</td>\n",
              "      <td>1</td>\n",
              "    </tr>\n",
              "    <tr>\n",
              "      <th>14</th>\n",
              "      <td>MisterBandB</td>\n",
              "      <td>1</td>\n",
              "    </tr>\n",
              "    <tr>\n",
              "      <th>15</th>\n",
              "      <td>eviivo</td>\n",
              "      <td>1</td>\n",
              "    </tr>\n",
              "    <tr>\n",
              "      <th>16</th>\n",
              "      <td>Parkside (GoDaddy Host) TripAdvisor</td>\n",
              "      <td>1</td>\n",
              "    </tr>\n",
              "    <tr>\n",
              "      <th>17</th>\n",
              "      <td>bnbboston.com</td>\n",
              "      <td>1</td>\n",
              "    </tr>\n",
              "    <tr>\n",
              "      <th>18</th>\n",
              "      <td>Sabbatical Homes</td>\n",
              "      <td>1</td>\n",
              "    </tr>\n",
              "    <tr>\n",
              "      <th>19</th>\n",
              "      <td>Bay Colony Associates</td>\n",
              "      <td>1</td>\n",
              "    </tr>\n",
              "    <tr>\n",
              "      <th>20</th>\n",
              "      <td>Harvard Off Campus Housing</td>\n",
              "      <td>1</td>\n",
              "    </tr>\n",
              "    <tr>\n",
              "      <th>21</th>\n",
              "      <td>Hotel.com</td>\n",
              "      <td>1</td>\n",
              "    </tr>\n",
              "    <tr>\n",
              "      <th>22</th>\n",
              "      <td>Bed &amp;amp; Breakfast Associates</td>\n",
              "      <td>1</td>\n",
              "    </tr>\n",
              "  </tbody>\n",
              "</table>\n",
              "</div>"
            ],
            "text/plain": [
              "                                       service  total\n",
              "0                                       Airbnb    273\n",
              "1                                     HomeAway     38\n",
              "2                                         VRBO     24\n",
              "3                                   Craigslist     17\n",
              "4                               Boston_Rentals     16\n",
              "5                                      FlipKey     15\n",
              "6                                Couch_Surfing     10\n",
              "7                                                   2\n",
              "8                                      website      1\n",
              "9                     Colbyco Vacation Rentals      1\n",
              "10      Bed and Breakfast Associate Bay Colony      1\n",
              "11  bedandbreakfast.com; avonhillhouse dot com      1\n",
              "12                                     Expedia      1\n",
              "13   I have had an agent for these nine years.      1\n",
              "14                                 MisterBandB      1\n",
              "15                                      eviivo      1\n",
              "16         Parkside (GoDaddy Host) TripAdvisor      1\n",
              "17                               bnbboston.com      1\n",
              "18                            Sabbatical Homes      1\n",
              "19                       Bay Colony Associates      1\n",
              "20                  Harvard Off Campus Housing      1\n",
              "21                                   Hotel.com      1\n",
              "22              Bed &amp; Breakfast Associates      1"
            ]
          },
          "metadata": {
            "tags": []
          },
          "execution_count": 20
        }
      ]
    },
    {
      "cell_type": "markdown",
      "metadata": {
        "colab_type": "text",
        "id": "d-rzBQ603gev"
      },
      "source": [
        "## **Q&A**"
      ]
    },
    {
      "cell_type": "markdown",
      "metadata": {
        "colab_type": "text",
        "id": "yOU-gK2gQsHB"
      },
      "source": [
        "## **Task 4: Using `CASE` statements to create new categorical fields**"
      ]
    },
    {
      "cell_type": "markdown",
      "metadata": {
        "colab_type": "text",
        "id": "WlYuJP7gR3eo"
      },
      "source": [
        "Notice that the results from the previous query, include many rental services with only one location that is using them.  For our analysis, we don't want to exclude these locations but it would be easier if they were all grouped together in an `'other'` category.  We can do this in our query using a `CASE` statement.\n",
        "\n",
        ">```sql\n",
        "CASE\n",
        "     WHEN condition_1  THEN result_1\n",
        "     WHEN condition_2  THEN result_2\n",
        "     ...\n",
        "     ELSE  result_n\n",
        "END\n",
        "```"
      ]
    },
    {
      "cell_type": "code",
      "metadata": {
        "colab_type": "code",
        "id": "Welp5nt9QpAc",
        "colab": {
          "base_uri": "https://localhost:8080/",
          "height": 314
        },
        "outputId": "2ba89f1b-6b24-4f4a-dbf4-9177d7246d5f"
      },
      "source": [
        "%%sql\n",
        "\n",
        "-- Create a new field called rentalService from the services data\n",
        "select  case when trim(services) IN('Airbnb', 'HomeAway', 'VRBO', 'FlipKey', \n",
        "                                    'Craigslist', 'Boston_Rentals', 'Couch_Surfing') \n",
        "  then trim(services) else 'Other' end as rentalService, \n",
        "\n",
        "count(id) as total\n",
        "from\n",
        "(\n",
        "select id,unnest(string_to_array(all_rental_services, ','))\n",
        "from rentals\n",
        ") as dt(id, services)\n",
        "group by rentalService\n",
        "order by total desc;\n"
      ],
      "execution_count": 22,
      "outputs": [
        {
          "output_type": "stream",
          "text": [
            " * postgresql+psycopg2://@/postgres\n"
          ],
          "name": "stdout"
        },
        {
          "output_type": "execute_result",
          "data": {
            "text/html": [
              "<div>\n",
              "<style scoped>\n",
              "    .dataframe tbody tr th:only-of-type {\n",
              "        vertical-align: middle;\n",
              "    }\n",
              "\n",
              "    .dataframe tbody tr th {\n",
              "        vertical-align: top;\n",
              "    }\n",
              "\n",
              "    .dataframe thead th {\n",
              "        text-align: right;\n",
              "    }\n",
              "</style>\n",
              "<table border=\"1\" class=\"dataframe\">\n",
              "  <thead>\n",
              "    <tr style=\"text-align: right;\">\n",
              "      <th></th>\n",
              "      <th>rentalservice</th>\n",
              "      <th>total</th>\n",
              "    </tr>\n",
              "  </thead>\n",
              "  <tbody>\n",
              "    <tr>\n",
              "      <th>0</th>\n",
              "      <td>Airbnb</td>\n",
              "      <td>273</td>\n",
              "    </tr>\n",
              "    <tr>\n",
              "      <th>1</th>\n",
              "      <td>HomeAway</td>\n",
              "      <td>38</td>\n",
              "    </tr>\n",
              "    <tr>\n",
              "      <th>2</th>\n",
              "      <td>VRBO</td>\n",
              "      <td>24</td>\n",
              "    </tr>\n",
              "    <tr>\n",
              "      <th>3</th>\n",
              "      <td>Craigslist</td>\n",
              "      <td>17</td>\n",
              "    </tr>\n",
              "    <tr>\n",
              "      <th>4</th>\n",
              "      <td>Other</td>\n",
              "      <td>17</td>\n",
              "    </tr>\n",
              "    <tr>\n",
              "      <th>5</th>\n",
              "      <td>Boston_Rentals</td>\n",
              "      <td>16</td>\n",
              "    </tr>\n",
              "    <tr>\n",
              "      <th>6</th>\n",
              "      <td>FlipKey</td>\n",
              "      <td>15</td>\n",
              "    </tr>\n",
              "    <tr>\n",
              "      <th>7</th>\n",
              "      <td>Couch_Surfing</td>\n",
              "      <td>10</td>\n",
              "    </tr>\n",
              "  </tbody>\n",
              "</table>\n",
              "</div>"
            ],
            "text/plain": [
              "    rentalservice  total\n",
              "0          Airbnb    273\n",
              "1        HomeAway     38\n",
              "2            VRBO     24\n",
              "3      Craigslist     17\n",
              "4           Other     17\n",
              "5  Boston_Rentals     16\n",
              "6         FlipKey     15\n",
              "7   Couch_Surfing     10"
            ]
          },
          "metadata": {
            "tags": []
          },
          "execution_count": 22
        }
      ]
    },
    {
      "cell_type": "markdown",
      "metadata": {
        "id": "PtuDBcREmzDu",
        "colab_type": "text"
      },
      "source": [
        "## **Task 5: Extracting string data using `SUBSTRING()` and `POSITION()`**"
      ]
    },
    {
      "cell_type": "markdown",
      "metadata": {
        "id": "qL6fOCK520zz",
        "colab_type": "text"
      },
      "source": [
        "Great work!  Now let's see what we can do with the `location` field.  Ideally, we would have columns for each address part including street address, postal code, etc. In order to do this we'll need to parse the `location` field into these parts. \n",
        "\n",
        "To divide strings (or extract substrings) in PostgreSQL, we can use `SUBSTRING`(column_name, substring_start_position, substring_end_position)` where:\n",
        "\n",
        "> `column_name` is the name of the column being processed\n",
        "<br> `substring_start_position` is the numbered position of the first string of the substring being extracted.\n",
        "<br> `substring_end_position` is the numbered position of the substring of the last string of the substring being extracted.\n",
        "\n",
        "A common value from the location column has the format:\n",
        "\n",
        "> `street_address \\n city_state_zip \\n lat_long`\n",
        "<br> <br>For example: `65 Pearl St\\nCambridge, MA 02139\\n(42.363228, 42.36322)`\n",
        "\n",
        "To divide `location` into substrings, will divide it based on the position of the break-line character `\\n` by using the `POSITION(character IN column_name)` function which finds the numbered position of a character in a string column, as well as the `chr(10)` function which returns `\\n`."
      ]
    },
    {
      "cell_type": "code",
      "metadata": {
        "colab_type": "code",
        "id": "DA48iA2ekln0",
        "colab": {
          "base_uri": "https://localhost:8080/",
          "height": 436
        },
        "outputId": "69fffa3a-76d1-4a4e-ef0a-924d19464989"
      },
      "source": [
        "%%sql\n",
        "\n",
        "-- Use substring() and position() functions to parse the location into various address values\n",
        "\n",
        "select substring(location, 0, position(chr(10) IN location)) as street_address,\n",
        "      substring(location, position(chr(10) IN location)+1,19) as city_state_zip,\n",
        "      substring(location, position('(' IN location), position (')' IN location)) as lat_lon\n",
        "from rentals;\n",
        "\n",
        "select substring(location, 0, 19), position(E'\\n' IN location)\n",
        "from rentals;"
      ],
      "execution_count": 28,
      "outputs": [
        {
          "output_type": "stream",
          "text": [
            " * postgresql+psycopg2://@/postgres\n"
          ],
          "name": "stdout"
        },
        {
          "output_type": "execute_result",
          "data": {
            "text/html": [
              "<div>\n",
              "<style scoped>\n",
              "    .dataframe tbody tr th:only-of-type {\n",
              "        vertical-align: middle;\n",
              "    }\n",
              "\n",
              "    .dataframe tbody tr th {\n",
              "        vertical-align: top;\n",
              "    }\n",
              "\n",
              "    .dataframe thead th {\n",
              "        text-align: right;\n",
              "    }\n",
              "</style>\n",
              "<table border=\"1\" class=\"dataframe\">\n",
              "  <thead>\n",
              "    <tr style=\"text-align: right;\">\n",
              "      <th></th>\n",
              "      <th>substring</th>\n",
              "      <th>position</th>\n",
              "    </tr>\n",
              "  </thead>\n",
              "  <tbody>\n",
              "    <tr>\n",
              "      <th>0</th>\n",
              "      <td>65 Pearl St\\nCambri</td>\n",
              "      <td>12</td>\n",
              "    </tr>\n",
              "    <tr>\n",
              "      <th>1</th>\n",
              "      <td>34 Essex St\\nCambri</td>\n",
              "      <td>12</td>\n",
              "    </tr>\n",
              "    <tr>\n",
              "      <th>2</th>\n",
              "      <td>24 Corporal Mctern</td>\n",
              "      <td>24</td>\n",
              "    </tr>\n",
              "    <tr>\n",
              "      <th>3</th>\n",
              "      <td>152 Berkshire St\\nC</td>\n",
              "      <td>17</td>\n",
              "    </tr>\n",
              "    <tr>\n",
              "      <th>4</th>\n",
              "      <td>26 Sacramento St\\nC</td>\n",
              "      <td>17</td>\n",
              "    </tr>\n",
              "    <tr>\n",
              "      <th>...</th>\n",
              "      <td>...</td>\n",
              "      <td>...</td>\n",
              "    </tr>\n",
              "    <tr>\n",
              "      <th>276</th>\n",
              "      <td>53 Ellery St\\nCambr</td>\n",
              "      <td>13</td>\n",
              "    </tr>\n",
              "    <tr>\n",
              "      <th>277</th>\n",
              "      <td>42 Bowdoin St\\nCamb</td>\n",
              "      <td>14</td>\n",
              "    </tr>\n",
              "    <tr>\n",
              "      <th>278</th>\n",
              "      <td>184 Green St\\nCambr</td>\n",
              "      <td>13</td>\n",
              "    </tr>\n",
              "    <tr>\n",
              "      <th>279</th>\n",
              "      <td>100 Auburn St\\nCamb</td>\n",
              "      <td>14</td>\n",
              "    </tr>\n",
              "    <tr>\n",
              "      <th>280</th>\n",
              "      <td>51 Avon Hill St\\nCa</td>\n",
              "      <td>16</td>\n",
              "    </tr>\n",
              "  </tbody>\n",
              "</table>\n",
              "<p>281 rows × 2 columns</p>\n",
              "</div>"
            ],
            "text/plain": [
              "               substring  position\n",
              "0    65 Pearl St\\nCambri        12\n",
              "1    34 Essex St\\nCambri        12\n",
              "2     24 Corporal Mctern        24\n",
              "3    152 Berkshire St\\nC        17\n",
              "4    26 Sacramento St\\nC        17\n",
              "..                   ...       ...\n",
              "276  53 Ellery St\\nCambr        13\n",
              "277  42 Bowdoin St\\nCamb        14\n",
              "278  184 Green St\\nCambr        13\n",
              "279  100 Auburn St\\nCamb        14\n",
              "280  51 Avon Hill St\\nCa        16\n",
              "\n",
              "[281 rows x 2 columns]"
            ]
          },
          "metadata": {
            "tags": []
          },
          "execution_count": 28
        }
      ]
    },
    {
      "cell_type": "markdown",
      "metadata": {
        "colab_type": "text",
        "id": "U_SEQo1unakM"
      },
      "source": [
        "### **Extracting string data using `split_part()`**"
      ]
    },
    {
      "cell_type": "markdown",
      "metadata": {
        "id": "Etr-f03ZGbyg",
        "colab_type": "text"
      },
      "source": [
        "The `split_part()` function parses string data based on a specified delimiter into an `ARRAY` and allows access to each array index by specifying the index value as a parameter in the function.  The query above can be rewritten using the `split_part()` function which as you'll see actually simplifies the query.\n",
        "\n",
        "<p align=\"center\">\n",
        "<img src=\"https://user-images.githubusercontent.com/48436758/83009911-c3ecf600-a017-11ea-81c6-2ae5b179fcc1.png\" alt = \"split_part graphic\" width=\"100%\">\n",
        "</p>\n",
        "<br><br>\n"
      ]
    },
    {
      "cell_type": "code",
      "metadata": {
        "colab_type": "code",
        "id": "4Y9BTRakiD00",
        "colab": {
          "base_uri": "https://localhost:8080/",
          "height": 436
        },
        "outputId": "33a449b4-7929-484b-9669-df5d05e49364"
      },
      "source": [
        "%%sql\n",
        "\n",
        "-- Use split_part() to parse the location into various address values\n",
        "select split_part(location, chr(10), 1) as street_address,\n",
        "        split_part(location, chr(10), 2) as city_state_zip,\n",
        "        split_part(location, chr(10), 3) as lat_lon\n",
        "from rentals;\n"
      ],
      "execution_count": 27,
      "outputs": [
        {
          "output_type": "stream",
          "text": [
            " * postgresql+psycopg2://@/postgres\n"
          ],
          "name": "stdout"
        },
        {
          "output_type": "execute_result",
          "data": {
            "text/html": [
              "<div>\n",
              "<style scoped>\n",
              "    .dataframe tbody tr th:only-of-type {\n",
              "        vertical-align: middle;\n",
              "    }\n",
              "\n",
              "    .dataframe tbody tr th {\n",
              "        vertical-align: top;\n",
              "    }\n",
              "\n",
              "    .dataframe thead th {\n",
              "        text-align: right;\n",
              "    }\n",
              "</style>\n",
              "<table border=\"1\" class=\"dataframe\">\n",
              "  <thead>\n",
              "    <tr style=\"text-align: right;\">\n",
              "      <th></th>\n",
              "      <th>street_address</th>\n",
              "      <th>city_state_zip</th>\n",
              "      <th>lat_lon</th>\n",
              "    </tr>\n",
              "  </thead>\n",
              "  <tbody>\n",
              "    <tr>\n",
              "      <th>0</th>\n",
              "      <td>65 Pearl St</td>\n",
              "      <td>Cambridge, MA 02139</td>\n",
              "      <td>(42.363228, -71.104202)</td>\n",
              "    </tr>\n",
              "    <tr>\n",
              "      <th>1</th>\n",
              "      <td>34 Essex St</td>\n",
              "      <td>Cambridge, MA 02139</td>\n",
              "      <td>(42.366748, -71.101654)</td>\n",
              "    </tr>\n",
              "    <tr>\n",
              "      <th>2</th>\n",
              "      <td>24 Corporal Mcternan St</td>\n",
              "      <td>Cambridge, MA 02139</td>\n",
              "      <td>(42.361299, -71.108347)</td>\n",
              "    </tr>\n",
              "    <tr>\n",
              "      <th>3</th>\n",
              "      <td>152 Berkshire St</td>\n",
              "      <td>Cambridge, MA 02141</td>\n",
              "      <td>(42.372124, -71.089837)</td>\n",
              "    </tr>\n",
              "    <tr>\n",
              "      <th>4</th>\n",
              "      <td>26 Sacramento St</td>\n",
              "      <td>Cambridge, MA 02138</td>\n",
              "      <td>(42.382554, -71.117114)</td>\n",
              "    </tr>\n",
              "    <tr>\n",
              "      <th>...</th>\n",
              "      <td>...</td>\n",
              "      <td>...</td>\n",
              "      <td>...</td>\n",
              "    </tr>\n",
              "    <tr>\n",
              "      <th>276</th>\n",
              "      <td>53 Ellery St</td>\n",
              "      <td>Cambridge, MA 02138</td>\n",
              "      <td>(42.372064, -71.110188)</td>\n",
              "    </tr>\n",
              "    <tr>\n",
              "      <th>277</th>\n",
              "      <td>42 Bowdoin St</td>\n",
              "      <td>Cambridge, MA 02138</td>\n",
              "      <td>(42.383883, -71.121647)</td>\n",
              "    </tr>\n",
              "    <tr>\n",
              "      <th>278</th>\n",
              "      <td>184 Green St</td>\n",
              "      <td>Cambridge, MA 02139</td>\n",
              "      <td>(42.363624, -71.102262)</td>\n",
              "    </tr>\n",
              "    <tr>\n",
              "      <th>279</th>\n",
              "      <td>100 Auburn St</td>\n",
              "      <td>Cambridge, MA 02139</td>\n",
              "      <td>(42.362472, -71.103169)</td>\n",
              "    </tr>\n",
              "    <tr>\n",
              "      <th>280</th>\n",
              "      <td>51 Avon Hill St</td>\n",
              "      <td>Cambridge, MA 02138</td>\n",
              "      <td>(42.384815, -71.124425)</td>\n",
              "    </tr>\n",
              "  </tbody>\n",
              "</table>\n",
              "<p>281 rows × 3 columns</p>\n",
              "</div>"
            ],
            "text/plain": [
              "              street_address       city_state_zip                  lat_lon\n",
              "0                65 Pearl St  Cambridge, MA 02139  (42.363228, -71.104202)\n",
              "1                34 Essex St  Cambridge, MA 02139  (42.366748, -71.101654)\n",
              "2    24 Corporal Mcternan St  Cambridge, MA 02139  (42.361299, -71.108347)\n",
              "3           152 Berkshire St  Cambridge, MA 02141  (42.372124, -71.089837)\n",
              "4           26 Sacramento St  Cambridge, MA 02138  (42.382554, -71.117114)\n",
              "..                       ...                  ...                      ...\n",
              "276             53 Ellery St  Cambridge, MA 02138  (42.372064, -71.110188)\n",
              "277            42 Bowdoin St  Cambridge, MA 02138  (42.383883, -71.121647)\n",
              "278             184 Green St  Cambridge, MA 02139  (42.363624, -71.102262)\n",
              "279            100 Auburn St  Cambridge, MA 02139  (42.362472, -71.103169)\n",
              "280          51 Avon Hill St  Cambridge, MA 02138  (42.384815, -71.124425)\n",
              "\n",
              "[281 rows x 3 columns]"
            ]
          },
          "metadata": {
            "tags": []
          },
          "execution_count": 27
        }
      ]
    },
    {
      "cell_type": "markdown",
      "metadata": {
        "colab_type": "text",
        "id": "bIJmQUDhhMF6"
      },
      "source": [
        "## **What Have We Learned About the Short Term Rentals Data?**\n",
        "\n",
        "So far, we have discovered:\n",
        "\n",
        "*   The rentals dataset contains data from March, 2018 through April, 2020.\n",
        "*   The short term rentals market has about 22 different services.\n",
        "*   But there are only 7 rental services with more than one locationt using them.\n",
        "\n",
        "\n",
        "\n"
      ]
    },
    {
      "cell_type": "markdown",
      "metadata": {
        "colab_type": "text",
        "id": "kdTzqzSqhMF9"
      },
      "source": [
        "## **Q&A**"
      ]
    },
    {
      "cell_type": "markdown",
      "metadata": {
        "id": "zaIJ3agAQKFW",
        "colab_type": "text"
      },
      "source": [
        "# **Techniques for query simplification and code reuse**"
      ]
    },
    {
      "cell_type": "markdown",
      "metadata": {
        "id": "A3v03h7mHz1k",
        "colab_type": "text"
      },
      "source": [
        "Sometimes when you encounter data that needs to be transformed or manipulated before being usable in queries, you may decide that creating a temporary table or user-defined function with the result of your data manipulation will simplify your data analysis queries or allow for code reuse in multiple queries. \n",
        "\n",
        "Let's explore some techniques by first looking at how to use temporary tables"
      ]
    },
    {
      "cell_type": "markdown",
      "metadata": {
        "id": "eoUdwC6JD8w5",
        "colab_type": "text"
      },
      "source": [
        "## **Creating a temporary table with our rental services data**"
      ]
    },
    {
      "cell_type": "markdown",
      "metadata": {
        "colab_type": "text",
        "id": "jA1lhhgtUOXr"
      },
      "source": [
        "A temporary table in PostgeSQL is equivalent to a permanent disk-based table created in a database but only exists during the duration of the database session. PostgreSQL will automatically drop the table at the end of the session or \n",
        "\n",
        ">```sql\n",
        "DROP TABLE IF EXISTS temp_table;\n",
        "CREATE TEMP[ORARY] TABLE temp_table(\n",
        "   ...\n",
        ");\n",
        "```"
      ]
    },
    {
      "cell_type": "code",
      "metadata": {
        "colab_type": "code",
        "id": "M3sXy94QAC3J",
        "colab": {}
      },
      "source": [
        "%%sql\n",
        "\n",
        "-- Create a temporary table called rental_services\n"
      ],
      "execution_count": 0,
      "outputs": []
    },
    {
      "cell_type": "code",
      "metadata": {
        "colab_type": "code",
        "id": "-TB7mbbFBkMk",
        "colab": {}
      },
      "source": [
        "%%sql\n",
        "\n",
        "-- Create a temporary table called address\n"
      ],
      "execution_count": 0,
      "outputs": []
    },
    {
      "cell_type": "markdown",
      "metadata": {
        "id": "z0kAStjhD2aK",
        "colab_type": "text"
      },
      "source": [
        "## **Using temporary tables to simplify complex queries**"
      ]
    },
    {
      "cell_type": "markdown",
      "metadata": {
        "id": "zWo0dHiyIY04",
        "colab_type": "text"
      },
      "source": [
        "Once the temporary tables are created, your queries become much simpler and easier to manage, and you have the ability to run multiple queries against the temporary table which streamlines reuse.\n",
        "\n",
        "We will use an `INNER JOIN` to combine the results from the newly created temporary tables `address` and `rental_services`.  As a review, an `INNER JOIN` will return rows that are in both table A and table B as highlighted in the image below. \n",
        "\n",
        "![sql joins](https://user-images.githubusercontent.com/48436758/83012005-1b409580-a01b-11ea-99b8-7bb73a822fb7.png)\n",
        "\n",
        "For example:\n",
        "\n",
        ">```sql\n",
        "SELECT table_1_alias.* , table_2_alias.*<br> \n",
        "FROM table_1 AS table_1_alias INNER JOIN table_2 AS table_2_alias \n",
        "ON table_1_alias.common_column = table_2_alias.common_column;\n",
        "```"
      ]
    },
    {
      "cell_type": "code",
      "metadata": {
        "colab_type": "code",
        "id": "NYRyIe8EDjgH",
        "colab": {}
      },
      "source": [
        "%%sql\n",
        "\n",
        "-- Select all rows from both the address and rental_services temporary tables\n",
        "\n"
      ],
      "execution_count": 0,
      "outputs": []
    },
    {
      "cell_type": "code",
      "metadata": {
        "colab_type": "code",
        "id": "TWXpN4OeEExe",
        "colab": {}
      },
      "source": [
        "%%sql\n",
        "\n",
        "-- Calculate the total rentals by service and zip code\n"
      ],
      "execution_count": 0,
      "outputs": []
    },
    {
      "cell_type": "markdown",
      "metadata": {
        "id": "ktwpAQzwENwh",
        "colab_type": "text"
      },
      "source": [
        "## **User-defined functions to create reusable code**"
      ]
    },
    {
      "cell_type": "markdown",
      "metadata": {
        "id": "vqjuJJieRoYC",
        "colab_type": "text"
      },
      "source": [
        "A user-defined function is the PostgeSQL equivalent of a stored procedure where you can bundle several SQL queries and statements together into a single package using the `CREATE FUNCTION` command. \n",
        "\n",
        ">```sql\n",
        "CREATE [OR REPLACE] FUNCTION function_name(p1 type, p2 type)\n",
        " RETURNS type AS $$\n",
        " BEGIN\n",
        " -- logic\n",
        " END;\n",
        "$$ LANGUAGE language_name;\n",
        "```\n",
        "\n"
      ]
    },
    {
      "cell_type": "code",
      "metadata": {
        "colab_type": "code",
        "id": "fwp8mi3M7K1X",
        "colab": {}
      },
      "source": [
        "%%sql\n",
        "\n",
        "-- Create a user-defined function to get zip code from the location column\n",
        "\n"
      ],
      "execution_count": 0,
      "outputs": []
    },
    {
      "cell_type": "markdown",
      "metadata": {
        "id": "W9FtJ3YREt0R",
        "colab_type": "text"
      },
      "source": [
        "# **Case study: Analyzing competitors and the best locations for short term rentals**"
      ]
    },
    {
      "cell_type": "markdown",
      "metadata": {
        "id": "iGP--CR7IrNc",
        "colab_type": "text"
      },
      "source": [
        "Let's now use our new data manipulation skills to dig deeper into the short term rentals data to determine if Cambridge, MA is a good spot to pilot our new short term rentals app.\n",
        "\n",
        "First, we'll see what the growth rate has been over the past couple of years with registrations.\n",
        "\n",
        "Next we'll see what the most popular rental services are in the town.\n",
        "\n",
        "And finally we'll take a look at which zip codes in the city have the largest number of rental units.  \n",
        "\n",
        "Let's get started."
      ]
    },
    {
      "cell_type": "code",
      "metadata": {
        "id": "F0F_l84hIrmY",
        "colab_type": "code",
        "colab": {}
      },
      "source": [
        "%%sql\n",
        "\n",
        "-- Calculate the number of rentals registered by year\n"
      ],
      "execution_count": 0,
      "outputs": []
    },
    {
      "cell_type": "code",
      "metadata": {
        "colab_type": "code",
        "id": "xEO7QSYp-P_X",
        "colab": {}
      },
      "source": [
        "%%sql\n",
        "\n",
        "-- Calculate the number of rentals by service for the top 7 rental services\n"
      ],
      "execution_count": 0,
      "outputs": []
    },
    {
      "cell_type": "code",
      "metadata": {
        "colab_type": "code",
        "id": "i8zs4-TD-217",
        "colab": {}
      },
      "source": [
        "%%sql\n",
        "\n",
        "-- Calculate the total number of rentals by zip code"
      ],
      "execution_count": 0,
      "outputs": []
    },
    {
      "cell_type": "markdown",
      "metadata": {
        "id": "ZtpLcVbfE9wv",
        "colab_type": "text"
      },
      "source": [
        "# **Q&A**"
      ]
    }
  ]
}