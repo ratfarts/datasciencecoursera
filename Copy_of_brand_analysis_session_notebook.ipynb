{
  "nbformat": 4,
  "nbformat_minor": 0,
  "metadata": {
    "colab": {
      "name": "Copy of brand_analysis_session_notebook.ipynb",
      "provenance": [],
      "collapsed_sections": [
        "fHr6jHghXVAv",
        "_asHxcge7dWa",
        "FLOBQx5jouCo",
        "bHe4l8-J5OPu"
      ],
      "include_colab_link": true
    },
    "kernelspec": {
      "name": "ir",
      "display_name": "R"
    }
  },
  "cells": [
    {
      "cell_type": "markdown",
      "metadata": {
        "id": "view-in-github",
        "colab_type": "text"
      },
      "source": [
        "<a href=\"https://colab.research.google.com/github/ratfarts/datasciencecoursera/blob/master/Copy_of_brand_analysis_session_notebook.ipynb\" target=\"_parent\"><img src=\"https://colab.research.google.com/assets/colab-badge.svg\" alt=\"Open In Colab\"/></a>"
      ]
    },
    {
      "cell_type": "markdown",
      "metadata": {
        "id": "OJYbvo8eV-Rd",
        "colab_type": "text"
      },
      "source": [
        "<p align=\"center\">\n",
        "<img src=\"https://github.com/datacamp/r-live-training-template/blob/master/assets/datacamp.svg?raw=True\" alt = \"DataCamp icon\" width=\"50%\">\n",
        "</p>\n",
        "<br><br>\n",
        "\n",
        "# **Brand Analysis Using Social Media Data in R**\n",
        "\n",
        "Welcome to this hands-on training where you will learn how to perform brand analysis from social media data using R. We will be using different R libraries to analyze twitter data and derive insights.\n",
        "\n",
        "In this session, you will learn\n",
        "\n",
        "* How to compare brand popularity by extracting and comparing follower counts\n",
        "* How to promote a brand by identifying popular tweets\n",
        "* How to evaluate brand salience and compare the same for two brands using tweet frequencies\n",
        "* Understand brand perception through text mining and by visualizing key terms\n",
        "* Perform sentiment analysis to understand customer's feelings and sentiments about a brand\n"
      ]
    },
    {
      "cell_type": "code",
      "metadata": {
        "id": "RSFZe_UEEGOo",
        "colab_type": "code",
        "colab": {}
      },
      "source": [
        ""
      ],
      "execution_count": 1,
      "outputs": []
    },
    {
      "cell_type": "markdown",
      "metadata": {
        "id": "UVBHNtjPjN_a",
        "colab_type": "text"
      },
      "source": [
        "## **The Dataset**\n",
        "\n",
        "The datasets to be used in this training session are in CSV format. These datasets comprise extracted live tweets using `rtweet` library. The datasets are:\n",
        "* **users_twts.csv**: User data of four twitter accounts pre-extracted from Twitter\n",
        "* **tesladf.csv**: Tweets searched on keyword 'tesla' pre-extracted from Twitter\n",
        "* **toyotadf.csv**: Tweets searched on keyword 'toyota' pre-extracted from Twitter\n",
        "* **tesla_small.csv**: Tweets searched on keyword 'tesla' pre-extracted from Twitter. This is a smaller dataset with fewer tweets.\n",
        "\n",
        "\n",
        "Note that we will not be extracting live tweets from Twitter during this session as it invovles a setup process. We will be using pre-extracted tweets saved in CSV format.\n",
        "\n",
        "- **users_twts.csv**: has 4 records and 90 columns of user data and associated metadata\n",
        "- **tesladf.csv**: has 17979 records (tweets) and 90 columns of tweet text and associated metadata\n",
        "- **toyotadf.csv**: has 17798 records (tweets) and 90 columns of tweet text and associated metadata\n",
        "- **tesla_small.csv**: has 500 records (tweets) and 90 columns of tweet text and associated metadata\n",
        "\n",
        "All the datasets have the same set of columns and some of the important columns that we will work with are listed below:\n",
        "\n",
        "- `created_at`: UTC time when this Tweet was created\n",
        "- `screen_name`: The screen name or twitter handle that an user identifies themselves with\n",
        "- `text`: The actual tweet text posted by an user\n",
        "- `retweet_count`: Number of times a given tweet has been retweeted.\n",
        "- `followers_count`: The number of followers a twitter account currently has."
      ]
    },
    {
      "cell_type": "markdown",
      "metadata": {
        "id": "M-GBcitS6sbD",
        "colab_type": "text"
      },
      "source": [
        "## **Getting started and installing packages**"
      ]
    },
    {
      "cell_type": "code",
      "metadata": {
        "id": "F3wcPQ35ejtl",
        "colab_type": "code",
        "colab": {
          "base_uri": "https://localhost:8080/",
          "height": 119
        },
        "outputId": "49138d4f-388e-459f-db52-da6ff67f7cc8"
      },
      "source": [
        "# Install R packages\n",
        "system('apt-get install r-cran-httpuv r-cran-rtweet r-cran-reshape r-cran-qdapregex r-cran-tm r-cran-qdap')\n",
        "install.packages('syuzhet')"
      ],
      "execution_count": 2,
      "outputs": [
        {
          "output_type": "stream",
          "text": [
            "Installing package into ‘/usr/local/lib/R/site-library’\n",
            "(as ‘lib’ is unspecified)\n",
            "\n",
            "also installing the dependencies ‘textshape’, ‘zoo’, ‘dtt’\n",
            "\n",
            "\n"
          ],
          "name": "stderr"
        }
      ]
    },
    {
      "cell_type": "markdown",
      "metadata": {
        "id": "DkyT5rzKDaXn",
        "colab_type": "text"
      },
      "source": [
        "## **1. Compare brand popularity by extracting and comparing follower counts**"
      ]
    },
    {
      "cell_type": "markdown",
      "metadata": {
        "id": "5-0s6O9NKtBQ",
        "colab_type": "text"
      },
      "source": [
        "We can compare followers count for competing products by using their screen names and follower counts.\n",
        "\n",
        "Note:\n",
        "- `screen_name`: The screen name or twitter handle that an user identifies themselves with.\n",
        "- `followers_count`: The number of followers a twitter account currently has.\n",
        "\n",
        "The followers count for a twitter account indicates the popularity of that account and is a measure of social media influence.\n",
        "\n",
        "To extract user data directly from twitter, we usually load the `rtweet` package, obtain and create Twitter API access tokens according to the instructions in this [article](https://rtweet.info/articles/auth.html) and extract user data with the `lookup_users()` function which takes screen names as input and extracts user data from twitter accounts.\n",
        "\n",
        "```R\n",
        "# Store name of users to extract data on twitter accounts of 4 auto magazines\n",
        "users <- c(\"caranddriver\", \"motortrend\", \"autoweekUSA\", \"roadandtrack\")\n",
        "\n",
        "# Extract user data for the twitter accounts stored in users\n",
        "users_twts <- lookup_users(users)\n",
        "\n",
        "# Save extracted data as a CSV file using `fwrite()` from`data.table` library\n",
        "fwrite(users_twts, file = \"users_twts.csv\")\n",
        "```\n",
        "\n",
        "To avoid setting up individual API access tokens, we will be directly using a CSV file."
      ]
    },
    {
      "cell_type": "code",
      "metadata": {
        "id": "brr08aZX9Wss",
        "colab_type": "code",
        "colab": {}
      },
      "source": [
        "# Load rtweet library\n",
        "library(rtweet)"
      ],
      "execution_count": 3,
      "outputs": []
    },
    {
      "cell_type": "markdown",
      "metadata": {
        "id": "Z-MwqUOZCLzA",
        "colab_type": "text"
      },
      "source": [
        "Import the pre-saved CSV file with extracted user data for the four twitter accounts\n",
        "\n",
        "\n",
        "---\n",
        "\n"
      ]
    },
    {
      "cell_type": "code",
      "metadata": {
        "id": "BEznwPZ1BInH",
        "colab_type": "code",
        "colab": {}
      },
      "source": [
        "# Import extracted user data from the csv file into a dataframe\n",
        "users_twts = read.csv(\"https://github.com/datacamp/Brand-Analysis-using-Social-Media-Data-in-R-Live-Training/blob/master/data/users_twts.csv?raw=true\")"
      ],
      "execution_count": 4,
      "outputs": []
    },
    {
      "cell_type": "code",
      "metadata": {
        "id": "GFUqLkeCFlbo",
        "colab_type": "code",
        "colab": {
          "base_uri": "https://localhost:8080/",
          "height": 539
        },
        "outputId": "801febd8-a3b9-4dde-ef49-ae4c54e037cb"
      },
      "source": [
        "# View dimensions of the dataframe\n",
        "dim(users_twts)\n",
        "\n",
        "# View few rows of the dataframe\n",
        "head(users_twts)"
      ],
      "execution_count": 5,
      "outputs": [
        {
          "output_type": "display_data",
          "data": {
            "text/plain": [
              "[1]  4 90"
            ],
            "text/latex": "\\begin{enumerate*}\n\\item 4\n\\item 90\n\\end{enumerate*}\n",
            "text/markdown": "1. 4\n2. 90\n\n\n",
            "text/html": [
              "<style>\n",
              ".list-inline {list-style: none; margin:0; padding: 0}\n",
              ".list-inline>li {display: inline-block}\n",
              ".list-inline>li:not(:last-child)::after {content: \"\\00b7\"; padding: 0 .5ex}\n",
              "</style>\n",
              "<ol class=list-inline><li>4</li><li>90</li></ol>\n"
            ]
          },
          "metadata": {
            "tags": []
          }
        },
        {
          "output_type": "display_data",
          "data": {
            "text/plain": [
              "  user_id  status_id    created_at           screen_name \n",
              "1 14342661 1.272359e+18 2020-06-15T02:45:02Z CARandDRIVER\n",
              "2 25383000 1.271872e+18 2020-06-13T18:27:21Z MotorTrend  \n",
              "3 72861485 1.272401e+18 2020-06-15T05:32:05Z AutoweekUSA \n",
              "4 21200953 1.272220e+18 2020-06-14T17:31:06Z RoadandTrack\n",
              "  text                                                                                                                                        \n",
              "1 1000-hp Hellephant-powered @Dodge Demon rolls onto dyno in video: https://t.co/fj18FvEVBl https://t.co/XyIngamybg                           \n",
              "2 Today is the day! Lights are green for the @24hoursoflemans Virtual! 🏁 🏎 Get all the LIVE coverage right here! https://t.co/GE6bAEbN3R      \n",
              "3 Ford switched from Tremec to Getrag for its Mustang manual transmissions back in 2011; a new class action lawsuit c… https://t.co/8U1LTxJA8X\n",
              "4 Watch a bunch of Safari 911s frolic through the snow on a frozen lake. https://t.co/6WacyUrnzW https://t.co/tfUAvfe0J7                      \n",
              "  source             display_text_width reply_to_status_id reply_to_user_id\n",
              "1 SocialFlow         NA                 NA                 NA              \n",
              "2 Twitter for iPhone NA                 NA                 NA              \n",
              "3 SocialFlow         NA                 NA                 NA              \n",
              "4 SocialFlow         NA                 NA                 NA              \n",
              "  reply_to_screen_name ⋯ statuses_count favourites_count account_created_at  \n",
              "1 NA                   ⋯ 33485          3666             2008-04-09T15:39:55Z\n",
              "2 NA                   ⋯ 41567          2914             2009-03-19T20:53:09Z\n",
              "3 NA                   ⋯ 42962           907             2009-09-09T14:14:49Z\n",
              "4 NA                   ⋯ 45268           468             2009-02-18T14:38:00Z\n",
              "  verified profile_url             profile_expanded_url        account_lang\n",
              "1 TRUE     http://t.co/uMTUR3UJQh  http://www.caranddriver.com NA          \n",
              "2 TRUE                                                         NA          \n",
              "3 TRUE     https://t.co/vmRBIAd2qP http://www.autoweek.com     NA          \n",
              "4 TRUE     http://t.co/MOF3c631Tk  http://www.roadandtrack.com NA          \n",
              "  profile_banner_url                                       \n",
              "1 https://pbs.twimg.com/profile_banners/14342661/1589386475\n",
              "2 https://pbs.twimg.com/profile_banners/25383000/1591290185\n",
              "3 https://pbs.twimg.com/profile_banners/72861485/1576699667\n",
              "4 https://pbs.twimg.com/profile_banners/21200953/1544480352\n",
              "  profile_background_url                           \n",
              "1 http://abs.twimg.com/images/themes/theme1/bg.png \n",
              "2 http://abs.twimg.com/images/themes/theme1/bg.png \n",
              "3 http://abs.twimg.com/images/themes/theme14/bg.gif\n",
              "4 http://abs.twimg.com/images/themes/theme14/bg.gif\n",
              "  profile_image_url                                                          \n",
              "1 http://pbs.twimg.com/profile_images/905461745178816514/goEtq5xZ_normal.jpg \n",
              "2 http://pbs.twimg.com/profile_images/1268290610642841606/tmgqtz8r_normal.jpg\n",
              "3 http://pbs.twimg.com/profile_images/1207392025269719041/hLqoPr0A_normal.jpg\n",
              "4 http://pbs.twimg.com/profile_images/845016711292071936/ZqE0j-8u_normal.jpg "
            ],
            "text/latex": "A data.frame: 4 × 90\n\\begin{tabular}{r|lllllllllllllllllllll}\n  & user\\_id & status\\_id & created\\_at & screen\\_name & text & source & display\\_text\\_width & reply\\_to\\_status\\_id & reply\\_to\\_user\\_id & reply\\_to\\_screen\\_name & ⋯ & statuses\\_count & favourites\\_count & account\\_created\\_at & verified & profile\\_url & profile\\_expanded\\_url & account\\_lang & profile\\_banner\\_url & profile\\_background\\_url & profile\\_image\\_url\\\\\n  & <int> & <dbl> & <fct> & <fct> & <fct> & <fct> & <lgl> & <lgl> & <lgl> & <lgl> & ⋯ & <int> & <int> & <fct> & <lgl> & <fct> & <fct> & <lgl> & <fct> & <fct> & <fct>\\\\\n\\hline\n\t1 & 14342661 & 1.272359e+18 & 2020-06-15T02:45:02Z & CARandDRIVER & 1000-hp Hellephant-powered @Dodge Demon rolls onto dyno in video: https://t.co/fj18FvEVBl https://t.co/XyIngamybg                            & SocialFlow         & NA & NA & NA & NA & ⋯ & 33485 & 3666 & 2008-04-09T15:39:55Z & TRUE & http://t.co/uMTUR3UJQh  & http://www.caranddriver.com & NA & https://pbs.twimg.com/profile\\_banners/14342661/1589386475 & http://abs.twimg.com/images/themes/theme1/bg.png  & http://pbs.twimg.com/profile\\_images/905461745178816514/goEtq5xZ\\_normal.jpg \\\\\n\t2 & 25383000 & 1.271872e+18 & 2020-06-13T18:27:21Z & MotorTrend   & Today is the day! Lights are green for the @24hoursoflemans Virtual! 🏁 🏎 Get all the LIVE coverage right here! https://t.co/GE6bAEbN3R       & Twitter for iPhone & NA & NA & NA & NA & ⋯ & 41567 & 2914 & 2009-03-19T20:53:09Z & TRUE &                         &                             & NA & https://pbs.twimg.com/profile\\_banners/25383000/1591290185 & http://abs.twimg.com/images/themes/theme1/bg.png  & http://pbs.twimg.com/profile\\_images/1268290610642841606/tmgqtz8r\\_normal.jpg\\\\\n\t3 & 72861485 & 1.272401e+18 & 2020-06-15T05:32:05Z & AutoweekUSA  & Ford switched from Tremec to Getrag for its Mustang manual transmissions back in 2011; a new class action lawsuit c… https://t.co/8U1LTxJA8X & SocialFlow         & NA & NA & NA & NA & ⋯ & 42962 &  907 & 2009-09-09T14:14:49Z & TRUE & https://t.co/vmRBIAd2qP & http://www.autoweek.com     & NA & https://pbs.twimg.com/profile\\_banners/72861485/1576699667 & http://abs.twimg.com/images/themes/theme14/bg.gif & http://pbs.twimg.com/profile\\_images/1207392025269719041/hLqoPr0A\\_normal.jpg\\\\\n\t4 & 21200953 & 1.272220e+18 & 2020-06-14T17:31:06Z & RoadandTrack & Watch a bunch of Safari 911s frolic through the snow on a frozen lake. https://t.co/6WacyUrnzW https://t.co/tfUAvfe0J7                       & SocialFlow         & NA & NA & NA & NA & ⋯ & 45268 &  468 & 2009-02-18T14:38:00Z & TRUE & http://t.co/MOF3c631Tk  & http://www.roadandtrack.com & NA & https://pbs.twimg.com/profile\\_banners/21200953/1544480352 & http://abs.twimg.com/images/themes/theme14/bg.gif & http://pbs.twimg.com/profile\\_images/845016711292071936/ZqE0j-8u\\_normal.jpg \\\\\n\\end{tabular}\n",
            "text/markdown": "\nA data.frame: 4 × 90\n\n| <!--/--> | user_id &lt;int&gt; | status_id &lt;dbl&gt; | created_at &lt;fct&gt; | screen_name &lt;fct&gt; | text &lt;fct&gt; | source &lt;fct&gt; | display_text_width &lt;lgl&gt; | reply_to_status_id &lt;lgl&gt; | reply_to_user_id &lt;lgl&gt; | reply_to_screen_name &lt;lgl&gt; | ⋯ ⋯ | statuses_count &lt;int&gt; | favourites_count &lt;int&gt; | account_created_at &lt;fct&gt; | verified &lt;lgl&gt; | profile_url &lt;fct&gt; | profile_expanded_url &lt;fct&gt; | account_lang &lt;lgl&gt; | profile_banner_url &lt;fct&gt; | profile_background_url &lt;fct&gt; | profile_image_url &lt;fct&gt; |\n|---|---|---|---|---|---|---|---|---|---|---|---|---|---|---|---|---|---|---|---|---|---|\n| 1 | 14342661 | 1.272359e+18 | 2020-06-15T02:45:02Z | CARandDRIVER | 1000-hp Hellephant-powered @Dodge Demon rolls onto dyno in video: https://t.co/fj18FvEVBl https://t.co/XyIngamybg                            | SocialFlow         | NA | NA | NA | NA | ⋯ | 33485 | 3666 | 2008-04-09T15:39:55Z | TRUE | http://t.co/uMTUR3UJQh  | http://www.caranddriver.com | NA | https://pbs.twimg.com/profile_banners/14342661/1589386475 | http://abs.twimg.com/images/themes/theme1/bg.png  | http://pbs.twimg.com/profile_images/905461745178816514/goEtq5xZ_normal.jpg  |\n| 2 | 25383000 | 1.271872e+18 | 2020-06-13T18:27:21Z | MotorTrend   | Today is the day! Lights are green for the @24hoursoflemans Virtual! 🏁 🏎 Get all the LIVE coverage right here! https://t.co/GE6bAEbN3R       | Twitter for iPhone | NA | NA | NA | NA | ⋯ | 41567 | 2914 | 2009-03-19T20:53:09Z | TRUE | <!----> | <!----> | NA | https://pbs.twimg.com/profile_banners/25383000/1591290185 | http://abs.twimg.com/images/themes/theme1/bg.png  | http://pbs.twimg.com/profile_images/1268290610642841606/tmgqtz8r_normal.jpg |\n| 3 | 72861485 | 1.272401e+18 | 2020-06-15T05:32:05Z | AutoweekUSA  | Ford switched from Tremec to Getrag for its Mustang manual transmissions back in 2011; a new class action lawsuit c… https://t.co/8U1LTxJA8X | SocialFlow         | NA | NA | NA | NA | ⋯ | 42962 |  907 | 2009-09-09T14:14:49Z | TRUE | https://t.co/vmRBIAd2qP | http://www.autoweek.com     | NA | https://pbs.twimg.com/profile_banners/72861485/1576699667 | http://abs.twimg.com/images/themes/theme14/bg.gif | http://pbs.twimg.com/profile_images/1207392025269719041/hLqoPr0A_normal.jpg |\n| 4 | 21200953 | 1.272220e+18 | 2020-06-14T17:31:06Z | RoadandTrack | Watch a bunch of Safari 911s frolic through the snow on a frozen lake. https://t.co/6WacyUrnzW https://t.co/tfUAvfe0J7                       | SocialFlow         | NA | NA | NA | NA | ⋯ | 45268 |  468 | 2009-02-18T14:38:00Z | TRUE | http://t.co/MOF3c631Tk  | http://www.roadandtrack.com | NA | https://pbs.twimg.com/profile_banners/21200953/1544480352 | http://abs.twimg.com/images/themes/theme14/bg.gif | http://pbs.twimg.com/profile_images/845016711292071936/ZqE0j-8u_normal.jpg  |\n\n",
            "text/html": [
              "<table>\n",
              "<caption>A data.frame: 4 × 90</caption>\n",
              "<thead>\n",
              "\t<tr><th></th><th scope=col>user_id</th><th scope=col>status_id</th><th scope=col>created_at</th><th scope=col>screen_name</th><th scope=col>text</th><th scope=col>source</th><th scope=col>display_text_width</th><th scope=col>reply_to_status_id</th><th scope=col>reply_to_user_id</th><th scope=col>reply_to_screen_name</th><th scope=col>⋯</th><th scope=col>statuses_count</th><th scope=col>favourites_count</th><th scope=col>account_created_at</th><th scope=col>verified</th><th scope=col>profile_url</th><th scope=col>profile_expanded_url</th><th scope=col>account_lang</th><th scope=col>profile_banner_url</th><th scope=col>profile_background_url</th><th scope=col>profile_image_url</th></tr>\n",
              "\t<tr><th></th><th scope=col>&lt;int&gt;</th><th scope=col>&lt;dbl&gt;</th><th scope=col>&lt;fct&gt;</th><th scope=col>&lt;fct&gt;</th><th scope=col>&lt;fct&gt;</th><th scope=col>&lt;fct&gt;</th><th scope=col>&lt;lgl&gt;</th><th scope=col>&lt;lgl&gt;</th><th scope=col>&lt;lgl&gt;</th><th scope=col>&lt;lgl&gt;</th><th scope=col>⋯</th><th scope=col>&lt;int&gt;</th><th scope=col>&lt;int&gt;</th><th scope=col>&lt;fct&gt;</th><th scope=col>&lt;lgl&gt;</th><th scope=col>&lt;fct&gt;</th><th scope=col>&lt;fct&gt;</th><th scope=col>&lt;lgl&gt;</th><th scope=col>&lt;fct&gt;</th><th scope=col>&lt;fct&gt;</th><th scope=col>&lt;fct&gt;</th></tr>\n",
              "</thead>\n",
              "<tbody>\n",
              "\t<tr><th scope=row>1</th><td>14342661</td><td>1.272359e+18</td><td>2020-06-15T02:45:02Z</td><td>CARandDRIVER</td><td>1000-hp Hellephant-powered @Dodge Demon rolls onto dyno in video: https://t.co/fj18FvEVBl https://t.co/XyIngamybg                           </td><td>SocialFlow        </td><td>NA</td><td>NA</td><td>NA</td><td>NA</td><td>⋯</td><td>33485</td><td>3666</td><td>2008-04-09T15:39:55Z</td><td>TRUE</td><td>http://t.co/uMTUR3UJQh </td><td>http://www.caranddriver.com</td><td>NA</td><td>https://pbs.twimg.com/profile_banners/14342661/1589386475</td><td>http://abs.twimg.com/images/themes/theme1/bg.png </td><td>http://pbs.twimg.com/profile_images/905461745178816514/goEtq5xZ_normal.jpg </td></tr>\n",
              "\t<tr><th scope=row>2</th><td>25383000</td><td>1.271872e+18</td><td>2020-06-13T18:27:21Z</td><td>MotorTrend  </td><td>Today is the day! Lights are green for the @24hoursoflemans Virtual! 🏁 🏎 Get all the LIVE coverage right here! https://t.co/GE6bAEbN3R      </td><td>Twitter for iPhone</td><td>NA</td><td>NA</td><td>NA</td><td>NA</td><td>⋯</td><td>41567</td><td>2914</td><td>2009-03-19T20:53:09Z</td><td>TRUE</td><td>                       </td><td>                           </td><td>NA</td><td>https://pbs.twimg.com/profile_banners/25383000/1591290185</td><td>http://abs.twimg.com/images/themes/theme1/bg.png </td><td>http://pbs.twimg.com/profile_images/1268290610642841606/tmgqtz8r_normal.jpg</td></tr>\n",
              "\t<tr><th scope=row>3</th><td>72861485</td><td>1.272401e+18</td><td>2020-06-15T05:32:05Z</td><td>AutoweekUSA </td><td>Ford switched from Tremec to Getrag for its Mustang manual transmissions back in 2011; a new class action lawsuit c… https://t.co/8U1LTxJA8X</td><td>SocialFlow        </td><td>NA</td><td>NA</td><td>NA</td><td>NA</td><td>⋯</td><td>42962</td><td> 907</td><td>2009-09-09T14:14:49Z</td><td>TRUE</td><td>https://t.co/vmRBIAd2qP</td><td>http://www.autoweek.com    </td><td>NA</td><td>https://pbs.twimg.com/profile_banners/72861485/1576699667</td><td>http://abs.twimg.com/images/themes/theme14/bg.gif</td><td>http://pbs.twimg.com/profile_images/1207392025269719041/hLqoPr0A_normal.jpg</td></tr>\n",
              "\t<tr><th scope=row>4</th><td>21200953</td><td>1.272220e+18</td><td>2020-06-14T17:31:06Z</td><td>RoadandTrack</td><td>Watch a bunch of Safari 911s frolic through the snow on a frozen lake. https://t.co/6WacyUrnzW https://t.co/tfUAvfe0J7                      </td><td>SocialFlow        </td><td>NA</td><td>NA</td><td>NA</td><td>NA</td><td>⋯</td><td>45268</td><td> 468</td><td>2009-02-18T14:38:00Z</td><td>TRUE</td><td>http://t.co/MOF3c631Tk </td><td>http://www.roadandtrack.com</td><td>NA</td><td>https://pbs.twimg.com/profile_banners/21200953/1544480352</td><td>http://abs.twimg.com/images/themes/theme14/bg.gif</td><td>http://pbs.twimg.com/profile_images/845016711292071936/ZqE0j-8u_normal.jpg </td></tr>\n",
              "</tbody>\n",
              "</table>\n"
            ]
          },
          "metadata": {
            "tags": []
          }
        }
      ]
    },
    {
      "cell_type": "markdown",
      "metadata": {
        "id": "ecGJIovyCmBJ",
        "colab_type": "text"
      },
      "source": [
        "From the user data, extract details of screen names and follower counts for the 4 twitter accounts into a dataframe."
      ]
    },
    {
      "cell_type": "code",
      "metadata": {
        "id": "e4F8sho_TvSe",
        "colab_type": "code",
        "colab": {}
      },
      "source": [
        "# Create a data frame of screen names and followers counth\n",
        "users_df <- users_twts[, c(\"screen_name\", \"followers_count\")]"
      ],
      "execution_count": 6,
      "outputs": []
    },
    {
      "cell_type": "code",
      "metadata": {
        "id": "xJ2RRpRMT1Av",
        "colab_type": "code",
        "colab": {
          "base_uri": "https://localhost:8080/",
          "height": 162
        },
        "outputId": "30ce5ad7-12f7-4b5b-c5fa-91ce223b5bd5"
      },
      "source": [
        "# Display and compare the follower counts for the 4 twitter accounts\n",
        "users_df"
      ],
      "execution_count": 7,
      "outputs": [
        {
          "output_type": "display_data",
          "data": {
            "text/plain": [
              "  screen_name  followers_count\n",
              "1 CARandDRIVER 1089921        \n",
              "2 MotorTrend    739800        \n",
              "3 AutoweekUSA   164567        \n",
              "4 RoadandTrack  659062        "
            ],
            "text/latex": "A data.frame: 4 × 2\n\\begin{tabular}{ll}\n screen\\_name & followers\\_count\\\\\n <fct> & <int>\\\\\n\\hline\n\t CARandDRIVER & 1089921\\\\\n\t MotorTrend   &  739800\\\\\n\t AutoweekUSA  &  164567\\\\\n\t RoadandTrack &  659062\\\\\n\\end{tabular}\n",
            "text/markdown": "\nA data.frame: 4 × 2\n\n| screen_name &lt;fct&gt; | followers_count &lt;int&gt; |\n|---|---|\n| CARandDRIVER | 1089921 |\n| MotorTrend   |  739800 |\n| AutoweekUSA  |  164567 |\n| RoadandTrack |  659062 |\n\n",
            "text/html": [
              "<table>\n",
              "<caption>A data.frame: 4 × 2</caption>\n",
              "<thead>\n",
              "\t<tr><th scope=col>screen_name</th><th scope=col>followers_count</th></tr>\n",
              "\t<tr><th scope=col>&lt;fct&gt;</th><th scope=col>&lt;int&gt;</th></tr>\n",
              "</thead>\n",
              "<tbody>\n",
              "\t<tr><td>CARandDRIVER</td><td>1089921</td></tr>\n",
              "\t<tr><td>MotorTrend  </td><td> 739800</td></tr>\n",
              "\t<tr><td>AutoweekUSA </td><td> 164567</td></tr>\n",
              "\t<tr><td>RoadandTrack</td><td> 659062</td></tr>\n",
              "</tbody>\n",
              "</table>\n"
            ]
          },
          "metadata": {
            "tags": []
          }
        }
      ]
    },
    {
      "cell_type": "markdown",
      "metadata": {
        "id": "_CGJYoNDT7NR",
        "colab_type": "text"
      },
      "source": [
        "#### We can see that \"Car and Driver\" is the most popular automobile magazine with number of followers exceeding a million and it is followed by \"Motor Trends\" with 739,800 followers. \n",
        "\n",
        "#### An automobile brand advertising for a new model can place its adverts on the homepage of these twitter acocunts or tag these twitter accounts while promoting its brand. \n",
        "\n",
        "#### Thus, Digital marketers can position ads on popular twitter accounts for increased visibility."
      ]
    },
    {
      "cell_type": "markdown",
      "metadata": {
        "id": "Hz0eV9187MkC",
        "colab_type": "text"
      },
      "source": [
        "---\n",
        "<center><h1> Q&A 1</h1> </center>\n",
        "\n",
        "---\n"
      ]
    },
    {
      "cell_type": "markdown",
      "metadata": {
        "id": "G55f-24dT-a3",
        "colab_type": "text"
      },
      "source": [
        "## **2. Promote a brand by identifying popular tweets using retweet counts**"
      ]
    },
    {
      "cell_type": "markdown",
      "metadata": {
        "id": "pH1WRvjodk9Y",
        "colab_type": "text"
      },
      "source": [
        "To extract tweet data for a particular term, we can use the `search_tweets()` function from `rtweet` library which has the following arguments:\n",
        "\n",
        "*\t`q`: The query being used, for example `\"tesla\"`\n",
        "\n",
        "*\t`n`: The number of tweets\n",
        "\n",
        "*\t`lang`: The language of the tweet - here set to `\"en\"`\n",
        "\n",
        "*\t`include_rts`: A boolean value that either accepts the inclusion of retweets or not on resulting data\n",
        "\n",
        "In this notebook, we will be using a CSV file to import the tweets but using `search_tweets()` to extract tweets on `\"tesla\"` can be done as such.\n",
        "\n",
        "```R\n",
        "# Extract 18000 tweets on Tesla\n",
        "tweets_tesla = search_tweets(\"tesla\", n = 18000, lang = \"en\", include_rts = FALSE)\n",
        "\n",
        "fwrite(tweets_tesla, \"tesladf.csv\")\n",
        "```\n"
      ]
    },
    {
      "cell_type": "code",
      "metadata": {
        "id": "9oP813w3UpF6",
        "colab_type": "code",
        "colab": {}
      },
      "source": [
        "# Import extracted tweets on \"tesla\" in CSV format into a dataframe\n",
        "tesladf = read.csv(\"https://github.com/datacamp/Brand-Analysis-using-Social-Media-Data-in-R-Live-Training/blob/master/data/tesladf.csv?raw=true\")"
      ],
      "execution_count": 8,
      "outputs": []
    },
    {
      "cell_type": "code",
      "metadata": {
        "id": "Wuj2pHU1UyWY",
        "colab_type": "code",
        "colab": {
          "base_uri": "https://localhost:8080/",
          "height": 1000
        },
        "outputId": "f25ae1c0-1920-489b-d609-19281dc90482"
      },
      "source": [
        "# Explore the tweet dataframe\n",
        "dim(tesladf)\n",
        "head(tesladf)"
      ],
      "execution_count": 10,
      "outputs": [
        {
          "output_type": "display_data",
          "data": {
            "text/plain": [
              "[1] 17979    90"
            ],
            "text/latex": "\\begin{enumerate*}\n\\item 17979\n\\item 90\n\\end{enumerate*}\n",
            "text/markdown": "1. 17979\n2. 90\n\n\n",
            "text/html": [
              "<style>\n",
              ".list-inline {list-style: none; margin:0; padding: 0}\n",
              ".list-inline>li {display: inline-block}\n",
              ".list-inline>li:not(:last-child)::after {content: \"\\00b7\"; padding: 0 .5ex}\n",
              "</style>\n",
              "<ol class=list-inline><li>17979</li><li>90</li></ol>\n"
            ]
          },
          "metadata": {
            "tags": []
          }
        },
        {
          "output_type": "display_data",
          "data": {
            "text/plain": [
              "  user_id      status_id    created_at           screen_name\n",
              "1 1.016807e+18 1.262241e+18 2020-05-18T04:36:31Z 1LoafOfMeat\n",
              "2 1.198000e+18 1.262241e+18 2020-05-18T04:36:17Z 2beaux     \n",
              "3 1.198000e+18 1.262240e+18 2020-05-18T04:32:08Z 2beaux     \n",
              "4 1.198000e+18 1.262218e+18 2020-05-18T03:04:49Z 2beaux     \n",
              "5 1.198000e+18 1.262163e+18 2020-05-17T23:28:26Z 2beaux     \n",
              "6 1.198000e+18 1.262198e+18 2020-05-18T01:47:00Z 2beaux     \n",
              "  text                                                                                                                                                                                                                                                                                                                    \n",
              "1 @BLKMDL3 @elonmusk @Tesla Oh sure ya showoff. Had to get the brand name fancy stuff. Mine is $1.99.                                                                                                                                                                                                                     \n",
              "2 @TrevSully @ThomboyD @elonmusk BTW, Musk bought into Tesla when it was one-year old.  He not only was an investor, he built the company.\\n\\nBTW, do you even know what “B shares” are?                                                                                                                                  \n",
              "3 @TrevSully @ThomboyD @elonmusk He bought Tesla and built a handful of other companies.\\n\\nMusk is famously known to be an obsessed workaholic.  *That* has more to do with his success than anything else.\\n\\nYou sound petty, jealous and small.  When you accomplish what he accomplished, then you can bitch an moan.\n",
              "4 @Miss_Violet2014 @jamison_casper @ThomboyD @elonmusk Tesla won’t move.\\n\\nBut if they do it will be because Musk thought it would be a positive.  Further, the new location will employ lots of new people.\\n\\nAlameda county isn’t the only place in the U.S. that needs jobs.                                         \n",
              "5 @jamison_casper @Miss_Violet2014 @ThomboyD @elonmusk I believe the county approved Tesla’s COVID-19 Prevention plan (subject to some additional requirements) and will, with the police, enforce safe distancing.\\n\\nDoesn’t seem to be an issue.                                                                       \n",
              "6 @jamison_casper @Miss_Violet2014 @ThomboyD @elonmusk What about other areas of the country where people are struggling and unemployment is going through the roof?  Are Alameda people more important than people elsewhere?\\n\\nTesla could help those people.                                                          \n",
              "  source              display_text_width reply_to_status_id reply_to_user_id\n",
              "1 Twitter for Android  73                1.262107e+18       9.889751e+17    \n",
              "2 Twitter for iPad    149                1.262232e+18       7.153370e+17    \n",
              "3 Twitter for iPad    277                1.262232e+18       7.153370e+17    \n",
              "4 Twitter for iPad    214                1.262217e+18       2.323148e+09    \n",
              "5 Twitter for iPad    186                1.262131e+18       1.169874e+18    \n",
              "6 Twitter for iPad    199                1.262198e+18       1.169874e+18    \n",
              "  reply_to_screen_name ⋯ statuses_count favourites_count account_created_at  \n",
              "1 BLKMDL3              ⋯ 433            8164             2018-07-10T22:10:02Z\n",
              "2 TrevSully            ⋯ 583             362             2019-11-22T22:08:28Z\n",
              "3 TrevSully            ⋯ 583             362             2019-11-22T22:08:28Z\n",
              "4 Miss_Violet2014      ⋯ 583             362             2019-11-22T22:08:28Z\n",
              "5 jamison_casper       ⋯ 583             362             2019-11-22T22:08:28Z\n",
              "6 jamison_casper       ⋯ 583             362             2019-11-22T22:08:28Z\n",
              "  verified profile_url profile_expanded_url account_lang\n",
              "1 FALSE                                     NA          \n",
              "2 FALSE                                     NA          \n",
              "3 FALSE                                     NA          \n",
              "4 FALSE                                     NA          \n",
              "5 FALSE                                     NA          \n",
              "6 FALSE                                     NA          \n",
              "  profile_banner_url                                                  \n",
              "1                                                                     \n",
              "2 https://pbs.twimg.com/profile_banners/1198000188125827072/1580443845\n",
              "3 https://pbs.twimg.com/profile_banners/1198000188125827072/1580443845\n",
              "4 https://pbs.twimg.com/profile_banners/1198000188125827072/1580443845\n",
              "5 https://pbs.twimg.com/profile_banners/1198000188125827072/1580443845\n",
              "6 https://pbs.twimg.com/profile_banners/1198000188125827072/1580443845\n",
              "  profile_background_url\n",
              "1                       \n",
              "2                       \n",
              "3                       \n",
              "4                       \n",
              "5                       \n",
              "6                       \n",
              "  profile_image_url                                                          \n",
              "1 http://pbs.twimg.com/profile_images/1104867316322521091/2n_rsTF1_normal.jpg\n",
              "2 http://pbs.twimg.com/profile_images/1211049247426134018/ID1dUN5X_normal.jpg\n",
              "3 http://pbs.twimg.com/profile_images/1211049247426134018/ID1dUN5X_normal.jpg\n",
              "4 http://pbs.twimg.com/profile_images/1211049247426134018/ID1dUN5X_normal.jpg\n",
              "5 http://pbs.twimg.com/profile_images/1211049247426134018/ID1dUN5X_normal.jpg\n",
              "6 http://pbs.twimg.com/profile_images/1211049247426134018/ID1dUN5X_normal.jpg"
            ],
            "text/latex": "A data.frame: 6 × 90\n\\begin{tabular}{r|lllllllllllllllllllll}\n  & user\\_id & status\\_id & created\\_at & screen\\_name & text & source & display\\_text\\_width & reply\\_to\\_status\\_id & reply\\_to\\_user\\_id & reply\\_to\\_screen\\_name & ⋯ & statuses\\_count & favourites\\_count & account\\_created\\_at & verified & profile\\_url & profile\\_expanded\\_url & account\\_lang & profile\\_banner\\_url & profile\\_background\\_url & profile\\_image\\_url\\\\\n  & <dbl> & <dbl> & <fct> & <fct> & <fct> & <fct> & <int> & <dbl> & <dbl> & <fct> & ⋯ & <int> & <int> & <fct> & <lgl> & <fct> & <fct> & <lgl> & <fct> & <fct> & <fct>\\\\\n\\hline\n\t1 & 1.016807e+18 & 1.262241e+18 & 2020-05-18T04:36:31Z & 1LoafOfMeat & @BLKMDL3 @elonmusk @Tesla Oh sure ya showoff. Had to get the brand name fancy stuff. Mine is \\$1.99.                                                                                                                                                                                                                      & Twitter for Android &  73 & 1.262107e+18 & 9.889751e+17 & BLKMDL3         & ⋯ & 433 & 8164 & 2018-07-10T22:10:02Z & FALSE &  &  & NA &                                                                      &  & http://pbs.twimg.com/profile\\_images/1104867316322521091/2n\\_rsTF1\\_normal.jpg\\\\\n\t2 & 1.198000e+18 & 1.262241e+18 & 2020-05-18T04:36:17Z & 2beaux      & @TrevSully @ThomboyD @elonmusk BTW, Musk bought into Tesla when it was one-year old.  He not only was an investor, he built the company.\n\nBTW, do you even know what “B shares” are?                                                                                                                                   & Twitter for iPad    & 149 & 1.262232e+18 & 7.153370e+17 & TrevSully       & ⋯ & 583 &  362 & 2019-11-22T22:08:28Z & FALSE &  &  & NA & https://pbs.twimg.com/profile\\_banners/1198000188125827072/1580443845 &  & http://pbs.twimg.com/profile\\_images/1211049247426134018/ID1dUN5X\\_normal.jpg\\\\\n\t3 & 1.198000e+18 & 1.262240e+18 & 2020-05-18T04:32:08Z & 2beaux      & @TrevSully @ThomboyD @elonmusk He bought Tesla and built a handful of other companies.\n\nMusk is famously known to be an obsessed workaholic.  *That* has more to do with his success than anything else.\n\nYou sound petty, jealous and small.  When you accomplish what he accomplished, then you can bitch an moan. & Twitter for iPad    & 277 & 1.262232e+18 & 7.153370e+17 & TrevSully       & ⋯ & 583 &  362 & 2019-11-22T22:08:28Z & FALSE &  &  & NA & https://pbs.twimg.com/profile\\_banners/1198000188125827072/1580443845 &  & http://pbs.twimg.com/profile\\_images/1211049247426134018/ID1dUN5X\\_normal.jpg\\\\\n\t4 & 1.198000e+18 & 1.262218e+18 & 2020-05-18T03:04:49Z & 2beaux      & @Miss\\_Violet2014 @jamison\\_casper @ThomboyD @elonmusk Tesla won’t move.\n\nBut if they do it will be because Musk thought it would be a positive.  Further, the new location will employ lots of new people.\n\nAlameda county isn’t the only place in the U.S. that needs jobs.                                          & Twitter for iPad    & 214 & 1.262217e+18 & 2.323148e+09 & Miss\\_Violet2014 & ⋯ & 583 &  362 & 2019-11-22T22:08:28Z & FALSE &  &  & NA & https://pbs.twimg.com/profile\\_banners/1198000188125827072/1580443845 &  & http://pbs.twimg.com/profile\\_images/1211049247426134018/ID1dUN5X\\_normal.jpg\\\\\n\t5 & 1.198000e+18 & 1.262163e+18 & 2020-05-17T23:28:26Z & 2beaux      & @jamison\\_casper @Miss\\_Violet2014 @ThomboyD @elonmusk I believe the county approved Tesla’s COVID-19 Prevention plan (subject to some additional requirements) and will, with the police, enforce safe distancing.\n\nDoesn’t seem to be an issue.                                                                        & Twitter for iPad    & 186 & 1.262131e+18 & 1.169874e+18 & jamison\\_casper  & ⋯ & 583 &  362 & 2019-11-22T22:08:28Z & FALSE &  &  & NA & https://pbs.twimg.com/profile\\_banners/1198000188125827072/1580443845 &  & http://pbs.twimg.com/profile\\_images/1211049247426134018/ID1dUN5X\\_normal.jpg\\\\\n\t6 & 1.198000e+18 & 1.262198e+18 & 2020-05-18T01:47:00Z & 2beaux      & @jamison\\_casper @Miss\\_Violet2014 @ThomboyD @elonmusk What about other areas of the country where people are struggling and unemployment is going through the roof?  Are Alameda people more important than people elsewhere?\n\nTesla could help those people.                                                           & Twitter for iPad    & 199 & 1.262198e+18 & 1.169874e+18 & jamison\\_casper  & ⋯ & 583 &  362 & 2019-11-22T22:08:28Z & FALSE &  &  & NA & https://pbs.twimg.com/profile\\_banners/1198000188125827072/1580443845 &  & http://pbs.twimg.com/profile\\_images/1211049247426134018/ID1dUN5X\\_normal.jpg\\\\\n\\end{tabular}\n",
            "text/markdown": "\nA data.frame: 6 × 90\n\n| <!--/--> | user_id &lt;dbl&gt; | status_id &lt;dbl&gt; | created_at &lt;fct&gt; | screen_name &lt;fct&gt; | text &lt;fct&gt; | source &lt;fct&gt; | display_text_width &lt;int&gt; | reply_to_status_id &lt;dbl&gt; | reply_to_user_id &lt;dbl&gt; | reply_to_screen_name &lt;fct&gt; | ⋯ ⋯ | statuses_count &lt;int&gt; | favourites_count &lt;int&gt; | account_created_at &lt;fct&gt; | verified &lt;lgl&gt; | profile_url &lt;fct&gt; | profile_expanded_url &lt;fct&gt; | account_lang &lt;lgl&gt; | profile_banner_url &lt;fct&gt; | profile_background_url &lt;fct&gt; | profile_image_url &lt;fct&gt; |\n|---|---|---|---|---|---|---|---|---|---|---|---|---|---|---|---|---|---|---|---|---|---|\n| 1 | 1.016807e+18 | 1.262241e+18 | 2020-05-18T04:36:31Z | 1LoafOfMeat | @BLKMDL3 @elonmusk @Tesla Oh sure ya showoff. Had to get the brand name fancy stuff. Mine is $1.99.                                                                                                                                                                                                                      | Twitter for Android |  73 | 1.262107e+18 | 9.889751e+17 | BLKMDL3         | ⋯ | 433 | 8164 | 2018-07-10T22:10:02Z | FALSE | <!----> | <!----> | NA | <!----> | <!----> | http://pbs.twimg.com/profile_images/1104867316322521091/2n_rsTF1_normal.jpg |\n| 2 | 1.198000e+18 | 1.262241e+18 | 2020-05-18T04:36:17Z | 2beaux      | @TrevSully @ThomboyD @elonmusk BTW, Musk bought into Tesla when it was one-year old.  He not only was an investor, he built the company.\n\nBTW, do you even know what “B shares” are?                                                                                                                                   | Twitter for iPad    | 149 | 1.262232e+18 | 7.153370e+17 | TrevSully       | ⋯ | 583 |  362 | 2019-11-22T22:08:28Z | FALSE | <!----> | <!----> | NA | https://pbs.twimg.com/profile_banners/1198000188125827072/1580443845 | <!----> | http://pbs.twimg.com/profile_images/1211049247426134018/ID1dUN5X_normal.jpg |\n| 3 | 1.198000e+18 | 1.262240e+18 | 2020-05-18T04:32:08Z | 2beaux      | @TrevSully @ThomboyD @elonmusk He bought Tesla and built a handful of other companies.\n\nMusk is famously known to be an obsessed workaholic.  *That* has more to do with his success than anything else.\n\nYou sound petty, jealous and small.  When you accomplish what he accomplished, then you can bitch an moan. | Twitter for iPad    | 277 | 1.262232e+18 | 7.153370e+17 | TrevSully       | ⋯ | 583 |  362 | 2019-11-22T22:08:28Z | FALSE | <!----> | <!----> | NA | https://pbs.twimg.com/profile_banners/1198000188125827072/1580443845 | <!----> | http://pbs.twimg.com/profile_images/1211049247426134018/ID1dUN5X_normal.jpg |\n| 4 | 1.198000e+18 | 1.262218e+18 | 2020-05-18T03:04:49Z | 2beaux      | @Miss_Violet2014 @jamison_casper @ThomboyD @elonmusk Tesla won’t move.\n\nBut if they do it will be because Musk thought it would be a positive.  Further, the new location will employ lots of new people.\n\nAlameda county isn’t the only place in the U.S. that needs jobs.                                          | Twitter for iPad    | 214 | 1.262217e+18 | 2.323148e+09 | Miss_Violet2014 | ⋯ | 583 |  362 | 2019-11-22T22:08:28Z | FALSE | <!----> | <!----> | NA | https://pbs.twimg.com/profile_banners/1198000188125827072/1580443845 | <!----> | http://pbs.twimg.com/profile_images/1211049247426134018/ID1dUN5X_normal.jpg |\n| 5 | 1.198000e+18 | 1.262163e+18 | 2020-05-17T23:28:26Z | 2beaux      | @jamison_casper @Miss_Violet2014 @ThomboyD @elonmusk I believe the county approved Tesla’s COVID-19 Prevention plan (subject to some additional requirements) and will, with the police, enforce safe distancing.\n\nDoesn’t seem to be an issue.                                                                        | Twitter for iPad    | 186 | 1.262131e+18 | 1.169874e+18 | jamison_casper  | ⋯ | 583 |  362 | 2019-11-22T22:08:28Z | FALSE | <!----> | <!----> | NA | https://pbs.twimg.com/profile_banners/1198000188125827072/1580443845 | <!----> | http://pbs.twimg.com/profile_images/1211049247426134018/ID1dUN5X_normal.jpg |\n| 6 | 1.198000e+18 | 1.262198e+18 | 2020-05-18T01:47:00Z | 2beaux      | @jamison_casper @Miss_Violet2014 @ThomboyD @elonmusk What about other areas of the country where people are struggling and unemployment is going through the roof?  Are Alameda people more important than people elsewhere?\n\nTesla could help those people.                                                           | Twitter for iPad    | 199 | 1.262198e+18 | 1.169874e+18 | jamison_casper  | ⋯ | 583 |  362 | 2019-11-22T22:08:28Z | FALSE | <!----> | <!----> | NA | https://pbs.twimg.com/profile_banners/1198000188125827072/1580443845 | <!----> | http://pbs.twimg.com/profile_images/1211049247426134018/ID1dUN5X_normal.jpg |\n\n",
            "text/html": [
              "<table>\n",
              "<caption>A data.frame: 6 × 90</caption>\n",
              "<thead>\n",
              "\t<tr><th></th><th scope=col>user_id</th><th scope=col>status_id</th><th scope=col>created_at</th><th scope=col>screen_name</th><th scope=col>text</th><th scope=col>source</th><th scope=col>display_text_width</th><th scope=col>reply_to_status_id</th><th scope=col>reply_to_user_id</th><th scope=col>reply_to_screen_name</th><th scope=col>⋯</th><th scope=col>statuses_count</th><th scope=col>favourites_count</th><th scope=col>account_created_at</th><th scope=col>verified</th><th scope=col>profile_url</th><th scope=col>profile_expanded_url</th><th scope=col>account_lang</th><th scope=col>profile_banner_url</th><th scope=col>profile_background_url</th><th scope=col>profile_image_url</th></tr>\n",
              "\t<tr><th></th><th scope=col>&lt;dbl&gt;</th><th scope=col>&lt;dbl&gt;</th><th scope=col>&lt;fct&gt;</th><th scope=col>&lt;fct&gt;</th><th scope=col>&lt;fct&gt;</th><th scope=col>&lt;fct&gt;</th><th scope=col>&lt;int&gt;</th><th scope=col>&lt;dbl&gt;</th><th scope=col>&lt;dbl&gt;</th><th scope=col>&lt;fct&gt;</th><th scope=col>⋯</th><th scope=col>&lt;int&gt;</th><th scope=col>&lt;int&gt;</th><th scope=col>&lt;fct&gt;</th><th scope=col>&lt;lgl&gt;</th><th scope=col>&lt;fct&gt;</th><th scope=col>&lt;fct&gt;</th><th scope=col>&lt;lgl&gt;</th><th scope=col>&lt;fct&gt;</th><th scope=col>&lt;fct&gt;</th><th scope=col>&lt;fct&gt;</th></tr>\n",
              "</thead>\n",
              "<tbody>\n",
              "\t<tr><th scope=row>1</th><td>1.016807e+18</td><td>1.262241e+18</td><td>2020-05-18T04:36:31Z</td><td>1LoafOfMeat</td><td>@BLKMDL3 @elonmusk @Tesla Oh sure ya showoff. Had to get the brand name fancy stuff. Mine is $1.99.                                                                                                                                                                                                                     </td><td>Twitter for Android</td><td> 73</td><td>1.262107e+18</td><td>9.889751e+17</td><td>BLKMDL3        </td><td>⋯</td><td>433</td><td>8164</td><td>2018-07-10T22:10:02Z</td><td>FALSE</td><td></td><td></td><td>NA</td><td>                                                                    </td><td></td><td>http://pbs.twimg.com/profile_images/1104867316322521091/2n_rsTF1_normal.jpg</td></tr>\n",
              "\t<tr><th scope=row>2</th><td>1.198000e+18</td><td>1.262241e+18</td><td>2020-05-18T04:36:17Z</td><td>2beaux     </td><td>@TrevSully @ThomboyD @elonmusk BTW, Musk bought into Tesla when it was one-year old.  He not only was an investor, he built the company.\n",
              "\n",
              "BTW, do you even know what “B shares” are?                                                                                                                                  </td><td>Twitter for iPad   </td><td>149</td><td>1.262232e+18</td><td>7.153370e+17</td><td>TrevSully      </td><td>⋯</td><td>583</td><td> 362</td><td>2019-11-22T22:08:28Z</td><td>FALSE</td><td></td><td></td><td>NA</td><td>https://pbs.twimg.com/profile_banners/1198000188125827072/1580443845</td><td></td><td>http://pbs.twimg.com/profile_images/1211049247426134018/ID1dUN5X_normal.jpg</td></tr>\n",
              "\t<tr><th scope=row>3</th><td>1.198000e+18</td><td>1.262240e+18</td><td>2020-05-18T04:32:08Z</td><td>2beaux     </td><td>@TrevSully @ThomboyD @elonmusk He bought Tesla and built a handful of other companies.\n",
              "\n",
              "Musk is famously known to be an obsessed workaholic.  *That* has more to do with his success than anything else.\n",
              "\n",
              "You sound petty, jealous and small.  When you accomplish what he accomplished, then you can bitch an moan.</td><td>Twitter for iPad   </td><td>277</td><td>1.262232e+18</td><td>7.153370e+17</td><td>TrevSully      </td><td>⋯</td><td>583</td><td> 362</td><td>2019-11-22T22:08:28Z</td><td>FALSE</td><td></td><td></td><td>NA</td><td>https://pbs.twimg.com/profile_banners/1198000188125827072/1580443845</td><td></td><td>http://pbs.twimg.com/profile_images/1211049247426134018/ID1dUN5X_normal.jpg</td></tr>\n",
              "\t<tr><th scope=row>4</th><td>1.198000e+18</td><td>1.262218e+18</td><td>2020-05-18T03:04:49Z</td><td>2beaux     </td><td>@Miss_Violet2014 @jamison_casper @ThomboyD @elonmusk Tesla won’t move.\n",
              "\n",
              "But if they do it will be because Musk thought it would be a positive.  Further, the new location will employ lots of new people.\n",
              "\n",
              "Alameda county isn’t the only place in the U.S. that needs jobs.                                         </td><td>Twitter for iPad   </td><td>214</td><td>1.262217e+18</td><td>2.323148e+09</td><td>Miss_Violet2014</td><td>⋯</td><td>583</td><td> 362</td><td>2019-11-22T22:08:28Z</td><td>FALSE</td><td></td><td></td><td>NA</td><td>https://pbs.twimg.com/profile_banners/1198000188125827072/1580443845</td><td></td><td>http://pbs.twimg.com/profile_images/1211049247426134018/ID1dUN5X_normal.jpg</td></tr>\n",
              "\t<tr><th scope=row>5</th><td>1.198000e+18</td><td>1.262163e+18</td><td>2020-05-17T23:28:26Z</td><td>2beaux     </td><td>@jamison_casper @Miss_Violet2014 @ThomboyD @elonmusk I believe the county approved Tesla’s COVID-19 Prevention plan (subject to some additional requirements) and will, with the police, enforce safe distancing.\n",
              "\n",
              "Doesn’t seem to be an issue.                                                                       </td><td>Twitter for iPad   </td><td>186</td><td>1.262131e+18</td><td>1.169874e+18</td><td>jamison_casper </td><td>⋯</td><td>583</td><td> 362</td><td>2019-11-22T22:08:28Z</td><td>FALSE</td><td></td><td></td><td>NA</td><td>https://pbs.twimg.com/profile_banners/1198000188125827072/1580443845</td><td></td><td>http://pbs.twimg.com/profile_images/1211049247426134018/ID1dUN5X_normal.jpg</td></tr>\n",
              "\t<tr><th scope=row>6</th><td>1.198000e+18</td><td>1.262198e+18</td><td>2020-05-18T01:47:00Z</td><td>2beaux     </td><td>@jamison_casper @Miss_Violet2014 @ThomboyD @elonmusk What about other areas of the country where people are struggling and unemployment is going through the roof?  Are Alameda people more important than people elsewhere?\n",
              "\n",
              "Tesla could help those people.                                                          </td><td>Twitter for iPad   </td><td>199</td><td>1.262198e+18</td><td>1.169874e+18</td><td>jamison_casper </td><td>⋯</td><td>583</td><td> 362</td><td>2019-11-22T22:08:28Z</td><td>FALSE</td><td></td><td></td><td>NA</td><td>https://pbs.twimg.com/profile_banners/1198000188125827072/1580443845</td><td></td><td>http://pbs.twimg.com/profile_images/1211049247426134018/ID1dUN5X_normal.jpg</td></tr>\n",
              "</tbody>\n",
              "</table>\n"
            ]
          },
          "metadata": {
            "tags": []
          }
        }
      ]
    },
    {
      "cell_type": "markdown",
      "metadata": {
        "id": "DLjF6jaThbL-",
        "colab_type": "text"
      },
      "source": [
        "Extract the columns `retweet_count` and `text` and save to a new dataframe"
      ]
    },
    {
      "cell_type": "code",
      "metadata": {
        "id": "kk0dLhe2WKS8",
        "colab_type": "code",
        "colab": {
          "base_uri": "https://localhost:8080/",
          "height": 289
        },
        "outputId": "facae291-ce27-4ba1-96bf-7cb18235bf01"
      },
      "source": [
        "# Create a data frame of tweet text and retweet count\n",
        "rtwt <- tesladf[, c(\"text\", \"retweet_count\")]\n",
        "# View few rows of the new dataframe\n",
        "head(rtwt)"
      ],
      "execution_count": 12,
      "outputs": [
        {
          "output_type": "display_data",
          "data": {
            "text/plain": [
              "  text                                                                                                                                                                                                                                                                                                                    \n",
              "1 @BLKMDL3 @elonmusk @Tesla Oh sure ya showoff. Had to get the brand name fancy stuff. Mine is $1.99.                                                                                                                                                                                                                     \n",
              "2 @TrevSully @ThomboyD @elonmusk BTW, Musk bought into Tesla when it was one-year old.  He not only was an investor, he built the company.\\n\\nBTW, do you even know what “B shares” are?                                                                                                                                  \n",
              "3 @TrevSully @ThomboyD @elonmusk He bought Tesla and built a handful of other companies.\\n\\nMusk is famously known to be an obsessed workaholic.  *That* has more to do with his success than anything else.\\n\\nYou sound petty, jealous and small.  When you accomplish what he accomplished, then you can bitch an moan.\n",
              "4 @Miss_Violet2014 @jamison_casper @ThomboyD @elonmusk Tesla won’t move.\\n\\nBut if they do it will be because Musk thought it would be a positive.  Further, the new location will employ lots of new people.\\n\\nAlameda county isn’t the only place in the U.S. that needs jobs.                                         \n",
              "5 @jamison_casper @Miss_Violet2014 @ThomboyD @elonmusk I believe the county approved Tesla’s COVID-19 Prevention plan (subject to some additional requirements) and will, with the police, enforce safe distancing.\\n\\nDoesn’t seem to be an issue.                                                                       \n",
              "6 @jamison_casper @Miss_Violet2014 @ThomboyD @elonmusk What about other areas of the country where people are struggling and unemployment is going through the roof?  Are Alameda people more important than people elsewhere?\\n\\nTesla could help those people.                                                          \n",
              "  retweet_count\n",
              "1 0            \n",
              "2 0            \n",
              "3 0            \n",
              "4 0            \n",
              "5 0            \n",
              "6 0            "
            ],
            "text/latex": "A data.frame: 6 × 2\n\\begin{tabular}{r|ll}\n  & text & retweet\\_count\\\\\n  & <fct> & <int>\\\\\n\\hline\n\t1 & @BLKMDL3 @elonmusk @Tesla Oh sure ya showoff. Had to get the brand name fancy stuff. Mine is \\$1.99.                                                                                                                                                                                                                      & 0\\\\\n\t2 & @TrevSully @ThomboyD @elonmusk BTW, Musk bought into Tesla when it was one-year old.  He not only was an investor, he built the company.\n\nBTW, do you even know what “B shares” are?                                                                                                                                   & 0\\\\\n\t3 & @TrevSully @ThomboyD @elonmusk He bought Tesla and built a handful of other companies.\n\nMusk is famously known to be an obsessed workaholic.  *That* has more to do with his success than anything else.\n\nYou sound petty, jealous and small.  When you accomplish what he accomplished, then you can bitch an moan. & 0\\\\\n\t4 & @Miss\\_Violet2014 @jamison\\_casper @ThomboyD @elonmusk Tesla won’t move.\n\nBut if they do it will be because Musk thought it would be a positive.  Further, the new location will employ lots of new people.\n\nAlameda county isn’t the only place in the U.S. that needs jobs.                                          & 0\\\\\n\t5 & @jamison\\_casper @Miss\\_Violet2014 @ThomboyD @elonmusk I believe the county approved Tesla’s COVID-19 Prevention plan (subject to some additional requirements) and will, with the police, enforce safe distancing.\n\nDoesn’t seem to be an issue.                                                                        & 0\\\\\n\t6 & @jamison\\_casper @Miss\\_Violet2014 @ThomboyD @elonmusk What about other areas of the country where people are struggling and unemployment is going through the roof?  Are Alameda people more important than people elsewhere?\n\nTesla could help those people.                                                           & 0\\\\\n\\end{tabular}\n",
            "text/markdown": "\nA data.frame: 6 × 2\n\n| <!--/--> | text &lt;fct&gt; | retweet_count &lt;int&gt; |\n|---|---|---|\n| 1 | @BLKMDL3 @elonmusk @Tesla Oh sure ya showoff. Had to get the brand name fancy stuff. Mine is $1.99.                                                                                                                                                                                                                      | 0 |\n| 2 | @TrevSully @ThomboyD @elonmusk BTW, Musk bought into Tesla when it was one-year old.  He not only was an investor, he built the company.\n\nBTW, do you even know what “B shares” are?                                                                                                                                   | 0 |\n| 3 | @TrevSully @ThomboyD @elonmusk He bought Tesla and built a handful of other companies.\n\nMusk is famously known to be an obsessed workaholic.  *That* has more to do with his success than anything else.\n\nYou sound petty, jealous and small.  When you accomplish what he accomplished, then you can bitch an moan. | 0 |\n| 4 | @Miss_Violet2014 @jamison_casper @ThomboyD @elonmusk Tesla won’t move.\n\nBut if they do it will be because Musk thought it would be a positive.  Further, the new location will employ lots of new people.\n\nAlameda county isn’t the only place in the U.S. that needs jobs.                                          | 0 |\n| 5 | @jamison_casper @Miss_Violet2014 @ThomboyD @elonmusk I believe the county approved Tesla’s COVID-19 Prevention plan (subject to some additional requirements) and will, with the police, enforce safe distancing.\n\nDoesn’t seem to be an issue.                                                                        | 0 |\n| 6 | @jamison_casper @Miss_Violet2014 @ThomboyD @elonmusk What about other areas of the country where people are struggling and unemployment is going through the roof?  Are Alameda people more important than people elsewhere?\n\nTesla could help those people.                                                           | 0 |\n\n",
            "text/html": [
              "<table>\n",
              "<caption>A data.frame: 6 × 2</caption>\n",
              "<thead>\n",
              "\t<tr><th></th><th scope=col>text</th><th scope=col>retweet_count</th></tr>\n",
              "\t<tr><th></th><th scope=col>&lt;fct&gt;</th><th scope=col>&lt;int&gt;</th></tr>\n",
              "</thead>\n",
              "<tbody>\n",
              "\t<tr><th scope=row>1</th><td>@BLKMDL3 @elonmusk @Tesla Oh sure ya showoff. Had to get the brand name fancy stuff. Mine is $1.99.                                                                                                                                                                                                                     </td><td>0</td></tr>\n",
              "\t<tr><th scope=row>2</th><td>@TrevSully @ThomboyD @elonmusk BTW, Musk bought into Tesla when it was one-year old.  He not only was an investor, he built the company.\n",
              "\n",
              "BTW, do you even know what “B shares” are?                                                                                                                                  </td><td>0</td></tr>\n",
              "\t<tr><th scope=row>3</th><td>@TrevSully @ThomboyD @elonmusk He bought Tesla and built a handful of other companies.\n",
              "\n",
              "Musk is famously known to be an obsessed workaholic.  *That* has more to do with his success than anything else.\n",
              "\n",
              "You sound petty, jealous and small.  When you accomplish what he accomplished, then you can bitch an moan.</td><td>0</td></tr>\n",
              "\t<tr><th scope=row>4</th><td>@Miss_Violet2014 @jamison_casper @ThomboyD @elonmusk Tesla won’t move.\n",
              "\n",
              "But if they do it will be because Musk thought it would be a positive.  Further, the new location will employ lots of new people.\n",
              "\n",
              "Alameda county isn’t the only place in the U.S. that needs jobs.                                         </td><td>0</td></tr>\n",
              "\t<tr><th scope=row>5</th><td>@jamison_casper @Miss_Violet2014 @ThomboyD @elonmusk I believe the county approved Tesla’s COVID-19 Prevention plan (subject to some additional requirements) and will, with the police, enforce safe distancing.\n",
              "\n",
              "Doesn’t seem to be an issue.                                                                       </td><td>0</td></tr>\n",
              "\t<tr><th scope=row>6</th><td>@jamison_casper @Miss_Violet2014 @ThomboyD @elonmusk What about other areas of the country where people are struggling and unemployment is going through the roof?  Are Alameda people more important than people elsewhere?\n",
              "\n",
              "Tesla could help those people.                                                          </td><td>0</td></tr>\n",
              "</tbody>\n",
              "</table>\n"
            ]
          },
          "metadata": {
            "tags": []
          }
        }
      ]
    },
    {
      "cell_type": "markdown",
      "metadata": {
        "id": "JO8lSn1IDCJg",
        "colab_type": "text"
      },
      "source": [
        "Sort in descending order of the retweet counts using `arrange()` from `dplyr` library"
      ]
    },
    {
      "cell_type": "code",
      "metadata": {
        "id": "Brg7djU2W1Os",
        "colab_type": "code",
        "colab": {
          "base_uri": "https://localhost:8080/",
          "height": 255
        },
        "outputId": "5ee150d2-6c85-4c26-a8a0-fdb56d77784f"
      },
      "source": [
        "# Import library\n",
        "library(dplyr)"
      ],
      "execution_count": 13,
      "outputs": [
        {
          "output_type": "stream",
          "text": [
            "\n",
            "Attaching package: ‘dplyr’\n",
            "\n",
            "\n",
            "The following objects are masked from ‘package:stats’:\n",
            "\n",
            "    filter, lag\n",
            "\n",
            "\n",
            "The following objects are masked from ‘package:base’:\n",
            "\n",
            "    intersect, setdiff, setequal, union\n",
            "\n",
            "\n"
          ],
          "name": "stderr"
        }
      ]
    },
    {
      "cell_type": "code",
      "metadata": {
        "id": "Ya803xjM2e8r",
        "colab_type": "code",
        "colab": {
          "base_uri": "https://localhost:8080/",
          "height": 255
        },
        "outputId": "d2e15a02-cf6e-4598-b452-a0cebbd53b63"
      },
      "source": [
        "# Sort data frame based on descending order of retweet counts\n",
        "rtwt_sort <- arrange(rtwt, desc(retweet_count))\n",
        "\n",
        "# View sorted output\n",
        "head(rtwt_sort)"
      ],
      "execution_count": 14,
      "outputs": [
        {
          "output_type": "display_data",
          "data": {
            "text/plain": [
              "  text                                                                                                                                                                                                                                                                                                       \n",
              "1 Year these companies were founded:\\n2021: Hope your company \\n\\n2011: Zoom\\n2009: Uber\\n2008: Airbnb\\n2006: Spotify\\n2006: Twitter\\n2004: Facebook\\n2003: Tesla\\n2002: SpaceX\\n1999: Alibaba\\n1998: Google\\n1997: Netflix\\n1994: Amazon\\n1976: Apple\\n1975: Microsoft\\n1946: Sony\\n1938: Samsung\\n\\n@ Jon E\n",
              "2 All of a sudden, I think I want a Tesla. https://t.co/UFxfyQOJ8s                                                                                                                                                                                                                                           \n",
              "3 Elon Wins: California Will Allow Tesla Plant To Reopen With ‘Safety Precautions’ https://t.co/7XHKXKgBXM                                                                                                                                                                                                   \n",
              "4 If you're a @Tesla worker, we'd love to chat. https://t.co/Lf27lBIHxw https://t.co/zEKICOaNaN                                                                                                                                                                                                              \n",
              "5 Tesla's Next Factory Is Going To Be In Austin Texas And It's Going To Happen Quickly \\n👏👏👏👏👏\\nTo Much Trouble With Local California Government \\n🔥🔥🔥🔥🔥\\nhttps://t.co/qGTRo7l7ID                                                                                                                            \n",
              "6 This is the protest today at the Tesla plant in Fremont,  Ca. These leftists want Elon Musk put behind bars for reopening.  \\n\\nMy God look at this massive crowd! 😂😭😭😭😭😭😭😭😭😭😭😭😭 https://t.co/DhKJZbBehB                                                                                                   \n",
              "  retweet_count\n",
              "1 1165         \n",
              "2  495         \n",
              "3  480         \n",
              "4  456         \n",
              "5  420         \n",
              "6  361         "
            ],
            "text/latex": "A data.frame: 6 × 2\n\\begin{tabular}{r|ll}\n  & text & retweet\\_count\\\\\n  & <fct> & <int>\\\\\n\\hline\n\t1 & Year these companies were founded:\n2021: Hope your company \n\n2011: Zoom\n2009: Uber\n2008: Airbnb\n2006: Spotify\n2006: Twitter\n2004: Facebook\n2003: Tesla\n2002: SpaceX\n1999: Alibaba\n1998: Google\n1997: Netflix\n1994: Amazon\n1976: Apple\n1975: Microsoft\n1946: Sony\n1938: Samsung\n\n@ Jon E & 1165\\\\\n\t2 & All of a sudden, I think I want a Tesla. https://t.co/UFxfyQOJ8s                                                                                                                                                                                                                                            &  495\\\\\n\t3 & Elon Wins: California Will Allow Tesla Plant To Reopen With ‘Safety Precautions’ https://t.co/7XHKXKgBXM                                                                                                                                                                                                    &  480\\\\\n\t4 & If you're a @Tesla worker, we'd love to chat. https://t.co/Lf27lBIHxw https://t.co/zEKICOaNaN                                                                                                                                                                                                               &  456\\\\\n\t5 & Tesla's Next Factory Is Going To Be In Austin Texas And It's Going To Happen Quickly \n👏👏👏👏👏\nTo Much Trouble With Local California Government \n🔥🔥🔥🔥🔥\nhttps://t.co/qGTRo7l7ID                                                                                                                             &  420\\\\\n\t6 & This is the protest today at the Tesla plant in Fremont,  Ca. These leftists want Elon Musk put behind bars for reopening.  \n\nMy God look at this massive crowd! 😂😭😭😭😭😭😭😭😭😭😭😭😭 https://t.co/DhKJZbBehB                                                                                                    &  361\\\\\n\\end{tabular}\n",
            "text/markdown": "\nA data.frame: 6 × 2\n\n| <!--/--> | text &lt;fct&gt; | retweet_count &lt;int&gt; |\n|---|---|---|\n| 1 | Year these companies were founded:\n2021: Hope your company \n\n2011: Zoom\n2009: Uber\n2008: Airbnb\n2006: Spotify\n2006: Twitter\n2004: Facebook\n2003: Tesla\n2002: SpaceX\n1999: Alibaba\n1998: Google\n1997: Netflix\n1994: Amazon\n1976: Apple\n1975: Microsoft\n1946: Sony\n1938: Samsung\n\n@ Jon E | 1165 |\n| 2 | All of a sudden, I think I want a Tesla. https://t.co/UFxfyQOJ8s                                                                                                                                                                                                                                            |  495 |\n| 3 | Elon Wins: California Will Allow Tesla Plant To Reopen With ‘Safety Precautions’ https://t.co/7XHKXKgBXM                                                                                                                                                                                                    |  480 |\n| 4 | If you're a @Tesla worker, we'd love to chat. https://t.co/Lf27lBIHxw https://t.co/zEKICOaNaN                                                                                                                                                                                                               |  456 |\n| 5 | Tesla's Next Factory Is Going To Be In Austin Texas And It's Going To Happen Quickly \n👏👏👏👏👏\nTo Much Trouble With Local California Government \n🔥🔥🔥🔥🔥\nhttps://t.co/qGTRo7l7ID                                                                                                                             |  420 |\n| 6 | This is the protest today at the Tesla plant in Fremont,  Ca. These leftists want Elon Musk put behind bars for reopening.  \n\nMy God look at this massive crowd! 😂😭😭😭😭😭😭😭😭😭😭😭😭 https://t.co/DhKJZbBehB                                                                                                    |  361 |\n\n",
            "text/html": [
              "<table>\n",
              "<caption>A data.frame: 6 × 2</caption>\n",
              "<thead>\n",
              "\t<tr><th></th><th scope=col>text</th><th scope=col>retweet_count</th></tr>\n",
              "\t<tr><th></th><th scope=col>&lt;fct&gt;</th><th scope=col>&lt;int&gt;</th></tr>\n",
              "</thead>\n",
              "<tbody>\n",
              "\t<tr><th scope=row>1</th><td>Year these companies were founded:\n",
              "2021: Hope your company \n",
              "\n",
              "2011: Zoom\n",
              "2009: Uber\n",
              "2008: Airbnb\n",
              "2006: Spotify\n",
              "2006: Twitter\n",
              "2004: Facebook\n",
              "2003: Tesla\n",
              "2002: SpaceX\n",
              "1999: Alibaba\n",
              "1998: Google\n",
              "1997: Netflix\n",
              "1994: Amazon\n",
              "1976: Apple\n",
              "1975: Microsoft\n",
              "1946: Sony\n",
              "1938: Samsung\n",
              "\n",
              "@ Jon E</td><td>1165</td></tr>\n",
              "\t<tr><th scope=row>2</th><td>All of a sudden, I think I want a Tesla. https://t.co/UFxfyQOJ8s                                                                                                                                                                                                                                           </td><td> 495</td></tr>\n",
              "\t<tr><th scope=row>3</th><td>Elon Wins: California Will Allow Tesla Plant To Reopen With ‘Safety Precautions’ https://t.co/7XHKXKgBXM                                                                                                                                                                                                   </td><td> 480</td></tr>\n",
              "\t<tr><th scope=row>4</th><td>If you're a @Tesla worker, we'd love to chat. https://t.co/Lf27lBIHxw https://t.co/zEKICOaNaN                                                                                                                                                                                                              </td><td> 456</td></tr>\n",
              "\t<tr><th scope=row>5</th><td>Tesla's Next Factory Is Going To Be In Austin Texas And It's Going To Happen Quickly \n",
              "👏👏👏👏👏\n",
              "To Much Trouble With Local California Government \n",
              "🔥🔥🔥🔥🔥\n",
              "https://t.co/qGTRo7l7ID                                                                                                                            </td><td> 420</td></tr>\n",
              "\t<tr><th scope=row>6</th><td>This is the protest today at the Tesla plant in Fremont,  Ca. These leftists want Elon Musk put behind bars for reopening.  \n",
              "\n",
              "My God look at this massive crowd! 😂😭😭😭😭😭😭😭😭😭😭😭😭 https://t.co/DhKJZbBehB                                                                                                   </td><td> 361</td></tr>\n",
              "</tbody>\n",
              "</table>\n"
            ]
          },
          "metadata": {
            "tags": []
          }
        }
      ]
    },
    {
      "cell_type": "markdown",
      "metadata": {
        "id": "dSVCAjCsDMZ8",
        "colab_type": "text"
      },
      "source": [
        "The `text` column usually contains duplicate tweets. To get unique tweets, we can use the `unique()` function which has 2 arguments:\n",
        "\n",
        "* the data frame being used\n",
        "* `by`: which columns to search for unique values in"
      ]
    },
    {
      "cell_type": "code",
      "metadata": {
        "id": "Y8dxm-uDXBjF",
        "colab_type": "code",
        "colab": {}
      },
      "source": [
        "# Exclude rows with duplicate text from sorted data frame\n",
        "rtwt_unique <- unique(rtwt_sort, by = \"text\")"
      ],
      "execution_count": 15,
      "outputs": []
    },
    {
      "cell_type": "code",
      "metadata": {
        "id": "p7KgvhR6XS_V",
        "colab_type": "code",
        "colab": {
          "base_uri": "https://localhost:8080/",
          "height": 255
        },
        "outputId": "02a2b80e-5e8c-4348-d27e-7643c58ee03a"
      },
      "source": [
        "# Print top 6 unique posts retweeted most number of times\n",
        "head(rtwt_unique)"
      ],
      "execution_count": 16,
      "outputs": [
        {
          "output_type": "display_data",
          "data": {
            "text/plain": [
              "  text                                                                                                                                                                                                                                                                                                       \n",
              "1 Year these companies were founded:\\n2021: Hope your company \\n\\n2011: Zoom\\n2009: Uber\\n2008: Airbnb\\n2006: Spotify\\n2006: Twitter\\n2004: Facebook\\n2003: Tesla\\n2002: SpaceX\\n1999: Alibaba\\n1998: Google\\n1997: Netflix\\n1994: Amazon\\n1976: Apple\\n1975: Microsoft\\n1946: Sony\\n1938: Samsung\\n\\n@ Jon E\n",
              "2 All of a sudden, I think I want a Tesla. https://t.co/UFxfyQOJ8s                                                                                                                                                                                                                                           \n",
              "3 Elon Wins: California Will Allow Tesla Plant To Reopen With ‘Safety Precautions’ https://t.co/7XHKXKgBXM                                                                                                                                                                                                   \n",
              "4 If you're a @Tesla worker, we'd love to chat. https://t.co/Lf27lBIHxw https://t.co/zEKICOaNaN                                                                                                                                                                                                              \n",
              "5 Tesla's Next Factory Is Going To Be In Austin Texas And It's Going To Happen Quickly \\n👏👏👏👏👏\\nTo Much Trouble With Local California Government \\n🔥🔥🔥🔥🔥\\nhttps://t.co/qGTRo7l7ID                                                                                                                            \n",
              "6 This is the protest today at the Tesla plant in Fremont,  Ca. These leftists want Elon Musk put behind bars for reopening.  \\n\\nMy God look at this massive crowd! 😂😭😭😭😭😭😭😭😭😭😭😭😭 https://t.co/DhKJZbBehB                                                                                                   \n",
              "  retweet_count\n",
              "1 1165         \n",
              "2  495         \n",
              "3  480         \n",
              "4  456         \n",
              "5  420         \n",
              "6  361         "
            ],
            "text/latex": "A data.frame: 6 × 2\n\\begin{tabular}{r|ll}\n  & text & retweet\\_count\\\\\n  & <fct> & <int>\\\\\n\\hline\n\t1 & Year these companies were founded:\n2021: Hope your company \n\n2011: Zoom\n2009: Uber\n2008: Airbnb\n2006: Spotify\n2006: Twitter\n2004: Facebook\n2003: Tesla\n2002: SpaceX\n1999: Alibaba\n1998: Google\n1997: Netflix\n1994: Amazon\n1976: Apple\n1975: Microsoft\n1946: Sony\n1938: Samsung\n\n@ Jon E & 1165\\\\\n\t2 & All of a sudden, I think I want a Tesla. https://t.co/UFxfyQOJ8s                                                                                                                                                                                                                                            &  495\\\\\n\t3 & Elon Wins: California Will Allow Tesla Plant To Reopen With ‘Safety Precautions’ https://t.co/7XHKXKgBXM                                                                                                                                                                                                    &  480\\\\\n\t4 & If you're a @Tesla worker, we'd love to chat. https://t.co/Lf27lBIHxw https://t.co/zEKICOaNaN                                                                                                                                                                                                               &  456\\\\\n\t5 & Tesla's Next Factory Is Going To Be In Austin Texas And It's Going To Happen Quickly \n👏👏👏👏👏\nTo Much Trouble With Local California Government \n🔥🔥🔥🔥🔥\nhttps://t.co/qGTRo7l7ID                                                                                                                             &  420\\\\\n\t6 & This is the protest today at the Tesla plant in Fremont,  Ca. These leftists want Elon Musk put behind bars for reopening.  \n\nMy God look at this massive crowd! 😂😭😭😭😭😭😭😭😭😭😭😭😭 https://t.co/DhKJZbBehB                                                                                                    &  361\\\\\n\\end{tabular}\n",
            "text/markdown": "\nA data.frame: 6 × 2\n\n| <!--/--> | text &lt;fct&gt; | retweet_count &lt;int&gt; |\n|---|---|---|\n| 1 | Year these companies were founded:\n2021: Hope your company \n\n2011: Zoom\n2009: Uber\n2008: Airbnb\n2006: Spotify\n2006: Twitter\n2004: Facebook\n2003: Tesla\n2002: SpaceX\n1999: Alibaba\n1998: Google\n1997: Netflix\n1994: Amazon\n1976: Apple\n1975: Microsoft\n1946: Sony\n1938: Samsung\n\n@ Jon E | 1165 |\n| 2 | All of a sudden, I think I want a Tesla. https://t.co/UFxfyQOJ8s                                                                                                                                                                                                                                            |  495 |\n| 3 | Elon Wins: California Will Allow Tesla Plant To Reopen With ‘Safety Precautions’ https://t.co/7XHKXKgBXM                                                                                                                                                                                                    |  480 |\n| 4 | If you're a @Tesla worker, we'd love to chat. https://t.co/Lf27lBIHxw https://t.co/zEKICOaNaN                                                                                                                                                                                                               |  456 |\n| 5 | Tesla's Next Factory Is Going To Be In Austin Texas And It's Going To Happen Quickly \n👏👏👏👏👏\nTo Much Trouble With Local California Government \n🔥🔥🔥🔥🔥\nhttps://t.co/qGTRo7l7ID                                                                                                                             |  420 |\n| 6 | This is the protest today at the Tesla plant in Fremont,  Ca. These leftists want Elon Musk put behind bars for reopening.  \n\nMy God look at this massive crowd! 😂😭😭😭😭😭😭😭😭😭😭😭😭 https://t.co/DhKJZbBehB                                                                                                    |  361 |\n\n",
            "text/html": [
              "<table>\n",
              "<caption>A data.frame: 6 × 2</caption>\n",
              "<thead>\n",
              "\t<tr><th></th><th scope=col>text</th><th scope=col>retweet_count</th></tr>\n",
              "\t<tr><th></th><th scope=col>&lt;fct&gt;</th><th scope=col>&lt;int&gt;</th></tr>\n",
              "</thead>\n",
              "<tbody>\n",
              "\t<tr><th scope=row>1</th><td>Year these companies were founded:\n",
              "2021: Hope your company \n",
              "\n",
              "2011: Zoom\n",
              "2009: Uber\n",
              "2008: Airbnb\n",
              "2006: Spotify\n",
              "2006: Twitter\n",
              "2004: Facebook\n",
              "2003: Tesla\n",
              "2002: SpaceX\n",
              "1999: Alibaba\n",
              "1998: Google\n",
              "1997: Netflix\n",
              "1994: Amazon\n",
              "1976: Apple\n",
              "1975: Microsoft\n",
              "1946: Sony\n",
              "1938: Samsung\n",
              "\n",
              "@ Jon E</td><td>1165</td></tr>\n",
              "\t<tr><th scope=row>2</th><td>All of a sudden, I think I want a Tesla. https://t.co/UFxfyQOJ8s                                                                                                                                                                                                                                           </td><td> 495</td></tr>\n",
              "\t<tr><th scope=row>3</th><td>Elon Wins: California Will Allow Tesla Plant To Reopen With ‘Safety Precautions’ https://t.co/7XHKXKgBXM                                                                                                                                                                                                   </td><td> 480</td></tr>\n",
              "\t<tr><th scope=row>4</th><td>If you're a @Tesla worker, we'd love to chat. https://t.co/Lf27lBIHxw https://t.co/zEKICOaNaN                                                                                                                                                                                                              </td><td> 456</td></tr>\n",
              "\t<tr><th scope=row>5</th><td>Tesla's Next Factory Is Going To Be In Austin Texas And It's Going To Happen Quickly \n",
              "👏👏👏👏👏\n",
              "To Much Trouble With Local California Government \n",
              "🔥🔥🔥🔥🔥\n",
              "https://t.co/qGTRo7l7ID                                                                                                                            </td><td> 420</td></tr>\n",
              "\t<tr><th scope=row>6</th><td>This is the protest today at the Tesla plant in Fremont,  Ca. These leftists want Elon Musk put behind bars for reopening.  \n",
              "\n",
              "My God look at this massive crowd! 😂😭😭😭😭😭😭😭😭😭😭😭😭 https://t.co/DhKJZbBehB                                                                                                   </td><td> 361</td></tr>\n",
              "</tbody>\n",
              "</table>\n"
            ]
          },
          "metadata": {
            "tags": []
          }
        }
      ]
    },
    {
      "cell_type": "markdown",
      "metadata": {
        "id": "fHr6jHghXVAv",
        "colab_type": "text"
      },
      "source": [
        "#### The most retweeted texts have popular quotes such as \"I think I want a Tesla\", indicating the loyalty of Tesla fans. \n",
        "\n",
        "#### These tweets can be used for promoting Tesla's models and brand loyalty."
      ]
    },
    {
      "cell_type": "markdown",
      "metadata": {
        "colab_type": "text",
        "id": "3kHHt9Qa73Ta"
      },
      "source": [
        "---\n",
        "<center><h1> Q&A 2</h1> </center>\n",
        "\n",
        "---\n"
      ]
    },
    {
      "cell_type": "markdown",
      "metadata": {
        "id": "VEXDVRWrXZFP",
        "colab_type": "text"
      },
      "source": [
        "## **3.\tEvaluate brand salience and compare the same for two brands using tweet frequencies**"
      ]
    },
    {
      "cell_type": "markdown",
      "metadata": {
        "id": "xCqsEC1kmwxe",
        "colab_type": "text"
      },
      "source": [
        "Brand salience is the extent to which a brand is continuously talked about.\n",
        "\n",
        "Monitoring tweets on a certain brand over time is an excellent proxy to brand salience. Here, we will compare how tweets mentioning Tesla vs Toyota are present over time."
      ]
    },
    {
      "cell_type": "markdown",
      "metadata": {
        "id": "Bk69UzcZtDSS",
        "colab_type": "text"
      },
      "source": [
        "#### **3a) Visualizing frequency of tweets using time series plots**\n",
        "\n",
        "Let's first visualize tweet frequency on the automobile brand \"Tesla\". We will be using the tweet dataframe created for Tesla in the previous exercise.\n"
      ]
    },
    {
      "cell_type": "code",
      "metadata": {
        "id": "o5mhQQefXYYt",
        "colab_type": "code",
        "colab": {
          "base_uri": "https://localhost:8080/",
          "height": 1000
        },
        "outputId": "d1fffad3-0232-41f0-a0d8-05eed01021f7"
      },
      "source": [
        "# View the tweet dataframe\n",
        "head(tesladf)"
      ],
      "execution_count": 17,
      "outputs": [
        {
          "output_type": "display_data",
          "data": {
            "text/plain": [
              "  user_id      status_id    created_at           screen_name\n",
              "1 1.016807e+18 1.262241e+18 2020-05-18T04:36:31Z 1LoafOfMeat\n",
              "2 1.198000e+18 1.262241e+18 2020-05-18T04:36:17Z 2beaux     \n",
              "3 1.198000e+18 1.262240e+18 2020-05-18T04:32:08Z 2beaux     \n",
              "4 1.198000e+18 1.262218e+18 2020-05-18T03:04:49Z 2beaux     \n",
              "5 1.198000e+18 1.262163e+18 2020-05-17T23:28:26Z 2beaux     \n",
              "6 1.198000e+18 1.262198e+18 2020-05-18T01:47:00Z 2beaux     \n",
              "  text                                                                                                                                                                                                                                                                                                                    \n",
              "1 @BLKMDL3 @elonmusk @Tesla Oh sure ya showoff. Had to get the brand name fancy stuff. Mine is $1.99.                                                                                                                                                                                                                     \n",
              "2 @TrevSully @ThomboyD @elonmusk BTW, Musk bought into Tesla when it was one-year old.  He not only was an investor, he built the company.\\n\\nBTW, do you even know what “B shares” are?                                                                                                                                  \n",
              "3 @TrevSully @ThomboyD @elonmusk He bought Tesla and built a handful of other companies.\\n\\nMusk is famously known to be an obsessed workaholic.  *That* has more to do with his success than anything else.\\n\\nYou sound petty, jealous and small.  When you accomplish what he accomplished, then you can bitch an moan.\n",
              "4 @Miss_Violet2014 @jamison_casper @ThomboyD @elonmusk Tesla won’t move.\\n\\nBut if they do it will be because Musk thought it would be a positive.  Further, the new location will employ lots of new people.\\n\\nAlameda county isn’t the only place in the U.S. that needs jobs.                                         \n",
              "5 @jamison_casper @Miss_Violet2014 @ThomboyD @elonmusk I believe the county approved Tesla’s COVID-19 Prevention plan (subject to some additional requirements) and will, with the police, enforce safe distancing.\\n\\nDoesn’t seem to be an issue.                                                                       \n",
              "6 @jamison_casper @Miss_Violet2014 @ThomboyD @elonmusk What about other areas of the country where people are struggling and unemployment is going through the roof?  Are Alameda people more important than people elsewhere?\\n\\nTesla could help those people.                                                          \n",
              "  source              display_text_width reply_to_status_id reply_to_user_id\n",
              "1 Twitter for Android  73                1.262107e+18       9.889751e+17    \n",
              "2 Twitter for iPad    149                1.262232e+18       7.153370e+17    \n",
              "3 Twitter for iPad    277                1.262232e+18       7.153370e+17    \n",
              "4 Twitter for iPad    214                1.262217e+18       2.323148e+09    \n",
              "5 Twitter for iPad    186                1.262131e+18       1.169874e+18    \n",
              "6 Twitter for iPad    199                1.262198e+18       1.169874e+18    \n",
              "  reply_to_screen_name ⋯ statuses_count favourites_count account_created_at  \n",
              "1 BLKMDL3              ⋯ 433            8164             2018-07-10T22:10:02Z\n",
              "2 TrevSully            ⋯ 583             362             2019-11-22T22:08:28Z\n",
              "3 TrevSully            ⋯ 583             362             2019-11-22T22:08:28Z\n",
              "4 Miss_Violet2014      ⋯ 583             362             2019-11-22T22:08:28Z\n",
              "5 jamison_casper       ⋯ 583             362             2019-11-22T22:08:28Z\n",
              "6 jamison_casper       ⋯ 583             362             2019-11-22T22:08:28Z\n",
              "  verified profile_url profile_expanded_url account_lang\n",
              "1 FALSE                                     NA          \n",
              "2 FALSE                                     NA          \n",
              "3 FALSE                                     NA          \n",
              "4 FALSE                                     NA          \n",
              "5 FALSE                                     NA          \n",
              "6 FALSE                                     NA          \n",
              "  profile_banner_url                                                  \n",
              "1                                                                     \n",
              "2 https://pbs.twimg.com/profile_banners/1198000188125827072/1580443845\n",
              "3 https://pbs.twimg.com/profile_banners/1198000188125827072/1580443845\n",
              "4 https://pbs.twimg.com/profile_banners/1198000188125827072/1580443845\n",
              "5 https://pbs.twimg.com/profile_banners/1198000188125827072/1580443845\n",
              "6 https://pbs.twimg.com/profile_banners/1198000188125827072/1580443845\n",
              "  profile_background_url\n",
              "1                       \n",
              "2                       \n",
              "3                       \n",
              "4                       \n",
              "5                       \n",
              "6                       \n",
              "  profile_image_url                                                          \n",
              "1 http://pbs.twimg.com/profile_images/1104867316322521091/2n_rsTF1_normal.jpg\n",
              "2 http://pbs.twimg.com/profile_images/1211049247426134018/ID1dUN5X_normal.jpg\n",
              "3 http://pbs.twimg.com/profile_images/1211049247426134018/ID1dUN5X_normal.jpg\n",
              "4 http://pbs.twimg.com/profile_images/1211049247426134018/ID1dUN5X_normal.jpg\n",
              "5 http://pbs.twimg.com/profile_images/1211049247426134018/ID1dUN5X_normal.jpg\n",
              "6 http://pbs.twimg.com/profile_images/1211049247426134018/ID1dUN5X_normal.jpg"
            ],
            "text/latex": "A data.frame: 6 × 90\n\\begin{tabular}{r|lllllllllllllllllllll}\n  & user\\_id & status\\_id & created\\_at & screen\\_name & text & source & display\\_text\\_width & reply\\_to\\_status\\_id & reply\\_to\\_user\\_id & reply\\_to\\_screen\\_name & ⋯ & statuses\\_count & favourites\\_count & account\\_created\\_at & verified & profile\\_url & profile\\_expanded\\_url & account\\_lang & profile\\_banner\\_url & profile\\_background\\_url & profile\\_image\\_url\\\\\n  & <dbl> & <dbl> & <fct> & <fct> & <fct> & <fct> & <int> & <dbl> & <dbl> & <fct> & ⋯ & <int> & <int> & <fct> & <lgl> & <fct> & <fct> & <lgl> & <fct> & <fct> & <fct>\\\\\n\\hline\n\t1 & 1.016807e+18 & 1.262241e+18 & 2020-05-18T04:36:31Z & 1LoafOfMeat & @BLKMDL3 @elonmusk @Tesla Oh sure ya showoff. Had to get the brand name fancy stuff. Mine is \\$1.99.                                                                                                                                                                                                                      & Twitter for Android &  73 & 1.262107e+18 & 9.889751e+17 & BLKMDL3         & ⋯ & 433 & 8164 & 2018-07-10T22:10:02Z & FALSE &  &  & NA &                                                                      &  & http://pbs.twimg.com/profile\\_images/1104867316322521091/2n\\_rsTF1\\_normal.jpg\\\\\n\t2 & 1.198000e+18 & 1.262241e+18 & 2020-05-18T04:36:17Z & 2beaux      & @TrevSully @ThomboyD @elonmusk BTW, Musk bought into Tesla when it was one-year old.  He not only was an investor, he built the company.\n\nBTW, do you even know what “B shares” are?                                                                                                                                   & Twitter for iPad    & 149 & 1.262232e+18 & 7.153370e+17 & TrevSully       & ⋯ & 583 &  362 & 2019-11-22T22:08:28Z & FALSE &  &  & NA & https://pbs.twimg.com/profile\\_banners/1198000188125827072/1580443845 &  & http://pbs.twimg.com/profile\\_images/1211049247426134018/ID1dUN5X\\_normal.jpg\\\\\n\t3 & 1.198000e+18 & 1.262240e+18 & 2020-05-18T04:32:08Z & 2beaux      & @TrevSully @ThomboyD @elonmusk He bought Tesla and built a handful of other companies.\n\nMusk is famously known to be an obsessed workaholic.  *That* has more to do with his success than anything else.\n\nYou sound petty, jealous and small.  When you accomplish what he accomplished, then you can bitch an moan. & Twitter for iPad    & 277 & 1.262232e+18 & 7.153370e+17 & TrevSully       & ⋯ & 583 &  362 & 2019-11-22T22:08:28Z & FALSE &  &  & NA & https://pbs.twimg.com/profile\\_banners/1198000188125827072/1580443845 &  & http://pbs.twimg.com/profile\\_images/1211049247426134018/ID1dUN5X\\_normal.jpg\\\\\n\t4 & 1.198000e+18 & 1.262218e+18 & 2020-05-18T03:04:49Z & 2beaux      & @Miss\\_Violet2014 @jamison\\_casper @ThomboyD @elonmusk Tesla won’t move.\n\nBut if they do it will be because Musk thought it would be a positive.  Further, the new location will employ lots of new people.\n\nAlameda county isn’t the only place in the U.S. that needs jobs.                                          & Twitter for iPad    & 214 & 1.262217e+18 & 2.323148e+09 & Miss\\_Violet2014 & ⋯ & 583 &  362 & 2019-11-22T22:08:28Z & FALSE &  &  & NA & https://pbs.twimg.com/profile\\_banners/1198000188125827072/1580443845 &  & http://pbs.twimg.com/profile\\_images/1211049247426134018/ID1dUN5X\\_normal.jpg\\\\\n\t5 & 1.198000e+18 & 1.262163e+18 & 2020-05-17T23:28:26Z & 2beaux      & @jamison\\_casper @Miss\\_Violet2014 @ThomboyD @elonmusk I believe the county approved Tesla’s COVID-19 Prevention plan (subject to some additional requirements) and will, with the police, enforce safe distancing.\n\nDoesn’t seem to be an issue.                                                                        & Twitter for iPad    & 186 & 1.262131e+18 & 1.169874e+18 & jamison\\_casper  & ⋯ & 583 &  362 & 2019-11-22T22:08:28Z & FALSE &  &  & NA & https://pbs.twimg.com/profile\\_banners/1198000188125827072/1580443845 &  & http://pbs.twimg.com/profile\\_images/1211049247426134018/ID1dUN5X\\_normal.jpg\\\\\n\t6 & 1.198000e+18 & 1.262198e+18 & 2020-05-18T01:47:00Z & 2beaux      & @jamison\\_casper @Miss\\_Violet2014 @ThomboyD @elonmusk What about other areas of the country where people are struggling and unemployment is going through the roof?  Are Alameda people more important than people elsewhere?\n\nTesla could help those people.                                                           & Twitter for iPad    & 199 & 1.262198e+18 & 1.169874e+18 & jamison\\_casper  & ⋯ & 583 &  362 & 2019-11-22T22:08:28Z & FALSE &  &  & NA & https://pbs.twimg.com/profile\\_banners/1198000188125827072/1580443845 &  & http://pbs.twimg.com/profile\\_images/1211049247426134018/ID1dUN5X\\_normal.jpg\\\\\n\\end{tabular}\n",
            "text/markdown": "\nA data.frame: 6 × 90\n\n| <!--/--> | user_id &lt;dbl&gt; | status_id &lt;dbl&gt; | created_at &lt;fct&gt; | screen_name &lt;fct&gt; | text &lt;fct&gt; | source &lt;fct&gt; | display_text_width &lt;int&gt; | reply_to_status_id &lt;dbl&gt; | reply_to_user_id &lt;dbl&gt; | reply_to_screen_name &lt;fct&gt; | ⋯ ⋯ | statuses_count &lt;int&gt; | favourites_count &lt;int&gt; | account_created_at &lt;fct&gt; | verified &lt;lgl&gt; | profile_url &lt;fct&gt; | profile_expanded_url &lt;fct&gt; | account_lang &lt;lgl&gt; | profile_banner_url &lt;fct&gt; | profile_background_url &lt;fct&gt; | profile_image_url &lt;fct&gt; |\n|---|---|---|---|---|---|---|---|---|---|---|---|---|---|---|---|---|---|---|---|---|---|\n| 1 | 1.016807e+18 | 1.262241e+18 | 2020-05-18T04:36:31Z | 1LoafOfMeat | @BLKMDL3 @elonmusk @Tesla Oh sure ya showoff. Had to get the brand name fancy stuff. Mine is $1.99.                                                                                                                                                                                                                      | Twitter for Android |  73 | 1.262107e+18 | 9.889751e+17 | BLKMDL3         | ⋯ | 433 | 8164 | 2018-07-10T22:10:02Z | FALSE | <!----> | <!----> | NA | <!----> | <!----> | http://pbs.twimg.com/profile_images/1104867316322521091/2n_rsTF1_normal.jpg |\n| 2 | 1.198000e+18 | 1.262241e+18 | 2020-05-18T04:36:17Z | 2beaux      | @TrevSully @ThomboyD @elonmusk BTW, Musk bought into Tesla when it was one-year old.  He not only was an investor, he built the company.\n\nBTW, do you even know what “B shares” are?                                                                                                                                   | Twitter for iPad    | 149 | 1.262232e+18 | 7.153370e+17 | TrevSully       | ⋯ | 583 |  362 | 2019-11-22T22:08:28Z | FALSE | <!----> | <!----> | NA | https://pbs.twimg.com/profile_banners/1198000188125827072/1580443845 | <!----> | http://pbs.twimg.com/profile_images/1211049247426134018/ID1dUN5X_normal.jpg |\n| 3 | 1.198000e+18 | 1.262240e+18 | 2020-05-18T04:32:08Z | 2beaux      | @TrevSully @ThomboyD @elonmusk He bought Tesla and built a handful of other companies.\n\nMusk is famously known to be an obsessed workaholic.  *That* has more to do with his success than anything else.\n\nYou sound petty, jealous and small.  When you accomplish what he accomplished, then you can bitch an moan. | Twitter for iPad    | 277 | 1.262232e+18 | 7.153370e+17 | TrevSully       | ⋯ | 583 |  362 | 2019-11-22T22:08:28Z | FALSE | <!----> | <!----> | NA | https://pbs.twimg.com/profile_banners/1198000188125827072/1580443845 | <!----> | http://pbs.twimg.com/profile_images/1211049247426134018/ID1dUN5X_normal.jpg |\n| 4 | 1.198000e+18 | 1.262218e+18 | 2020-05-18T03:04:49Z | 2beaux      | @Miss_Violet2014 @jamison_casper @ThomboyD @elonmusk Tesla won’t move.\n\nBut if they do it will be because Musk thought it would be a positive.  Further, the new location will employ lots of new people.\n\nAlameda county isn’t the only place in the U.S. that needs jobs.                                          | Twitter for iPad    | 214 | 1.262217e+18 | 2.323148e+09 | Miss_Violet2014 | ⋯ | 583 |  362 | 2019-11-22T22:08:28Z | FALSE | <!----> | <!----> | NA | https://pbs.twimg.com/profile_banners/1198000188125827072/1580443845 | <!----> | http://pbs.twimg.com/profile_images/1211049247426134018/ID1dUN5X_normal.jpg |\n| 5 | 1.198000e+18 | 1.262163e+18 | 2020-05-17T23:28:26Z | 2beaux      | @jamison_casper @Miss_Violet2014 @ThomboyD @elonmusk I believe the county approved Tesla’s COVID-19 Prevention plan (subject to some additional requirements) and will, with the police, enforce safe distancing.\n\nDoesn’t seem to be an issue.                                                                        | Twitter for iPad    | 186 | 1.262131e+18 | 1.169874e+18 | jamison_casper  | ⋯ | 583 |  362 | 2019-11-22T22:08:28Z | FALSE | <!----> | <!----> | NA | https://pbs.twimg.com/profile_banners/1198000188125827072/1580443845 | <!----> | http://pbs.twimg.com/profile_images/1211049247426134018/ID1dUN5X_normal.jpg |\n| 6 | 1.198000e+18 | 1.262198e+18 | 2020-05-18T01:47:00Z | 2beaux      | @jamison_casper @Miss_Violet2014 @ThomboyD @elonmusk What about other areas of the country where people are struggling and unemployment is going through the roof?  Are Alameda people more important than people elsewhere?\n\nTesla could help those people.                                                           | Twitter for iPad    | 199 | 1.262198e+18 | 1.169874e+18 | jamison_casper  | ⋯ | 583 |  362 | 2019-11-22T22:08:28Z | FALSE | <!----> | <!----> | NA | https://pbs.twimg.com/profile_banners/1198000188125827072/1580443845 | <!----> | http://pbs.twimg.com/profile_images/1211049247426134018/ID1dUN5X_normal.jpg |\n\n",
            "text/html": [
              "<table>\n",
              "<caption>A data.frame: 6 × 90</caption>\n",
              "<thead>\n",
              "\t<tr><th></th><th scope=col>user_id</th><th scope=col>status_id</th><th scope=col>created_at</th><th scope=col>screen_name</th><th scope=col>text</th><th scope=col>source</th><th scope=col>display_text_width</th><th scope=col>reply_to_status_id</th><th scope=col>reply_to_user_id</th><th scope=col>reply_to_screen_name</th><th scope=col>⋯</th><th scope=col>statuses_count</th><th scope=col>favourites_count</th><th scope=col>account_created_at</th><th scope=col>verified</th><th scope=col>profile_url</th><th scope=col>profile_expanded_url</th><th scope=col>account_lang</th><th scope=col>profile_banner_url</th><th scope=col>profile_background_url</th><th scope=col>profile_image_url</th></tr>\n",
              "\t<tr><th></th><th scope=col>&lt;dbl&gt;</th><th scope=col>&lt;dbl&gt;</th><th scope=col>&lt;fct&gt;</th><th scope=col>&lt;fct&gt;</th><th scope=col>&lt;fct&gt;</th><th scope=col>&lt;fct&gt;</th><th scope=col>&lt;int&gt;</th><th scope=col>&lt;dbl&gt;</th><th scope=col>&lt;dbl&gt;</th><th scope=col>&lt;fct&gt;</th><th scope=col>⋯</th><th scope=col>&lt;int&gt;</th><th scope=col>&lt;int&gt;</th><th scope=col>&lt;fct&gt;</th><th scope=col>&lt;lgl&gt;</th><th scope=col>&lt;fct&gt;</th><th scope=col>&lt;fct&gt;</th><th scope=col>&lt;lgl&gt;</th><th scope=col>&lt;fct&gt;</th><th scope=col>&lt;fct&gt;</th><th scope=col>&lt;fct&gt;</th></tr>\n",
              "</thead>\n",
              "<tbody>\n",
              "\t<tr><th scope=row>1</th><td>1.016807e+18</td><td>1.262241e+18</td><td>2020-05-18T04:36:31Z</td><td>1LoafOfMeat</td><td>@BLKMDL3 @elonmusk @Tesla Oh sure ya showoff. Had to get the brand name fancy stuff. Mine is $1.99.                                                                                                                                                                                                                     </td><td>Twitter for Android</td><td> 73</td><td>1.262107e+18</td><td>9.889751e+17</td><td>BLKMDL3        </td><td>⋯</td><td>433</td><td>8164</td><td>2018-07-10T22:10:02Z</td><td>FALSE</td><td></td><td></td><td>NA</td><td>                                                                    </td><td></td><td>http://pbs.twimg.com/profile_images/1104867316322521091/2n_rsTF1_normal.jpg</td></tr>\n",
              "\t<tr><th scope=row>2</th><td>1.198000e+18</td><td>1.262241e+18</td><td>2020-05-18T04:36:17Z</td><td>2beaux     </td><td>@TrevSully @ThomboyD @elonmusk BTW, Musk bought into Tesla when it was one-year old.  He not only was an investor, he built the company.\n",
              "\n",
              "BTW, do you even know what “B shares” are?                                                                                                                                  </td><td>Twitter for iPad   </td><td>149</td><td>1.262232e+18</td><td>7.153370e+17</td><td>TrevSully      </td><td>⋯</td><td>583</td><td> 362</td><td>2019-11-22T22:08:28Z</td><td>FALSE</td><td></td><td></td><td>NA</td><td>https://pbs.twimg.com/profile_banners/1198000188125827072/1580443845</td><td></td><td>http://pbs.twimg.com/profile_images/1211049247426134018/ID1dUN5X_normal.jpg</td></tr>\n",
              "\t<tr><th scope=row>3</th><td>1.198000e+18</td><td>1.262240e+18</td><td>2020-05-18T04:32:08Z</td><td>2beaux     </td><td>@TrevSully @ThomboyD @elonmusk He bought Tesla and built a handful of other companies.\n",
              "\n",
              "Musk is famously known to be an obsessed workaholic.  *That* has more to do with his success than anything else.\n",
              "\n",
              "You sound petty, jealous and small.  When you accomplish what he accomplished, then you can bitch an moan.</td><td>Twitter for iPad   </td><td>277</td><td>1.262232e+18</td><td>7.153370e+17</td><td>TrevSully      </td><td>⋯</td><td>583</td><td> 362</td><td>2019-11-22T22:08:28Z</td><td>FALSE</td><td></td><td></td><td>NA</td><td>https://pbs.twimg.com/profile_banners/1198000188125827072/1580443845</td><td></td><td>http://pbs.twimg.com/profile_images/1211049247426134018/ID1dUN5X_normal.jpg</td></tr>\n",
              "\t<tr><th scope=row>4</th><td>1.198000e+18</td><td>1.262218e+18</td><td>2020-05-18T03:04:49Z</td><td>2beaux     </td><td>@Miss_Violet2014 @jamison_casper @ThomboyD @elonmusk Tesla won’t move.\n",
              "\n",
              "But if they do it will be because Musk thought it would be a positive.  Further, the new location will employ lots of new people.\n",
              "\n",
              "Alameda county isn’t the only place in the U.S. that needs jobs.                                         </td><td>Twitter for iPad   </td><td>214</td><td>1.262217e+18</td><td>2.323148e+09</td><td>Miss_Violet2014</td><td>⋯</td><td>583</td><td> 362</td><td>2019-11-22T22:08:28Z</td><td>FALSE</td><td></td><td></td><td>NA</td><td>https://pbs.twimg.com/profile_banners/1198000188125827072/1580443845</td><td></td><td>http://pbs.twimg.com/profile_images/1211049247426134018/ID1dUN5X_normal.jpg</td></tr>\n",
              "\t<tr><th scope=row>5</th><td>1.198000e+18</td><td>1.262163e+18</td><td>2020-05-17T23:28:26Z</td><td>2beaux     </td><td>@jamison_casper @Miss_Violet2014 @ThomboyD @elonmusk I believe the county approved Tesla’s COVID-19 Prevention plan (subject to some additional requirements) and will, with the police, enforce safe distancing.\n",
              "\n",
              "Doesn’t seem to be an issue.                                                                       </td><td>Twitter for iPad   </td><td>186</td><td>1.262131e+18</td><td>1.169874e+18</td><td>jamison_casper </td><td>⋯</td><td>583</td><td> 362</td><td>2019-11-22T22:08:28Z</td><td>FALSE</td><td></td><td></td><td>NA</td><td>https://pbs.twimg.com/profile_banners/1198000188125827072/1580443845</td><td></td><td>http://pbs.twimg.com/profile_images/1211049247426134018/ID1dUN5X_normal.jpg</td></tr>\n",
              "\t<tr><th scope=row>6</th><td>1.198000e+18</td><td>1.262198e+18</td><td>2020-05-18T01:47:00Z</td><td>2beaux     </td><td>@jamison_casper @Miss_Violet2014 @ThomboyD @elonmusk What about other areas of the country where people are struggling and unemployment is going through the roof?  Are Alameda people more important than people elsewhere?\n",
              "\n",
              "Tesla could help those people.                                                          </td><td>Twitter for iPad   </td><td>199</td><td>1.262198e+18</td><td>1.169874e+18</td><td>jamison_casper </td><td>⋯</td><td>583</td><td> 362</td><td>2019-11-22T22:08:28Z</td><td>FALSE</td><td></td><td></td><td>NA</td><td>https://pbs.twimg.com/profile_banners/1198000188125827072/1580443845</td><td></td><td>http://pbs.twimg.com/profile_images/1211049247426134018/ID1dUN5X_normal.jpg</td></tr>\n",
              "</tbody>\n",
              "</table>\n"
            ]
          },
          "metadata": {
            "tags": []
          }
        }
      ]
    },
    {
      "cell_type": "code",
      "metadata": {
        "id": "dIjgkLxIpQBH",
        "colab_type": "code",
        "colab": {
          "base_uri": "https://localhost:8080/",
          "height": 68
        },
        "outputId": "88e2e707-7e6a-4d79-d943-f9f25f612be1"
      },
      "source": [
        "# View the `created_at` column in the tweet dataframe\n",
        "head(tesladf$created_at, 10)"
      ],
      "execution_count": 18,
      "outputs": [
        {
          "output_type": "display_data",
          "data": {
            "text/plain": [
              " [1] 2020-05-18T04:36:31Z 2020-05-18T04:36:17Z 2020-05-18T04:32:08Z\n",
              " [4] 2020-05-18T03:04:49Z 2020-05-17T23:28:26Z 2020-05-18T01:47:00Z\n",
              " [7] 2020-05-18T03:14:57Z 2020-05-17T21:34:09Z 2020-05-18T04:36:16Z\n",
              "[10] 2020-05-17T16:15:56Z\n",
              "16725 Levels: 2020-05-16T11:04:42Z 2020-05-16T11:04:52Z ... 2020-05-18T04:36:31Z"
            ],
            "text/latex": "\\begin{enumerate*}\n\\item 2020-05-18T04:36:31Z\n\\item 2020-05-18T04:36:17Z\n\\item 2020-05-18T04:32:08Z\n\\item 2020-05-18T03:04:49Z\n\\item 2020-05-17T23:28:26Z\n\\item 2020-05-18T01:47:00Z\n\\item 2020-05-18T03:14:57Z\n\\item 2020-05-17T21:34:09Z\n\\item 2020-05-18T04:36:16Z\n\\item 2020-05-17T16:15:56Z\n\\end{enumerate*}\n\n\\emph{Levels}: \\begin{enumerate*}\n\\item '2020-05-16T11:04:42Z'\n\\item '2020-05-16T11:04:52Z'\n\\item '2020-05-16T11:04:54Z'\n\\item '2020-05-16T11:04:58Z'\n\\item '2020-05-16T11:04:59Z'\n\\item '2020-05-16T11:05:48Z'\n\\item '2020-05-16T11:05:51Z'\n\\item '2020-05-16T11:06:00Z'\n\\item '2020-05-16T11:06:12Z'\n\\item '2020-05-16T11:06:14Z'\n\\item '2020-05-16T11:06:17Z'\n\\item '2020-05-16T11:06:19Z'\n\\item '2020-05-16T11:06:21Z'\n\\item '2020-05-16T11:06:34Z'\n\\item '2020-05-16T11:06:38Z'\n\\item '2020-05-16T11:06:50Z'\n\\item '2020-05-16T11:07:30Z'\n\\item '2020-05-16T11:08:03Z'\n\\item '2020-05-16T11:08:07Z'\n\\item '2020-05-16T11:08:21Z'\n\\item '2020-05-16T11:09:11Z'\n\\item '2020-05-16T11:09:14Z'\n\\item '2020-05-16T11:09:16Z'\n\\item '2020-05-16T11:10:01Z'\n\\item '2020-05-16T11:10:07Z'\n\\item '2020-05-16T11:10:21Z'\n\\item '2020-05-16T11:10:24Z'\n\\item '2020-05-16T11:10:45Z'\n\\item '2020-05-16T11:10:48Z'\n\\item '2020-05-16T11:10:50Z'\n\\item '2020-05-16T11:11:09Z'\n\\item '2020-05-16T11:11:49Z'\n\\item '2020-05-16T11:11:56Z'\n\\item '2020-05-16T11:12:39Z'\n\\item '2020-05-16T11:12:52Z'\n\\item '2020-05-16T11:12:54Z'\n\\item '2020-05-16T11:13:03Z'\n\\item '2020-05-16T11:13:16Z'\n\\item '2020-05-16T11:13:30Z'\n\\item '2020-05-16T11:14:06Z'\n\\item '2020-05-16T11:14:35Z'\n\\item '2020-05-16T11:14:38Z'\n\\item '2020-05-16T11:14:39Z'\n\\item '2020-05-16T11:14:47Z'\n\\item '2020-05-16T11:14:52Z'\n\\item '2020-05-16T11:15:29Z'\n\\item '2020-05-16T11:15:39Z'\n\\item '2020-05-16T11:15:56Z'\n\\item '2020-05-16T11:15:58Z'\n\\item '2020-05-16T11:16:18Z'\n\\item '2020-05-16T11:16:21Z'\n\\item '2020-05-16T11:16:36Z'\n\\item '2020-05-16T11:16:47Z'\n\\item '2020-05-16T11:17:10Z'\n\\item '2020-05-16T11:17:35Z'\n\\item '2020-05-16T11:17:38Z'\n\\item '2020-05-16T11:17:41Z'\n\\item '2020-05-16T11:17:44Z'\n\\item '2020-05-16T11:17:48Z'\n\\item '2020-05-16T11:18:50Z'\n\\item '2020-05-16T11:18:54Z'\n\\item '2020-05-16T11:18:55Z'\n\\item '2020-05-16T11:19:23Z'\n\\item '2020-05-16T11:19:42Z'\n\\item '2020-05-16T11:19:45Z'\n\\item '2020-05-16T11:19:59Z'\n\\item '2020-05-16T11:20:07Z'\n\\item '2020-05-16T11:20:18Z'\n\\item '2020-05-16T11:20:31Z'\n\\item '2020-05-16T11:20:52Z'\n\\item '2020-05-16T11:21:13Z'\n\\item '2020-05-16T11:21:23Z'\n\\item '2020-05-16T11:21:59Z'\n\\item '2020-05-16T11:22:10Z'\n\\item '2020-05-16T11:22:51Z'\n\\item '2020-05-16T11:23:43Z'\n\\item '2020-05-16T11:23:49Z'\n\\item '2020-05-16T11:23:50Z'\n\\item '2020-05-16T11:23:55Z'\n\\item '2020-05-16T11:24:17Z'\n\\item '2020-05-16T11:24:26Z'\n\\item '2020-05-16T11:24:59Z'\n\\item '2020-05-16T11:25:04Z'\n\\item '2020-05-16T11:25:11Z'\n\\item '2020-05-16T11:25:28Z'\n\\item '2020-05-16T11:26:27Z'\n\\item '2020-05-16T11:26:40Z'\n\\item '2020-05-16T11:26:48Z'\n\\item '2020-05-16T11:27:03Z'\n\\item '2020-05-16T11:27:40Z'\n\\item '2020-05-16T11:27:49Z'\n\\item '2020-05-16T11:28:30Z'\n\\item '2020-05-16T11:28:52Z'\n\\item '2020-05-16T11:29:22Z'\n\\item '2020-05-16T11:29:34Z'\n\\item '2020-05-16T11:29:40Z'\n\\item '2020-05-16T11:29:48Z'\n\\item '2020-05-16T11:29:56Z'\n\\item '2020-05-16T11:30:00Z'\n\\item '2020-05-16T11:30:08Z'\n\\item '2020-05-16T11:30:21Z'\n\\item '2020-05-16T11:30:29Z'\n\\item '2020-05-16T11:30:36Z'\n\\item '2020-05-16T11:30:40Z'\n\\item '2020-05-16T11:30:41Z'\n\\item '2020-05-16T11:31:04Z'\n\\item '2020-05-16T11:31:14Z'\n\\item '2020-05-16T11:31:16Z'\n\\item '2020-05-16T11:31:41Z'\n\\item '2020-05-16T11:31:51Z'\n\\item '2020-05-16T11:31:59Z'\n\\item '2020-05-16T11:32:33Z'\n\\item '2020-05-16T11:32:41Z'\n\\item '2020-05-16T11:32:50Z'\n\\item '2020-05-16T11:33:20Z'\n\\item '2020-05-16T11:33:23Z'\n\\item '2020-05-16T11:33:47Z'\n\\item '2020-05-16T11:34:13Z'\n\\item '2020-05-16T11:35:03Z'\n\\item '2020-05-16T11:35:15Z'\n\\item '2020-05-16T11:35:38Z'\n\\item '2020-05-16T11:35:55Z'\n\\item '2020-05-16T11:36:04Z'\n\\item '2020-05-16T11:36:05Z'\n\\item '2020-05-16T11:36:10Z'\n\\item '2020-05-16T11:36:11Z'\n\\item '2020-05-16T11:36:47Z'\n\\item '2020-05-16T11:36:57Z'\n\\item '2020-05-16T11:37:09Z'\n\\item '2020-05-16T11:37:17Z'\n\\item '2020-05-16T11:37:18Z'\n\\item '2020-05-16T11:37:32Z'\n\\item '2020-05-16T11:38:00Z'\n\\item '2020-05-16T11:38:02Z'\n\\item '2020-05-16T11:38:07Z'\n\\item '2020-05-16T11:38:15Z'\n\\item '2020-05-16T11:38:20Z'\n\\item '2020-05-16T11:38:54Z'\n\\item '2020-05-16T11:39:02Z'\n\\item '2020-05-16T11:39:14Z'\n\\item '2020-05-16T11:39:37Z'\n\\item '2020-05-16T11:39:40Z'\n\\item '2020-05-16T11:40:01Z'\n\\item '2020-05-16T11:40:04Z'\n\\item '2020-05-16T11:40:27Z'\n\\item '2020-05-16T11:40:46Z'\n\\item '2020-05-16T11:41:03Z'\n\\item '2020-05-16T11:41:16Z'\n\\item '2020-05-16T11:41:28Z'\n\\item '2020-05-16T11:41:31Z'\n\\item '2020-05-16T11:41:34Z'\n\\item '2020-05-16T11:41:57Z'\n\\item '2020-05-16T11:42:05Z'\n\\item '2020-05-16T11:42:25Z'\n\\item '2020-05-16T11:43:18Z'\n\\item '2020-05-16T11:43:26Z'\n\\item '2020-05-16T11:43:34Z'\n\\item '2020-05-16T11:43:57Z'\n\\item '2020-05-16T11:44:00Z'\n\\item '2020-05-16T11:44:04Z'\n\\item '2020-05-16T11:44:14Z'\n\\item '2020-05-16T11:44:16Z'\n\\item '2020-05-16T11:44:19Z'\n\\item '2020-05-16T11:44:30Z'\n\\item '2020-05-16T11:44:43Z'\n\\item '2020-05-16T11:44:44Z'\n\\item '2020-05-16T11:44:53Z'\n\\item '2020-05-16T11:45:07Z'\n\\item '2020-05-16T11:45:12Z'\n\\item '2020-05-16T11:45:19Z'\n\\item '2020-05-16T11:45:46Z'\n\\item '2020-05-16T11:46:08Z'\n\\item '2020-05-16T11:46:18Z'\n\\item '2020-05-16T11:46:21Z'\n\\item '2020-05-16T11:46:46Z'\n\\item '2020-05-16T11:47:05Z'\n\\item '2020-05-16T11:47:09Z'\n\\item '2020-05-16T11:47:18Z'\n\\item '2020-05-16T11:47:28Z'\n\\item '2020-05-16T11:47:37Z'\n\\item '2020-05-16T11:47:47Z'\n\\item '2020-05-16T11:47:59Z'\n\\item '2020-05-16T11:48:04Z'\n\\item '2020-05-16T11:48:11Z'\n\\item '2020-05-16T11:48:30Z'\n\\item '2020-05-16T11:48:51Z'\n\\item '2020-05-16T11:48:59Z'\n\\item '2020-05-16T11:49:17Z'\n\\item '2020-05-16T11:49:25Z'\n\\item '2020-05-16T11:49:43Z'\n\\item '2020-05-16T11:50:17Z'\n\\item '2020-05-16T11:50:21Z'\n\\item '2020-05-16T11:50:28Z'\n\\item '2020-05-16T11:50:45Z'\n\\item '2020-05-16T11:50:51Z'\n\\item '2020-05-16T11:50:58Z'\n\\item '2020-05-16T11:51:11Z'\n\\item '2020-05-16T11:51:13Z'\n\\item '2020-05-16T11:51:21Z'\n\\item '2020-05-16T11:51:23Z'\n\\item ⋯\n\\item '2020-05-18T04:06:06Z'\n\\item '2020-05-18T04:06:10Z'\n\\item '2020-05-18T04:06:11Z'\n\\item '2020-05-18T04:06:28Z'\n\\item '2020-05-18T04:06:40Z'\n\\item '2020-05-18T04:06:44Z'\n\\item '2020-05-18T04:06:50Z'\n\\item '2020-05-18T04:06:55Z'\n\\item '2020-05-18T04:07:07Z'\n\\item '2020-05-18T04:07:08Z'\n\\item '2020-05-18T04:07:12Z'\n\\item '2020-05-18T04:07:19Z'\n\\item '2020-05-18T04:07:38Z'\n\\item '2020-05-18T04:07:40Z'\n\\item '2020-05-18T04:08:03Z'\n\\item '2020-05-18T04:08:14Z'\n\\item '2020-05-18T04:08:18Z'\n\\item '2020-05-18T04:08:28Z'\n\\item '2020-05-18T04:08:34Z'\n\\item '2020-05-18T04:08:40Z'\n\\item '2020-05-18T04:09:05Z'\n\\item '2020-05-18T04:09:06Z'\n\\item '2020-05-18T04:09:13Z'\n\\item '2020-05-18T04:09:16Z'\n\\item '2020-05-18T04:09:19Z'\n\\item '2020-05-18T04:09:25Z'\n\\item '2020-05-18T04:09:26Z'\n\\item '2020-05-18T04:09:30Z'\n\\item '2020-05-18T04:09:36Z'\n\\item '2020-05-18T04:09:56Z'\n\\item '2020-05-18T04:10:01Z'\n\\item '2020-05-18T04:10:10Z'\n\\item '2020-05-18T04:10:22Z'\n\\item '2020-05-18T04:10:27Z'\n\\item '2020-05-18T04:10:32Z'\n\\item '2020-05-18T04:10:35Z'\n\\item '2020-05-18T04:10:49Z'\n\\item '2020-05-18T04:10:50Z'\n\\item '2020-05-18T04:11:01Z'\n\\item '2020-05-18T04:11:03Z'\n\\item '2020-05-18T04:11:06Z'\n\\item '2020-05-18T04:11:23Z'\n\\item '2020-05-18T04:11:49Z'\n\\item '2020-05-18T04:11:59Z'\n\\item '2020-05-18T04:12:16Z'\n\\item '2020-05-18T04:12:24Z'\n\\item '2020-05-18T04:12:53Z'\n\\item '2020-05-18T04:13:11Z'\n\\item '2020-05-18T04:13:22Z'\n\\item '2020-05-18T04:13:31Z'\n\\item '2020-05-18T04:13:34Z'\n\\item '2020-05-18T04:13:39Z'\n\\item '2020-05-18T04:13:57Z'\n\\item '2020-05-18T04:14:02Z'\n\\item '2020-05-18T04:14:15Z'\n\\item '2020-05-18T04:14:19Z'\n\\item '2020-05-18T04:14:30Z'\n\\item '2020-05-18T04:14:31Z'\n\\item '2020-05-18T04:14:33Z'\n\\item '2020-05-18T04:14:36Z'\n\\item '2020-05-18T04:14:43Z'\n\\item '2020-05-18T04:14:47Z'\n\\item '2020-05-18T04:15:00Z'\n\\item '2020-05-18T04:15:41Z'\n\\item '2020-05-18T04:15:57Z'\n\\item '2020-05-18T04:16:01Z'\n\\item '2020-05-18T04:16:06Z'\n\\item '2020-05-18T04:16:29Z'\n\\item '2020-05-18T04:16:32Z'\n\\item '2020-05-18T04:16:38Z'\n\\item '2020-05-18T04:16:41Z'\n\\item '2020-05-18T04:16:56Z'\n\\item '2020-05-18T04:17:19Z'\n\\item '2020-05-18T04:17:25Z'\n\\item '2020-05-18T04:17:27Z'\n\\item '2020-05-18T04:17:37Z'\n\\item '2020-05-18T04:17:40Z'\n\\item '2020-05-18T04:17:57Z'\n\\item '2020-05-18T04:18:01Z'\n\\item '2020-05-18T04:18:03Z'\n\\item '2020-05-18T04:18:10Z'\n\\item '2020-05-18T04:18:32Z'\n\\item '2020-05-18T04:18:33Z'\n\\item '2020-05-18T04:18:34Z'\n\\item '2020-05-18T04:18:37Z'\n\\item '2020-05-18T04:18:52Z'\n\\item '2020-05-18T04:18:58Z'\n\\item '2020-05-18T04:19:03Z'\n\\item '2020-05-18T04:19:07Z'\n\\item '2020-05-18T04:19:16Z'\n\\item '2020-05-18T04:19:19Z'\n\\item '2020-05-18T04:19:22Z'\n\\item '2020-05-18T04:19:27Z'\n\\item '2020-05-18T04:19:35Z'\n\\item '2020-05-18T04:19:39Z'\n\\item '2020-05-18T04:19:47Z'\n\\item '2020-05-18T04:19:48Z'\n\\item '2020-05-18T04:19:49Z'\n\\item '2020-05-18T04:20:00Z'\n\\item '2020-05-18T04:20:10Z'\n\\item '2020-05-18T04:20:17Z'\n\\item '2020-05-18T04:20:22Z'\n\\item '2020-05-18T04:20:40Z'\n\\item '2020-05-18T04:20:43Z'\n\\item '2020-05-18T04:21:07Z'\n\\item '2020-05-18T04:21:11Z'\n\\item '2020-05-18T04:21:16Z'\n\\item '2020-05-18T04:21:23Z'\n\\item '2020-05-18T04:21:28Z'\n\\item '2020-05-18T04:21:33Z'\n\\item '2020-05-18T04:21:40Z'\n\\item '2020-05-18T04:21:43Z'\n\\item '2020-05-18T04:22:05Z'\n\\item '2020-05-18T04:22:09Z'\n\\item '2020-05-18T04:22:19Z'\n\\item '2020-05-18T04:22:33Z'\n\\item '2020-05-18T04:22:40Z'\n\\item '2020-05-18T04:22:58Z'\n\\item '2020-05-18T04:23:00Z'\n\\item '2020-05-18T04:23:02Z'\n\\item '2020-05-18T04:23:27Z'\n\\item '2020-05-18T04:23:45Z'\n\\item '2020-05-18T04:23:47Z'\n\\item '2020-05-18T04:23:50Z'\n\\item '2020-05-18T04:24:00Z'\n\\item '2020-05-18T04:24:01Z'\n\\item '2020-05-18T04:24:06Z'\n\\item '2020-05-18T04:24:08Z'\n\\item '2020-05-18T04:24:12Z'\n\\item '2020-05-18T04:24:27Z'\n\\item '2020-05-18T04:24:35Z'\n\\item '2020-05-18T04:24:48Z'\n\\item '2020-05-18T04:25:31Z'\n\\item '2020-05-18T04:25:37Z'\n\\item '2020-05-18T04:25:40Z'\n\\item '2020-05-18T04:25:48Z'\n\\item '2020-05-18T04:25:56Z'\n\\item '2020-05-18T04:25:58Z'\n\\item '2020-05-18T04:25:59Z'\n\\item '2020-05-18T04:26:35Z'\n\\item '2020-05-18T04:26:50Z'\n\\item '2020-05-18T04:27:15Z'\n\\item '2020-05-18T04:27:18Z'\n\\item '2020-05-18T04:27:40Z'\n\\item '2020-05-18T04:28:09Z'\n\\item '2020-05-18T04:28:18Z'\n\\item '2020-05-18T04:28:43Z'\n\\item '2020-05-18T04:28:51Z'\n\\item '2020-05-18T04:29:11Z'\n\\item '2020-05-18T04:29:17Z'\n\\item '2020-05-18T04:29:24Z'\n\\item '2020-05-18T04:29:27Z'\n\\item '2020-05-18T04:29:32Z'\n\\item '2020-05-18T04:30:00Z'\n\\item '2020-05-18T04:30:02Z'\n\\item '2020-05-18T04:30:03Z'\n\\item '2020-05-18T04:30:14Z'\n\\item '2020-05-18T04:30:18Z'\n\\item '2020-05-18T04:30:25Z'\n\\item '2020-05-18T04:30:27Z'\n\\item '2020-05-18T04:30:28Z'\n\\item '2020-05-18T04:30:41Z'\n\\item '2020-05-18T04:30:46Z'\n\\item '2020-05-18T04:30:57Z'\n\\item '2020-05-18T04:31:05Z'\n\\item '2020-05-18T04:31:25Z'\n\\item '2020-05-18T04:31:34Z'\n\\item '2020-05-18T04:31:57Z'\n\\item '2020-05-18T04:32:06Z'\n\\item '2020-05-18T04:32:08Z'\n\\item '2020-05-18T04:32:16Z'\n\\item '2020-05-18T04:32:32Z'\n\\item '2020-05-18T04:32:35Z'\n\\item '2020-05-18T04:32:45Z'\n\\item '2020-05-18T04:33:05Z'\n\\item '2020-05-18T04:33:22Z'\n\\item '2020-05-18T04:33:37Z'\n\\item '2020-05-18T04:33:40Z'\n\\item '2020-05-18T04:33:50Z'\n\\item '2020-05-18T04:33:57Z'\n\\item '2020-05-18T04:34:14Z'\n\\item '2020-05-18T04:34:16Z'\n\\item '2020-05-18T04:34:17Z'\n\\item '2020-05-18T04:34:18Z'\n\\item '2020-05-18T04:34:48Z'\n\\item '2020-05-18T04:34:55Z'\n\\item '2020-05-18T04:34:58Z'\n\\item '2020-05-18T04:35:13Z'\n\\item '2020-05-18T04:35:20Z'\n\\item '2020-05-18T04:35:28Z'\n\\item '2020-05-18T04:35:41Z'\n\\item '2020-05-18T04:35:45Z'\n\\item '2020-05-18T04:35:49Z'\n\\item '2020-05-18T04:35:54Z'\n\\item '2020-05-18T04:36:00Z'\n\\item '2020-05-18T04:36:02Z'\n\\item '2020-05-18T04:36:10Z'\n\\item '2020-05-18T04:36:16Z'\n\\item '2020-05-18T04:36:17Z'\n\\item '2020-05-18T04:36:31Z'\n\\end{enumerate*}\n",
            "text/markdown": "1. 2020-05-18T04:36:31Z\n2. 2020-05-18T04:36:17Z\n3. 2020-05-18T04:32:08Z\n4. 2020-05-18T03:04:49Z\n5. 2020-05-17T23:28:26Z\n6. 2020-05-18T01:47:00Z\n7. 2020-05-18T03:14:57Z\n8. 2020-05-17T21:34:09Z\n9. 2020-05-18T04:36:16Z\n10. 2020-05-17T16:15:56Z\n\n\n\n**Levels**: 1. '2020-05-16T11:04:42Z'\n2. '2020-05-16T11:04:52Z'\n3. '2020-05-16T11:04:54Z'\n4. '2020-05-16T11:04:58Z'\n5. '2020-05-16T11:04:59Z'\n6. '2020-05-16T11:05:48Z'\n7. '2020-05-16T11:05:51Z'\n8. '2020-05-16T11:06:00Z'\n9. '2020-05-16T11:06:12Z'\n10. '2020-05-16T11:06:14Z'\n11. '2020-05-16T11:06:17Z'\n12. '2020-05-16T11:06:19Z'\n13. '2020-05-16T11:06:21Z'\n14. '2020-05-16T11:06:34Z'\n15. '2020-05-16T11:06:38Z'\n16. '2020-05-16T11:06:50Z'\n17. '2020-05-16T11:07:30Z'\n18. '2020-05-16T11:08:03Z'\n19. '2020-05-16T11:08:07Z'\n20. '2020-05-16T11:08:21Z'\n21. '2020-05-16T11:09:11Z'\n22. '2020-05-16T11:09:14Z'\n23. '2020-05-16T11:09:16Z'\n24. '2020-05-16T11:10:01Z'\n25. '2020-05-16T11:10:07Z'\n26. '2020-05-16T11:10:21Z'\n27. '2020-05-16T11:10:24Z'\n28. '2020-05-16T11:10:45Z'\n29. '2020-05-16T11:10:48Z'\n30. '2020-05-16T11:10:50Z'\n31. '2020-05-16T11:11:09Z'\n32. '2020-05-16T11:11:49Z'\n33. '2020-05-16T11:11:56Z'\n34. '2020-05-16T11:12:39Z'\n35. '2020-05-16T11:12:52Z'\n36. '2020-05-16T11:12:54Z'\n37. '2020-05-16T11:13:03Z'\n38. '2020-05-16T11:13:16Z'\n39. '2020-05-16T11:13:30Z'\n40. '2020-05-16T11:14:06Z'\n41. '2020-05-16T11:14:35Z'\n42. '2020-05-16T11:14:38Z'\n43. '2020-05-16T11:14:39Z'\n44. '2020-05-16T11:14:47Z'\n45. '2020-05-16T11:14:52Z'\n46. '2020-05-16T11:15:29Z'\n47. '2020-05-16T11:15:39Z'\n48. '2020-05-16T11:15:56Z'\n49. '2020-05-16T11:15:58Z'\n50. '2020-05-16T11:16:18Z'\n51. '2020-05-16T11:16:21Z'\n52. '2020-05-16T11:16:36Z'\n53. '2020-05-16T11:16:47Z'\n54. '2020-05-16T11:17:10Z'\n55. '2020-05-16T11:17:35Z'\n56. '2020-05-16T11:17:38Z'\n57. '2020-05-16T11:17:41Z'\n58. '2020-05-16T11:17:44Z'\n59. '2020-05-16T11:17:48Z'\n60. '2020-05-16T11:18:50Z'\n61. '2020-05-16T11:18:54Z'\n62. '2020-05-16T11:18:55Z'\n63. '2020-05-16T11:19:23Z'\n64. '2020-05-16T11:19:42Z'\n65. '2020-05-16T11:19:45Z'\n66. '2020-05-16T11:19:59Z'\n67. '2020-05-16T11:20:07Z'\n68. '2020-05-16T11:20:18Z'\n69. '2020-05-16T11:20:31Z'\n70. '2020-05-16T11:20:52Z'\n71. '2020-05-16T11:21:13Z'\n72. '2020-05-16T11:21:23Z'\n73. '2020-05-16T11:21:59Z'\n74. '2020-05-16T11:22:10Z'\n75. '2020-05-16T11:22:51Z'\n76. '2020-05-16T11:23:43Z'\n77. '2020-05-16T11:23:49Z'\n78. '2020-05-16T11:23:50Z'\n79. '2020-05-16T11:23:55Z'\n80. '2020-05-16T11:24:17Z'\n81. '2020-05-16T11:24:26Z'\n82. '2020-05-16T11:24:59Z'\n83. '2020-05-16T11:25:04Z'\n84. '2020-05-16T11:25:11Z'\n85. '2020-05-16T11:25:28Z'\n86. '2020-05-16T11:26:27Z'\n87. '2020-05-16T11:26:40Z'\n88. '2020-05-16T11:26:48Z'\n89. '2020-05-16T11:27:03Z'\n90. '2020-05-16T11:27:40Z'\n91. '2020-05-16T11:27:49Z'\n92. '2020-05-16T11:28:30Z'\n93. '2020-05-16T11:28:52Z'\n94. '2020-05-16T11:29:22Z'\n95. '2020-05-16T11:29:34Z'\n96. '2020-05-16T11:29:40Z'\n97. '2020-05-16T11:29:48Z'\n98. '2020-05-16T11:29:56Z'\n99. '2020-05-16T11:30:00Z'\n100. '2020-05-16T11:30:08Z'\n101. '2020-05-16T11:30:21Z'\n102. '2020-05-16T11:30:29Z'\n103. '2020-05-16T11:30:36Z'\n104. '2020-05-16T11:30:40Z'\n105. '2020-05-16T11:30:41Z'\n106. '2020-05-16T11:31:04Z'\n107. '2020-05-16T11:31:14Z'\n108. '2020-05-16T11:31:16Z'\n109. '2020-05-16T11:31:41Z'\n110. '2020-05-16T11:31:51Z'\n111. '2020-05-16T11:31:59Z'\n112. '2020-05-16T11:32:33Z'\n113. '2020-05-16T11:32:41Z'\n114. '2020-05-16T11:32:50Z'\n115. '2020-05-16T11:33:20Z'\n116. '2020-05-16T11:33:23Z'\n117. '2020-05-16T11:33:47Z'\n118. '2020-05-16T11:34:13Z'\n119. '2020-05-16T11:35:03Z'\n120. '2020-05-16T11:35:15Z'\n121. '2020-05-16T11:35:38Z'\n122. '2020-05-16T11:35:55Z'\n123. '2020-05-16T11:36:04Z'\n124. '2020-05-16T11:36:05Z'\n125. '2020-05-16T11:36:10Z'\n126. '2020-05-16T11:36:11Z'\n127. '2020-05-16T11:36:47Z'\n128. '2020-05-16T11:36:57Z'\n129. '2020-05-16T11:37:09Z'\n130. '2020-05-16T11:37:17Z'\n131. '2020-05-16T11:37:18Z'\n132. '2020-05-16T11:37:32Z'\n133. '2020-05-16T11:38:00Z'\n134. '2020-05-16T11:38:02Z'\n135. '2020-05-16T11:38:07Z'\n136. '2020-05-16T11:38:15Z'\n137. '2020-05-16T11:38:20Z'\n138. '2020-05-16T11:38:54Z'\n139. '2020-05-16T11:39:02Z'\n140. '2020-05-16T11:39:14Z'\n141. '2020-05-16T11:39:37Z'\n142. '2020-05-16T11:39:40Z'\n143. '2020-05-16T11:40:01Z'\n144. '2020-05-16T11:40:04Z'\n145. '2020-05-16T11:40:27Z'\n146. '2020-05-16T11:40:46Z'\n147. '2020-05-16T11:41:03Z'\n148. '2020-05-16T11:41:16Z'\n149. '2020-05-16T11:41:28Z'\n150. '2020-05-16T11:41:31Z'\n151. '2020-05-16T11:41:34Z'\n152. '2020-05-16T11:41:57Z'\n153. '2020-05-16T11:42:05Z'\n154. '2020-05-16T11:42:25Z'\n155. '2020-05-16T11:43:18Z'\n156. '2020-05-16T11:43:26Z'\n157. '2020-05-16T11:43:34Z'\n158. '2020-05-16T11:43:57Z'\n159. '2020-05-16T11:44:00Z'\n160. '2020-05-16T11:44:04Z'\n161. '2020-05-16T11:44:14Z'\n162. '2020-05-16T11:44:16Z'\n163. '2020-05-16T11:44:19Z'\n164. '2020-05-16T11:44:30Z'\n165. '2020-05-16T11:44:43Z'\n166. '2020-05-16T11:44:44Z'\n167. '2020-05-16T11:44:53Z'\n168. '2020-05-16T11:45:07Z'\n169. '2020-05-16T11:45:12Z'\n170. '2020-05-16T11:45:19Z'\n171. '2020-05-16T11:45:46Z'\n172. '2020-05-16T11:46:08Z'\n173. '2020-05-16T11:46:18Z'\n174. '2020-05-16T11:46:21Z'\n175. '2020-05-16T11:46:46Z'\n176. '2020-05-16T11:47:05Z'\n177. '2020-05-16T11:47:09Z'\n178. '2020-05-16T11:47:18Z'\n179. '2020-05-16T11:47:28Z'\n180. '2020-05-16T11:47:37Z'\n181. '2020-05-16T11:47:47Z'\n182. '2020-05-16T11:47:59Z'\n183. '2020-05-16T11:48:04Z'\n184. '2020-05-16T11:48:11Z'\n185. '2020-05-16T11:48:30Z'\n186. '2020-05-16T11:48:51Z'\n187. '2020-05-16T11:48:59Z'\n188. '2020-05-16T11:49:17Z'\n189. '2020-05-16T11:49:25Z'\n190. '2020-05-16T11:49:43Z'\n191. '2020-05-16T11:50:17Z'\n192. '2020-05-16T11:50:21Z'\n193. '2020-05-16T11:50:28Z'\n194. '2020-05-16T11:50:45Z'\n195. '2020-05-16T11:50:51Z'\n196. '2020-05-16T11:50:58Z'\n197. '2020-05-16T11:51:11Z'\n198. '2020-05-16T11:51:13Z'\n199. '2020-05-16T11:51:21Z'\n200. '2020-05-16T11:51:23Z'\n201. ⋯\n202. '2020-05-18T04:06:06Z'\n203. '2020-05-18T04:06:10Z'\n204. '2020-05-18T04:06:11Z'\n205. '2020-05-18T04:06:28Z'\n206. '2020-05-18T04:06:40Z'\n207. '2020-05-18T04:06:44Z'\n208. '2020-05-18T04:06:50Z'\n209. '2020-05-18T04:06:55Z'\n210. '2020-05-18T04:07:07Z'\n211. '2020-05-18T04:07:08Z'\n212. '2020-05-18T04:07:12Z'\n213. '2020-05-18T04:07:19Z'\n214. '2020-05-18T04:07:38Z'\n215. '2020-05-18T04:07:40Z'\n216. '2020-05-18T04:08:03Z'\n217. '2020-05-18T04:08:14Z'\n218. '2020-05-18T04:08:18Z'\n219. '2020-05-18T04:08:28Z'\n220. '2020-05-18T04:08:34Z'\n221. '2020-05-18T04:08:40Z'\n222. '2020-05-18T04:09:05Z'\n223. '2020-05-18T04:09:06Z'\n224. '2020-05-18T04:09:13Z'\n225. '2020-05-18T04:09:16Z'\n226. '2020-05-18T04:09:19Z'\n227. '2020-05-18T04:09:25Z'\n228. '2020-05-18T04:09:26Z'\n229. '2020-05-18T04:09:30Z'\n230. '2020-05-18T04:09:36Z'\n231. '2020-05-18T04:09:56Z'\n232. '2020-05-18T04:10:01Z'\n233. '2020-05-18T04:10:10Z'\n234. '2020-05-18T04:10:22Z'\n235. '2020-05-18T04:10:27Z'\n236. '2020-05-18T04:10:32Z'\n237. '2020-05-18T04:10:35Z'\n238. '2020-05-18T04:10:49Z'\n239. '2020-05-18T04:10:50Z'\n240. '2020-05-18T04:11:01Z'\n241. '2020-05-18T04:11:03Z'\n242. '2020-05-18T04:11:06Z'\n243. '2020-05-18T04:11:23Z'\n244. '2020-05-18T04:11:49Z'\n245. '2020-05-18T04:11:59Z'\n246. '2020-05-18T04:12:16Z'\n247. '2020-05-18T04:12:24Z'\n248. '2020-05-18T04:12:53Z'\n249. '2020-05-18T04:13:11Z'\n250. '2020-05-18T04:13:22Z'\n251. '2020-05-18T04:13:31Z'\n252. '2020-05-18T04:13:34Z'\n253. '2020-05-18T04:13:39Z'\n254. '2020-05-18T04:13:57Z'\n255. '2020-05-18T04:14:02Z'\n256. '2020-05-18T04:14:15Z'\n257. '2020-05-18T04:14:19Z'\n258. '2020-05-18T04:14:30Z'\n259. '2020-05-18T04:14:31Z'\n260. '2020-05-18T04:14:33Z'\n261. '2020-05-18T04:14:36Z'\n262. '2020-05-18T04:14:43Z'\n263. '2020-05-18T04:14:47Z'\n264. '2020-05-18T04:15:00Z'\n265. '2020-05-18T04:15:41Z'\n266. '2020-05-18T04:15:57Z'\n267. '2020-05-18T04:16:01Z'\n268. '2020-05-18T04:16:06Z'\n269. '2020-05-18T04:16:29Z'\n270. '2020-05-18T04:16:32Z'\n271. '2020-05-18T04:16:38Z'\n272. '2020-05-18T04:16:41Z'\n273. '2020-05-18T04:16:56Z'\n274. '2020-05-18T04:17:19Z'\n275. '2020-05-18T04:17:25Z'\n276. '2020-05-18T04:17:27Z'\n277. '2020-05-18T04:17:37Z'\n278. '2020-05-18T04:17:40Z'\n279. '2020-05-18T04:17:57Z'\n280. '2020-05-18T04:18:01Z'\n281. '2020-05-18T04:18:03Z'\n282. '2020-05-18T04:18:10Z'\n283. '2020-05-18T04:18:32Z'\n284. '2020-05-18T04:18:33Z'\n285. '2020-05-18T04:18:34Z'\n286. '2020-05-18T04:18:37Z'\n287. '2020-05-18T04:18:52Z'\n288. '2020-05-18T04:18:58Z'\n289. '2020-05-18T04:19:03Z'\n290. '2020-05-18T04:19:07Z'\n291. '2020-05-18T04:19:16Z'\n292. '2020-05-18T04:19:19Z'\n293. '2020-05-18T04:19:22Z'\n294. '2020-05-18T04:19:27Z'\n295. '2020-05-18T04:19:35Z'\n296. '2020-05-18T04:19:39Z'\n297. '2020-05-18T04:19:47Z'\n298. '2020-05-18T04:19:48Z'\n299. '2020-05-18T04:19:49Z'\n300. '2020-05-18T04:20:00Z'\n301. '2020-05-18T04:20:10Z'\n302. '2020-05-18T04:20:17Z'\n303. '2020-05-18T04:20:22Z'\n304. '2020-05-18T04:20:40Z'\n305. '2020-05-18T04:20:43Z'\n306. '2020-05-18T04:21:07Z'\n307. '2020-05-18T04:21:11Z'\n308. '2020-05-18T04:21:16Z'\n309. '2020-05-18T04:21:23Z'\n310. '2020-05-18T04:21:28Z'\n311. '2020-05-18T04:21:33Z'\n312. '2020-05-18T04:21:40Z'\n313. '2020-05-18T04:21:43Z'\n314. '2020-05-18T04:22:05Z'\n315. '2020-05-18T04:22:09Z'\n316. '2020-05-18T04:22:19Z'\n317. '2020-05-18T04:22:33Z'\n318. '2020-05-18T04:22:40Z'\n319. '2020-05-18T04:22:58Z'\n320. '2020-05-18T04:23:00Z'\n321. '2020-05-18T04:23:02Z'\n322. '2020-05-18T04:23:27Z'\n323. '2020-05-18T04:23:45Z'\n324. '2020-05-18T04:23:47Z'\n325. '2020-05-18T04:23:50Z'\n326. '2020-05-18T04:24:00Z'\n327. '2020-05-18T04:24:01Z'\n328. '2020-05-18T04:24:06Z'\n329. '2020-05-18T04:24:08Z'\n330. '2020-05-18T04:24:12Z'\n331. '2020-05-18T04:24:27Z'\n332. '2020-05-18T04:24:35Z'\n333. '2020-05-18T04:24:48Z'\n334. '2020-05-18T04:25:31Z'\n335. '2020-05-18T04:25:37Z'\n336. '2020-05-18T04:25:40Z'\n337. '2020-05-18T04:25:48Z'\n338. '2020-05-18T04:25:56Z'\n339. '2020-05-18T04:25:58Z'\n340. '2020-05-18T04:25:59Z'\n341. '2020-05-18T04:26:35Z'\n342. '2020-05-18T04:26:50Z'\n343. '2020-05-18T04:27:15Z'\n344. '2020-05-18T04:27:18Z'\n345. '2020-05-18T04:27:40Z'\n346. '2020-05-18T04:28:09Z'\n347. '2020-05-18T04:28:18Z'\n348. '2020-05-18T04:28:43Z'\n349. '2020-05-18T04:28:51Z'\n350. '2020-05-18T04:29:11Z'\n351. '2020-05-18T04:29:17Z'\n352. '2020-05-18T04:29:24Z'\n353. '2020-05-18T04:29:27Z'\n354. '2020-05-18T04:29:32Z'\n355. '2020-05-18T04:30:00Z'\n356. '2020-05-18T04:30:02Z'\n357. '2020-05-18T04:30:03Z'\n358. '2020-05-18T04:30:14Z'\n359. '2020-05-18T04:30:18Z'\n360. '2020-05-18T04:30:25Z'\n361. '2020-05-18T04:30:27Z'\n362. '2020-05-18T04:30:28Z'\n363. '2020-05-18T04:30:41Z'\n364. '2020-05-18T04:30:46Z'\n365. '2020-05-18T04:30:57Z'\n366. '2020-05-18T04:31:05Z'\n367. '2020-05-18T04:31:25Z'\n368. '2020-05-18T04:31:34Z'\n369. '2020-05-18T04:31:57Z'\n370. '2020-05-18T04:32:06Z'\n371. '2020-05-18T04:32:08Z'\n372. '2020-05-18T04:32:16Z'\n373. '2020-05-18T04:32:32Z'\n374. '2020-05-18T04:32:35Z'\n375. '2020-05-18T04:32:45Z'\n376. '2020-05-18T04:33:05Z'\n377. '2020-05-18T04:33:22Z'\n378. '2020-05-18T04:33:37Z'\n379. '2020-05-18T04:33:40Z'\n380. '2020-05-18T04:33:50Z'\n381. '2020-05-18T04:33:57Z'\n382. '2020-05-18T04:34:14Z'\n383. '2020-05-18T04:34:16Z'\n384. '2020-05-18T04:34:17Z'\n385. '2020-05-18T04:34:18Z'\n386. '2020-05-18T04:34:48Z'\n387. '2020-05-18T04:34:55Z'\n388. '2020-05-18T04:34:58Z'\n389. '2020-05-18T04:35:13Z'\n390. '2020-05-18T04:35:20Z'\n391. '2020-05-18T04:35:28Z'\n392. '2020-05-18T04:35:41Z'\n393. '2020-05-18T04:35:45Z'\n394. '2020-05-18T04:35:49Z'\n395. '2020-05-18T04:35:54Z'\n396. '2020-05-18T04:36:00Z'\n397. '2020-05-18T04:36:02Z'\n398. '2020-05-18T04:36:10Z'\n399. '2020-05-18T04:36:16Z'\n400. '2020-05-18T04:36:17Z'\n401. '2020-05-18T04:36:31Z'\n\n\n",
            "text/html": [
              "<style>\n",
              ".list-inline {list-style: none; margin:0; padding: 0}\n",
              ".list-inline>li {display: inline-block}\n",
              ".list-inline>li:not(:last-child)::after {content: \"\\00b7\"; padding: 0 .5ex}\n",
              "</style>\n",
              "<ol class=list-inline><li>2020-05-18T04:36:31Z</li><li>2020-05-18T04:36:17Z</li><li>2020-05-18T04:32:08Z</li><li>2020-05-18T03:04:49Z</li><li>2020-05-17T23:28:26Z</li><li>2020-05-18T01:47:00Z</li><li>2020-05-18T03:14:57Z</li><li>2020-05-17T21:34:09Z</li><li>2020-05-18T04:36:16Z</li><li>2020-05-17T16:15:56Z</li></ol>\n",
              "\n",
              "<details>\n",
              "\t<summary style=display:list-item;cursor:pointer>\n",
              "\t\t<strong>Levels</strong>:\n",
              "\t</summary>\n",
              "\t<style>\n",
              "\t.list-inline {list-style: none; margin:0; padding: 0}\n",
              "\t.list-inline>li {display: inline-block}\n",
              "\t.list-inline>li:not(:last-child)::after {content: \"\\00b7\"; padding: 0 .5ex}\n",
              "\t</style>\n",
              "\t<ol class=list-inline><li>'2020-05-16T11:04:42Z'</li><li>'2020-05-16T11:04:52Z'</li><li>'2020-05-16T11:04:54Z'</li><li>'2020-05-16T11:04:58Z'</li><li>'2020-05-16T11:04:59Z'</li><li>'2020-05-16T11:05:48Z'</li><li>'2020-05-16T11:05:51Z'</li><li>'2020-05-16T11:06:00Z'</li><li>'2020-05-16T11:06:12Z'</li><li>'2020-05-16T11:06:14Z'</li><li>'2020-05-16T11:06:17Z'</li><li>'2020-05-16T11:06:19Z'</li><li>'2020-05-16T11:06:21Z'</li><li>'2020-05-16T11:06:34Z'</li><li>'2020-05-16T11:06:38Z'</li><li>'2020-05-16T11:06:50Z'</li><li>'2020-05-16T11:07:30Z'</li><li>'2020-05-16T11:08:03Z'</li><li>'2020-05-16T11:08:07Z'</li><li>'2020-05-16T11:08:21Z'</li><li>'2020-05-16T11:09:11Z'</li><li>'2020-05-16T11:09:14Z'</li><li>'2020-05-16T11:09:16Z'</li><li>'2020-05-16T11:10:01Z'</li><li>'2020-05-16T11:10:07Z'</li><li>'2020-05-16T11:10:21Z'</li><li>'2020-05-16T11:10:24Z'</li><li>'2020-05-16T11:10:45Z'</li><li>'2020-05-16T11:10:48Z'</li><li>'2020-05-16T11:10:50Z'</li><li>'2020-05-16T11:11:09Z'</li><li>'2020-05-16T11:11:49Z'</li><li>'2020-05-16T11:11:56Z'</li><li>'2020-05-16T11:12:39Z'</li><li>'2020-05-16T11:12:52Z'</li><li>'2020-05-16T11:12:54Z'</li><li>'2020-05-16T11:13:03Z'</li><li>'2020-05-16T11:13:16Z'</li><li>'2020-05-16T11:13:30Z'</li><li>'2020-05-16T11:14:06Z'</li><li>'2020-05-16T11:14:35Z'</li><li>'2020-05-16T11:14:38Z'</li><li>'2020-05-16T11:14:39Z'</li><li>'2020-05-16T11:14:47Z'</li><li>'2020-05-16T11:14:52Z'</li><li>'2020-05-16T11:15:29Z'</li><li>'2020-05-16T11:15:39Z'</li><li>'2020-05-16T11:15:56Z'</li><li>'2020-05-16T11:15:58Z'</li><li>'2020-05-16T11:16:18Z'</li><li>'2020-05-16T11:16:21Z'</li><li>'2020-05-16T11:16:36Z'</li><li>'2020-05-16T11:16:47Z'</li><li>'2020-05-16T11:17:10Z'</li><li>'2020-05-16T11:17:35Z'</li><li>'2020-05-16T11:17:38Z'</li><li>'2020-05-16T11:17:41Z'</li><li>'2020-05-16T11:17:44Z'</li><li>'2020-05-16T11:17:48Z'</li><li>'2020-05-16T11:18:50Z'</li><li>'2020-05-16T11:18:54Z'</li><li>'2020-05-16T11:18:55Z'</li><li>'2020-05-16T11:19:23Z'</li><li>'2020-05-16T11:19:42Z'</li><li>'2020-05-16T11:19:45Z'</li><li>'2020-05-16T11:19:59Z'</li><li>'2020-05-16T11:20:07Z'</li><li>'2020-05-16T11:20:18Z'</li><li>'2020-05-16T11:20:31Z'</li><li>'2020-05-16T11:20:52Z'</li><li>'2020-05-16T11:21:13Z'</li><li>'2020-05-16T11:21:23Z'</li><li>'2020-05-16T11:21:59Z'</li><li>'2020-05-16T11:22:10Z'</li><li>'2020-05-16T11:22:51Z'</li><li>'2020-05-16T11:23:43Z'</li><li>'2020-05-16T11:23:49Z'</li><li>'2020-05-16T11:23:50Z'</li><li>'2020-05-16T11:23:55Z'</li><li>'2020-05-16T11:24:17Z'</li><li>'2020-05-16T11:24:26Z'</li><li>'2020-05-16T11:24:59Z'</li><li>'2020-05-16T11:25:04Z'</li><li>'2020-05-16T11:25:11Z'</li><li>'2020-05-16T11:25:28Z'</li><li>'2020-05-16T11:26:27Z'</li><li>'2020-05-16T11:26:40Z'</li><li>'2020-05-16T11:26:48Z'</li><li>'2020-05-16T11:27:03Z'</li><li>'2020-05-16T11:27:40Z'</li><li>'2020-05-16T11:27:49Z'</li><li>'2020-05-16T11:28:30Z'</li><li>'2020-05-16T11:28:52Z'</li><li>'2020-05-16T11:29:22Z'</li><li>'2020-05-16T11:29:34Z'</li><li>'2020-05-16T11:29:40Z'</li><li>'2020-05-16T11:29:48Z'</li><li>'2020-05-16T11:29:56Z'</li><li>'2020-05-16T11:30:00Z'</li><li>'2020-05-16T11:30:08Z'</li><li>'2020-05-16T11:30:21Z'</li><li>'2020-05-16T11:30:29Z'</li><li>'2020-05-16T11:30:36Z'</li><li>'2020-05-16T11:30:40Z'</li><li>'2020-05-16T11:30:41Z'</li><li>'2020-05-16T11:31:04Z'</li><li>'2020-05-16T11:31:14Z'</li><li>'2020-05-16T11:31:16Z'</li><li>'2020-05-16T11:31:41Z'</li><li>'2020-05-16T11:31:51Z'</li><li>'2020-05-16T11:31:59Z'</li><li>'2020-05-16T11:32:33Z'</li><li>'2020-05-16T11:32:41Z'</li><li>'2020-05-16T11:32:50Z'</li><li>'2020-05-16T11:33:20Z'</li><li>'2020-05-16T11:33:23Z'</li><li>'2020-05-16T11:33:47Z'</li><li>'2020-05-16T11:34:13Z'</li><li>'2020-05-16T11:35:03Z'</li><li>'2020-05-16T11:35:15Z'</li><li>'2020-05-16T11:35:38Z'</li><li>'2020-05-16T11:35:55Z'</li><li>'2020-05-16T11:36:04Z'</li><li>'2020-05-16T11:36:05Z'</li><li>'2020-05-16T11:36:10Z'</li><li>'2020-05-16T11:36:11Z'</li><li>'2020-05-16T11:36:47Z'</li><li>'2020-05-16T11:36:57Z'</li><li>'2020-05-16T11:37:09Z'</li><li>'2020-05-16T11:37:17Z'</li><li>'2020-05-16T11:37:18Z'</li><li>'2020-05-16T11:37:32Z'</li><li>'2020-05-16T11:38:00Z'</li><li>'2020-05-16T11:38:02Z'</li><li>'2020-05-16T11:38:07Z'</li><li>'2020-05-16T11:38:15Z'</li><li>'2020-05-16T11:38:20Z'</li><li>'2020-05-16T11:38:54Z'</li><li>'2020-05-16T11:39:02Z'</li><li>'2020-05-16T11:39:14Z'</li><li>'2020-05-16T11:39:37Z'</li><li>'2020-05-16T11:39:40Z'</li><li>'2020-05-16T11:40:01Z'</li><li>'2020-05-16T11:40:04Z'</li><li>'2020-05-16T11:40:27Z'</li><li>'2020-05-16T11:40:46Z'</li><li>'2020-05-16T11:41:03Z'</li><li>'2020-05-16T11:41:16Z'</li><li>'2020-05-16T11:41:28Z'</li><li>'2020-05-16T11:41:31Z'</li><li>'2020-05-16T11:41:34Z'</li><li>'2020-05-16T11:41:57Z'</li><li>'2020-05-16T11:42:05Z'</li><li>'2020-05-16T11:42:25Z'</li><li>'2020-05-16T11:43:18Z'</li><li>'2020-05-16T11:43:26Z'</li><li>'2020-05-16T11:43:34Z'</li><li>'2020-05-16T11:43:57Z'</li><li>'2020-05-16T11:44:00Z'</li><li>'2020-05-16T11:44:04Z'</li><li>'2020-05-16T11:44:14Z'</li><li>'2020-05-16T11:44:16Z'</li><li>'2020-05-16T11:44:19Z'</li><li>'2020-05-16T11:44:30Z'</li><li>'2020-05-16T11:44:43Z'</li><li>'2020-05-16T11:44:44Z'</li><li>'2020-05-16T11:44:53Z'</li><li>'2020-05-16T11:45:07Z'</li><li>'2020-05-16T11:45:12Z'</li><li>'2020-05-16T11:45:19Z'</li><li>'2020-05-16T11:45:46Z'</li><li>'2020-05-16T11:46:08Z'</li><li>'2020-05-16T11:46:18Z'</li><li>'2020-05-16T11:46:21Z'</li><li>'2020-05-16T11:46:46Z'</li><li>'2020-05-16T11:47:05Z'</li><li>'2020-05-16T11:47:09Z'</li><li>'2020-05-16T11:47:18Z'</li><li>'2020-05-16T11:47:28Z'</li><li>'2020-05-16T11:47:37Z'</li><li>'2020-05-16T11:47:47Z'</li><li>'2020-05-16T11:47:59Z'</li><li>'2020-05-16T11:48:04Z'</li><li>'2020-05-16T11:48:11Z'</li><li>'2020-05-16T11:48:30Z'</li><li>'2020-05-16T11:48:51Z'</li><li>'2020-05-16T11:48:59Z'</li><li>'2020-05-16T11:49:17Z'</li><li>'2020-05-16T11:49:25Z'</li><li>'2020-05-16T11:49:43Z'</li><li>'2020-05-16T11:50:17Z'</li><li>'2020-05-16T11:50:21Z'</li><li>'2020-05-16T11:50:28Z'</li><li>'2020-05-16T11:50:45Z'</li><li>'2020-05-16T11:50:51Z'</li><li>'2020-05-16T11:50:58Z'</li><li>'2020-05-16T11:51:11Z'</li><li>'2020-05-16T11:51:13Z'</li><li>'2020-05-16T11:51:21Z'</li><li>'2020-05-16T11:51:23Z'</li><li>⋯</li><li>'2020-05-18T04:06:06Z'</li><li>'2020-05-18T04:06:10Z'</li><li>'2020-05-18T04:06:11Z'</li><li>'2020-05-18T04:06:28Z'</li><li>'2020-05-18T04:06:40Z'</li><li>'2020-05-18T04:06:44Z'</li><li>'2020-05-18T04:06:50Z'</li><li>'2020-05-18T04:06:55Z'</li><li>'2020-05-18T04:07:07Z'</li><li>'2020-05-18T04:07:08Z'</li><li>'2020-05-18T04:07:12Z'</li><li>'2020-05-18T04:07:19Z'</li><li>'2020-05-18T04:07:38Z'</li><li>'2020-05-18T04:07:40Z'</li><li>'2020-05-18T04:08:03Z'</li><li>'2020-05-18T04:08:14Z'</li><li>'2020-05-18T04:08:18Z'</li><li>'2020-05-18T04:08:28Z'</li><li>'2020-05-18T04:08:34Z'</li><li>'2020-05-18T04:08:40Z'</li><li>'2020-05-18T04:09:05Z'</li><li>'2020-05-18T04:09:06Z'</li><li>'2020-05-18T04:09:13Z'</li><li>'2020-05-18T04:09:16Z'</li><li>'2020-05-18T04:09:19Z'</li><li>'2020-05-18T04:09:25Z'</li><li>'2020-05-18T04:09:26Z'</li><li>'2020-05-18T04:09:30Z'</li><li>'2020-05-18T04:09:36Z'</li><li>'2020-05-18T04:09:56Z'</li><li>'2020-05-18T04:10:01Z'</li><li>'2020-05-18T04:10:10Z'</li><li>'2020-05-18T04:10:22Z'</li><li>'2020-05-18T04:10:27Z'</li><li>'2020-05-18T04:10:32Z'</li><li>'2020-05-18T04:10:35Z'</li><li>'2020-05-18T04:10:49Z'</li><li>'2020-05-18T04:10:50Z'</li><li>'2020-05-18T04:11:01Z'</li><li>'2020-05-18T04:11:03Z'</li><li>'2020-05-18T04:11:06Z'</li><li>'2020-05-18T04:11:23Z'</li><li>'2020-05-18T04:11:49Z'</li><li>'2020-05-18T04:11:59Z'</li><li>'2020-05-18T04:12:16Z'</li><li>'2020-05-18T04:12:24Z'</li><li>'2020-05-18T04:12:53Z'</li><li>'2020-05-18T04:13:11Z'</li><li>'2020-05-18T04:13:22Z'</li><li>'2020-05-18T04:13:31Z'</li><li>'2020-05-18T04:13:34Z'</li><li>'2020-05-18T04:13:39Z'</li><li>'2020-05-18T04:13:57Z'</li><li>'2020-05-18T04:14:02Z'</li><li>'2020-05-18T04:14:15Z'</li><li>'2020-05-18T04:14:19Z'</li><li>'2020-05-18T04:14:30Z'</li><li>'2020-05-18T04:14:31Z'</li><li>'2020-05-18T04:14:33Z'</li><li>'2020-05-18T04:14:36Z'</li><li>'2020-05-18T04:14:43Z'</li><li>'2020-05-18T04:14:47Z'</li><li>'2020-05-18T04:15:00Z'</li><li>'2020-05-18T04:15:41Z'</li><li>'2020-05-18T04:15:57Z'</li><li>'2020-05-18T04:16:01Z'</li><li>'2020-05-18T04:16:06Z'</li><li>'2020-05-18T04:16:29Z'</li><li>'2020-05-18T04:16:32Z'</li><li>'2020-05-18T04:16:38Z'</li><li>'2020-05-18T04:16:41Z'</li><li>'2020-05-18T04:16:56Z'</li><li>'2020-05-18T04:17:19Z'</li><li>'2020-05-18T04:17:25Z'</li><li>'2020-05-18T04:17:27Z'</li><li>'2020-05-18T04:17:37Z'</li><li>'2020-05-18T04:17:40Z'</li><li>'2020-05-18T04:17:57Z'</li><li>'2020-05-18T04:18:01Z'</li><li>'2020-05-18T04:18:03Z'</li><li>'2020-05-18T04:18:10Z'</li><li>'2020-05-18T04:18:32Z'</li><li>'2020-05-18T04:18:33Z'</li><li>'2020-05-18T04:18:34Z'</li><li>'2020-05-18T04:18:37Z'</li><li>'2020-05-18T04:18:52Z'</li><li>'2020-05-18T04:18:58Z'</li><li>'2020-05-18T04:19:03Z'</li><li>'2020-05-18T04:19:07Z'</li><li>'2020-05-18T04:19:16Z'</li><li>'2020-05-18T04:19:19Z'</li><li>'2020-05-18T04:19:22Z'</li><li>'2020-05-18T04:19:27Z'</li><li>'2020-05-18T04:19:35Z'</li><li>'2020-05-18T04:19:39Z'</li><li>'2020-05-18T04:19:47Z'</li><li>'2020-05-18T04:19:48Z'</li><li>'2020-05-18T04:19:49Z'</li><li>'2020-05-18T04:20:00Z'</li><li>'2020-05-18T04:20:10Z'</li><li>'2020-05-18T04:20:17Z'</li><li>'2020-05-18T04:20:22Z'</li><li>'2020-05-18T04:20:40Z'</li><li>'2020-05-18T04:20:43Z'</li><li>'2020-05-18T04:21:07Z'</li><li>'2020-05-18T04:21:11Z'</li><li>'2020-05-18T04:21:16Z'</li><li>'2020-05-18T04:21:23Z'</li><li>'2020-05-18T04:21:28Z'</li><li>'2020-05-18T04:21:33Z'</li><li>'2020-05-18T04:21:40Z'</li><li>'2020-05-18T04:21:43Z'</li><li>'2020-05-18T04:22:05Z'</li><li>'2020-05-18T04:22:09Z'</li><li>'2020-05-18T04:22:19Z'</li><li>'2020-05-18T04:22:33Z'</li><li>'2020-05-18T04:22:40Z'</li><li>'2020-05-18T04:22:58Z'</li><li>'2020-05-18T04:23:00Z'</li><li>'2020-05-18T04:23:02Z'</li><li>'2020-05-18T04:23:27Z'</li><li>'2020-05-18T04:23:45Z'</li><li>'2020-05-18T04:23:47Z'</li><li>'2020-05-18T04:23:50Z'</li><li>'2020-05-18T04:24:00Z'</li><li>'2020-05-18T04:24:01Z'</li><li>'2020-05-18T04:24:06Z'</li><li>'2020-05-18T04:24:08Z'</li><li>'2020-05-18T04:24:12Z'</li><li>'2020-05-18T04:24:27Z'</li><li>'2020-05-18T04:24:35Z'</li><li>'2020-05-18T04:24:48Z'</li><li>'2020-05-18T04:25:31Z'</li><li>'2020-05-18T04:25:37Z'</li><li>'2020-05-18T04:25:40Z'</li><li>'2020-05-18T04:25:48Z'</li><li>'2020-05-18T04:25:56Z'</li><li>'2020-05-18T04:25:58Z'</li><li>'2020-05-18T04:25:59Z'</li><li>'2020-05-18T04:26:35Z'</li><li>'2020-05-18T04:26:50Z'</li><li>'2020-05-18T04:27:15Z'</li><li>'2020-05-18T04:27:18Z'</li><li>'2020-05-18T04:27:40Z'</li><li>'2020-05-18T04:28:09Z'</li><li>'2020-05-18T04:28:18Z'</li><li>'2020-05-18T04:28:43Z'</li><li>'2020-05-18T04:28:51Z'</li><li>'2020-05-18T04:29:11Z'</li><li>'2020-05-18T04:29:17Z'</li><li>'2020-05-18T04:29:24Z'</li><li>'2020-05-18T04:29:27Z'</li><li>'2020-05-18T04:29:32Z'</li><li>'2020-05-18T04:30:00Z'</li><li>'2020-05-18T04:30:02Z'</li><li>'2020-05-18T04:30:03Z'</li><li>'2020-05-18T04:30:14Z'</li><li>'2020-05-18T04:30:18Z'</li><li>'2020-05-18T04:30:25Z'</li><li>'2020-05-18T04:30:27Z'</li><li>'2020-05-18T04:30:28Z'</li><li>'2020-05-18T04:30:41Z'</li><li>'2020-05-18T04:30:46Z'</li><li>'2020-05-18T04:30:57Z'</li><li>'2020-05-18T04:31:05Z'</li><li>'2020-05-18T04:31:25Z'</li><li>'2020-05-18T04:31:34Z'</li><li>'2020-05-18T04:31:57Z'</li><li>'2020-05-18T04:32:06Z'</li><li>'2020-05-18T04:32:08Z'</li><li>'2020-05-18T04:32:16Z'</li><li>'2020-05-18T04:32:32Z'</li><li>'2020-05-18T04:32:35Z'</li><li>'2020-05-18T04:32:45Z'</li><li>'2020-05-18T04:33:05Z'</li><li>'2020-05-18T04:33:22Z'</li><li>'2020-05-18T04:33:37Z'</li><li>'2020-05-18T04:33:40Z'</li><li>'2020-05-18T04:33:50Z'</li><li>'2020-05-18T04:33:57Z'</li><li>'2020-05-18T04:34:14Z'</li><li>'2020-05-18T04:34:16Z'</li><li>'2020-05-18T04:34:17Z'</li><li>'2020-05-18T04:34:18Z'</li><li>'2020-05-18T04:34:48Z'</li><li>'2020-05-18T04:34:55Z'</li><li>'2020-05-18T04:34:58Z'</li><li>'2020-05-18T04:35:13Z'</li><li>'2020-05-18T04:35:20Z'</li><li>'2020-05-18T04:35:28Z'</li><li>'2020-05-18T04:35:41Z'</li><li>'2020-05-18T04:35:45Z'</li><li>'2020-05-18T04:35:49Z'</li><li>'2020-05-18T04:35:54Z'</li><li>'2020-05-18T04:36:00Z'</li><li>'2020-05-18T04:36:02Z'</li><li>'2020-05-18T04:36:10Z'</li><li>'2020-05-18T04:36:16Z'</li><li>'2020-05-18T04:36:17Z'</li><li>'2020-05-18T04:36:31Z'</li></ol>\n",
              "</details>"
            ]
          },
          "metadata": {
            "tags": []
          }
        }
      ]
    },
    {
      "cell_type": "markdown",
      "metadata": {
        "id": "6HiqBPtu0TBy",
        "colab_type": "text"
      },
      "source": [
        "We see the `created_at` column has the timestamp that we'd need to convert to the correct date format using `as.POSIXct()` which takes in:\n",
        "\n",
        "* The column being converted\n",
        "* `format`: The date format - here to be `\"%Y-%m-%dT%H:%M:%SZ\"`\n",
        "* `tz`: The time-zone of the conversion\n",
        "\n",
        "Inputs for `format` argument to convert date-time format:\n",
        "\n",
        "<p align=\"left\">\n",
        "\n",
        "<img src=\"https://github.com/datacamp/Brand-Analysis-using-Social-Media-Data-in-R-Live-Training/blob/master/data/striptime.png?raw=true\" alt = \"\" width=\"40%\">\n",
        "\n",
        "</p>"
      ]
    },
    {
      "cell_type": "code",
      "metadata": {
        "id": "xW9v3X7eqtHp",
        "colab_type": "code",
        "colab": {
          "base_uri": "https://localhost:8080/",
          "height": 102
        },
        "outputId": "f061c703-d3ef-4c60-dcaa-b5786e71e418"
      },
      "source": [
        "# Update dates in `created_at` column with the new date format\n",
        "tesladf$created_at <- as.POSIXct(tesladf$created_at, format = \"%Y-%m-%dT%H:%M:%SZ\", tz=\"GMT\")\n",
        "# View the `created_at` column again\"\n",
        "head(tesladf$created_at, 10)"
      ],
      "execution_count": 19,
      "outputs": [
        {
          "output_type": "display_data",
          "data": {
            "text/plain": [
              " [1] \"2020-05-18 04:36:31 GMT\" \"2020-05-18 04:36:17 GMT\"\n",
              " [3] \"2020-05-18 04:32:08 GMT\" \"2020-05-18 03:04:49 GMT\"\n",
              " [5] \"2020-05-17 23:28:26 GMT\" \"2020-05-18 01:47:00 GMT\"\n",
              " [7] \"2020-05-18 03:14:57 GMT\" \"2020-05-17 21:34:09 GMT\"\n",
              " [9] \"2020-05-18 04:36:16 GMT\" \"2020-05-17 16:15:56 GMT\""
            ]
          },
          "metadata": {
            "tags": []
          }
        }
      ]
    },
    {
      "cell_type": "markdown",
      "metadata": {
        "id": "keHs7Yw81iEQ",
        "colab_type": "text"
      },
      "source": [
        "To visualize tweets over time, we will use the `rtweet` library's `ts_plot()` function which takes in:\n",
        "* The data frame being plotted\n",
        "* `by`: The time interval - here `'hours'`\n",
        "* `color`: The color of the line\n"
      ]
    },
    {
      "cell_type": "code",
      "metadata": {
        "id": "pb4y2ADPYB6w",
        "colab_type": "code",
        "colab": {
          "base_uri": "https://localhost:8080/",
          "height": 437
        },
        "outputId": "c144a9db-5d2b-4f3d-a341-c2f1a1c446dd"
      },
      "source": [
        "# Create a time series plot\n",
        "ts_plot(tesladf, by = \"hours\", color = \"blue\")"
      ],
      "execution_count": 20,
      "outputs": [
        {
          "output_type": "display_data",
          "data": {
            "image/png": "[encoded data removed]",
            "text/plain": [
              "plot without title"
            ]
          },
          "metadata": {
            "tags": [],
            "image/png": {
              "width": 420,
              "height": 420
            },
            "text/plain": {
              "width": 420,
              "height": 420
            }
          }
        }
      ]
    },
    {
      "cell_type": "markdown",
      "metadata": {
        "id": "JXoX50e1rTVk",
        "colab_type": "text"
      },
      "source": [
        "We see tweets for Tesla fluctuating from high to low and then reaching a high again between 17 and 18 May after a big dip on 17 May. The high number of tweets could be related to an event or topic about Tesla's products."
      ]
    },
    {
      "cell_type": "markdown",
      "metadata": {
        "id": "jVMJ5SuVgGjT",
        "colab_type": "text"
      },
      "source": [
        "#### **3b) Compare brand salience for two brands using time series plots and tweet frequencies**\n",
        "\n",
        "Let's compare how tweets mentioning `\"Toyota\"` compare against `\"Tesla\"` - here is the `search_tweets()` code used to get tweets on `\"Toyota\"`\n",
        "\n",
        "```R\n",
        "# Extract tweets for Toyota using `search_tweets()`\n",
        "\n",
        "tweets_toyo = search_tweets(\"toyota\", n = 18000, lang = \"en\",  include_rts = FALSE)\n",
        "\n",
        "fwrite(tweets_toyo, file = \"toyotadf.csv\")\n",
        "```\n"
      ]
    },
    {
      "cell_type": "code",
      "metadata": {
        "id": "OijgNh-ngcj-",
        "colab_type": "code",
        "colab": {}
      },
      "source": [
        "# Import extracted tweets on `\"toyota\"` in CSV format\n",
        "toyotadf = read.csv(\"https://github.com/datacamp/Brand-Analysis-using-Social-Media-Data-in-R-Live-Training/blob/master/data/toyotadf.csv?raw=true\")\n"
      ],
      "execution_count": 21,
      "outputs": []
    },
    {
      "cell_type": "code",
      "metadata": {
        "id": "di5xnDnmnRfj",
        "colab_type": "code",
        "colab": {
          "base_uri": "https://localhost:8080/",
          "height": 85
        },
        "outputId": "dd42cbd2-f23a-45cc-c1dd-dd8694be8074"
      },
      "source": [
        "# Explore the tweet dataframe for toyota\n",
        "dim(toyotadf)\n",
        "head(toyotadf$created_at, 10)"
      ],
      "execution_count": 23,
      "outputs": [
        {
          "output_type": "display_data",
          "data": {
            "text/plain": [
              "[1] 17798    90"
            ],
            "text/latex": "\\begin{enumerate*}\n\\item 17798\n\\item 90\n\\end{enumerate*}\n",
            "text/markdown": "1. 17798\n2. 90\n\n\n",
            "text/html": [
              "<style>\n",
              ".list-inline {list-style: none; margin:0; padding: 0}\n",
              ".list-inline>li {display: inline-block}\n",
              ".list-inline>li:not(:last-child)::after {content: \"\\00b7\"; padding: 0 .5ex}\n",
              "</style>\n",
              "<ol class=list-inline><li>17798</li><li>90</li></ol>\n"
            ]
          },
          "metadata": {
            "tags": []
          }
        },
        {
          "output_type": "display_data",
          "data": {
            "text/plain": [
              " [1] 2020-05-18T05:09:56Z 2020-05-18T05:08:31Z 2020-05-13T09:53:36Z\n",
              " [4] 2020-05-18T05:08:04Z 2020-05-18T05:07:59Z 2020-05-17T19:34:43Z\n",
              " [7] 2020-05-18T05:07:49Z 2020-05-13T09:02:07Z 2020-05-13T09:18:42Z\n",
              "[10] 2020-05-18T05:07:31Z\n",
              "17313 Levels: 2020-05-12T04:44:52Z 2020-05-12T04:44:53Z ... 2020-05-18T05:09:56Z"
            ],
            "text/latex": "\\begin{enumerate*}\n\\item 2020-05-18T05:09:56Z\n\\item 2020-05-18T05:08:31Z\n\\item 2020-05-13T09:53:36Z\n\\item 2020-05-18T05:08:04Z\n\\item 2020-05-18T05:07:59Z\n\\item 2020-05-17T19:34:43Z\n\\item 2020-05-18T05:07:49Z\n\\item 2020-05-13T09:02:07Z\n\\item 2020-05-13T09:18:42Z\n\\item 2020-05-18T05:07:31Z\n\\end{enumerate*}\n\n\\emph{Levels}: \\begin{enumerate*}\n\\item '2020-05-12T04:44:52Z'\n\\item '2020-05-12T04:44:53Z'\n\\item '2020-05-12T04:45:37Z'\n\\item '2020-05-12T04:46:26Z'\n\\item '2020-05-12T04:47:21Z'\n\\item '2020-05-12T04:47:36Z'\n\\item '2020-05-12T04:47:37Z'\n\\item '2020-05-12T04:47:57Z'\n\\item '2020-05-12T04:48:15Z'\n\\item '2020-05-12T04:48:18Z'\n\\item '2020-05-12T04:48:43Z'\n\\item '2020-05-12T04:49:06Z'\n\\item '2020-05-12T04:49:39Z'\n\\item '2020-05-12T04:49:49Z'\n\\item '2020-05-12T04:50:15Z'\n\\item '2020-05-12T04:51:23Z'\n\\item '2020-05-12T04:51:24Z'\n\\item '2020-05-12T04:51:55Z'\n\\item '2020-05-12T04:53:39Z'\n\\item '2020-05-12T04:54:06Z'\n\\item '2020-05-12T04:55:02Z'\n\\item '2020-05-12T04:55:21Z'\n\\item '2020-05-12T04:55:23Z'\n\\item '2020-05-12T04:56:23Z'\n\\item '2020-05-12T04:56:31Z'\n\\item '2020-05-12T04:57:03Z'\n\\item '2020-05-12T04:59:32Z'\n\\item '2020-05-12T05:00:00Z'\n\\item '2020-05-12T05:00:03Z'\n\\item '2020-05-12T05:00:05Z'\n\\item '2020-05-12T05:01:39Z'\n\\item '2020-05-12T05:02:29Z'\n\\item '2020-05-12T05:03:12Z'\n\\item '2020-05-12T05:03:16Z'\n\\item '2020-05-12T05:03:17Z'\n\\item '2020-05-12T05:04:03Z'\n\\item '2020-05-12T05:04:17Z'\n\\item '2020-05-12T05:04:23Z'\n\\item '2020-05-12T05:04:34Z'\n\\item '2020-05-12T05:05:02Z'\n\\item '2020-05-12T05:05:09Z'\n\\item '2020-05-12T05:05:49Z'\n\\item '2020-05-12T05:08:19Z'\n\\item '2020-05-12T05:09:34Z'\n\\item '2020-05-12T05:10:00Z'\n\\item '2020-05-12T05:10:18Z'\n\\item '2020-05-12T05:11:20Z'\n\\item '2020-05-12T05:12:07Z'\n\\item '2020-05-12T05:12:14Z'\n\\item '2020-05-12T05:12:50Z'\n\\item '2020-05-12T05:13:22Z'\n\\item '2020-05-12T05:14:38Z'\n\\item '2020-05-12T05:14:40Z'\n\\item '2020-05-12T05:15:01Z'\n\\item '2020-05-12T05:15:04Z'\n\\item '2020-05-12T05:15:12Z'\n\\item '2020-05-12T05:17:09Z'\n\\item '2020-05-12T05:18:49Z'\n\\item '2020-05-12T05:19:41Z'\n\\item '2020-05-12T05:20:17Z'\n\\item '2020-05-12T05:20:24Z'\n\\item '2020-05-12T05:20:40Z'\n\\item '2020-05-12T05:21:50Z'\n\\item '2020-05-12T05:23:39Z'\n\\item '2020-05-12T05:24:10Z'\n\\item '2020-05-12T05:25:23Z'\n\\item '2020-05-12T05:26:43Z'\n\\item '2020-05-12T05:27:07Z'\n\\item '2020-05-12T05:27:10Z'\n\\item '2020-05-12T05:27:15Z'\n\\item '2020-05-12T05:29:33Z'\n\\item '2020-05-12T05:31:32Z'\n\\item '2020-05-12T05:32:06Z'\n\\item '2020-05-12T05:33:07Z'\n\\item '2020-05-12T05:34:28Z'\n\\item '2020-05-12T05:36:39Z'\n\\item '2020-05-12T05:37:32Z'\n\\item '2020-05-12T05:37:52Z'\n\\item '2020-05-12T05:38:02Z'\n\\item '2020-05-12T05:38:04Z'\n\\item '2020-05-12T05:39:31Z'\n\\item '2020-05-12T05:40:01Z'\n\\item '2020-05-12T05:40:14Z'\n\\item '2020-05-12T05:40:52Z'\n\\item '2020-05-12T05:41:09Z'\n\\item '2020-05-12T05:41:24Z'\n\\item '2020-05-12T05:41:43Z'\n\\item '2020-05-12T05:42:02Z'\n\\item '2020-05-12T05:42:41Z'\n\\item '2020-05-12T05:44:32Z'\n\\item '2020-05-12T05:45:13Z'\n\\item '2020-05-12T05:45:18Z'\n\\item '2020-05-12T05:45:40Z'\n\\item '2020-05-12T05:46:03Z'\n\\item '2020-05-12T05:46:15Z'\n\\item '2020-05-12T05:48:03Z'\n\\item '2020-05-12T05:48:09Z'\n\\item '2020-05-12T05:48:57Z'\n\\item '2020-05-12T05:50:38Z'\n\\item '2020-05-12T05:51:44Z'\n\\item '2020-05-12T05:53:34Z'\n\\item '2020-05-12T05:53:56Z'\n\\item '2020-05-12T05:54:01Z'\n\\item '2020-05-12T05:55:12Z'\n\\item '2020-05-12T05:55:29Z'\n\\item '2020-05-12T05:55:35Z'\n\\item '2020-05-12T05:56:42Z'\n\\item '2020-05-12T05:56:45Z'\n\\item '2020-05-12T05:56:48Z'\n\\item '2020-05-12T05:57:33Z'\n\\item '2020-05-12T05:59:15Z'\n\\item '2020-05-12T05:59:58Z'\n\\item '2020-05-12T06:00:00Z'\n\\item '2020-05-12T06:00:05Z'\n\\item '2020-05-12T06:00:30Z'\n\\item '2020-05-12T06:01:14Z'\n\\item '2020-05-12T06:02:00Z'\n\\item '2020-05-12T06:02:07Z'\n\\item '2020-05-12T06:02:55Z'\n\\item '2020-05-12T06:04:55Z'\n\\item '2020-05-12T06:05:02Z'\n\\item '2020-05-12T06:07:32Z'\n\\item '2020-05-12T06:07:33Z'\n\\item '2020-05-12T06:07:43Z'\n\\item '2020-05-12T06:07:46Z'\n\\item '2020-05-12T06:09:22Z'\n\\item '2020-05-12T06:09:47Z'\n\\item '2020-05-12T06:10:41Z'\n\\item '2020-05-12T06:11:18Z'\n\\item '2020-05-12T06:11:24Z'\n\\item '2020-05-12T06:12:49Z'\n\\item '2020-05-12T06:13:00Z'\n\\item '2020-05-12T06:14:27Z'\n\\item '2020-05-12T06:15:09Z'\n\\item '2020-05-12T06:15:34Z'\n\\item '2020-05-12T06:15:39Z'\n\\item '2020-05-12T06:17:15Z'\n\\item '2020-05-12T06:17:28Z'\n\\item '2020-05-12T06:17:59Z'\n\\item '2020-05-12T06:18:12Z'\n\\item '2020-05-12T06:18:41Z'\n\\item '2020-05-12T06:18:47Z'\n\\item '2020-05-12T06:18:55Z'\n\\item '2020-05-12T06:18:57Z'\n\\item '2020-05-12T06:19:03Z'\n\\item '2020-05-12T06:19:20Z'\n\\item '2020-05-12T06:20:15Z'\n\\item '2020-05-12T06:20:21Z'\n\\item '2020-05-12T06:20:39Z'\n\\item '2020-05-12T06:24:59Z'\n\\item '2020-05-12T06:25:06Z'\n\\item '2020-05-12T06:25:19Z'\n\\item '2020-05-12T06:25:22Z'\n\\item '2020-05-12T06:25:55Z'\n\\item '2020-05-12T06:27:07Z'\n\\item '2020-05-12T06:27:23Z'\n\\item '2020-05-12T06:29:27Z'\n\\item '2020-05-12T06:29:51Z'\n\\item '2020-05-12T06:31:08Z'\n\\item '2020-05-12T06:32:13Z'\n\\item '2020-05-12T06:33:04Z'\n\\item '2020-05-12T06:33:32Z'\n\\item '2020-05-12T06:34:47Z'\n\\item '2020-05-12T06:34:48Z'\n\\item '2020-05-12T06:35:55Z'\n\\item '2020-05-12T06:36:07Z'\n\\item '2020-05-12T06:37:15Z'\n\\item '2020-05-12T06:37:17Z'\n\\item '2020-05-12T06:37:27Z'\n\\item '2020-05-12T06:37:31Z'\n\\item '2020-05-12T06:37:49Z'\n\\item '2020-05-12T06:38:02Z'\n\\item '2020-05-12T06:38:24Z'\n\\item '2020-05-12T06:38:42Z'\n\\item '2020-05-12T06:39:09Z'\n\\item '2020-05-12T06:39:33Z'\n\\item '2020-05-12T06:39:38Z'\n\\item '2020-05-12T06:40:08Z'\n\\item '2020-05-12T06:40:15Z'\n\\item '2020-05-12T06:41:10Z'\n\\item '2020-05-12T06:41:42Z'\n\\item '2020-05-12T06:42:44Z'\n\\item '2020-05-12T06:43:18Z'\n\\item '2020-05-12T06:43:19Z'\n\\item '2020-05-12T06:45:08Z'\n\\item '2020-05-12T06:45:32Z'\n\\item '2020-05-12T06:46:58Z'\n\\item '2020-05-12T06:47:30Z'\n\\item '2020-05-12T06:48:14Z'\n\\item '2020-05-12T06:48:38Z'\n\\item '2020-05-12T06:50:22Z'\n\\item '2020-05-12T06:51:14Z'\n\\item '2020-05-12T06:51:34Z'\n\\item '2020-05-12T06:51:46Z'\n\\item '2020-05-12T06:52:19Z'\n\\item '2020-05-12T06:53:09Z'\n\\item '2020-05-12T06:54:23Z'\n\\item '2020-05-12T06:56:02Z'\n\\item '2020-05-12T06:56:03Z'\n\\item '2020-05-12T06:57:02Z'\n\\item ⋯\n\\item '2020-05-18T02:26:41Z'\n\\item '2020-05-18T02:26:55Z'\n\\item '2020-05-18T02:29:52Z'\n\\item '2020-05-18T02:32:11Z'\n\\item '2020-05-18T02:32:30Z'\n\\item '2020-05-18T02:33:28Z'\n\\item '2020-05-18T02:34:19Z'\n\\item '2020-05-18T02:34:33Z'\n\\item '2020-05-18T02:34:42Z'\n\\item '2020-05-18T02:35:49Z'\n\\item '2020-05-18T02:36:09Z'\n\\item '2020-05-18T02:36:46Z'\n\\item '2020-05-18T02:37:24Z'\n\\item '2020-05-18T02:37:27Z'\n\\item '2020-05-18T02:37:30Z'\n\\item '2020-05-18T02:38:55Z'\n\\item '2020-05-18T02:38:59Z'\n\\item '2020-05-18T02:39:04Z'\n\\item '2020-05-18T02:39:19Z'\n\\item '2020-05-18T02:41:30Z'\n\\item '2020-05-18T02:42:00Z'\n\\item '2020-05-18T02:42:43Z'\n\\item '2020-05-18T02:44:10Z'\n\\item '2020-05-18T02:45:05Z'\n\\item '2020-05-18T02:45:21Z'\n\\item '2020-05-18T02:45:47Z'\n\\item '2020-05-18T02:46:16Z'\n\\item '2020-05-18T02:46:43Z'\n\\item '2020-05-18T02:49:11Z'\n\\item '2020-05-18T02:49:33Z'\n\\item '2020-05-18T02:49:34Z'\n\\item '2020-05-18T02:49:44Z'\n\\item '2020-05-18T02:51:17Z'\n\\item '2020-05-18T02:52:46Z'\n\\item '2020-05-18T02:53:49Z'\n\\item '2020-05-18T02:53:50Z'\n\\item '2020-05-18T02:53:57Z'\n\\item '2020-05-18T02:54:12Z'\n\\item '2020-05-18T02:54:28Z'\n\\item '2020-05-18T02:54:33Z'\n\\item '2020-05-18T02:54:57Z'\n\\item '2020-05-18T02:55:21Z'\n\\item '2020-05-18T02:57:32Z'\n\\item '2020-05-18T02:57:45Z'\n\\item '2020-05-18T02:59:03Z'\n\\item '2020-05-18T02:59:13Z'\n\\item '2020-05-18T02:59:38Z'\n\\item '2020-05-18T03:00:00Z'\n\\item '2020-05-18T03:00:17Z'\n\\item '2020-05-18T03:00:19Z'\n\\item '2020-05-18T03:00:23Z'\n\\item '2020-05-18T03:00:48Z'\n\\item '2020-05-18T03:01:55Z'\n\\item '2020-05-18T03:04:04Z'\n\\item '2020-05-18T03:05:01Z'\n\\item '2020-05-18T03:05:23Z'\n\\item '2020-05-18T03:08:10Z'\n\\item '2020-05-18T03:09:05Z'\n\\item '2020-05-18T03:09:19Z'\n\\item '2020-05-18T03:10:18Z'\n\\item '2020-05-18T03:12:18Z'\n\\item '2020-05-18T03:13:14Z'\n\\item '2020-05-18T03:13:35Z'\n\\item '2020-05-18T03:14:07Z'\n\\item '2020-05-18T03:14:41Z'\n\\item '2020-05-18T03:15:00Z'\n\\item '2020-05-18T03:15:15Z'\n\\item '2020-05-18T03:15:17Z'\n\\item '2020-05-18T03:17:22Z'\n\\item '2020-05-18T03:17:45Z'\n\\item '2020-05-18T03:19:47Z'\n\\item '2020-05-18T03:21:00Z'\n\\item '2020-05-18T03:21:22Z'\n\\item '2020-05-18T03:21:23Z'\n\\item '2020-05-18T03:22:32Z'\n\\item '2020-05-18T03:24:08Z'\n\\item '2020-05-18T03:24:59Z'\n\\item '2020-05-18T03:25:04Z'\n\\item '2020-05-18T03:25:37Z'\n\\item '2020-05-18T03:27:21Z'\n\\item '2020-05-18T03:27:56Z'\n\\item '2020-05-18T03:28:31Z'\n\\item '2020-05-18T03:29:09Z'\n\\item '2020-05-18T03:29:30Z'\n\\item '2020-05-18T03:29:58Z'\n\\item '2020-05-18T03:30:10Z'\n\\item '2020-05-18T03:30:22Z'\n\\item '2020-05-18T03:30:57Z'\n\\item '2020-05-18T03:31:22Z'\n\\item '2020-05-18T03:32:15Z'\n\\item '2020-05-18T03:33:07Z'\n\\item '2020-05-18T03:34:03Z'\n\\item '2020-05-18T03:34:17Z'\n\\item '2020-05-18T03:34:26Z'\n\\item '2020-05-18T03:34:38Z'\n\\item '2020-05-18T03:36:14Z'\n\\item '2020-05-18T03:37:23Z'\n\\item '2020-05-18T03:37:33Z'\n\\item '2020-05-18T03:37:55Z'\n\\item '2020-05-18T03:39:20Z'\n\\item '2020-05-18T03:40:23Z'\n\\item '2020-05-18T03:41:28Z'\n\\item '2020-05-18T03:41:33Z'\n\\item '2020-05-18T03:41:41Z'\n\\item '2020-05-18T03:42:08Z'\n\\item '2020-05-18T03:43:12Z'\n\\item '2020-05-18T03:43:37Z'\n\\item '2020-05-18T03:44:02Z'\n\\item '2020-05-18T03:44:36Z'\n\\item '2020-05-18T03:44:37Z'\n\\item '2020-05-18T03:44:53Z'\n\\item '2020-05-18T03:45:58Z'\n\\item '2020-05-18T03:46:07Z'\n\\item '2020-05-18T03:46:19Z'\n\\item '2020-05-18T03:46:22Z'\n\\item '2020-05-18T03:46:35Z'\n\\item '2020-05-18T03:47:02Z'\n\\item '2020-05-18T03:47:09Z'\n\\item '2020-05-18T03:49:12Z'\n\\item '2020-05-18T03:50:36Z'\n\\item '2020-05-18T03:51:09Z'\n\\item '2020-05-18T03:51:13Z'\n\\item '2020-05-18T03:52:01Z'\n\\item '2020-05-18T03:52:23Z'\n\\item '2020-05-18T03:54:52Z'\n\\item '2020-05-18T03:55:03Z'\n\\item '2020-05-18T03:55:43Z'\n\\item '2020-05-18T03:55:44Z'\n\\item '2020-05-18T03:58:29Z'\n\\item '2020-05-18T03:58:44Z'\n\\item '2020-05-18T03:59:19Z'\n\\item '2020-05-18T04:00:27Z'\n\\item '2020-05-18T04:00:41Z'\n\\item '2020-05-18T04:00:50Z'\n\\item '2020-05-18T04:02:16Z'\n\\item '2020-05-18T04:05:37Z'\n\\item '2020-05-18T04:05:52Z'\n\\item '2020-05-18T04:07:31Z'\n\\item '2020-05-18T04:08:53Z'\n\\item '2020-05-18T04:09:02Z'\n\\item '2020-05-18T04:10:23Z'\n\\item '2020-05-18T04:14:00Z'\n\\item '2020-05-18T04:16:24Z'\n\\item '2020-05-18T04:20:02Z'\n\\item '2020-05-18T04:26:20Z'\n\\item '2020-05-18T04:26:38Z'\n\\item '2020-05-18T04:26:46Z'\n\\item '2020-05-18T04:26:47Z'\n\\item '2020-05-18T04:26:57Z'\n\\item '2020-05-18T04:27:20Z'\n\\item '2020-05-18T04:27:38Z'\n\\item '2020-05-18T04:27:42Z'\n\\item '2020-05-18T04:28:41Z'\n\\item '2020-05-18T04:31:00Z'\n\\item '2020-05-18T04:31:16Z'\n\\item '2020-05-18T04:35:00Z'\n\\item '2020-05-18T04:36:19Z'\n\\item '2020-05-18T04:36:32Z'\n\\item '2020-05-18T04:37:26Z'\n\\item '2020-05-18T04:37:30Z'\n\\item '2020-05-18T04:41:01Z'\n\\item '2020-05-18T04:41:15Z'\n\\item '2020-05-18T04:43:41Z'\n\\item '2020-05-18T04:44:24Z'\n\\item '2020-05-18T04:44:53Z'\n\\item '2020-05-18T04:44:56Z'\n\\item '2020-05-18T04:44:59Z'\n\\item '2020-05-18T04:46:41Z'\n\\item '2020-05-18T04:47:12Z'\n\\item '2020-05-18T04:47:53Z'\n\\item '2020-05-18T04:49:22Z'\n\\item '2020-05-18T04:51:03Z'\n\\item '2020-05-18T04:51:16Z'\n\\item '2020-05-18T04:52:08Z'\n\\item '2020-05-18T04:52:30Z'\n\\item '2020-05-18T04:53:21Z'\n\\item '2020-05-18T04:53:55Z'\n\\item '2020-05-18T04:54:22Z'\n\\item '2020-05-18T04:54:43Z'\n\\item '2020-05-18T04:54:46Z'\n\\item '2020-05-18T04:55:26Z'\n\\item '2020-05-18T04:56:48Z'\n\\item '2020-05-18T04:58:54Z'\n\\item '2020-05-18T04:59:15Z'\n\\item '2020-05-18T04:59:40Z'\n\\item '2020-05-18T05:00:00Z'\n\\item '2020-05-18T05:01:18Z'\n\\item '2020-05-18T05:01:20Z'\n\\item '2020-05-18T05:02:26Z'\n\\item '2020-05-18T05:04:24Z'\n\\item '2020-05-18T05:04:25Z'\n\\item '2020-05-18T05:04:29Z'\n\\item '2020-05-18T05:05:04Z'\n\\item '2020-05-18T05:05:54Z'\n\\item '2020-05-18T05:07:31Z'\n\\item '2020-05-18T05:07:49Z'\n\\item '2020-05-18T05:07:59Z'\n\\item '2020-05-18T05:08:04Z'\n\\item '2020-05-18T05:08:31Z'\n\\item '2020-05-18T05:09:56Z'\n\\end{enumerate*}\n",
            "text/markdown": "1. 2020-05-18T05:09:56Z\n2. 2020-05-18T05:08:31Z\n3. 2020-05-13T09:53:36Z\n4. 2020-05-18T05:08:04Z\n5. 2020-05-18T05:07:59Z\n6. 2020-05-17T19:34:43Z\n7. 2020-05-18T05:07:49Z\n8. 2020-05-13T09:02:07Z\n9. 2020-05-13T09:18:42Z\n10. 2020-05-18T05:07:31Z\n\n\n\n**Levels**: 1. '2020-05-12T04:44:52Z'\n2. '2020-05-12T04:44:53Z'\n3. '2020-05-12T04:45:37Z'\n4. '2020-05-12T04:46:26Z'\n5. '2020-05-12T04:47:21Z'\n6. '2020-05-12T04:47:36Z'\n7. '2020-05-12T04:47:37Z'\n8. '2020-05-12T04:47:57Z'\n9. '2020-05-12T04:48:15Z'\n10. '2020-05-12T04:48:18Z'\n11. '2020-05-12T04:48:43Z'\n12. '2020-05-12T04:49:06Z'\n13. '2020-05-12T04:49:39Z'\n14. '2020-05-12T04:49:49Z'\n15. '2020-05-12T04:50:15Z'\n16. '2020-05-12T04:51:23Z'\n17. '2020-05-12T04:51:24Z'\n18. '2020-05-12T04:51:55Z'\n19. '2020-05-12T04:53:39Z'\n20. '2020-05-12T04:54:06Z'\n21. '2020-05-12T04:55:02Z'\n22. '2020-05-12T04:55:21Z'\n23. '2020-05-12T04:55:23Z'\n24. '2020-05-12T04:56:23Z'\n25. '2020-05-12T04:56:31Z'\n26. '2020-05-12T04:57:03Z'\n27. '2020-05-12T04:59:32Z'\n28. '2020-05-12T05:00:00Z'\n29. '2020-05-12T05:00:03Z'\n30. '2020-05-12T05:00:05Z'\n31. '2020-05-12T05:01:39Z'\n32. '2020-05-12T05:02:29Z'\n33. '2020-05-12T05:03:12Z'\n34. '2020-05-12T05:03:16Z'\n35. '2020-05-12T05:03:17Z'\n36. '2020-05-12T05:04:03Z'\n37. '2020-05-12T05:04:17Z'\n38. '2020-05-12T05:04:23Z'\n39. '2020-05-12T05:04:34Z'\n40. '2020-05-12T05:05:02Z'\n41. '2020-05-12T05:05:09Z'\n42. '2020-05-12T05:05:49Z'\n43. '2020-05-12T05:08:19Z'\n44. '2020-05-12T05:09:34Z'\n45. '2020-05-12T05:10:00Z'\n46. '2020-05-12T05:10:18Z'\n47. '2020-05-12T05:11:20Z'\n48. '2020-05-12T05:12:07Z'\n49. '2020-05-12T05:12:14Z'\n50. '2020-05-12T05:12:50Z'\n51. '2020-05-12T05:13:22Z'\n52. '2020-05-12T05:14:38Z'\n53. '2020-05-12T05:14:40Z'\n54. '2020-05-12T05:15:01Z'\n55. '2020-05-12T05:15:04Z'\n56. '2020-05-12T05:15:12Z'\n57. '2020-05-12T05:17:09Z'\n58. '2020-05-12T05:18:49Z'\n59. '2020-05-12T05:19:41Z'\n60. '2020-05-12T05:20:17Z'\n61. '2020-05-12T05:20:24Z'\n62. '2020-05-12T05:20:40Z'\n63. '2020-05-12T05:21:50Z'\n64. '2020-05-12T05:23:39Z'\n65. '2020-05-12T05:24:10Z'\n66. '2020-05-12T05:25:23Z'\n67. '2020-05-12T05:26:43Z'\n68. '2020-05-12T05:27:07Z'\n69. '2020-05-12T05:27:10Z'\n70. '2020-05-12T05:27:15Z'\n71. '2020-05-12T05:29:33Z'\n72. '2020-05-12T05:31:32Z'\n73. '2020-05-12T05:32:06Z'\n74. '2020-05-12T05:33:07Z'\n75. '2020-05-12T05:34:28Z'\n76. '2020-05-12T05:36:39Z'\n77. '2020-05-12T05:37:32Z'\n78. '2020-05-12T05:37:52Z'\n79. '2020-05-12T05:38:02Z'\n80. '2020-05-12T05:38:04Z'\n81. '2020-05-12T05:39:31Z'\n82. '2020-05-12T05:40:01Z'\n83. '2020-05-12T05:40:14Z'\n84. '2020-05-12T05:40:52Z'\n85. '2020-05-12T05:41:09Z'\n86. '2020-05-12T05:41:24Z'\n87. '2020-05-12T05:41:43Z'\n88. '2020-05-12T05:42:02Z'\n89. '2020-05-12T05:42:41Z'\n90. '2020-05-12T05:44:32Z'\n91. '2020-05-12T05:45:13Z'\n92. '2020-05-12T05:45:18Z'\n93. '2020-05-12T05:45:40Z'\n94. '2020-05-12T05:46:03Z'\n95. '2020-05-12T05:46:15Z'\n96. '2020-05-12T05:48:03Z'\n97. '2020-05-12T05:48:09Z'\n98. '2020-05-12T05:48:57Z'\n99. '2020-05-12T05:50:38Z'\n100. '2020-05-12T05:51:44Z'\n101. '2020-05-12T05:53:34Z'\n102. '2020-05-12T05:53:56Z'\n103. '2020-05-12T05:54:01Z'\n104. '2020-05-12T05:55:12Z'\n105. '2020-05-12T05:55:29Z'\n106. '2020-05-12T05:55:35Z'\n107. '2020-05-12T05:56:42Z'\n108. '2020-05-12T05:56:45Z'\n109. '2020-05-12T05:56:48Z'\n110. '2020-05-12T05:57:33Z'\n111. '2020-05-12T05:59:15Z'\n112. '2020-05-12T05:59:58Z'\n113. '2020-05-12T06:00:00Z'\n114. '2020-05-12T06:00:05Z'\n115. '2020-05-12T06:00:30Z'\n116. '2020-05-12T06:01:14Z'\n117. '2020-05-12T06:02:00Z'\n118. '2020-05-12T06:02:07Z'\n119. '2020-05-12T06:02:55Z'\n120. '2020-05-12T06:04:55Z'\n121. '2020-05-12T06:05:02Z'\n122. '2020-05-12T06:07:32Z'\n123. '2020-05-12T06:07:33Z'\n124. '2020-05-12T06:07:43Z'\n125. '2020-05-12T06:07:46Z'\n126. '2020-05-12T06:09:22Z'\n127. '2020-05-12T06:09:47Z'\n128. '2020-05-12T06:10:41Z'\n129. '2020-05-12T06:11:18Z'\n130. '2020-05-12T06:11:24Z'\n131. '2020-05-12T06:12:49Z'\n132. '2020-05-12T06:13:00Z'\n133. '2020-05-12T06:14:27Z'\n134. '2020-05-12T06:15:09Z'\n135. '2020-05-12T06:15:34Z'\n136. '2020-05-12T06:15:39Z'\n137. '2020-05-12T06:17:15Z'\n138. '2020-05-12T06:17:28Z'\n139. '2020-05-12T06:17:59Z'\n140. '2020-05-12T06:18:12Z'\n141. '2020-05-12T06:18:41Z'\n142. '2020-05-12T06:18:47Z'\n143. '2020-05-12T06:18:55Z'\n144. '2020-05-12T06:18:57Z'\n145. '2020-05-12T06:19:03Z'\n146. '2020-05-12T06:19:20Z'\n147. '2020-05-12T06:20:15Z'\n148. '2020-05-12T06:20:21Z'\n149. '2020-05-12T06:20:39Z'\n150. '2020-05-12T06:24:59Z'\n151. '2020-05-12T06:25:06Z'\n152. '2020-05-12T06:25:19Z'\n153. '2020-05-12T06:25:22Z'\n154. '2020-05-12T06:25:55Z'\n155. '2020-05-12T06:27:07Z'\n156. '2020-05-12T06:27:23Z'\n157. '2020-05-12T06:29:27Z'\n158. '2020-05-12T06:29:51Z'\n159. '2020-05-12T06:31:08Z'\n160. '2020-05-12T06:32:13Z'\n161. '2020-05-12T06:33:04Z'\n162. '2020-05-12T06:33:32Z'\n163. '2020-05-12T06:34:47Z'\n164. '2020-05-12T06:34:48Z'\n165. '2020-05-12T06:35:55Z'\n166. '2020-05-12T06:36:07Z'\n167. '2020-05-12T06:37:15Z'\n168. '2020-05-12T06:37:17Z'\n169. '2020-05-12T06:37:27Z'\n170. '2020-05-12T06:37:31Z'\n171. '2020-05-12T06:37:49Z'\n172. '2020-05-12T06:38:02Z'\n173. '2020-05-12T06:38:24Z'\n174. '2020-05-12T06:38:42Z'\n175. '2020-05-12T06:39:09Z'\n176. '2020-05-12T06:39:33Z'\n177. '2020-05-12T06:39:38Z'\n178. '2020-05-12T06:40:08Z'\n179. '2020-05-12T06:40:15Z'\n180. '2020-05-12T06:41:10Z'\n181. '2020-05-12T06:41:42Z'\n182. '2020-05-12T06:42:44Z'\n183. '2020-05-12T06:43:18Z'\n184. '2020-05-12T06:43:19Z'\n185. '2020-05-12T06:45:08Z'\n186. '2020-05-12T06:45:32Z'\n187. '2020-05-12T06:46:58Z'\n188. '2020-05-12T06:47:30Z'\n189. '2020-05-12T06:48:14Z'\n190. '2020-05-12T06:48:38Z'\n191. '2020-05-12T06:50:22Z'\n192. '2020-05-12T06:51:14Z'\n193. '2020-05-12T06:51:34Z'\n194. '2020-05-12T06:51:46Z'\n195. '2020-05-12T06:52:19Z'\n196. '2020-05-12T06:53:09Z'\n197. '2020-05-12T06:54:23Z'\n198. '2020-05-12T06:56:02Z'\n199. '2020-05-12T06:56:03Z'\n200. '2020-05-12T06:57:02Z'\n201. ⋯\n202. '2020-05-18T02:26:41Z'\n203. '2020-05-18T02:26:55Z'\n204. '2020-05-18T02:29:52Z'\n205. '2020-05-18T02:32:11Z'\n206. '2020-05-18T02:32:30Z'\n207. '2020-05-18T02:33:28Z'\n208. '2020-05-18T02:34:19Z'\n209. '2020-05-18T02:34:33Z'\n210. '2020-05-18T02:34:42Z'\n211. '2020-05-18T02:35:49Z'\n212. '2020-05-18T02:36:09Z'\n213. '2020-05-18T02:36:46Z'\n214. '2020-05-18T02:37:24Z'\n215. '2020-05-18T02:37:27Z'\n216. '2020-05-18T02:37:30Z'\n217. '2020-05-18T02:38:55Z'\n218. '2020-05-18T02:38:59Z'\n219. '2020-05-18T02:39:04Z'\n220. '2020-05-18T02:39:19Z'\n221. '2020-05-18T02:41:30Z'\n222. '2020-05-18T02:42:00Z'\n223. '2020-05-18T02:42:43Z'\n224. '2020-05-18T02:44:10Z'\n225. '2020-05-18T02:45:05Z'\n226. '2020-05-18T02:45:21Z'\n227. '2020-05-18T02:45:47Z'\n228. '2020-05-18T02:46:16Z'\n229. '2020-05-18T02:46:43Z'\n230. '2020-05-18T02:49:11Z'\n231. '2020-05-18T02:49:33Z'\n232. '2020-05-18T02:49:34Z'\n233. '2020-05-18T02:49:44Z'\n234. '2020-05-18T02:51:17Z'\n235. '2020-05-18T02:52:46Z'\n236. '2020-05-18T02:53:49Z'\n237. '2020-05-18T02:53:50Z'\n238. '2020-05-18T02:53:57Z'\n239. '2020-05-18T02:54:12Z'\n240. '2020-05-18T02:54:28Z'\n241. '2020-05-18T02:54:33Z'\n242. '2020-05-18T02:54:57Z'\n243. '2020-05-18T02:55:21Z'\n244. '2020-05-18T02:57:32Z'\n245. '2020-05-18T02:57:45Z'\n246. '2020-05-18T02:59:03Z'\n247. '2020-05-18T02:59:13Z'\n248. '2020-05-18T02:59:38Z'\n249. '2020-05-18T03:00:00Z'\n250. '2020-05-18T03:00:17Z'\n251. '2020-05-18T03:00:19Z'\n252. '2020-05-18T03:00:23Z'\n253. '2020-05-18T03:00:48Z'\n254. '2020-05-18T03:01:55Z'\n255. '2020-05-18T03:04:04Z'\n256. '2020-05-18T03:05:01Z'\n257. '2020-05-18T03:05:23Z'\n258. '2020-05-18T03:08:10Z'\n259. '2020-05-18T03:09:05Z'\n260. '2020-05-18T03:09:19Z'\n261. '2020-05-18T03:10:18Z'\n262. '2020-05-18T03:12:18Z'\n263. '2020-05-18T03:13:14Z'\n264. '2020-05-18T03:13:35Z'\n265. '2020-05-18T03:14:07Z'\n266. '2020-05-18T03:14:41Z'\n267. '2020-05-18T03:15:00Z'\n268. '2020-05-18T03:15:15Z'\n269. '2020-05-18T03:15:17Z'\n270. '2020-05-18T03:17:22Z'\n271. '2020-05-18T03:17:45Z'\n272. '2020-05-18T03:19:47Z'\n273. '2020-05-18T03:21:00Z'\n274. '2020-05-18T03:21:22Z'\n275. '2020-05-18T03:21:23Z'\n276. '2020-05-18T03:22:32Z'\n277. '2020-05-18T03:24:08Z'\n278. '2020-05-18T03:24:59Z'\n279. '2020-05-18T03:25:04Z'\n280. '2020-05-18T03:25:37Z'\n281. '2020-05-18T03:27:21Z'\n282. '2020-05-18T03:27:56Z'\n283. '2020-05-18T03:28:31Z'\n284. '2020-05-18T03:29:09Z'\n285. '2020-05-18T03:29:30Z'\n286. '2020-05-18T03:29:58Z'\n287. '2020-05-18T03:30:10Z'\n288. '2020-05-18T03:30:22Z'\n289. '2020-05-18T03:30:57Z'\n290. '2020-05-18T03:31:22Z'\n291. '2020-05-18T03:32:15Z'\n292. '2020-05-18T03:33:07Z'\n293. '2020-05-18T03:34:03Z'\n294. '2020-05-18T03:34:17Z'\n295. '2020-05-18T03:34:26Z'\n296. '2020-05-18T03:34:38Z'\n297. '2020-05-18T03:36:14Z'\n298. '2020-05-18T03:37:23Z'\n299. '2020-05-18T03:37:33Z'\n300. '2020-05-18T03:37:55Z'\n301. '2020-05-18T03:39:20Z'\n302. '2020-05-18T03:40:23Z'\n303. '2020-05-18T03:41:28Z'\n304. '2020-05-18T03:41:33Z'\n305. '2020-05-18T03:41:41Z'\n306. '2020-05-18T03:42:08Z'\n307. '2020-05-18T03:43:12Z'\n308. '2020-05-18T03:43:37Z'\n309. '2020-05-18T03:44:02Z'\n310. '2020-05-18T03:44:36Z'\n311. '2020-05-18T03:44:37Z'\n312. '2020-05-18T03:44:53Z'\n313. '2020-05-18T03:45:58Z'\n314. '2020-05-18T03:46:07Z'\n315. '2020-05-18T03:46:19Z'\n316. '2020-05-18T03:46:22Z'\n317. '2020-05-18T03:46:35Z'\n318. '2020-05-18T03:47:02Z'\n319. '2020-05-18T03:47:09Z'\n320. '2020-05-18T03:49:12Z'\n321. '2020-05-18T03:50:36Z'\n322. '2020-05-18T03:51:09Z'\n323. '2020-05-18T03:51:13Z'\n324. '2020-05-18T03:52:01Z'\n325. '2020-05-18T03:52:23Z'\n326. '2020-05-18T03:54:52Z'\n327. '2020-05-18T03:55:03Z'\n328. '2020-05-18T03:55:43Z'\n329. '2020-05-18T03:55:44Z'\n330. '2020-05-18T03:58:29Z'\n331. '2020-05-18T03:58:44Z'\n332. '2020-05-18T03:59:19Z'\n333. '2020-05-18T04:00:27Z'\n334. '2020-05-18T04:00:41Z'\n335. '2020-05-18T04:00:50Z'\n336. '2020-05-18T04:02:16Z'\n337. '2020-05-18T04:05:37Z'\n338. '2020-05-18T04:05:52Z'\n339. '2020-05-18T04:07:31Z'\n340. '2020-05-18T04:08:53Z'\n341. '2020-05-18T04:09:02Z'\n342. '2020-05-18T04:10:23Z'\n343. '2020-05-18T04:14:00Z'\n344. '2020-05-18T04:16:24Z'\n345. '2020-05-18T04:20:02Z'\n346. '2020-05-18T04:26:20Z'\n347. '2020-05-18T04:26:38Z'\n348. '2020-05-18T04:26:46Z'\n349. '2020-05-18T04:26:47Z'\n350. '2020-05-18T04:26:57Z'\n351. '2020-05-18T04:27:20Z'\n352. '2020-05-18T04:27:38Z'\n353. '2020-05-18T04:27:42Z'\n354. '2020-05-18T04:28:41Z'\n355. '2020-05-18T04:31:00Z'\n356. '2020-05-18T04:31:16Z'\n357. '2020-05-18T04:35:00Z'\n358. '2020-05-18T04:36:19Z'\n359. '2020-05-18T04:36:32Z'\n360. '2020-05-18T04:37:26Z'\n361. '2020-05-18T04:37:30Z'\n362. '2020-05-18T04:41:01Z'\n363. '2020-05-18T04:41:15Z'\n364. '2020-05-18T04:43:41Z'\n365. '2020-05-18T04:44:24Z'\n366. '2020-05-18T04:44:53Z'\n367. '2020-05-18T04:44:56Z'\n368. '2020-05-18T04:44:59Z'\n369. '2020-05-18T04:46:41Z'\n370. '2020-05-18T04:47:12Z'\n371. '2020-05-18T04:47:53Z'\n372. '2020-05-18T04:49:22Z'\n373. '2020-05-18T04:51:03Z'\n374. '2020-05-18T04:51:16Z'\n375. '2020-05-18T04:52:08Z'\n376. '2020-05-18T04:52:30Z'\n377. '2020-05-18T04:53:21Z'\n378. '2020-05-18T04:53:55Z'\n379. '2020-05-18T04:54:22Z'\n380. '2020-05-18T04:54:43Z'\n381. '2020-05-18T04:54:46Z'\n382. '2020-05-18T04:55:26Z'\n383. '2020-05-18T04:56:48Z'\n384. '2020-05-18T04:58:54Z'\n385. '2020-05-18T04:59:15Z'\n386. '2020-05-18T04:59:40Z'\n387. '2020-05-18T05:00:00Z'\n388. '2020-05-18T05:01:18Z'\n389. '2020-05-18T05:01:20Z'\n390. '2020-05-18T05:02:26Z'\n391. '2020-05-18T05:04:24Z'\n392. '2020-05-18T05:04:25Z'\n393. '2020-05-18T05:04:29Z'\n394. '2020-05-18T05:05:04Z'\n395. '2020-05-18T05:05:54Z'\n396. '2020-05-18T05:07:31Z'\n397. '2020-05-18T05:07:49Z'\n398. '2020-05-18T05:07:59Z'\n399. '2020-05-18T05:08:04Z'\n400. '2020-05-18T05:08:31Z'\n401. '2020-05-18T05:09:56Z'\n\n\n",
            "text/html": [
              "<style>\n",
              ".list-inline {list-style: none; margin:0; padding: 0}\n",
              ".list-inline>li {display: inline-block}\n",
              ".list-inline>li:not(:last-child)::after {content: \"\\00b7\"; padding: 0 .5ex}\n",
              "</style>\n",
              "<ol class=list-inline><li>2020-05-18T05:09:56Z</li><li>2020-05-18T05:08:31Z</li><li>2020-05-13T09:53:36Z</li><li>2020-05-18T05:08:04Z</li><li>2020-05-18T05:07:59Z</li><li>2020-05-17T19:34:43Z</li><li>2020-05-18T05:07:49Z</li><li>2020-05-13T09:02:07Z</li><li>2020-05-13T09:18:42Z</li><li>2020-05-18T05:07:31Z</li></ol>\n",
              "\n",
              "<details>\n",
              "\t<summary style=display:list-item;cursor:pointer>\n",
              "\t\t<strong>Levels</strong>:\n",
              "\t</summary>\n",
              "\t<style>\n",
              "\t.list-inline {list-style: none; margin:0; padding: 0}\n",
              "\t.list-inline>li {display: inline-block}\n",
              "\t.list-inline>li:not(:last-child)::after {content: \"\\00b7\"; padding: 0 .5ex}\n",
              "\t</style>\n",
              "\t<ol class=list-inline><li>'2020-05-12T04:44:52Z'</li><li>'2020-05-12T04:44:53Z'</li><li>'2020-05-12T04:45:37Z'</li><li>'2020-05-12T04:46:26Z'</li><li>'2020-05-12T04:47:21Z'</li><li>'2020-05-12T04:47:36Z'</li><li>'2020-05-12T04:47:37Z'</li><li>'2020-05-12T04:47:57Z'</li><li>'2020-05-12T04:48:15Z'</li><li>'2020-05-12T04:48:18Z'</li><li>'2020-05-12T04:48:43Z'</li><li>'2020-05-12T04:49:06Z'</li><li>'2020-05-12T04:49:39Z'</li><li>'2020-05-12T04:49:49Z'</li><li>'2020-05-12T04:50:15Z'</li><li>'2020-05-12T04:51:23Z'</li><li>'2020-05-12T04:51:24Z'</li><li>'2020-05-12T04:51:55Z'</li><li>'2020-05-12T04:53:39Z'</li><li>'2020-05-12T04:54:06Z'</li><li>'2020-05-12T04:55:02Z'</li><li>'2020-05-12T04:55:21Z'</li><li>'2020-05-12T04:55:23Z'</li><li>'2020-05-12T04:56:23Z'</li><li>'2020-05-12T04:56:31Z'</li><li>'2020-05-12T04:57:03Z'</li><li>'2020-05-12T04:59:32Z'</li><li>'2020-05-12T05:00:00Z'</li><li>'2020-05-12T05:00:03Z'</li><li>'2020-05-12T05:00:05Z'</li><li>'2020-05-12T05:01:39Z'</li><li>'2020-05-12T05:02:29Z'</li><li>'2020-05-12T05:03:12Z'</li><li>'2020-05-12T05:03:16Z'</li><li>'2020-05-12T05:03:17Z'</li><li>'2020-05-12T05:04:03Z'</li><li>'2020-05-12T05:04:17Z'</li><li>'2020-05-12T05:04:23Z'</li><li>'2020-05-12T05:04:34Z'</li><li>'2020-05-12T05:05:02Z'</li><li>'2020-05-12T05:05:09Z'</li><li>'2020-05-12T05:05:49Z'</li><li>'2020-05-12T05:08:19Z'</li><li>'2020-05-12T05:09:34Z'</li><li>'2020-05-12T05:10:00Z'</li><li>'2020-05-12T05:10:18Z'</li><li>'2020-05-12T05:11:20Z'</li><li>'2020-05-12T05:12:07Z'</li><li>'2020-05-12T05:12:14Z'</li><li>'2020-05-12T05:12:50Z'</li><li>'2020-05-12T05:13:22Z'</li><li>'2020-05-12T05:14:38Z'</li><li>'2020-05-12T05:14:40Z'</li><li>'2020-05-12T05:15:01Z'</li><li>'2020-05-12T05:15:04Z'</li><li>'2020-05-12T05:15:12Z'</li><li>'2020-05-12T05:17:09Z'</li><li>'2020-05-12T05:18:49Z'</li><li>'2020-05-12T05:19:41Z'</li><li>'2020-05-12T05:20:17Z'</li><li>'2020-05-12T05:20:24Z'</li><li>'2020-05-12T05:20:40Z'</li><li>'2020-05-12T05:21:50Z'</li><li>'2020-05-12T05:23:39Z'</li><li>'2020-05-12T05:24:10Z'</li><li>'2020-05-12T05:25:23Z'</li><li>'2020-05-12T05:26:43Z'</li><li>'2020-05-12T05:27:07Z'</li><li>'2020-05-12T05:27:10Z'</li><li>'2020-05-12T05:27:15Z'</li><li>'2020-05-12T05:29:33Z'</li><li>'2020-05-12T05:31:32Z'</li><li>'2020-05-12T05:32:06Z'</li><li>'2020-05-12T05:33:07Z'</li><li>'2020-05-12T05:34:28Z'</li><li>'2020-05-12T05:36:39Z'</li><li>'2020-05-12T05:37:32Z'</li><li>'2020-05-12T05:37:52Z'</li><li>'2020-05-12T05:38:02Z'</li><li>'2020-05-12T05:38:04Z'</li><li>'2020-05-12T05:39:31Z'</li><li>'2020-05-12T05:40:01Z'</li><li>'2020-05-12T05:40:14Z'</li><li>'2020-05-12T05:40:52Z'</li><li>'2020-05-12T05:41:09Z'</li><li>'2020-05-12T05:41:24Z'</li><li>'2020-05-12T05:41:43Z'</li><li>'2020-05-12T05:42:02Z'</li><li>'2020-05-12T05:42:41Z'</li><li>'2020-05-12T05:44:32Z'</li><li>'2020-05-12T05:45:13Z'</li><li>'2020-05-12T05:45:18Z'</li><li>'2020-05-12T05:45:40Z'</li><li>'2020-05-12T05:46:03Z'</li><li>'2020-05-12T05:46:15Z'</li><li>'2020-05-12T05:48:03Z'</li><li>'2020-05-12T05:48:09Z'</li><li>'2020-05-12T05:48:57Z'</li><li>'2020-05-12T05:50:38Z'</li><li>'2020-05-12T05:51:44Z'</li><li>'2020-05-12T05:53:34Z'</li><li>'2020-05-12T05:53:56Z'</li><li>'2020-05-12T05:54:01Z'</li><li>'2020-05-12T05:55:12Z'</li><li>'2020-05-12T05:55:29Z'</li><li>'2020-05-12T05:55:35Z'</li><li>'2020-05-12T05:56:42Z'</li><li>'2020-05-12T05:56:45Z'</li><li>'2020-05-12T05:56:48Z'</li><li>'2020-05-12T05:57:33Z'</li><li>'2020-05-12T05:59:15Z'</li><li>'2020-05-12T05:59:58Z'</li><li>'2020-05-12T06:00:00Z'</li><li>'2020-05-12T06:00:05Z'</li><li>'2020-05-12T06:00:30Z'</li><li>'2020-05-12T06:01:14Z'</li><li>'2020-05-12T06:02:00Z'</li><li>'2020-05-12T06:02:07Z'</li><li>'2020-05-12T06:02:55Z'</li><li>'2020-05-12T06:04:55Z'</li><li>'2020-05-12T06:05:02Z'</li><li>'2020-05-12T06:07:32Z'</li><li>'2020-05-12T06:07:33Z'</li><li>'2020-05-12T06:07:43Z'</li><li>'2020-05-12T06:07:46Z'</li><li>'2020-05-12T06:09:22Z'</li><li>'2020-05-12T06:09:47Z'</li><li>'2020-05-12T06:10:41Z'</li><li>'2020-05-12T06:11:18Z'</li><li>'2020-05-12T06:11:24Z'</li><li>'2020-05-12T06:12:49Z'</li><li>'2020-05-12T06:13:00Z'</li><li>'2020-05-12T06:14:27Z'</li><li>'2020-05-12T06:15:09Z'</li><li>'2020-05-12T06:15:34Z'</li><li>'2020-05-12T06:15:39Z'</li><li>'2020-05-12T06:17:15Z'</li><li>'2020-05-12T06:17:28Z'</li><li>'2020-05-12T06:17:59Z'</li><li>'2020-05-12T06:18:12Z'</li><li>'2020-05-12T06:18:41Z'</li><li>'2020-05-12T06:18:47Z'</li><li>'2020-05-12T06:18:55Z'</li><li>'2020-05-12T06:18:57Z'</li><li>'2020-05-12T06:19:03Z'</li><li>'2020-05-12T06:19:20Z'</li><li>'2020-05-12T06:20:15Z'</li><li>'2020-05-12T06:20:21Z'</li><li>'2020-05-12T06:20:39Z'</li><li>'2020-05-12T06:24:59Z'</li><li>'2020-05-12T06:25:06Z'</li><li>'2020-05-12T06:25:19Z'</li><li>'2020-05-12T06:25:22Z'</li><li>'2020-05-12T06:25:55Z'</li><li>'2020-05-12T06:27:07Z'</li><li>'2020-05-12T06:27:23Z'</li><li>'2020-05-12T06:29:27Z'</li><li>'2020-05-12T06:29:51Z'</li><li>'2020-05-12T06:31:08Z'</li><li>'2020-05-12T06:32:13Z'</li><li>'2020-05-12T06:33:04Z'</li><li>'2020-05-12T06:33:32Z'</li><li>'2020-05-12T06:34:47Z'</li><li>'2020-05-12T06:34:48Z'</li><li>'2020-05-12T06:35:55Z'</li><li>'2020-05-12T06:36:07Z'</li><li>'2020-05-12T06:37:15Z'</li><li>'2020-05-12T06:37:17Z'</li><li>'2020-05-12T06:37:27Z'</li><li>'2020-05-12T06:37:31Z'</li><li>'2020-05-12T06:37:49Z'</li><li>'2020-05-12T06:38:02Z'</li><li>'2020-05-12T06:38:24Z'</li><li>'2020-05-12T06:38:42Z'</li><li>'2020-05-12T06:39:09Z'</li><li>'2020-05-12T06:39:33Z'</li><li>'2020-05-12T06:39:38Z'</li><li>'2020-05-12T06:40:08Z'</li><li>'2020-05-12T06:40:15Z'</li><li>'2020-05-12T06:41:10Z'</li><li>'2020-05-12T06:41:42Z'</li><li>'2020-05-12T06:42:44Z'</li><li>'2020-05-12T06:43:18Z'</li><li>'2020-05-12T06:43:19Z'</li><li>'2020-05-12T06:45:08Z'</li><li>'2020-05-12T06:45:32Z'</li><li>'2020-05-12T06:46:58Z'</li><li>'2020-05-12T06:47:30Z'</li><li>'2020-05-12T06:48:14Z'</li><li>'2020-05-12T06:48:38Z'</li><li>'2020-05-12T06:50:22Z'</li><li>'2020-05-12T06:51:14Z'</li><li>'2020-05-12T06:51:34Z'</li><li>'2020-05-12T06:51:46Z'</li><li>'2020-05-12T06:52:19Z'</li><li>'2020-05-12T06:53:09Z'</li><li>'2020-05-12T06:54:23Z'</li><li>'2020-05-12T06:56:02Z'</li><li>'2020-05-12T06:56:03Z'</li><li>'2020-05-12T06:57:02Z'</li><li>⋯</li><li>'2020-05-18T02:26:41Z'</li><li>'2020-05-18T02:26:55Z'</li><li>'2020-05-18T02:29:52Z'</li><li>'2020-05-18T02:32:11Z'</li><li>'2020-05-18T02:32:30Z'</li><li>'2020-05-18T02:33:28Z'</li><li>'2020-05-18T02:34:19Z'</li><li>'2020-05-18T02:34:33Z'</li><li>'2020-05-18T02:34:42Z'</li><li>'2020-05-18T02:35:49Z'</li><li>'2020-05-18T02:36:09Z'</li><li>'2020-05-18T02:36:46Z'</li><li>'2020-05-18T02:37:24Z'</li><li>'2020-05-18T02:37:27Z'</li><li>'2020-05-18T02:37:30Z'</li><li>'2020-05-18T02:38:55Z'</li><li>'2020-05-18T02:38:59Z'</li><li>'2020-05-18T02:39:04Z'</li><li>'2020-05-18T02:39:19Z'</li><li>'2020-05-18T02:41:30Z'</li><li>'2020-05-18T02:42:00Z'</li><li>'2020-05-18T02:42:43Z'</li><li>'2020-05-18T02:44:10Z'</li><li>'2020-05-18T02:45:05Z'</li><li>'2020-05-18T02:45:21Z'</li><li>'2020-05-18T02:45:47Z'</li><li>'2020-05-18T02:46:16Z'</li><li>'2020-05-18T02:46:43Z'</li><li>'2020-05-18T02:49:11Z'</li><li>'2020-05-18T02:49:33Z'</li><li>'2020-05-18T02:49:34Z'</li><li>'2020-05-18T02:49:44Z'</li><li>'2020-05-18T02:51:17Z'</li><li>'2020-05-18T02:52:46Z'</li><li>'2020-05-18T02:53:49Z'</li><li>'2020-05-18T02:53:50Z'</li><li>'2020-05-18T02:53:57Z'</li><li>'2020-05-18T02:54:12Z'</li><li>'2020-05-18T02:54:28Z'</li><li>'2020-05-18T02:54:33Z'</li><li>'2020-05-18T02:54:57Z'</li><li>'2020-05-18T02:55:21Z'</li><li>'2020-05-18T02:57:32Z'</li><li>'2020-05-18T02:57:45Z'</li><li>'2020-05-18T02:59:03Z'</li><li>'2020-05-18T02:59:13Z'</li><li>'2020-05-18T02:59:38Z'</li><li>'2020-05-18T03:00:00Z'</li><li>'2020-05-18T03:00:17Z'</li><li>'2020-05-18T03:00:19Z'</li><li>'2020-05-18T03:00:23Z'</li><li>'2020-05-18T03:00:48Z'</li><li>'2020-05-18T03:01:55Z'</li><li>'2020-05-18T03:04:04Z'</li><li>'2020-05-18T03:05:01Z'</li><li>'2020-05-18T03:05:23Z'</li><li>'2020-05-18T03:08:10Z'</li><li>'2020-05-18T03:09:05Z'</li><li>'2020-05-18T03:09:19Z'</li><li>'2020-05-18T03:10:18Z'</li><li>'2020-05-18T03:12:18Z'</li><li>'2020-05-18T03:13:14Z'</li><li>'2020-05-18T03:13:35Z'</li><li>'2020-05-18T03:14:07Z'</li><li>'2020-05-18T03:14:41Z'</li><li>'2020-05-18T03:15:00Z'</li><li>'2020-05-18T03:15:15Z'</li><li>'2020-05-18T03:15:17Z'</li><li>'2020-05-18T03:17:22Z'</li><li>'2020-05-18T03:17:45Z'</li><li>'2020-05-18T03:19:47Z'</li><li>'2020-05-18T03:21:00Z'</li><li>'2020-05-18T03:21:22Z'</li><li>'2020-05-18T03:21:23Z'</li><li>'2020-05-18T03:22:32Z'</li><li>'2020-05-18T03:24:08Z'</li><li>'2020-05-18T03:24:59Z'</li><li>'2020-05-18T03:25:04Z'</li><li>'2020-05-18T03:25:37Z'</li><li>'2020-05-18T03:27:21Z'</li><li>'2020-05-18T03:27:56Z'</li><li>'2020-05-18T03:28:31Z'</li><li>'2020-05-18T03:29:09Z'</li><li>'2020-05-18T03:29:30Z'</li><li>'2020-05-18T03:29:58Z'</li><li>'2020-05-18T03:30:10Z'</li><li>'2020-05-18T03:30:22Z'</li><li>'2020-05-18T03:30:57Z'</li><li>'2020-05-18T03:31:22Z'</li><li>'2020-05-18T03:32:15Z'</li><li>'2020-05-18T03:33:07Z'</li><li>'2020-05-18T03:34:03Z'</li><li>'2020-05-18T03:34:17Z'</li><li>'2020-05-18T03:34:26Z'</li><li>'2020-05-18T03:34:38Z'</li><li>'2020-05-18T03:36:14Z'</li><li>'2020-05-18T03:37:23Z'</li><li>'2020-05-18T03:37:33Z'</li><li>'2020-05-18T03:37:55Z'</li><li>'2020-05-18T03:39:20Z'</li><li>'2020-05-18T03:40:23Z'</li><li>'2020-05-18T03:41:28Z'</li><li>'2020-05-18T03:41:33Z'</li><li>'2020-05-18T03:41:41Z'</li><li>'2020-05-18T03:42:08Z'</li><li>'2020-05-18T03:43:12Z'</li><li>'2020-05-18T03:43:37Z'</li><li>'2020-05-18T03:44:02Z'</li><li>'2020-05-18T03:44:36Z'</li><li>'2020-05-18T03:44:37Z'</li><li>'2020-05-18T03:44:53Z'</li><li>'2020-05-18T03:45:58Z'</li><li>'2020-05-18T03:46:07Z'</li><li>'2020-05-18T03:46:19Z'</li><li>'2020-05-18T03:46:22Z'</li><li>'2020-05-18T03:46:35Z'</li><li>'2020-05-18T03:47:02Z'</li><li>'2020-05-18T03:47:09Z'</li><li>'2020-05-18T03:49:12Z'</li><li>'2020-05-18T03:50:36Z'</li><li>'2020-05-18T03:51:09Z'</li><li>'2020-05-18T03:51:13Z'</li><li>'2020-05-18T03:52:01Z'</li><li>'2020-05-18T03:52:23Z'</li><li>'2020-05-18T03:54:52Z'</li><li>'2020-05-18T03:55:03Z'</li><li>'2020-05-18T03:55:43Z'</li><li>'2020-05-18T03:55:44Z'</li><li>'2020-05-18T03:58:29Z'</li><li>'2020-05-18T03:58:44Z'</li><li>'2020-05-18T03:59:19Z'</li><li>'2020-05-18T04:00:27Z'</li><li>'2020-05-18T04:00:41Z'</li><li>'2020-05-18T04:00:50Z'</li><li>'2020-05-18T04:02:16Z'</li><li>'2020-05-18T04:05:37Z'</li><li>'2020-05-18T04:05:52Z'</li><li>'2020-05-18T04:07:31Z'</li><li>'2020-05-18T04:08:53Z'</li><li>'2020-05-18T04:09:02Z'</li><li>'2020-05-18T04:10:23Z'</li><li>'2020-05-18T04:14:00Z'</li><li>'2020-05-18T04:16:24Z'</li><li>'2020-05-18T04:20:02Z'</li><li>'2020-05-18T04:26:20Z'</li><li>'2020-05-18T04:26:38Z'</li><li>'2020-05-18T04:26:46Z'</li><li>'2020-05-18T04:26:47Z'</li><li>'2020-05-18T04:26:57Z'</li><li>'2020-05-18T04:27:20Z'</li><li>'2020-05-18T04:27:38Z'</li><li>'2020-05-18T04:27:42Z'</li><li>'2020-05-18T04:28:41Z'</li><li>'2020-05-18T04:31:00Z'</li><li>'2020-05-18T04:31:16Z'</li><li>'2020-05-18T04:35:00Z'</li><li>'2020-05-18T04:36:19Z'</li><li>'2020-05-18T04:36:32Z'</li><li>'2020-05-18T04:37:26Z'</li><li>'2020-05-18T04:37:30Z'</li><li>'2020-05-18T04:41:01Z'</li><li>'2020-05-18T04:41:15Z'</li><li>'2020-05-18T04:43:41Z'</li><li>'2020-05-18T04:44:24Z'</li><li>'2020-05-18T04:44:53Z'</li><li>'2020-05-18T04:44:56Z'</li><li>'2020-05-18T04:44:59Z'</li><li>'2020-05-18T04:46:41Z'</li><li>'2020-05-18T04:47:12Z'</li><li>'2020-05-18T04:47:53Z'</li><li>'2020-05-18T04:49:22Z'</li><li>'2020-05-18T04:51:03Z'</li><li>'2020-05-18T04:51:16Z'</li><li>'2020-05-18T04:52:08Z'</li><li>'2020-05-18T04:52:30Z'</li><li>'2020-05-18T04:53:21Z'</li><li>'2020-05-18T04:53:55Z'</li><li>'2020-05-18T04:54:22Z'</li><li>'2020-05-18T04:54:43Z'</li><li>'2020-05-18T04:54:46Z'</li><li>'2020-05-18T04:55:26Z'</li><li>'2020-05-18T04:56:48Z'</li><li>'2020-05-18T04:58:54Z'</li><li>'2020-05-18T04:59:15Z'</li><li>'2020-05-18T04:59:40Z'</li><li>'2020-05-18T05:00:00Z'</li><li>'2020-05-18T05:01:18Z'</li><li>'2020-05-18T05:01:20Z'</li><li>'2020-05-18T05:02:26Z'</li><li>'2020-05-18T05:04:24Z'</li><li>'2020-05-18T05:04:25Z'</li><li>'2020-05-18T05:04:29Z'</li><li>'2020-05-18T05:05:04Z'</li><li>'2020-05-18T05:05:54Z'</li><li>'2020-05-18T05:07:31Z'</li><li>'2020-05-18T05:07:49Z'</li><li>'2020-05-18T05:07:59Z'</li><li>'2020-05-18T05:08:04Z'</li><li>'2020-05-18T05:08:31Z'</li><li>'2020-05-18T05:09:56Z'</li></ol>\n",
              "</details>"
            ]
          },
          "metadata": {
            "tags": []
          }
        }
      ]
    },
    {
      "cell_type": "markdown",
      "metadata": {
        "id": "qlUB_wol44Nb",
        "colab_type": "text"
      },
      "source": [
        "We can see the extracted tweets on `toyota` and the `created_at` column has the timestamp."
      ]
    },
    {
      "cell_type": "code",
      "metadata": {
        "id": "ENRXp4ATshHc",
        "colab_type": "code",
        "colab": {
          "base_uri": "https://localhost:8080/",
          "height": 102
        },
        "outputId": "f8ddd4c4-c089-4bf2-f1cf-2882006f1da2"
      },
      "source": [
        "# Update dates in `created_at` column with the new date format\n",
        "toyotadf$created_at <- as.POSIXct(toyotadf$created_at, format = \"%Y-%m-%dT%H:%M:%SZ\", tz=\"GMT\")\n",
        "# View the `created_at` column again\n",
        "head(toyotadf$created_at, 10)"
      ],
      "execution_count": 24,
      "outputs": [
        {
          "output_type": "display_data",
          "data": {
            "text/plain": [
              " [1] \"2020-05-18 05:09:56 GMT\" \"2020-05-18 05:08:31 GMT\"\n",
              " [3] \"2020-05-13 09:53:36 GMT\" \"2020-05-18 05:08:04 GMT\"\n",
              " [5] \"2020-05-18 05:07:59 GMT\" \"2020-05-17 19:34:43 GMT\"\n",
              " [7] \"2020-05-18 05:07:49 GMT\" \"2020-05-13 09:02:07 GMT\"\n",
              " [9] \"2020-05-13 09:18:42 GMT\" \"2020-05-18 05:07:31 GMT\""
            ]
          },
          "metadata": {
            "tags": []
          }
        }
      ]
    },
    {
      "cell_type": "markdown",
      "metadata": {
        "id": "cPFGvKo1aY1s",
        "colab_type": "text"
      },
      "source": [
        "\n",
        "To visualize the number of tweets over time, we aggregate both `toyotadf` and `tesladf` into time series objects using `ts_data()` which takes in 2 arguments:\n",
        "* The data frame being converted\n",
        "* `by`: The time interval of frequency counting (here `'hours'`)\n"
      ]
    },
    {
      "cell_type": "code",
      "metadata": {
        "id": "bLl72Zdtp00q",
        "colab_type": "code",
        "colab": {
          "base_uri": "https://localhost:8080/",
          "height": 204
        },
        "outputId": "561b0a3e-dc01-4517-fae9-94853930e9a7"
      },
      "source": [
        "# Create a time series object for Tesla at hourly intervals\n",
        "tesla_ts <- ts_data(tesladf, by = \"hours\")\n",
        "# View the time series object\n",
        "head(tesla_ts)"
      ],
      "execution_count": 32,
      "outputs": [
        {
          "output_type": "display_data",
          "data": {
            "text/plain": [
              "  time                n  \n",
              "1 2020-05-16 11:00:00 243\n",
              "2 2020-05-16 12:00:00 331\n",
              "3 2020-05-16 13:00:00 442\n",
              "4 2020-05-16 14:00:00 499\n",
              "5 2020-05-16 15:00:00 544\n",
              "6 2020-05-16 16:00:00 570"
            ],
            "text/latex": "A tibble: 6 × 2\n\\begin{tabular}{ll}\n time & n\\\\\n <dttm> & <int>\\\\\n\\hline\n\t 2020-05-16 11:00:00 & 243\\\\\n\t 2020-05-16 12:00:00 & 331\\\\\n\t 2020-05-16 13:00:00 & 442\\\\\n\t 2020-05-16 14:00:00 & 499\\\\\n\t 2020-05-16 15:00:00 & 544\\\\\n\t 2020-05-16 16:00:00 & 570\\\\\n\\end{tabular}\n",
            "text/markdown": "\nA tibble: 6 × 2\n\n| time &lt;dttm&gt; | n &lt;int&gt; |\n|---|---|\n| 2020-05-16 11:00:00 | 243 |\n| 2020-05-16 12:00:00 | 331 |\n| 2020-05-16 13:00:00 | 442 |\n| 2020-05-16 14:00:00 | 499 |\n| 2020-05-16 15:00:00 | 544 |\n| 2020-05-16 16:00:00 | 570 |\n\n",
            "text/html": [
              "<table>\n",
              "<caption>A tibble: 6 × 2</caption>\n",
              "<thead>\n",
              "\t<tr><th scope=col>time</th><th scope=col>n</th></tr>\n",
              "\t<tr><th scope=col>&lt;dttm&gt;</th><th scope=col>&lt;int&gt;</th></tr>\n",
              "</thead>\n",
              "<tbody>\n",
              "\t<tr><td>2020-05-16 11:00:00</td><td>243</td></tr>\n",
              "\t<tr><td>2020-05-16 12:00:00</td><td>331</td></tr>\n",
              "\t<tr><td>2020-05-16 13:00:00</td><td>442</td></tr>\n",
              "\t<tr><td>2020-05-16 14:00:00</td><td>499</td></tr>\n",
              "\t<tr><td>2020-05-16 15:00:00</td><td>544</td></tr>\n",
              "\t<tr><td>2020-05-16 16:00:00</td><td>570</td></tr>\n",
              "</tbody>\n",
              "</table>\n"
            ]
          },
          "metadata": {
            "tags": []
          }
        }
      ]
    },
    {
      "cell_type": "code",
      "metadata": {
        "id": "95lZbmLHp7YR",
        "colab_type": "code",
        "colab": {
          "base_uri": "https://localhost:8080/",
          "height": 204
        },
        "outputId": "62c5c8f2-cbf1-4f36-fc99-8e53208de2e6"
      },
      "source": [
        "# Rename the two columns in the time series object\n",
        "names(tesla_ts) <- c(\"time\", \"tesla_n\")\n",
        "# View the output\n",
        "head(tesla_ts)"
      ],
      "execution_count": 33,
      "outputs": [
        {
          "output_type": "display_data",
          "data": {
            "text/plain": [
              "  time                tesla_n\n",
              "1 2020-05-16 11:00:00 243    \n",
              "2 2020-05-16 12:00:00 331    \n",
              "3 2020-05-16 13:00:00 442    \n",
              "4 2020-05-16 14:00:00 499    \n",
              "5 2020-05-16 15:00:00 544    \n",
              "6 2020-05-16 16:00:00 570    "
            ],
            "text/latex": "A tibble: 6 × 2\n\\begin{tabular}{ll}\n time & tesla\\_n\\\\\n <dttm> & <int>\\\\\n\\hline\n\t 2020-05-16 11:00:00 & 243\\\\\n\t 2020-05-16 12:00:00 & 331\\\\\n\t 2020-05-16 13:00:00 & 442\\\\\n\t 2020-05-16 14:00:00 & 499\\\\\n\t 2020-05-16 15:00:00 & 544\\\\\n\t 2020-05-16 16:00:00 & 570\\\\\n\\end{tabular}\n",
            "text/markdown": "\nA tibble: 6 × 2\n\n| time &lt;dttm&gt; | tesla_n &lt;int&gt; |\n|---|---|\n| 2020-05-16 11:00:00 | 243 |\n| 2020-05-16 12:00:00 | 331 |\n| 2020-05-16 13:00:00 | 442 |\n| 2020-05-16 14:00:00 | 499 |\n| 2020-05-16 15:00:00 | 544 |\n| 2020-05-16 16:00:00 | 570 |\n\n",
            "text/html": [
              "<table>\n",
              "<caption>A tibble: 6 × 2</caption>\n",
              "<thead>\n",
              "\t<tr><th scope=col>time</th><th scope=col>tesla_n</th></tr>\n",
              "\t<tr><th scope=col>&lt;dttm&gt;</th><th scope=col>&lt;int&gt;</th></tr>\n",
              "</thead>\n",
              "<tbody>\n",
              "\t<tr><td>2020-05-16 11:00:00</td><td>243</td></tr>\n",
              "\t<tr><td>2020-05-16 12:00:00</td><td>331</td></tr>\n",
              "\t<tr><td>2020-05-16 13:00:00</td><td>442</td></tr>\n",
              "\t<tr><td>2020-05-16 14:00:00</td><td>499</td></tr>\n",
              "\t<tr><td>2020-05-16 15:00:00</td><td>544</td></tr>\n",
              "\t<tr><td>2020-05-16 16:00:00</td><td>570</td></tr>\n",
              "</tbody>\n",
              "</table>\n"
            ]
          },
          "metadata": {
            "tags": []
          }
        }
      ]
    },
    {
      "cell_type": "code",
      "metadata": {
        "id": "pCdnIPJdqBRh",
        "colab_type": "code",
        "colab": {
          "base_uri": "https://localhost:8080/",
          "height": 204
        },
        "outputId": "df069bf6-cacd-4305-8189-c1b7e65cfddd"
      },
      "source": [
        "# Create a time series object for Toyota at hourly intervals\n",
        "toyo_ts <- ts_data(toyotadf, by = \"hours\")\n",
        "# Rename the two columns in the time series object\n",
        "names(toyo_ts) <- c(\"time\", \"toyo_n\")\n",
        "# View the output\n",
        "head(toyo_ts)"
      ],
      "execution_count": 26,
      "outputs": [
        {
          "output_type": "display_data",
          "data": {
            "text/plain": [
              "  time                toyo_n\n",
              "1 2020-05-12 04:00:00  27   \n",
              "2 2020-05-12 05:00:00  87   \n",
              "3 2020-05-12 06:00:00  94   \n",
              "4 2020-05-12 07:00:00 162   \n",
              "5 2020-05-12 08:00:00 121   \n",
              "6 2020-05-12 09:00:00 116   "
            ],
            "text/latex": "A tibble: 6 × 2\n\\begin{tabular}{ll}\n time & toyo\\_n\\\\\n <dttm> & <int>\\\\\n\\hline\n\t 2020-05-12 04:00:00 &  27\\\\\n\t 2020-05-12 05:00:00 &  87\\\\\n\t 2020-05-12 06:00:00 &  94\\\\\n\t 2020-05-12 07:00:00 & 162\\\\\n\t 2020-05-12 08:00:00 & 121\\\\\n\t 2020-05-12 09:00:00 & 116\\\\\n\\end{tabular}\n",
            "text/markdown": "\nA tibble: 6 × 2\n\n| time &lt;dttm&gt; | toyo_n &lt;int&gt; |\n|---|---|\n| 2020-05-12 04:00:00 |  27 |\n| 2020-05-12 05:00:00 |  87 |\n| 2020-05-12 06:00:00 |  94 |\n| 2020-05-12 07:00:00 | 162 |\n| 2020-05-12 08:00:00 | 121 |\n| 2020-05-12 09:00:00 | 116 |\n\n",
            "text/html": [
              "<table>\n",
              "<caption>A tibble: 6 × 2</caption>\n",
              "<thead>\n",
              "\t<tr><th scope=col>time</th><th scope=col>toyo_n</th></tr>\n",
              "\t<tr><th scope=col>&lt;dttm&gt;</th><th scope=col>&lt;int&gt;</th></tr>\n",
              "</thead>\n",
              "<tbody>\n",
              "\t<tr><td>2020-05-12 04:00:00</td><td> 27</td></tr>\n",
              "\t<tr><td>2020-05-12 05:00:00</td><td> 87</td></tr>\n",
              "\t<tr><td>2020-05-12 06:00:00</td><td> 94</td></tr>\n",
              "\t<tr><td>2020-05-12 07:00:00</td><td>162</td></tr>\n",
              "\t<tr><td>2020-05-12 08:00:00</td><td>121</td></tr>\n",
              "\t<tr><td>2020-05-12 09:00:00</td><td>116</td></tr>\n",
              "</tbody>\n",
              "</table>\n"
            ]
          },
          "metadata": {
            "tags": []
          }
        }
      ]
    },
    {
      "cell_type": "markdown",
      "metadata": {
        "id": "SZJ25BcQg92C",
        "colab_type": "text"
      },
      "source": [
        "We now have two time series objects with columns for time and tweet frequencies."
      ]
    },
    {
      "cell_type": "markdown",
      "metadata": {
        "id": "esToBmx8gd5M",
        "colab_type": "text"
      },
      "source": [
        "Merge the objects into a single data frame using the `merge()` function which is from the `reshape` library."
      ]
    },
    {
      "cell_type": "code",
      "metadata": {
        "id": "_k1PAQknqIyW",
        "colab_type": "code",
        "colab": {}
      },
      "source": [
        "# Load the required libraries\n",
        "library(reshape)\n",
        "library(ggplot2)"
      ],
      "execution_count": null,
      "outputs": []
    },
    {
      "cell_type": "markdown",
      "metadata": {
        "id": "oTOQxrBLjiQj",
        "colab_type": "text"
      },
      "source": [
        "The `merge()` function takes 3 arguments:\n",
        "\n",
        "* the time series objects to be merged \n",
        "\n",
        "* `by` argument which specifies the common column for merging\n",
        "\n",
        "* `all` argument to instruct whether all the rows should be included"
      ]
    },
    {
      "cell_type": "code",
      "metadata": {
        "id": "sPLMxQZlqmES",
        "colab_type": "code",
        "colab": {}
      },
      "source": [
        "# Merge the time series objects with \"time\" as the common column\n",
        "\n",
        "# View few rows of the merged dataframe\n"
      ],
      "execution_count": null,
      "outputs": []
    },
    {
      "cell_type": "markdown",
      "metadata": {
        "id": "pfduZFSHjz3b",
        "colab_type": "text"
      },
      "source": [
        "We can see the tweet frqeuencies for tesla and toyota in separate columns.\n",
        "\n",
        "Stack the tweet frequency counts into a single column and brands into another column using `melt()` from `reshape` library.\n",
        "\n",
        "The `melt()` function takes 3 arguments:\n",
        "\n",
        "* the dataframe to melt \n",
        "\n",
        "* `na.rm` to specify whether to include or exclude rows with missing values\n",
        "* `id.vars` to specify the source columns to be retained (`time` in this case)"
      ]
    },
    {
      "cell_type": "code",
      "metadata": {
        "id": "zp66LpFjtVSu",
        "colab_type": "code",
        "colab": {}
      },
      "source": [
        "# Stack the tweet frequency columns\n",
        "\n",
        "# View the output\n"
      ],
      "execution_count": null,
      "outputs": []
    },
    {
      "cell_type": "markdown",
      "metadata": {
        "id": "4RgSIL9K5ApG",
        "colab_type": "text"
      },
      "source": [
        "We can see that all columns other than `time` have been stacked and we have three columns now: `time`, `variable`, `value`. "
      ]
    },
    {
      "cell_type": "markdown",
      "metadata": {
        "id": "f9j7dYyb5ix7",
        "colab_type": "text"
      },
      "source": [
        "Plot the frequency of tweets on Tesla and Toyota using `ggplot()`.\n",
        "\n",
        "Set the relevant column names i.e.  as values for the x-axis, y-axis, and color of the plot.  "
      ]
    },
    {
      "cell_type": "code",
      "metadata": {
        "id": "HC36Xr82tbe6",
        "colab_type": "code",
        "colab": {}
      },
      "source": [
        "## Compare brand salience by plotting the frequency of tweets\n",
        "\n",
        "# Plot frequency of tweets on Tesla and Toyota\n"
      ],
      "execution_count": null,
      "outputs": []
    },
    {
      "cell_type": "markdown",
      "metadata": {
        "id": "_asHxcge7dWa",
        "colab_type": "text"
      },
      "source": [
        "#### It's interesting to see that there are relatively more tweets on Tesla than on Toyota. \n",
        "\n",
        "#### The higher level of tweet activity for Tesla indicates a stronger brand salience for Tesla than Toyota. \n",
        "\n",
        "#### Visualizing tweets through time series analysis provides good insights on interest level on a product and can be used to compare brand salience."
      ]
    },
    {
      "cell_type": "markdown",
      "metadata": {
        "id": "AFba1wMA8eBB",
        "colab_type": "text"
      },
      "source": [
        "---\n",
        "<center><h1> Q&A 3</h1> </center>\n",
        "\n",
        "---"
      ]
    },
    {
      "cell_type": "markdown",
      "metadata": {
        "id": "LzLQ4_Ebth7g",
        "colab_type": "text"
      },
      "source": [
        "## **4. Understand brand perception through text mining and by visualizing key terms**\n",
        "\n"
      ]
    },
    {
      "cell_type": "markdown",
      "metadata": {
        "id": "QZ31KEKbot0d",
        "colab_type": "text"
      },
      "source": [
        "One of the most important and common tasks in social media data analysis is being able to understand what users are tweeting about the most and how they perceive a particular brand. \n",
        "\n",
        "In this section, we will visualize the most common words mentioning `\"Tesla\"` to build a word cloud that showcases the most common words.\n",
        "\n"
      ]
    },
    {
      "cell_type": "markdown",
      "metadata": {
        "id": "FLOBQx5jouCo",
        "colab_type": "text"
      },
      "source": [
        "### **4a) Processing tweets and twitter data**"
      ]
    },
    {
      "cell_type": "markdown",
      "metadata": {
        "id": "sukAzrslpo94",
        "colab_type": "text"
      },
      "source": [
        "Tweets are unstructured, noisy, and raw, and properly processing them is essentially to accurately capture useful brand-perception information. \n",
        "\n",
        "Here are some processing steps we will be performing:\n",
        "* Step 1: Remove URLs from text\n",
        "* Step 2: Remove special characters, punctuations, and numbers\n",
        "* Step 3: Convert the text to a Corpus (i.e. large document of text)\n",
        "* Step 4: Convert all letters in the Corpus to lower case\n",
        "* Step 5: Remove common words (the, a, and ...), also called stop words, from the Corpus\n",
        "* Step 6: Remove custom stop words from the Corpus\n",
        "* Step 7: Trim leading and trailing spaces from Corpus"
      ]
    },
    {
      "cell_type": "markdown",
      "metadata": {
        "id": "Dk-qzoTsqpPu",
        "colab_type": "text"
      },
      "source": [
        "First, extract the tweets stored in the `text` column of the tweet dataframe for Tesla."
      ]
    },
    {
      "cell_type": "code",
      "metadata": {
        "id": "0YFeMo6AtsMr",
        "colab_type": "code",
        "colab": {}
      },
      "source": [
        "# Extract tweet text from the Tesla dataset\n"
      ],
      "execution_count": null,
      "outputs": []
    },
    {
      "cell_type": "markdown",
      "metadata": {
        "id": "HH149coSrA-Y",
        "colab_type": "text"
      },
      "source": [
        "We can see the first few rows of tweet text extracted from the main dataframe."
      ]
    },
    {
      "cell_type": "markdown",
      "metadata": {
        "id": "7K4JSaGMt1zc",
        "colab_type": "text"
      },
      "source": [
        "**Step 1: Remove URLs from text**\n",
        "\n",
        "Use the `rm_twitter_url()` function from the `qdapRegex` library to remove all URLs from the text.\n",
        "\n",
        "`rm_twitter_url()` takes the tweet text dataframe as input."
      ]
    },
    {
      "cell_type": "code",
      "metadata": {
        "id": "FAe49cQmtyAV",
        "colab_type": "code",
        "colab": {}
      },
      "source": [
        "# Load the library\n",
        "library(qdapRegex)"
      ],
      "execution_count": null,
      "outputs": []
    },
    {
      "cell_type": "code",
      "metadata": {
        "id": "hcD895lAt9w_",
        "colab_type": "code",
        "colab": {}
      },
      "source": [
        "# Remove URLs from the tweet text and view the output\n",
        "\n",
        "\n",
        "# View few rows of the dataframe\n"
      ],
      "execution_count": null,
      "outputs": []
    },
    {
      "cell_type": "markdown",
      "metadata": {
        "id": "SDSrL3q8sqEE",
        "colab_type": "text"
      },
      "source": [
        "The URLs are removed from tweets: check records starting with \"This article says VW beat Tesla...\" and \"Anyone up for some...\" for example."
      ]
    },
    {
      "cell_type": "markdown",
      "metadata": {
        "id": "XaB_qRNHubd6",
        "colab_type": "text"
      },
      "source": [
        "**Step 2: Remove special characters, punctuations, and numbers**\n",
        "\n",
        "To remove special characters, punctuations, and numbers, we will use the `gsub()` function which takes in:\n",
        "\n",
        "* The pattern to search for - for example, if we are searching for non-numbers and non-letters, the regular expression `\"[^A-Za-z]\"` is a pattern\n",
        "* The character to replace it with\n",
        "* The text source here `twt_txt_url`\n"
      ]
    },
    {
      "cell_type": "code",
      "metadata": {
        "id": "avMK4m8fuWEF",
        "colab_type": "code",
        "colab": {}
      },
      "source": [
        "# Replace special characters, punctuation, & numbers with spaces\n",
        "\n",
        "# View text after replacing special characters, punctuation, & numbers\n"
      ],
      "execution_count": null,
      "outputs": []
    },
    {
      "cell_type": "markdown",
      "metadata": {
        "id": "Q0WJvYlzt82w",
        "colab_type": "text"
      },
      "source": [
        "In the output, we can see that all content other than letters has been replaced with spaces."
      ]
    },
    {
      "cell_type": "markdown",
      "metadata": {
        "id": "SUSww_haulqW",
        "colab_type": "text"
      },
      "source": [
        "**Step 3: Building a Corpus**\n",
        "\n",
        "A Corpus is a list of text documents and is often used in text processing functions. To create a corpus, we will be using the `tm` library and the functions `VectorSource()` and `Corpus()`. The `VectorSource()` converts the tweet text to a vector of texts and the `Corpus()` function takes the output of `VectorSource()` and converts to a Corpus. An example on a tweets object would be:\n"
      ]
    },
    {
      "cell_type": "code",
      "metadata": {
        "id": "NDq5Gcxnuhbj",
        "colab_type": "code",
        "colab": {}
      },
      "source": [
        "# Convert processed text to a text corpus and view output\n",
        "\n"
      ],
      "execution_count": null,
      "outputs": []
    },
    {
      "cell_type": "markdown",
      "metadata": {
        "id": "czns93FYvHib",
        "colab_type": "text"
      },
      "source": [
        "The text is stored under `content` within the corpus just created."
      ]
    },
    {
      "cell_type": "markdown",
      "metadata": {
        "id": "loMsxz83zr0a",
        "colab_type": "text"
      },
      "source": [
        "**Step 4: Convert Corpus to lower case**\n",
        "\n",
        "To have all words in our corpus being uniform, we will lower all words in the Corpus to lower case (`'Tesla'` vs `'tesla'`). To do this, will use the `tm_map()` function which applies a transformation to the corpus. In this case, it takes in 2 arguments:\n",
        "* The corpus being transformed\n",
        "* The transformation itself, stored in the `tolower()` function\n"
      ]
    },
    {
      "cell_type": "code",
      "metadata": {
        "id": "DV0Nu883zoNL",
        "colab_type": "code",
        "colab": {}
      },
      "source": [
        "# Convert the corpus to lowercase\n",
        "\n",
        "\n",
        "# View the corpus after converting to lowercase\n"
      ],
      "execution_count": null,
      "outputs": []
    },
    {
      "cell_type": "markdown",
      "metadata": {
        "id": "MhNejd1WwVE2",
        "colab_type": "text"
      },
      "source": [
        "All characters in the corpus are now converted to lowercase."
      ]
    },
    {
      "cell_type": "markdown",
      "metadata": {
        "id": "L83UJ1vi0Rk9",
        "colab_type": "text"
      },
      "source": [
        "**Step 5:  Remove stop words from the Corpus**\n",
        "\n",
        "Stop words are commonly used words like `\"a\"`, `\"an\"`, `\"the\"` etc. They are often the most common words and tend to skew your analysis if left in the corpus. \n",
        "\n",
        "We will remove English stop words from the Corpus by using `tm_map()`which takes in this case 3 arguments:\n",
        "* The corpus being transformed\n",
        "* The transformation itself, stored in `removeWords()`\n",
        "* The English stop words to be removed, stored in `stopwords(\"english\")`\n"
      ]
    },
    {
      "cell_type": "code",
      "metadata": {
        "id": "lc4UA7OD0UvV",
        "colab_type": "code",
        "colab": {}
      },
      "source": [
        "# Remove English stop words from the corpus and view the corpus\n",
        "\n",
        "\n",
        "# View the content column\n"
      ],
      "execution_count": null,
      "outputs": []
    },
    {
      "cell_type": "markdown",
      "metadata": {
        "id": "ToY0IzUwxguw",
        "colab_type": "text"
      },
      "source": [
        "The common stop words are now removed from the corpus."
      ]
    },
    {
      "cell_type": "markdown",
      "metadata": {
        "id": "D6K-eTmZ00hJ",
        "colab_type": "text"
      },
      "source": [
        "**Step 6: Remove custom stop words from the Corpus**\n",
        "\n",
        "In the corpus, frequently appearing terms like `tesla`, `sure`, `can`, `will`  etc do not add any value for analysis and can be removed to create a meaningul, refined corpus.\n",
        "\n",
        "To do this, first extract a list of most frequent terms and their number of occurrences (also called term frequency) using the `freq_terms()` function from `qdap` library. `freq_terms()` takes two arguments: \n",
        "* The corpus \n",
        "* The top `\"n\"` terms to be extracted based on the number of occurrences\n"
      ]
    },
    {
      "cell_type": "code",
      "metadata": {
        "id": "jxVXn0tl014E",
        "colab_type": "code",
        "colab": {}
      },
      "source": [
        "# Load the library qdap\n",
        "\n",
        "\n",
        "# Extract term frequencies for top 60 words in the Corpus and view the output\n",
        "\n"
      ],
      "execution_count": null,
      "outputs": []
    },
    {
      "cell_type": "markdown",
      "metadata": {
        "id": "m1kPpvTa0aBT",
        "colab_type": "text"
      },
      "source": [
        "We can see high frequencies for custom stop words like `tesla`, `s`, `t`, `elon` (`elon musk` is retained).\n",
        "\n",
        "Create of vector of such high frequency custom stop words."
      ]
    },
    {
      "cell_type": "code",
      "metadata": {
        "id": "ibgIvnMJ1KHJ",
        "colab_type": "code",
        "colab": {}
      },
      "source": [
        "# Create a vector of custom stop words\n",
        "custom_stopwds <- c(\"tesla\", \"s\", \"t\", \"will\", \"elon\", \"can\", \"like\", \"just\", \"musk\", \n",
        "                    \"one\", \"m\",  \"get\", \"now\", \"cars\", \"amp\", \"re\", \"go\", \"even\", \"via\")"
      ],
      "execution_count": null,
      "outputs": []
    },
    {
      "cell_type": "markdown",
      "metadata": {
        "id": "eL4gbqEb093X",
        "colab_type": "text"
      },
      "source": [
        "Apply `tm_map()` and `removeWords()` functions on the corpus to remove the custom stop words. `tm_map()` takes 3 arguments: \n",
        "* The corpus\n",
        "* `removeWords()`\n",
        "* The vector of custom stop words"
      ]
    },
    {
      "cell_type": "code",
      "metadata": {
        "id": "Dfol4E6r1LGR",
        "colab_type": "code",
        "colab": {}
      },
      "source": [
        "# Remove custom stop words and create a refined corpus\n",
        "\n",
        "# View the text corpus after removing custom stop words\n"
      ],
      "execution_count": null,
      "outputs": []
    },
    {
      "cell_type": "markdown",
      "metadata": {
        "id": "aYHjRRuB1TUl",
        "colab_type": "text"
      },
      "source": [
        "You can see that the corpus now has only important terms as the common and user-defined custom stop words have been removed."
      ]
    },
    {
      "cell_type": "markdown",
      "metadata": {
        "id": "ehppmu9d1cMq",
        "colab_type": "text"
      },
      "source": [
        "Check the frequently occuring top 60 words again to see if we get a different list."
      ]
    },
    {
      "cell_type": "code",
      "metadata": {
        "id": "25HVNdKi1Plw",
        "colab_type": "code",
        "colab": {}
      },
      "source": [
        "# Extract term frequencies for the top 60 words\n",
        "\n",
        "# View the output\n"
      ],
      "execution_count": null,
      "outputs": []
    },
    {
      "cell_type": "markdown",
      "metadata": {
        "id": "v1g0sYLw0di2",
        "colab_type": "text"
      },
      "source": [
        "**Step 7: Trim leading and trailing spaces from Corpus**\n",
        "\n",
        "To remove additional spaces and create a clean corpus, use the `tm_map()` which takes two arguments: \n",
        "\n",
        "* The Corpus\n",
        "* `stripWhitespace()` which collapses multiple spaces to a single space"
      ]
    },
    {
      "cell_type": "code",
      "metadata": {
        "id": "9_Ifqier0fJ6",
        "colab_type": "code",
        "colab": {}
      },
      "source": [
        "# Remove additional spaces from the corpus\n",
        "\n",
        "# View the text corpus after removing spaces\n"
      ],
      "execution_count": null,
      "outputs": []
    },
    {
      "cell_type": "markdown",
      "metadata": {
        "id": "tN5z5gMhyLA9",
        "colab_type": "text"
      },
      "source": [
        "The additional spaces are now removed from the corpus."
      ]
    },
    {
      "cell_type": "markdown",
      "metadata": {
        "id": "bHe4l8-J5OPu",
        "colab_type": "text"
      },
      "source": [
        "### **4b) Visualizing brand perception**"
      ]
    },
    {
      "cell_type": "markdown",
      "metadata": {
        "id": "IiVjZDde25cQ",
        "colab_type": "text"
      },
      "source": [
        "The most frequently used words in tweets are typically popular terms relevant to the topic tweeted.\n",
        "\n",
        "In this exercise, we will extract and visualize popular terms in our refined corpus using the word cloud.\n"
      ]
    },
    {
      "cell_type": "markdown",
      "metadata": {
        "id": "FObNGVEB5syd",
        "colab_type": "text"
      },
      "source": [
        "**Identify top 15 words spoken about the brand**\n",
        "\n",
        "Extract and view the term frequency for the top 15 words from the refined corpus."
      ]
    },
    {
      "cell_type": "code",
      "metadata": {
        "id": "hmXUdVx_1Trk",
        "colab_type": "code",
        "colab": {}
      },
      "source": [
        "# Extract term frequencies for the top 15 words\n"
      ],
      "execution_count": null,
      "outputs": []
    },
    {
      "cell_type": "markdown",
      "metadata": {
        "id": "J-b_QRkK4RLK",
        "colab_type": "text"
      },
      "source": [
        "The popular terms related to tweets on Tesla can be seen here.\n",
        "\n",
        "The brand promotion team can analyze these terms to understand the pulse of the audience.\n",
        "\n"
      ]
    },
    {
      "cell_type": "code",
      "metadata": {
        "id": "3ocZDk8i5yEh",
        "colab_type": "code",
        "colab": {}
      },
      "source": [
        "# Identify terms with more than 60 counts from the top 15 list\n",
        "\n"
      ],
      "execution_count": null,
      "outputs": []
    },
    {
      "cell_type": "markdown",
      "metadata": {
        "id": "oy44nFe958Xy",
        "colab_type": "text"
      },
      "source": [
        "**Visualize popular terms with word clouds**\n",
        "\n",
        "A word cloud is an image made up of words in which the size of each word indicates its frequency.\n"
      ]
    },
    {
      "cell_type": "markdown",
      "metadata": {
        "id": "fI2gj5Fn7sHf",
        "colab_type": "text"
      },
      "source": [
        "The `wordcloud()` function from the `wordcloud` library is used to create word clouds and it takes the following arguments:\n",
        "\n",
        "* The Corpus\n",
        "* `min.freq` set to include only terms with a minimum frequency\n",
        "* `color` set to \"red\"\n",
        "* `scale` set to the range of font sizes\n",
        "* `random.order` set to FALSE to fix the word pattern in the word cloud\n",
        "\n",
        "The `RColorBrewer()` library provides some interesting color palettes to work with."
      ]
    },
    {
      "cell_type": "code",
      "metadata": {
        "id": "UaBT1xql5-TQ",
        "colab_type": "code",
        "colab": {}
      },
      "source": [
        "# Load libraries\n",
        "library(wordcloud)\n",
        "library(RColorBrewer)"
      ],
      "execution_count": null,
      "outputs": []
    },
    {
      "cell_type": "code",
      "metadata": {
        "id": "prwk0KDF6MqW",
        "colab_type": "code",
        "colab": {}
      },
      "source": [
        "# Create a word cloud in red with min frequency of 100\n"
      ],
      "execution_count": null,
      "outputs": []
    },
    {
      "cell_type": "markdown",
      "metadata": {
        "id": "JXHTimC48QV3",
        "colab_type": "text"
      },
      "source": [
        "A word cloud highlighting high-frequency words in large font sizes is displayed as output.\n",
        "\n",
        "We can see that 'elonmusk' stands out as the most popular term. Also, terms like 'car', 'buy', 'spacex' are the other popular ones."
      ]
    },
    {
      "cell_type": "markdown",
      "metadata": {
        "id": "Ukix8aOX8xZk",
        "colab_type": "text"
      },
      "source": [
        "We can choose a color palette from the `RColorBrewer` library to make the word cloud colorful.\n",
        "\n",
        "Assign \"6\" colors from the “Dark2” palette of `brewer.pal()` and set the `max.words` argument to \"50\" to plot a word cloud of the top 50 words."
      ]
    },
    {
      "cell_type": "code",
      "metadata": {
        "id": "JCYc22cc6O5x",
        "colab_type": "code",
        "colab": {}
      },
      "source": [
        "# Create word cloud with 6 colors and max 50 words\n"
      ],
      "execution_count": null,
      "outputs": []
    },
    {
      "cell_type": "markdown",
      "metadata": {
        "id": "xJQlTlIX9Jsn",
        "colab_type": "text"
      },
      "source": [
        "We now have an interesting word cloud depicting popular terms from tweets on Tesla positioned at the centre of the word cloud to highlight their relevance and importance.\n",
        "\n",
        "One can use word cloud as an effective promotional image for marketing campaigns as it communicates the brand messaging and highlights popular terms to convey the value of the content being shared.\n"
      ]
    },
    {
      "cell_type": "markdown",
      "metadata": {
        "id": "clf2dzxP8n5C",
        "colab_type": "text"
      },
      "source": [
        "---\n",
        "<center><h1> Q&A 4</h1> </center>\n",
        "\n",
        "---"
      ]
    },
    {
      "cell_type": "markdown",
      "metadata": {
        "id": "Ha4xxLNZ6T1a",
        "colab_type": "text"
      },
      "source": [
        "## 5.\t**Further understanding brand perception by analyzing tweet sentiments**"
      ]
    },
    {
      "cell_type": "markdown",
      "metadata": {
        "id": "mBr-5dd88Wqt",
        "colab_type": "text"
      },
      "source": [
        "Sentiment analysis is the process of retrieving information about a consumer's perception of a product or brand.\n",
        "\n",
        "It is used to extract and quantify positive, negative, and neutral opinions as well as emotions like trust, joy, and anger from the text."
      ]
    },
    {
      "cell_type": "markdown",
      "metadata": {
        "id": "zVEdG59bGVZf",
        "colab_type": "text"
      },
      "source": [
        "Steps involved in performing sentiment analysis:\n",
        "\n",
        "* Step 1: Extract tweets on topic of interest\n",
        "\n",
        "* Step 2: Extract sentiment scores from tweet text\n",
        "\n",
        "* Step 3: Visualize sentiment scores and interpret customer perceptions"
      ]
    },
    {
      "cell_type": "markdown",
      "metadata": {
        "id": "gUghWKl-F76p",
        "colab_type": "text"
      },
      "source": [
        "**Step 1: Extract tweets on topic of interest**\n",
        "\n",
        "To explore customer's sentiments on Tesla, import a smaller tweet dataset extracted from Twitter."
      ]
    },
    {
      "cell_type": "code",
      "metadata": {
        "id": "2lS-t8Yg6RlD",
        "colab_type": "code",
        "colab": {}
      },
      "source": [
        "# Load a smaller dataset for tesla\n",
        "tesladf_small <- read.csv(\"https://github.com/datacamp/Brand-Analysis-using-Social-Media-Data-in-R-Live-Training/blob/master/data/tesla_small.csv?raw=true\", stringsAsFactors=FALSE)"
      ],
      "execution_count": null,
      "outputs": []
    },
    {
      "cell_type": "code",
      "metadata": {
        "id": "01ezoubc7zA9",
        "colab_type": "code",
        "colab": {}
      },
      "source": [
        "# Explore the tweet dataframe\n"
      ],
      "execution_count": null,
      "outputs": []
    },
    {
      "cell_type": "markdown",
      "metadata": {
        "id": "cpIv3VrZ8Aqc",
        "colab_type": "text"
      },
      "source": [
        "**Step 2: Extract sentiment scores from tweet text**\n",
        "\n",
        "The `get_nrc_sentiment()` function from the `syuzhet` package is used to extract sentiment scores for the text and it takes the column storing the tweet text as the argument."
      ]
    },
    {
      "cell_type": "code",
      "metadata": {
        "id": "8sQkpPOW79V3",
        "colab_type": "code",
        "colab": {}
      },
      "source": [
        "# Load library\n",
        "library(syuzhet)\n",
        "\n",
        "# Perform sentiment analysis for tweets on `tesla` \n"
      ],
      "execution_count": null,
      "outputs": []
    },
    {
      "cell_type": "code",
      "metadata": {
        "id": "AdY8V0fpKyl8",
        "colab_type": "code",
        "colab": {}
      },
      "source": [
        "# View the sentiment scores for first 10 tweets\n"
      ],
      "execution_count": null,
      "outputs": []
    },
    {
      "cell_type": "markdown",
      "metadata": {
        "id": "S8KFscr4KcY4",
        "colab_type": "text"
      },
      "source": [
        "The sentiment scores for the first 10 records are displayed here with the rows and columns representing the tweets and the emotions respectively. \n",
        "\n",
        "The column values are the sentiment scores for the tweets against each emotion."
      ]
    },
    {
      "cell_type": "markdown",
      "metadata": {
        "id": "I1w7TmBW8OSw",
        "colab_type": "text"
      },
      "source": [
        "Get the sum of the sentiment scores for each emotion using `colSums()` and convert the output to a dataframe. `colSums()` takes the extracted sentiment scores as input."
      ]
    },
    {
      "cell_type": "code",
      "metadata": {
        "id": "UCaKJShr8KfO",
        "colab_type": "code",
        "colab": {}
      },
      "source": [
        "# Calculate sum of sentiment scores\n",
        "\n",
        "\n",
        "# Convert the sum of scores to a dataframe\n",
        "\n",
        "\n",
        "# View the dataframe\n"
      ],
      "execution_count": null,
      "outputs": []
    },
    {
      "cell_type": "markdown",
      "metadata": {
        "id": "NS2kupxJbNxb",
        "colab_type": "text"
      },
      "source": [
        "The aggregated scores for each sentiment is displayed here.\n",
        "\n",
        "The score of 146 for anger indicates that 146 words in the corpus were classified under the emotion anger by the sentiment libraries."
      ]
    },
    {
      "cell_type": "markdown",
      "metadata": {
        "id": "FQqlSnM0UieD",
        "colab_type": "text"
      },
      "source": [
        "Convert the rownames containing the sentiment heads into a column and use `cbind()` to combine this column with the sentiment scores.\n",
        "\n",
        "Also, set the row names for this new dataframe to `\"NULL\"`."
      ]
    },
    {
      "cell_type": "code",
      "metadata": {
        "id": "toHbumd98sUZ",
        "colab_type": "code",
        "colab": {}
      },
      "source": [
        "# Convert row names into 'sentiment' column and combine with sentiment scores\n",
        "\n",
        "# View the dataframe\n"
      ],
      "execution_count": null,
      "outputs": []
    },
    {
      "cell_type": "markdown",
      "metadata": {
        "id": "rLTX0FgNdBKu",
        "colab_type": "text"
      },
      "source": [
        "We can now see a data frame with sentiments in one column and their respective scores in the second column."
      ]
    },
    {
      "cell_type": "markdown",
      "metadata": {
        "id": "3vPxAGGjbWDi",
        "colab_type": "text"
      },
      "source": [
        "**Step 3: Visualize sentiment scores and interpret customer perceptions**\n",
        "\n",
        "X-axis and Y-axis take the values `\"sentiment\"` and `\"score\"` respectively and fill is set to `\"sentiment\"`."
      ]
    },
    {
      "cell_type": "code",
      "metadata": {
        "id": "301nt5mj86nc",
        "colab_type": "code",
        "colab": {}
      },
      "source": [
        "# Plot the sentiment scores\n"
      ],
      "execution_count": null,
      "outputs": []
    },
    {
      "cell_type": "markdown",
      "metadata": {
        "id": "UD8MdA-Pcqgh",
        "colab_type": "text"
      },
      "source": [
        "It is interesting to see that the positive sentiments collectively outnumber the negative ones. The high score on positive emotions, trust, and anticipation augurs well for the brand.\n",
        "\n",
        "Sentiment analysis is useful in social media monitoring since it gives an overview of people's sentiments.\n"
      ]
    },
    {
      "cell_type": "markdown",
      "metadata": {
        "id": "8OefeKw-8rdU",
        "colab_type": "text"
      },
      "source": [
        "---\n",
        "<center><h1> Q&A 5</h1> </center>\n",
        "\n",
        "---"
      ]
    }
  ]
}