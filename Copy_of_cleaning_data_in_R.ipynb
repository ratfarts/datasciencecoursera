{
  "nbformat": 4,
  "nbformat_minor": 0,
  "metadata": {
    "colab": {
      "name": "Copy of cleaning_data_in_R.ipynb",
      "provenance": [],
      "include_colab_link": true
    },
    "kernelspec": {
      "name": "ir",
      "display_name": "R"
    }
  },
  "cells": [
    {
      "cell_type": "markdown",
      "metadata": {
        "id": "view-in-github",
        "colab_type": "text"
      },
      "source": [
        "<a href=\"https://colab.research.google.com/github/ratfarts/datasciencecoursera/blob/master/Copy_of_cleaning_data_in_R.ipynb\" target=\"_parent\"><img src=\"https://colab.research.google.com/assets/colab-badge.svg\" alt=\"Open In Colab\"/></a>"
      ]
    },
    {
      "cell_type": "markdown",
      "metadata": {
        "id": "OJYbvo8eV-Rd",
        "colab_type": "text"
      },
      "source": [
        "<p align=\"center\">\n",
        "<img src=\"https://github.com/datacamp/r-live-training-template/blob/master/assets/datacamp.svg?raw=True\" alt = \"DataCamp icon\" width=\"50%\">\n",
        "<br>\n",
        "<h1 align=\"center\"><b>Cleaning Data in R Live Training</b></h1>\n",
        "</p>\n",
        "<br>\n",
        "\n",
        "\n",
        "Welcome to this hands-on training where you'll identify issues in a dataset and clean it from start to finish using R. It's often said that data scientists spend 80% of their time cleaning and manipulating data and only about 20% of their time analyzing it, so cleaning data is an important skill to master!\n",
        "\n",
        "In this session, you will:\n",
        "\n",
        "- Examine a dataset and identify its problem areas, and what needs to be done to fix them.\n",
        "-Convert between data types to make analysis easier.\n",
        "- Correct inconsistencies in categorical data.\n",
        "- Deal with missing data.\n",
        "- Perform data validation to ensure every value makes sense.\n",
        "\n",
        "## **The Dataset**\n",
        "\n",
        "The dataset we'll use is a CSV file named `nyc_airbnb.csv`, which contains data on [*Airbnb*](https://www.airbnb.com/) listings in New York City. It contains the following columns:\n",
        "\n",
        "- `listing_id`: The unique identifier for a listing\n",
        "- `name`: The description used on the listing\n",
        "- `host_id`: Unique identifier for a host\n",
        "- `host_name`: Name of host\n",
        "- `nbhood_full`: Name of borough and neighborhood\n",
        "- `coordinates`: Coordinates of listing _(latitude, longitude)_\n",
        "- `room_type`: Type of room \n",
        "- `price`: Price per night for listing\n",
        "- `nb_reviews`: Number of reviews received \n",
        "- `last_review`: Date of last review\n",
        "- `reviews_per_month`: Average number of reviews per month\n",
        "- `availability_365`: Number of days available per year\n",
        "- `avg_rating`: Average rating (from 0 to 5)\n",
        "- `avg_stays_per_month`: Average number of stays per month\n",
        "- `pct_5_stars`: Percent of reviews that were 5-stars\n",
        "- `listing_added`: Date when listing was added\n"
      ]
    },
    {
      "cell_type": "code",
      "metadata": {
        "id": "KUKG6fNMV_zf",
        "colab_type": "code",
        "cellView": "both",
        "colab": {}
      },
      "source": [
        "# Install non-tidyverse packages\n",
        "install.packages(\"visdat\")"
      ],
      "execution_count": 0,
      "outputs": []
    },
    {
      "cell_type": "code",
      "metadata": {
        "id": "brr08aZX9Wss",
        "colab_type": "code",
        "colab": {}
      },
      "source": [
        "# Load packages\n",
        "library(readr)\n",
        "library(dplyr)\n",
        "library(stringr)\n",
        "library(visdat)\n",
        "library(tidyr)\n",
        "library(ggplot2)\n",
        "library(forcats)"
      ],
      "execution_count": 0,
      "outputs": []
    },
    {
      "cell_type": "code",
      "metadata": {
        "id": "9VJyZeEo9M4O",
        "colab_type": "code",
        "colab": {}
      },
      "source": [
        "# Load dataset\n",
        "airbnb <- read_csv(\"https://raw.githubusercontent.com/datacamp/cleaning-data-in-r-live-training/master/assets/nyc_airbnb.csv\")"
      ],
      "execution_count": 0,
      "outputs": []
    },
    {
      "cell_type": "code",
      "metadata": {
        "id": "89DXT3Xl1SQ8",
        "colab_type": "code",
        "colab": {}
      },
      "source": [
        "# Examine the first few rows\n"
      ],
      "execution_count": 0,
      "outputs": []
    },
    {
      "cell_type": "markdown",
      "metadata": {
        "id": "kNE3y9ug1Zo5",
        "colab_type": "text"
      },
      "source": [
        "## **Diagnosing data cleaning problems**\n",
        "\n",
        "\n",
        "We'll need to get a good look at the data frame in order to identify any problems that may cause issues during an analysis. There are a variety of functions (both from base R and `dplyr`) that can help us with this:\n",
        "\n",
        "-  `head()` to look at the first few rows of the data\n",
        "- `glimpse()` to get a summary of the variables' data types\n",
        "- `summary()` to compute summary statistics of each variable and display the number of missing values\n",
        "- `duplicated()` to find duplicates\n"
      ]
    },
    {
      "cell_type": "code",
      "metadata": {
        "id": "uaC2Q_Gm3m1I",
        "colab_type": "code",
        "colab": {}
      },
      "source": [
        "# Print the first few rows of data\n"
      ],
      "execution_count": 0,
      "outputs": []
    },
    {
      "cell_type": "code",
      "metadata": {
        "id": "ZO_jlHc74J62",
        "colab_type": "code",
        "colab": {}
      },
      "source": [
        "# Inspect data types\n"
      ],
      "execution_count": 0,
      "outputs": []
    },
    {
      "cell_type": "code",
      "metadata": {
        "id": "ewCibkuE4NP-",
        "colab_type": "code",
        "colab": {}
      },
      "source": [
        "# Examine summary statistics and missing values\n"
      ],
      "execution_count": 0,
      "outputs": []
    },
    {
      "cell_type": "code",
      "metadata": {
        "id": "6Kwp6THl4SIV",
        "colab_type": "code",
        "colab": {}
      },
      "source": [
        "# Count data with duplicated listing_id\n"
      ],
      "execution_count": 0,
      "outputs": []
    },
    {
      "cell_type": "markdown",
      "metadata": {
        "id": "P-4i_B1kvfM6",
        "colab_type": "text"
      },
      "source": [
        "*A note on the `%>%` operator:*\n",
        "\n",
        "This is an operator commonly used in the Tidyverse to make code more readable. The `%>%` takes the result of whatever is before it and inserts it as the first argument in the subsequent function.\n",
        "\n",
        "We could do this exact same counting operation using the following, but the function calls aren't in the order they're being executed, which makes it difficult to understand what's going on. The `%>%` allows us to write the functions in the order that they're executed.\n",
        "```r\n",
        "count(filter(airbnb, duplicated(listing_id)))\n",
        "```"
      ]
    },
    {
      "cell_type": "markdown",
      "metadata": {
        "id": "eeNuwD5-4lAJ",
        "colab_type": "text"
      },
      "source": [
        "## **What do we need to do?**\n",
        "\n",
        "**Data type issues**\n",
        "- **Task 1:** Split `coordinates` into latitude and longitude and convert `numeric` data type.\n",
        "- **Task 2:** Remove `$`s from `price` column and convert to `numeric`.\n",
        "- **Task 3:** Convert `last_review` and `listing_added` to `Date`.\n",
        "\n",
        "**Text & categorical data issues**\n",
        "- **Task 4:** Split `nbhood_full` into separate neighborhood and borough columns.\n",
        "- **Task 5:** Collapse the categories of `room_type` so that they're consistent.\n",
        "\n",
        "**Data range issues**\n",
        "- **Task 6:** Fix the `avg_rating` column so it doesn't exceed `5`.\n",
        "\n",
        "**Missing data issues**\n",
        "- **Task 7:** Further investigate the missing data and decide how to handle them.\n",
        "\n",
        "**Duplicate data issues**\n",
        "- **Task 8:** Further investigate duplicate data points and decide how to handle them.\n",
        "\n",
        "***But also...***\n",
        "- We need to validate our data using various sanity checks"
      ]
    },
    {
      "cell_type": "markdown",
      "metadata": {
        "id": "yvQmADZn4oxm",
        "colab_type": "text"
      },
      "source": [
        "---\n",
        "<center><h1><b>Q&A</b></h1></center>\n",
        "\n",
        "---"
      ]
    },
    {
      "cell_type": "markdown",
      "metadata": {
        "id": "TqqGD4jk4zRr",
        "colab_type": "text"
      },
      "source": [
        "## **Cleaning the data**\n"
      ]
    },
    {
      "cell_type": "markdown",
      "metadata": {
        "id": "nTZAQnQc4128",
        "colab_type": "text"
      },
      "source": [
        "### **Data type issues**\n"
      ]
    },
    {
      "cell_type": "code",
      "metadata": {
        "id": "WM0EhIT-4izJ",
        "colab_type": "code",
        "colab": {}
      },
      "source": [
        "# Reminder: what does the data look like?\n"
      ],
      "execution_count": 0,
      "outputs": []
    },
    {
      "cell_type": "markdown",
      "metadata": {
        "id": "Uv34mfrn5ER-",
        "colab_type": "text"
      },
      "source": [
        "#### **Task 1:** Split `coordinates` into latitude and longitude and convert `numeric` data type.\n"
      ]
    },
    {
      "cell_type": "markdown",
      "metadata": {
        "id": "mbtP0UPt2cwP",
        "colab_type": "text"
      },
      "source": [
        "- `str_remove_all()` removes all instances of a substring from a string.\n",
        "- `str_split()` will split a string into multiple pieces based on a separation string.\n",
        "- `as.data.frame()` converts an object into a data frame. It automatically converts any strings to `factor`s, which is not what we want in this case, so we'll stop this behavior using `stringsAsFactors = FALSE`.\n",
        "- `rename()` takes arguments of the format `new_col_name = old_col_name` and renames the columns as such."
      ]
    },
    {
      "cell_type": "code",
      "metadata": {
        "id": "i6YA6Mcq5FAO",
        "colab_type": "code",
        "colab": {}
      },
      "source": [
        "# Create lat_lon columns\n"
      ],
      "execution_count": 0,
      "outputs": []
    },
    {
      "cell_type": "markdown",
      "metadata": {
        "id": "SZ4rjulf3c1U",
        "colab_type": "text"
      },
      "source": [
        "- `cbind()` stands for column bind, which sticks two data frames together horizontally.\n",
        "\n",
        "<img src=\"https://raw.githubusercontent.com/datacamp/cleaning-data-in-r-live-training/master/assets/cbind.png\" width=\"500px;\"/>"
      ]
    },
    {
      "cell_type": "code",
      "metadata": {
        "id": "nLoVV0wx5HY0",
        "colab_type": "code",
        "colab": {}
      },
      "source": [
        "# Assign it to dataset\n"
      ],
      "execution_count": 0,
      "outputs": []
    },
    {
      "cell_type": "markdown",
      "metadata": {
        "id": "cTyOqtuf5MKA",
        "colab_type": "text"
      },
      "source": [
        "#### **Task 2:** Remove `$`s from `price` column and convert to `numeric`."
      ]
    },
    {
      "cell_type": "code",
      "metadata": {
        "id": "c7bo2KI65MuC",
        "colab_type": "code",
        "colab": {}
      },
      "source": [
        "# Remove $ and convert to numeric\n"
      ],
      "execution_count": 0,
      "outputs": []
    },
    {
      "cell_type": "markdown",
      "metadata": {
        "id": "GZLstAby5OU6",
        "colab_type": "text"
      },
      "source": [
        "Notice we get a warning here that values are being converted to `NA`, so before we move on, we need to look into this further to ensure that the values are actually missing and we're not losing data by mistake.\n",
        "\n",
        "Let's take a look at the values of `price`.\n"
      ]
    },
    {
      "cell_type": "code",
      "metadata": {
        "id": "UPuE0iPw5U9h",
        "colab_type": "code",
        "colab": {}
      },
      "source": [
        "# Look at values of price\n"
      ],
      "execution_count": 0,
      "outputs": []
    },
    {
      "cell_type": "markdown",
      "metadata": {
        "id": "EajADDBt57-C",
        "colab_type": "text"
      },
      "source": [
        "It looks like we have a non-standard representation of `NA` here, `$NA`, so these are getting coerced to `NA`s. This is the behavior we want, so we can ignore the warning."
      ]
    },
    {
      "cell_type": "code",
      "metadata": {
        "id": "Fpi0jcHn5zD1",
        "colab_type": "code",
        "colab": {}
      },
      "source": [
        "# Add to data frame\n"
      ],
      "execution_count": 0,
      "outputs": []
    },
    {
      "cell_type": "markdown",
      "metadata": {
        "id": "anggnvoK8pvK",
        "colab_type": "text"
      },
      "source": [
        "#### **Task 3:** Convert `last_review` and `listing_added` to `Date`.\n",
        "\n",
        "Conversion to `Date` is done using `as.Date()`, which takes in a `format` argument. The `format` argument allows us to convert lots of different formats of dates to a `Date` type, like \"January 1, 2020\" or \"01-01-2020\". There are special symbols that we use to specify this. Here are a few of them, but you can find all the possible ones by typing `?strptime` into your console.\n",
        "\n",
        "<img src=\"https://raw.githubusercontent.com/datacamp/cleaning-data-in-r-live-training/master/assets/date_formats.png\" alt=\"%d = day number, %m = month number, %Y = 4 digit year, %y = 2 digit year, %B = month, %b = month abbreviation\" width=\"250px;\"/>\n",
        "\n",
        "A date like \"21 Oct 2020\" would be in the format `\"%d %b %Y\"`.\n"
      ]
    },
    {
      "cell_type": "code",
      "metadata": {
        "id": "c7BN8s568rKZ",
        "colab_type": "code",
        "colab": {}
      },
      "source": [
        "# Look up date formatting symbols\n"
      ],
      "execution_count": 0,
      "outputs": []
    },
    {
      "cell_type": "code",
      "metadata": {
        "id": "Gkgzb9FOrKpF",
        "colab_type": "code",
        "colab": {}
      },
      "source": [
        "# Examine first rows of date columns\n"
      ],
      "execution_count": 0,
      "outputs": []
    },
    {
      "cell_type": "code",
      "metadata": {
        "id": "fa_9REcc8tGr",
        "colab_type": "code",
        "colab": {}
      },
      "source": [
        "# Convert strings to Dates\n",
        "\n"
      ],
      "execution_count": 0,
      "outputs": []
    },
    {
      "cell_type": "markdown",
      "metadata": {
        "id": "-qmBgol6siVn",
        "colab_type": "text"
      },
      "source": [
        "---\n",
        "<center><h1><b>Q&A</b></h1></center>\n",
        "\n",
        "---"
      ]
    },
    {
      "cell_type": "markdown",
      "metadata": {
        "id": "Ffn4WAOJ8zEH",
        "colab_type": "text"
      },
      "source": [
        "### **Text & categorical data issues**\n"
      ]
    },
    {
      "cell_type": "markdown",
      "metadata": {
        "id": "qvMQ8wBV80qt",
        "colab_type": "text"
      },
      "source": [
        "#### **Task 4:** Split `nbhood_full` into separate `nbhood` and `borough` columns."
      ]
    },
    {
      "cell_type": "code",
      "metadata": {
        "id": "cVKSTOuw8y22",
        "colab_type": "code",
        "colab": {}
      },
      "source": [
        "# Split borough and neighborhood"
      ],
      "execution_count": 0,
      "outputs": []
    },
    {
      "cell_type": "code",
      "metadata": {
        "id": "E4B7YsYl83iY",
        "colab_type": "code",
        "colab": {}
      },
      "source": [
        "# Assign to airbnb"
      ],
      "execution_count": 0,
      "outputs": []
    },
    {
      "cell_type": "markdown",
      "metadata": {
        "id": "Z8as3rzq9HHW",
        "colab_type": "text"
      },
      "source": [
        "#### **Task 5:** Collapse the categories of `room_type` so that they're consistent."
      ]
    },
    {
      "cell_type": "code",
      "metadata": {
        "id": "btgSaZR39HsF",
        "colab_type": "code",
        "colab": {}
      },
      "source": [
        "# Count categories of room_type\n"
      ],
      "execution_count": 0,
      "outputs": []
    },
    {
      "cell_type": "markdown",
      "metadata": {
        "id": "COjZcTv40c10",
        "colab_type": "text"
      },
      "source": [
        "- `stringr::str_to_lower()` converts strings to all lowercase, so `\"PRIVATE ROOM\"` becomes `\"private room\"`. This saves us the pain of having to go through the dataset and find each different capitalized variation of `\"private room\"`.\n",
        "- `forcats::fct_collapse()` will combine multiple categories into one, which is useful when there are a few different values that mean the same thing."
      ]
    },
    {
      "cell_type": "code",
      "metadata": {
        "id": "6L8hfW7h9JEu",
        "colab_type": "code",
        "colab": {}
      },
      "source": [
        "# Collapse categorical variables"
      ],
      "execution_count": 0,
      "outputs": []
    },
    {
      "cell_type": "code",
      "metadata": {
        "id": "H1WP-ARS9KUL",
        "colab_type": "code",
        "colab": {}
      },
      "source": [
        "# Add to data frame"
      ],
      "execution_count": 0,
      "outputs": []
    },
    {
      "cell_type": "markdown",
      "metadata": {
        "id": "dxjRBpGRsmFi",
        "colab_type": "text"
      },
      "source": [
        "---\n",
        "<center><h1><b>Q&A</b></h1></center>\n",
        "\n",
        "---"
      ]
    },
    {
      "cell_type": "markdown",
      "metadata": {
        "id": "OmuXjJQd9OdC",
        "colab_type": "text"
      },
      "source": [
        "### **Data range issues**\n",
        "\n",
        "#### **Task 6:** Fix the `avg_rating` column so it doesn't exceed `5`."
      ]
    },
    {
      "cell_type": "code",
      "metadata": {
        "id": "pIYTw6eQ9OAU",
        "colab_type": "code",
        "colab": {}
      },
      "source": [
        "# How many places with avg_rating above 5?\n"
      ],
      "execution_count": 0,
      "outputs": []
    },
    {
      "cell_type": "code",
      "metadata": {
        "id": "TQLzv6eH9iTY",
        "colab_type": "code",
        "colab": {}
      },
      "source": [
        "# What does the data for these places look like?\n"
      ],
      "execution_count": 0,
      "outputs": []
    },
    {
      "cell_type": "code",
      "metadata": {
        "id": "ep-80Dgg9f9S",
        "colab_type": "code",
        "colab": {}
      },
      "source": [
        "# Remove the rows with rating > 5\n"
      ],
      "execution_count": 0,
      "outputs": []
    },
    {
      "cell_type": "markdown",
      "metadata": {
        "id": "IN41DP969kiz",
        "colab_type": "text"
      },
      "source": [
        "### **Missing data issues**\n",
        "\n",
        "#### **Task 7:** Further investigate the missing data and decide how to handle them.\n",
        "\n",
        "When dealing with missing data, it's important to understand what type of missingness we might have in our data. Oftentimes, missing data can be related to other dynamics in the dataset and requires some domain knowledge to deal with them.\n",
        "\n",
        "The `visdat` package is useful for investigating missing data."
      ]
    },
    {
      "cell_type": "code",
      "metadata": {
        "id": "3MzzEMWY-EIE",
        "colab_type": "code",
        "colab": {}
      },
      "source": [
        "# See data frame summary again\n"
      ],
      "execution_count": 0,
      "outputs": []
    },
    {
      "cell_type": "code",
      "metadata": {
        "id": "iJGJsy-e9n-p",
        "colab_type": "code",
        "colab": {}
      },
      "source": [
        "# Visualize missingness \n",
        "\n"
      ],
      "execution_count": 0,
      "outputs": []
    },
    {
      "cell_type": "markdown",
      "metadata": {
        "id": "oUEJgSqM9kcI",
        "colab_type": "text"
      },
      "source": [
        "It looks like missingness of `last_review`, `reviews_per_month`, `avg_rating`, and `avg_stays_per_month` are related. This suggests that these are places that have never been visited before (therefore have no ratings, reviews, or stays).\n",
        "\n",
        "However, `price` is unrelated to the other columns, so we'll need to take a different approach for that."
      ]
    },
    {
      "cell_type": "code",
      "metadata": {
        "id": "iEf8rGc0AEnX",
        "colab_type": "code",
        "colab": {}
      },
      "source": [
        "# Sanity check that our hypothesis is correct\n"
      ],
      "execution_count": 0,
      "outputs": []
    },
    {
      "cell_type": "markdown",
      "metadata": {
        "id": "NG6AvsYaAFUY",
        "colab_type": "text"
      },
      "source": [
        "Now that we have a bit of evidence, we'll assume our hypothesis is true.\n",
        "- We'll set any missing values in `reviews_per_month` or `avg_stays_per_month` to `0`.\n",
        "    - Use `tidyr::replace_na()`\n",
        "- We'll leave `last_review` and `avg_rating` as `NA`.\n",
        "- We'll create a `logical` (`TRUE`/`FALSE`) column called `is_visited`, indicating whether or not the listing has been visited before."
      ]
    },
    {
      "cell_type": "code",
      "metadata": {
        "id": "wNrywTb6AHv9",
        "colab_type": "code",
        "colab": {}
      },
      "source": [
        "# Replace missing data\n"
      ],
      "execution_count": 0,
      "outputs": []
    },
    {
      "cell_type": "markdown",
      "metadata": {
        "id": "f0bzE6YdAgb9",
        "colab_type": "text"
      },
      "source": [
        "**Treating the `price` column**\n",
        "\n",
        "There are lots of ways we could do this\n",
        "- Remove all rows with missing price values\n",
        "- Fill in missing prices with the overall average price\n",
        "- Fill in missing prices based on other columns like `borough` or `room_type`\n",
        "\n",
        "**Let's examine the relationship between `room_type` and `price`.**\n",
        "\n",
        "<img src='https://raw.githubusercontent.com/datacamp/cleaning-data-in-r-live-training/master/assets/boxplot.png' alt='Box plot diagram' width='350px;'>"
      ]
    },
    {
      "cell_type": "code",
      "metadata": {
        "id": "7gL-HXtyn5NA",
        "colab_type": "code",
        "colab": {}
      },
      "source": [
        "# Create a boxplot showing the distribution of price for each room_type\n"
      ],
      "execution_count": 0,
      "outputs": []
    },
    {
      "cell_type": "markdown",
      "metadata": {
        "id": "56R9HHVHzTtB",
        "colab_type": "text"
      },
      "source": [
        "We'll use *median* to summarize the `price` for each `room_type` since the distributions have a number of outliers, and median is more robust to outliers than mean.\n",
        "\n",
        "We'll use `ifelse()`, which takes arguments of the form: `ifelse(condition, value if true, value if false)`."
      ]
    },
    {
      "cell_type": "code",
      "metadata": {
        "id": "p9WXsu8VATVB",
        "colab_type": "code",
        "colab": {}
      },
      "source": [
        "# Use a grouped mutate to fill in missing prices with median of their room_type\n"
      ],
      "execution_count": 0,
      "outputs": []
    },
    {
      "cell_type": "code",
      "metadata": {
        "id": "81Nz4NgKp4dA",
        "colab_type": "code",
        "colab": {}
      },
      "source": [
        "# Overwrite price column in original data frame\n"
      ],
      "execution_count": 0,
      "outputs": []
    },
    {
      "cell_type": "markdown",
      "metadata": {
        "id": "q0VKNaqevJj5",
        "colab_type": "text"
      },
      "source": [
        "### **Duplicate data issues**\n",
        "\n",
        "\n",
        "#### **Task 8:** Further investigate duplicate data points and decide how to handle them."
      ]
    },
    {
      "cell_type": "code",
      "metadata": {
        "id": "M7xKT9BmvJB6",
        "colab_type": "code",
        "colab": {}
      },
      "source": [
        "# Find duplicated listing_ids\n"
      ],
      "execution_count": 0,
      "outputs": []
    },
    {
      "cell_type": "code",
      "metadata": {
        "id": "QJ9-GIlCwTHS",
        "colab_type": "code",
        "colab": {}
      },
      "source": [
        "# Look at duplicated data\n"
      ],
      "execution_count": 0,
      "outputs": []
    },
    {
      "cell_type": "markdown",
      "metadata": {
        "id": "NzS7pD1oH8xt",
        "colab_type": "text"
      },
      "source": [
        "***Full duplicates***: All values match.\n",
        "- To handle these, we can just remove all copies but one\n",
        "\n",
        "***Partial duplicates***: Identifying values (like `listing_id`) match, but one or more of the others don't. Here, we have inconsistent values in `price`, `avg_rating`, and `listing_added`.\n",
        "- We can remove them, pick a random copy to keep, or aggregate any inconsistent values. We'll aggregate using `mean()` for `price` and `avg_rating`, and `max()` for `listing_added`."
      ]
    },
    {
      "cell_type": "code",
      "metadata": {
        "id": "dm1orY71FasD",
        "colab_type": "code",
        "colab": {}
      },
      "source": [
        "# Remove full duplicates\n"
      ],
      "execution_count": 0,
      "outputs": []
    },
    {
      "cell_type": "code",
      "metadata": {
        "id": "5cL8XRLTJLlp",
        "colab_type": "code",
        "colab": {}
      },
      "source": [
        "# Aggregate partial duplicates using grouped mutate\n"
      ],
      "execution_count": 0,
      "outputs": []
    },
    {
      "cell_type": "code",
      "metadata": {
        "id": "97ZBCGtRKln5",
        "colab_type": "code",
        "colab": {}
      },
      "source": [
        "# Check that no duplicates remain\n"
      ],
      "execution_count": 0,
      "outputs": []
    },
    {
      "cell_type": "markdown",
      "metadata": {
        "id": "-68kSoZ-K97W",
        "colab_type": "text"
      },
      "source": [
        "### Take-home practice: **Sanity Checks**\n",
        "*The data should be consistent both with itself, as well as with what we know about the world.*\n",
        "\n",
        "- **Is the data consistent with itself?**\n",
        "    - Are there any `last_review` dates before `listing_added` dates?\n",
        "- **Is the data consistent with what we know about the world?**\n",
        "    - Are there any `last_review` dates in the future?\n",
        "    - Are there any `listing_added` dates in the future?\n",
        "\n"
      ]
    },
    {
      "cell_type": "markdown",
      "metadata": {
        "id": "n8_8P2fXNbxZ",
        "colab_type": "text"
      },
      "source": [
        "---\n",
        "<center><h1><b>Q&A</b></h1></center>\n",
        "\n",
        "---"
      ]
    }
  ]
}