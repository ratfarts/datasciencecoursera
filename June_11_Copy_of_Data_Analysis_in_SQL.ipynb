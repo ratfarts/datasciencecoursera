{
  "nbformat": 4,
  "nbformat_minor": 0,
  "metadata": {
    "colab": {
      "name": "Copy of Data Analysis in SQL.ipynb",
      "provenance": [],
      "include_colab_link": true
    },
    "kernelspec": {
      "name": "python3",
      "display_name": "Python 3"
    }
  },
  "cells": [
    {
      "cell_type": "markdown",
      "metadata": {
        "id": "view-in-github",
        "colab_type": "text"
      },
      "source": [
        "<a href=\"https://colab.research.google.com/github/ratfarts/datasciencecoursera/blob/master/June_11_Copy_of_Data_Analysis_in_SQL.ipynb\" target=\"_parent\"><img src=\"https://colab.research.google.com/assets/colab-badge.svg\" alt=\"Open In Colab\"/></a>"
      ]
    },
    {
      "cell_type": "markdown",
      "metadata": {
        "id": "tnjoHnXBnlof",
        "colab_type": "text"
      },
      "source": [
        "<p align=\"center\">\n",
        "<img src=\"https://github.com/datacamp/data-analysis-in-sql-live-session/blob/master/assets/datacamp.svg?raw=True\" alt = \"DataCamp icon\" width=\"50%\">\n",
        "</p>\n",
        "<br><br>\n",
        "\n",
        "## **Data Analysis with SQL**\n",
        "\n",
        "In this webinar, you'll learn how to write advanced queries to calculate core business metrics and KPIs. You'll be able to:\n",
        "\n",
        "* Use Common Table Expressions to temporarily store a query's results\n",
        "* Fetch values from different rows using window functinos\n",
        "* Use self-joins to peak into the future\n",
        "\n",
        "## **The Dataset**\n",
        "\n",
        "\n",
        "We'll use two tables. The first, `user_sessions`, stores data user session data on a social media website. The table's schema is as follows:\n",
        "\n",
        "- `session_date`: The date on which the user accessed the site\n",
        "- `user_id`: The user's unique identifier\n",
        "- `time_spent_in_mins`: How much time the user spent on the site\n",
        "\n",
        "The second, `user_data`, stores the users' metadata. The table's schema is as follows:\n",
        "\n",
        "- `user_id`: The user's unique identifier\n",
        "- `country`: The user's country\n",
        "- `age`: The user's age\n"
      ]
    },
    {
      "cell_type": "markdown",
      "metadata": {
        "id": "agoSpqYunxZ1",
        "colab_type": "text"
      },
      "source": [
        "## **Setting up PostgreSQL**"
      ]
    },
    {
      "cell_type": "code",
      "metadata": {
        "id": "WZ-Rqu2yoCzR",
        "colab_type": "code",
        "colab": {}
      },
      "source": [
        "#@title **This block of code will install PosgreSQL**\n",
        "%%capture\n",
        "!wget -qO- https://www.postgresql.org/media/keys/ACCC4CF8.asc | apt-key add -\n",
        "!echo \"deb http://apt.postgresql.org/pub/repos/apt/ bionic-pgdg main\" >/etc/apt/sources.list.d/pgdg.list\n",
        "!apt -qq update\n",
        "!apt -yq install postgresql-12 postgresql-client-12\n",
        "!service postgresql start\n",
        "# make calling psql shorter\n",
        "!sudo -u postgres psql -c \"CREATE USER root WITH SUPERUSER\"  \n",
        "!psql postgres -c \"CREATE DATABASE root\"  # now just !psql -c \"...\"\n",
        "# load SQL extensions\n",
        "%load_ext sql\n",
        "%config SqlMagic.feedback=False \n",
        "%config SqlMagic.autopandas=True\n",
        "%sql postgresql+psycopg2://@/postgres"
      ],
      "execution_count": 0,
      "outputs": []
    },
    {
      "cell_type": "code",
      "metadata": {
        "id": "5spm-fLTn7oP",
        "colab_type": "code",
        "colab": {}
      },
      "source": [
        "#@title **This will download your data to local environment**\n",
        "!wget -q https://github.com/datacamp/data-analysis-in-sql-live-training/raw/master/data/user_data.csv\n",
        "!wget -q https://github.com/datacamp/data-analysis-in-sql-live-training/raw/master/data/user_metadata.csv"
      ],
      "execution_count": 0,
      "outputs": []
    },
    {
      "cell_type": "code",
      "metadata": {
        "id": "4fiq0KKsokAX",
        "colab_type": "code",
        "outputId": "5b411276-0b06-46e7-a704-0047ba4309a3",
        "colab": {
          "base_uri": "https://localhost:8080/",
          "height": 49
        }
      },
      "source": [
        "#@title **This will create your table**\n",
        "%%sql\n",
        "-- Make sure to amend you table name, column names and types\n",
        "DROP TABLE IF EXISTS user_sessions;\n",
        "CREATE TABLE user_sessions(\n",
        " session_date date,\n",
        " user_id int,\n",
        " time_spent_in_mins int\n",
        ");\n",
        "\n",
        "COPY user_sessions\n",
        "-- Make sure to point to correct file and delimiter \n",
        "FROM '/content/user_data.csv' DELIMITER ',' CSV HEADER;\n",
        "\n",
        "DROP TABLE IF EXISTS user_data;\n",
        "CREATE TABLE user_data(\n",
        " user_id int,\n",
        " country char(3),\n",
        " age int\n",
        ");\n",
        "\n",
        "COPY user_data\n",
        "-- Make sure to point to correct file and delimiter \n",
        "FROM '/content/user_metadata.csv' DELIMITER ',' CSV HEADER;"
      ],
      "execution_count": 3,
      "outputs": [
        {
          "output_type": "stream",
          "text": [
            " * postgresql+psycopg2://@/postgres\n"
          ],
          "name": "stdout"
        },
        {
          "output_type": "execute_result",
          "data": {
            "text/html": [
              "<div>\n",
              "<style scoped>\n",
              "    .dataframe tbody tr th:only-of-type {\n",
              "        vertical-align: middle;\n",
              "    }\n",
              "\n",
              "    .dataframe tbody tr th {\n",
              "        vertical-align: top;\n",
              "    }\n",
              "\n",
              "    .dataframe thead th {\n",
              "        text-align: right;\n",
              "    }\n",
              "</style>\n",
              "<table border=\"1\" class=\"dataframe\">\n",
              "  <thead>\n",
              "    <tr style=\"text-align: right;\">\n",
              "      <th></th>\n",
              "    </tr>\n",
              "  </thead>\n",
              "  <tbody>\n",
              "  </tbody>\n",
              "</table>\n",
              "</div>"
            ],
            "text/plain": [
              "Empty DataFrame\n",
              "Columns: []\n",
              "Index: []"
            ]
          },
          "metadata": {
            "tags": []
          },
          "execution_count": 3
        }
      ]
    },
    {
      "cell_type": "markdown",
      "metadata": {
        "id": "tS_PlDcnNaaD",
        "colab_type": "text"
      },
      "source": [
        "Let's start by exploring the tables."
      ]
    },
    {
      "cell_type": "code",
      "metadata": {
        "id": "KpFHkiwIo8KW",
        "colab_type": "code",
        "colab": {}
      },
      "source": [
        "%%sql\n",
        "\n",
        "-- SELECT first 5 rows from user_sessions\n"
      ],
      "execution_count": 0,
      "outputs": []
    },
    {
      "cell_type": "code",
      "metadata": {
        "id": "Rq6u7Nk4bPMy",
        "colab_type": "code",
        "colab": {}
      },
      "source": [
        "%%sql\n",
        "\n",
        "-- SELECT first 5 rows from user_data\n"
      ],
      "execution_count": 0,
      "outputs": []
    },
    {
      "cell_type": "code",
      "metadata": {
        "id": "XV--Ei96bUR_",
        "colab_type": "code",
        "colab": {}
      },
      "source": [
        "%%sql\n",
        "\n",
        "-- Join the two tables together\n"
      ],
      "execution_count": 0,
      "outputs": []
    },
    {
      "cell_type": "markdown",
      "metadata": {
        "id": "aSsGfK7vbcni",
        "colab_type": "text"
      },
      "source": [
        "## **Data overview**\n",
        "\n",
        "Since you have user demographics, you can start by exploring some basic metrics, like:\n",
        "\n",
        "- Average age per country\n",
        "- User count by country"
      ]
    },
    {
      "cell_type": "code",
      "metadata": {
        "id": "YpSQucA8b7Eb",
        "colab_type": "code",
        "colab": {}
      },
      "source": [
        "%%sql\n",
        "\n",
        "-- Get the average age per country\n"
      ],
      "execution_count": 0,
      "outputs": []
    },
    {
      "cell_type": "code",
      "metadata": {
        "id": "t_-xNWficNTF",
        "colab_type": "code",
        "colab": {}
      },
      "source": [
        "%%sql\n",
        "\n",
        "-- Get the user count by country \n"
      ],
      "execution_count": 0,
      "outputs": []
    },
    {
      "cell_type": "markdown",
      "metadata": {
        "id": "kExFC7LQccxC",
        "colab_type": "text"
      },
      "source": [
        "## **Active users**\n",
        "\n",
        "The active users KPI counts the active users of a company's app over a certain time period:\n",
        "- by day (daily active users, or DAU)\n",
        "- by month (monthly active users, or MAU)\n",
        "\n",
        "For example, Facebook had 1.76B DAU and 2.6 MAU in March.\n",
        "\n",
        "Stickiness (DAU / MAU) measures how often users engage with an app on average. Facebook's stickiness for March was `1.76B / 2.6B ~= 0.677`, meaning that, on average, users used Facebook for `67.7% x 30 days ~= 20` days each month.\n",
        "\n",
        "To get the daily active users, we need to count the number of unique `user_id`s for each `session_date`"
      ]
    },
    {
      "cell_type": "code",
      "metadata": {
        "id": "9ko0H5pSmC-f",
        "colab_type": "code",
        "colab": {}
      },
      "source": [
        "%%sql\n",
        "\n",
        "-- Calculate the Daily Active Users (DAU)\n",
        "\n"
      ],
      "execution_count": 0,
      "outputs": []
    },
    {
      "cell_type": "markdown",
      "metadata": {
        "id": "bYTwPy06qVzu",
        "colab_type": "text"
      },
      "source": [
        "This is what the results would look like when visualized:\n",
        "\n",
        "![Facespace DAU](https://github.com/datacamp/data-analysis-in-sql-live-training/raw/master/assets/facespace_dau.png)"
      ]
    },
    {
      "cell_type": "markdown",
      "metadata": {
        "id": "zkNmzkIHh-6e",
        "colab_type": "text"
      },
      "source": [
        "## **Monthly active users**\n",
        "\n",
        "Usually, reports include MAU, not DAU. How do you convert the session dates to months?\n",
        "\n",
        "**Enter `DATE_TRUNC`**\n",
        "\n",
        "`DATE_TRUNC(date_part, date) → DATE`: Truncates `date` to the nearest `date_part`.\n",
        "\n",
        "**Examples**\n",
        "- `DATE_TRUNC('week', '2018-06-12') :: DATE` → `'2018-06-11'`\n",
        "- `DATE_TRUNC('month', '2018-06-12') :: DATE` → `'2018-06-01'`\n",
        "- `DATE_TRUNC('quarter', '2018-06-12') :: DATE` → `'2018-04-01'`\n",
        "- `DATE_TRUNC('year', '2018-06-12') :: DATE` → `'2018-01-01'`\n",
        "\n",
        "**Note**: `:: DATE` is just to remove the hours, minutes, and seconds."
      ]
    },
    {
      "cell_type": "code",
      "metadata": {
        "id": "VNsxnr0cmSLV",
        "colab_type": "code",
        "colab": {
          "base_uri": "https://localhost:8080/",
          "height": 436
        },
        "outputId": "3dbd50ab-57a0-4062-dddb-993fb48d8973"
      },
      "source": [
        "%%sql\n",
        "\n",
        "-- Calculate the Monthly Active Users (DAU)\n",
        "SELECT DISTINCT \n",
        "  session_date,\n",
        "  DATE_TRUNC('quarter', session_date) AS session_date_quarter\n",
        "FROM user_sessions\n",
        "ORDER BY session_date ASC;\n"
      ],
      "execution_count": 6,
      "outputs": [
        {
          "output_type": "stream",
          "text": [
            " * postgresql+psycopg2://@/postgres\n"
          ],
          "name": "stdout"
        },
        {
          "output_type": "execute_result",
          "data": {
            "text/html": [
              "<div>\n",
              "<style scoped>\n",
              "    .dataframe tbody tr th:only-of-type {\n",
              "        vertical-align: middle;\n",
              "    }\n",
              "\n",
              "    .dataframe tbody tr th {\n",
              "        vertical-align: top;\n",
              "    }\n",
              "\n",
              "    .dataframe thead th {\n",
              "        text-align: right;\n",
              "    }\n",
              "</style>\n",
              "<table border=\"1\" class=\"dataframe\">\n",
              "  <thead>\n",
              "    <tr style=\"text-align: right;\">\n",
              "      <th></th>\n",
              "      <th>session_date</th>\n",
              "      <th>session_date_quarter</th>\n",
              "    </tr>\n",
              "  </thead>\n",
              "  <tbody>\n",
              "    <tr>\n",
              "      <th>0</th>\n",
              "      <td>2020-01-01</td>\n",
              "      <td>2020-01-01 00:00:00+00:00</td>\n",
              "    </tr>\n",
              "    <tr>\n",
              "      <th>1</th>\n",
              "      <td>2020-01-02</td>\n",
              "      <td>2020-01-01 00:00:00+00:00</td>\n",
              "    </tr>\n",
              "    <tr>\n",
              "      <th>2</th>\n",
              "      <td>2020-01-03</td>\n",
              "      <td>2020-01-01 00:00:00+00:00</td>\n",
              "    </tr>\n",
              "    <tr>\n",
              "      <th>3</th>\n",
              "      <td>2020-01-04</td>\n",
              "      <td>2020-01-01 00:00:00+00:00</td>\n",
              "    </tr>\n",
              "    <tr>\n",
              "      <th>4</th>\n",
              "      <td>2020-01-05</td>\n",
              "      <td>2020-01-01 00:00:00+00:00</td>\n",
              "    </tr>\n",
              "    <tr>\n",
              "      <th>...</th>\n",
              "      <td>...</td>\n",
              "      <td>...</td>\n",
              "    </tr>\n",
              "    <tr>\n",
              "      <th>147</th>\n",
              "      <td>2020-05-27</td>\n",
              "      <td>2020-04-01 00:00:00+00:00</td>\n",
              "    </tr>\n",
              "    <tr>\n",
              "      <th>148</th>\n",
              "      <td>2020-05-28</td>\n",
              "      <td>2020-04-01 00:00:00+00:00</td>\n",
              "    </tr>\n",
              "    <tr>\n",
              "      <th>149</th>\n",
              "      <td>2020-05-29</td>\n",
              "      <td>2020-04-01 00:00:00+00:00</td>\n",
              "    </tr>\n",
              "    <tr>\n",
              "      <th>150</th>\n",
              "      <td>2020-05-30</td>\n",
              "      <td>2020-04-01 00:00:00+00:00</td>\n",
              "    </tr>\n",
              "    <tr>\n",
              "      <th>151</th>\n",
              "      <td>2020-05-31</td>\n",
              "      <td>2020-04-01 00:00:00+00:00</td>\n",
              "    </tr>\n",
              "  </tbody>\n",
              "</table>\n",
              "<p>152 rows × 2 columns</p>\n",
              "</div>"
            ],
            "text/plain": [
              "    session_date      session_date_quarter\n",
              "0     2020-01-01 2020-01-01 00:00:00+00:00\n",
              "1     2020-01-02 2020-01-01 00:00:00+00:00\n",
              "2     2020-01-03 2020-01-01 00:00:00+00:00\n",
              "3     2020-01-04 2020-01-01 00:00:00+00:00\n",
              "4     2020-01-05 2020-01-01 00:00:00+00:00\n",
              "..           ...                       ...\n",
              "147   2020-05-27 2020-04-01 00:00:00+00:00\n",
              "148   2020-05-28 2020-04-01 00:00:00+00:00\n",
              "149   2020-05-29 2020-04-01 00:00:00+00:00\n",
              "150   2020-05-30 2020-04-01 00:00:00+00:00\n",
              "151   2020-05-31 2020-04-01 00:00:00+00:00\n",
              "\n",
              "[152 rows x 2 columns]"
            ]
          },
          "metadata": {
            "tags": []
          },
          "execution_count": 6
        }
      ]
    },
    {
      "cell_type": "markdown",
      "metadata": {
        "id": "qFI164WOqpm_",
        "colab_type": "text"
      },
      "source": [
        "This is what the results would look like when visualized:\n",
        "\n",
        "![Facebook MAU](https://github.com/datacamp/data-analysis-in-sql-live-training/raw/master/assets/facespace_mau.png)"
      ]
    },
    {
      "cell_type": "markdown",
      "metadata": {
        "id": "1fJ5XosE4spe",
        "colab_type": "text"
      },
      "source": [
        "## **Q&A**"
      ]
    },
    {
      "cell_type": "markdown",
      "metadata": {
        "id": "Mig_YapOkBpv",
        "colab_type": "text"
      },
      "source": [
        "## **Registration dates**\n",
        "\n",
        "Let's define the user's registration date as the date of that user's first session.\n",
        "\n",
        "So, each user's registration date is the minimum session date for that user in the `user_sessions` table.\n",
        "\n",
        "We'll use these results later on to calculate the growth in registrations."
      ]
    },
    {
      "cell_type": "code",
      "metadata": {
        "id": "9yyYTFcWkXCq",
        "colab_type": "code",
        "colab": {}
      },
      "source": [
        "%%sql\n",
        "\n",
        "-- Get each user's registration date\n"
      ],
      "execution_count": 0,
      "outputs": []
    },
    {
      "cell_type": "markdown",
      "metadata": {
        "id": "2N_xwF7Yup2b",
        "colab_type": "text"
      },
      "source": [
        "## **Registrations and Common Table Expressions (CTEs)**\n",
        "\n",
        "Now that you have each user's registration date, you'll want to store the results somehow to use them in a different query. How do you do that?\n",
        "\n",
        "**Enter Common Table Expressions (CTEs)**\n",
        "\n",
        "```sql\n",
        "WITH cte_name AS (\n",
        "  ...\n",
        ")\n",
        "\n",
        "SELECT *\n",
        "FROM cte_name;\n",
        "```\n",
        "\n",
        "A CTE stores the results of a query temporarily in the specificed `cte_name` so it can be used in the outer query later on.\n",
        "\n",
        "Once you store the results of the previous query in a CTE, you can `DATE_TRUNC()` the registration dates and count the unique `user_id`s in each registration month."
      ]
    },
    {
      "cell_type": "code",
      "metadata": {
        "id": "nFfDu_aQm9dD",
        "colab_type": "code",
        "colab": {}
      },
      "source": [
        "%%sql\n",
        "\n",
        "-- Store each user's registration date in the regs CTE\n",
        "-- Calculate the number of registrations per month\n"
      ],
      "execution_count": 0,
      "outputs": []
    },
    {
      "cell_type": "markdown",
      "metadata": {
        "id": "txxa2OVBvuYW",
        "colab_type": "text"
      },
      "source": [
        "## **Growth and window functions**\n",
        "\n",
        "You now have each month's registrations. How do you calculate growth?\n",
        "\n",
        "`Growth = (Current month - previous month) / previous month`\n",
        "\n",
        "For example, if you had 122 registrations last month, and you have 156 registrations this month, your registrations grew by `(156 - 122) / 122 ~= 28%` this month.\n",
        "\n",
        "So you need both the previous and the current months' registrations in the same row. How do you do that?\n",
        "\n",
        "**Window functions**\n",
        "\n",
        "A window function performs some operation across a set of table rows that are somehow related to the current row.\n",
        "\n",
        "- `LAG(column_a, 1) OVER (ORDER BY column_b ASC)` Gets the previous row's value in `column_a` if you sort by `column_b`."
      ]
    },
    {
      "cell_type": "code",
      "metadata": {
        "id": "BKg-pJpjoS4F",
        "colab_type": "code",
        "colab": {}
      },
      "source": [
        "%%sql\n",
        "-- Fetch the previous and current months' MAUs\n"
      ],
      "execution_count": 0,
      "outputs": []
    },
    {
      "cell_type": "markdown",
      "metadata": {
        "id": "JFNbQqVjyyvn",
        "colab_type": "text"
      },
      "source": [
        "Store the results in a CTE and apply the formula to get the monthly registrations growth rates. You can use `COALESCE(..., 1)` to convert any `NULL` values to 1."
      ]
    },
    {
      "cell_type": "code",
      "metadata": {
        "id": "teCiC7UOpPfi",
        "colab_type": "code",
        "colab": {}
      },
      "source": [
        "%%sql\n",
        "\n",
        "-- Calculate the monthly growth in registrations\n"
      ],
      "execution_count": 0,
      "outputs": []
    },
    {
      "cell_type": "markdown",
      "metadata": {
        "id": "5f1gf7yP4v0r",
        "colab_type": "text"
      },
      "source": [
        "## **Q&A**"
      ]
    },
    {
      "cell_type": "markdown",
      "metadata": {
        "id": "oEzlg4iF0UJ0",
        "colab_type": "text"
      },
      "source": [
        "## **Retained and resurrected users**\n",
        "\n",
        "Users can be split into four groups:\n",
        "- New/registered users are ones that just signed up for your platform\n",
        "- Retained users used to use your app, and still do, too.\n",
        "- Churned users used to use your app, and no longer do.\n",
        "- Resurrected users were churned users who returned to using your app.\n",
        "\n",
        "Retention is another core KPI that platforms use to measure how well they are at keeping their users.\n",
        "\n",
        "The first step to calculating retention is getting each of the months in which each user is active."
      ]
    },
    {
      "cell_type": "code",
      "metadata": {
        "id": "LiILc4mRrLmJ",
        "colab_type": "code",
        "colab": {}
      },
      "source": [
        "%%sql\n",
        "\n",
        "-- Get the months in which each user is active\n"
      ],
      "execution_count": 0,
      "outputs": []
    },
    {
      "cell_type": "markdown",
      "metadata": {
        "id": "1NyCdBWR2pO-",
        "colab_type": "text"
      },
      "source": [
        "## **Self-joins**\n",
        "\n",
        "Now that you have the months in which each user is active, how do you calculate retention?\n",
        "\n",
        "![Left joins](https://user-images.githubusercontent.com/48436758/83518570-e4ff8c00-a4da-11ea-8a5a-25ea46df2bcc.png)\n",
        "\n",
        "If you left-join this table on itself on the same user ID and having a one-month difference in users, you'll see whether a user is still active in the next month or not. If the user isn't active, then the user is churned. The count of non-`NULL`s is the count of retained users.\n",
        "\n",
        "```sql\n",
        "...\n",
        "FROM ... AS prev\n",
        "LEFT JOIN ... AS curr\n",
        "  ON prev.user_id = curr.user_id\n",
        " AND prev.month = (curr.month - INTERVAL '1 MONTH')\n",
        "...\n",
        "```\n",
        "\n"
      ]
    },
    {
      "cell_type": "code",
      "metadata": {
        "id": "mcQbmTtF27OQ",
        "colab_type": "code",
        "colab": {}
      },
      "source": [
        "%%sql\n",
        "\n",
        "-- Get whether each user churned in a given month\n"
      ],
      "execution_count": 0,
      "outputs": []
    },
    {
      "cell_type": "markdown",
      "metadata": {
        "id": "ocFiH81H5Rgu",
        "colab_type": "text"
      },
      "source": [
        "Store the results in a CTE and count the number of `FALSE` in the `churned_next_month` to get the retention rate."
      ]
    },
    {
      "cell_type": "code",
      "metadata": {
        "id": "fZJd5X7Y5CNN",
        "colab_type": "code",
        "colab": {}
      },
      "source": [
        "%%sql\n",
        "\n",
        "-- Calculate the retention rate\n"
      ],
      "execution_count": 0,
      "outputs": []
    },
    {
      "cell_type": "markdown",
      "metadata": {
        "id": "vjhqpm3FkUa3",
        "colab_type": "text"
      },
      "source": [
        "## **Average age of churners**\n",
        "\n",
        "Now that you have the retention status of each user, you can see whether there are any trends in churns, such as older people churning more.\n"
      ]
    },
    {
      "cell_type": "code",
      "metadata": {
        "id": "hIYNx8m-kYhN",
        "colab_type": "code",
        "colab": {}
      },
      "source": [
        "%%sql\n",
        "\n",
        "-- Get the average age of churners versus retained users in April\n"
      ],
      "execution_count": 0,
      "outputs": []
    },
    {
      "cell_type": "markdown",
      "metadata": {
        "id": "tBCRa0Ba4xK2",
        "colab_type": "text"
      },
      "source": [
        "## **Q&A**"
      ]
    }
  ]
}